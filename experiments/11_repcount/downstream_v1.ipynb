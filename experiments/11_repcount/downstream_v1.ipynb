{
 "cells": [
  {
   "cell_type": "markdown",
   "metadata": {},
   "source": [
    "## Imports"
   ]
  },
  {
   "cell_type": "code",
   "execution_count": 1,
   "metadata": {},
   "outputs": [],
   "source": [
    "import pandas as pd\n",
    "import torch\n",
    "import torch\n",
    "import torch.nn as nn\n",
    "from torchvision import models\n",
    "import os\n",
    "from utils import process_video_frames_tchw, count_predictions\n",
    "import numpy as np\n",
    "import matplotlib.pyplot as plt\n",
    "\n",
    "device = torch.device(\"cuda:0\" if torch.cuda.is_available() else \"cpu\")"
   ]
  },
  {
   "cell_type": "code",
   "execution_count": 2,
   "metadata": {},
   "outputs": [],
   "source": [
    "def softmax(x):\n",
    "    e_x = np.exp(x - np.max(x))\n",
    "    return e_x / e_x.sum(axis=0)"
   ]
  },
  {
   "cell_type": "markdown",
   "metadata": {},
   "source": [
    "#### Directory Setup"
   ]
  },
  {
   "cell_type": "code",
   "execution_count": 3,
   "metadata": {},
   "outputs": [],
   "source": [
    "# Root directory for dataset\n",
    "ROOT_DIR = '../../data/RepCount'\n",
    "VIDEO_DIR = os.path.join(ROOT_DIR, 'video', 'test')\n",
    "\n",
    "# Checkpoint path\n",
    "CHECKPOINT_DIR = './'\n",
    "TEST_ANNOTATION = os.path.join('./', 'test.csv')\n",
    "ACTION_ANNOTATION = './all_action.csv'"
   ]
  },
  {
   "cell_type": "markdown",
   "metadata": {},
   "source": [
    "#### Action Trigger Module Settings"
   ]
  },
  {
   "cell_type": "code",
   "execution_count": 4,
   "metadata": {},
   "outputs": [],
   "source": [
    "ENTER_THRESHOLD = 0.78\n",
    "EXIT_THRESHOLD = 0.4\n",
    "MOMENTUM = 0.4\n",
    "\n",
    "BATCH_SIZE = 1024"
   ]
  },
  {
   "cell_type": "markdown",
   "metadata": {},
   "source": [
    "#### Model initialization"
   ]
  },
  {
   "cell_type": "code",
   "execution_count": 5,
   "metadata": {},
   "outputs": [
    {
     "name": "stderr",
     "output_type": "stream",
     "text": [
      "/home/sadat/miniconda3/envs/cowbytes/lib/python3.8/site-packages/torchvision/models/_utils.py:208: UserWarning: The parameter 'pretrained' is deprecated since 0.13 and may be removed in the future, please use 'weights' instead.\n",
      "  warnings.warn(\n",
      "/home/sadat/miniconda3/envs/cowbytes/lib/python3.8/site-packages/torchvision/models/_utils.py:223: UserWarning: Arguments other than a weight enum or `None` for 'weights' are deprecated since 0.13 and may be removed in the future. The current behavior is equivalent to passing `weights=ResNet50_Weights.IMAGENET1K_V1`. You can also use `weights=ResNet50_Weights.DEFAULT` to get the most up-to-date weights.\n",
      "  warnings.warn(msg)\n"
     ]
    }
   ],
   "source": [
    "# Initialize model and optimizer\n",
    "model = models.resnet50(pretrained=True)\n",
    "num_ftrs = model.fc.in_features\n",
    "model.fc = nn.Linear(num_ftrs, 16)\n",
    "model = model.to(device)"
   ]
  },
  {
   "cell_type": "code",
   "execution_count": 6,
   "metadata": {},
   "outputs": [
    {
     "name": "stderr",
     "output_type": "stream",
     "text": [
      "/tmp/ipykernel_120096/682248930.py:2: FutureWarning: You are using `torch.load` with `weights_only=False` (the current default value), which uses the default pickle module implicitly. It is possible to construct malicious pickle data which will execute arbitrary code during unpickling (See https://github.com/pytorch/pytorch/blob/main/SECURITY.md#untrusted-models for more details). In a future release, the default value for `weights_only` will be flipped to `True`. This limits the functions that could be executed during unpickling. Arbitrary objects will no longer be allowed to be loaded via this mode unless they are explicitly allowlisted by the user via `torch.serialization.add_safe_globals`. We recommend you start setting `weights_only=True` for any use case where you don't have full control of the loaded file. Please open an issue on GitHub for any issues related to this experimental feature.\n",
      "  model.load_state_dict(torch.load(checkpoint_path))\n"
     ]
    }
   ],
   "source": [
    "checkpoint_path = os.path.join(CHECKPOINT_DIR, 'best_resnet50_v1.pth')\n",
    "model.load_state_dict(torch.load(checkpoint_path))\n",
    "\n",
    "df = pd.read_csv(TEST_ANNOTATION)"
   ]
  },
  {
   "cell_type": "code",
   "execution_count": 7,
   "metadata": {},
   "outputs": [
    {
     "data": {
      "text/plain": [
       "array(['situp', 'push_up', 'pull_up', 'bench_pressing', 'jump_jack',\n",
       "       'squat', 'front_raise', 'pommelhorse'], dtype=object)"
      ]
     },
     "execution_count": 7,
     "metadata": {},
     "output_type": "execute_result"
    }
   ],
   "source": [
    "df['type'].unique()"
   ]
  },
  {
   "cell_type": "code",
   "execution_count": 8,
   "metadata": {},
   "outputs": [
    {
     "data": {
      "text/plain": [
       "{'pommelhorse': 0,\n",
       " 'bench_pressing': 1,\n",
       " 'pull_up': 2,\n",
       " 'jump_jack': 3,\n",
       " 'situp': 4,\n",
       " 'front_raise': 5,\n",
       " 'squat': 6,\n",
       " 'push_up': 7}"
      ]
     },
     "execution_count": 8,
     "metadata": {},
     "output_type": "execute_result"
    }
   ],
   "source": [
    "\n",
    "actions = pd.read_csv(ACTION_ANNOTATION)\n",
    "action_mapping = dict(zip(actions['action'], actions['label']))\n",
    "action_mapping"
   ]
  },
  {
   "cell_type": "code",
   "execution_count": 9,
   "metadata": {},
   "outputs": [
    {
     "data": {
      "text/plain": [
       "Unnamed: 0             81\n",
       "type          front_raise\n",
       "name          stu4_12.mp4\n",
       "count                   4\n",
       "L1                   33.0\n",
       "                 ...     \n",
       "L298                  NaN\n",
       "L299                  NaN\n",
       "L300                  NaN\n",
       "L301                  NaN\n",
       "L302                  NaN\n",
       "Name: 81, Length: 306, dtype: object"
      ]
     },
     "execution_count": 9,
     "metadata": {},
     "output_type": "execute_result"
    }
   ],
   "source": [
    "row = df.iloc[81]\n",
    "row"
   ]
  },
  {
   "cell_type": "markdown",
   "metadata": {},
   "source": [
    "### Helper Function"
   ]
  },
  {
   "cell_type": "code",
   "execution_count": 10,
   "metadata": {},
   "outputs": [],
   "source": [
    "def predict_video(row):\n",
    "    \"\"\"Returns prediction, mae, and obo\"\"\"\n",
    "    video_path = os.path.join(VIDEO_DIR, row['name'])\n",
    "    action_type = row['type']\n",
    "    ground_truth = row['count']\n",
    "    transformed_tchw_tensor = process_video_frames_tchw(video_path).to(device)\n",
    "    batch_size = 1024\n",
    "\n",
    "    Y = []\n",
    "\n",
    "    model.eval() \n",
    "    with torch.no_grad(): \n",
    "        for i in range(0, len(transformed_tchw_tensor)+1, batch_size):\n",
    "            batch = transformed_tchw_tensor[i:i+batch_size].cuda() \n",
    "            if batch.size(0) == 0:  # Check if the batch is empty\n",
    "                continue\n",
    "            output = model(batch)\n",
    "            idx = action_mapping[action_type]\n",
    "            y_hat = output.cpu().numpy()[0][idx:idx+2]\n",
    "            confidences = softmax(y_hat)\n",
    "            Y.append(confidences[1]) \n",
    "\n",
    "    # Y = np.concatenate(Y, axis=0)  \n",
    "    # Y = Y.squeeze()\n",
    "\n",
    "    # plt.plot(Y)\n",
    "\n",
    "    return count_predictions(Y,\n",
    "                             ground_truth,\n",
    "                             ENTER_THRESHOLD,\n",
    "                             EXIT_THRESHOLD,\n",
    "                             MOMENTUM)"
   ]
  },
  {
   "cell_type": "code",
   "execution_count": 11,
   "metadata": {},
   "outputs": [
    {
     "data": {
      "text/plain": [
       "(0, 0.99999999975, 0)"
      ]
     },
     "execution_count": 11,
     "metadata": {},
     "output_type": "execute_result"
    }
   ],
   "source": [
    "predict_video(row)"
   ]
  },
  {
   "cell_type": "markdown",
   "metadata": {},
   "source": [
    "### Cross Validation"
   ]
  },
  {
   "cell_type": "code",
   "execution_count": 12,
   "metadata": {},
   "outputs": [
    {
     "name": "stderr",
     "output_type": "stream",
     "text": [
      "/tmp/ipykernel_120096/4151971678.py:5: FutureWarning: You are using `torch.load` with `weights_only=False` (the current default value), which uses the default pickle module implicitly. It is possible to construct malicious pickle data which will execute arbitrary code during unpickling (See https://github.com/pytorch/pytorch/blob/main/SECURITY.md#untrusted-models for more details). In a future release, the default value for `weights_only` will be flipped to `True`. This limits the functions that could be executed during unpickling. Arbitrary objects will no longer be allowed to be loaded via this mode unless they are explicitly allowlisted by the user via `torch.serialization.add_safe_globals`. We recommend you start setting `weights_only=True` for any use case where you don't have full control of the loaded file. Please open an issue on GitHub for any issues related to this experimental feature.\n",
      "  model.load_state_dict(torch.load(checkpoint_path))\n"
     ]
    }
   ],
   "source": [
    "oboas = []\n",
    "maes = []\n",
    "\n",
    "checkpoint_path = os.path.join(CHECKPOINT_DIR, 'best_resnet50_v1.pth')\n",
    "model.load_state_dict(torch.load(checkpoint_path))\n",
    "\n",
    "df = pd.read_csv(TEST_ANNOTATION)\n",
    "df[['prediction', 'mae', 'obo']] = df.apply(lambda row: pd.Series(predict_video(row)), axis=1)\n",
    "oboas.append(df['obo'].mean())\n",
    "maes.append(df['mae'].mean())\n",
    "\n",
    "save_file = os.path.join(CHECKPOINT_DIR, f'results_repcount_cowbytes.csv')\n",
    "df.to_csv(save_file, index=False)"
   ]
  },
  {
   "cell_type": "markdown",
   "metadata": {},
   "source": [
    "### Results"
   ]
  },
  {
   "cell_type": "code",
   "execution_count": 16,
   "metadata": {},
   "outputs": [
    {
     "data": {
      "text/plain": [
       "[0.026490066225165563]"
      ]
     },
     "execution_count": 16,
     "metadata": {},
     "output_type": "execute_result"
    }
   ],
   "source": [
    "oboas"
   ]
  },
  {
   "cell_type": "code",
   "execution_count": 17,
   "metadata": {},
   "outputs": [
    {
     "data": {
      "text/plain": [
       "[0.9933774832866561]"
      ]
     },
     "execution_count": 17,
     "metadata": {},
     "output_type": "execute_result"
    }
   ],
   "source": [
    "maes"
   ]
  },
  {
   "cell_type": "code",
   "execution_count": 18,
   "metadata": {},
   "outputs": [
    {
     "data": {
      "text/plain": [
       "0.026490066225165563"
      ]
     },
     "execution_count": 18,
     "metadata": {},
     "output_type": "execute_result"
    }
   ],
   "source": [
    "df['obo'].mean()"
   ]
  },
  {
   "cell_type": "markdown",
   "metadata": {},
   "source": [
    "TODO:\n",
    "1. Probably try weighted\n",
    "2. Try density maps\n",
    "3. Tune the action trigger module"
   ]
  },
  {
   "cell_type": "code",
   "execution_count": null,
   "metadata": {},
   "outputs": [],
   "source": []
  }
 ],
 "metadata": {
  "kernelspec": {
   "display_name": "cowbytes",
   "language": "python",
   "name": "python3"
  },
  "language_info": {
   "codemirror_mode": {
    "name": "ipython",
    "version": 3
   },
   "file_extension": ".py",
   "mimetype": "text/x-python",
   "name": "python",
   "nbconvert_exporter": "python",
   "pygments_lexer": "ipython3",
   "version": "3.8.19"
  }
 },
 "nbformat": 4,
 "nbformat_minor": 2
}
