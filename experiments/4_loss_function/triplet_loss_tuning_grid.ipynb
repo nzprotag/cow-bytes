{
 "cells": [
  {
   "cell_type": "markdown",
   "metadata": {},
   "source": [
    "# Hyperparameter Tuning"
   ]
  },
  {
   "cell_type": "markdown",
   "metadata": {},
   "source": [
    "## Imports"
   ]
  },
  {
   "cell_type": "code",
   "execution_count": 1,
   "metadata": {},
   "outputs": [],
   "source": [
    "import os\n",
    "import random\n",
    "from PIL import Image\n",
    "import torch\n",
    "from torch.utils.data import DataLoader\n",
    "from torchvision import transforms\n",
    "from torchvision import models\n",
    "import torch.nn as nn\n",
    "import torch.optim as optim\n",
    "from triplet_utils import *\n",
    "from utils import *\n",
    "from torch.utils.data import random_split\n",
    "from triplet_utils import train_and_evaluate_triplet\n"
   ]
  },
  {
   "cell_type": "markdown",
   "metadata": {},
   "source": [
    "### Set up the model"
   ]
  },
  {
   "cell_type": "code",
   "execution_count": 2,
   "metadata": {},
   "outputs": [],
   "source": [
    "# TripletModel definition\n",
    "class TripletModel(nn.Module):\n",
    "    def __init__(self):\n",
    "        super(TripletModel, self).__init__()\n",
    "        self.base_model = models.resnet50(pretrained=True)\n",
    "        self.base_model.fc = nn.Linear(self.base_model.fc.in_features, 128)  # Adjust output size for embedding\n",
    "\n",
    "    def forward(self, x):\n",
    "        # Get the embedding directly from the base model\n",
    "        return self.base_model(x)  # Call the model with input x\n",
    "\n",
    "class TripletClassifier(nn.Module):\n",
    "    def __init__(self, triplet_head, output_size=1):\n",
    "        super(TripletClassifier, self).__init__()\n",
    "        self.triplet_head = triplet_head\n",
    "        self.classifier = nn.Linear(self.triplet_head.base_model.fc.out_features, output_size)  # Binary classification (logits)\n",
    "\n",
    "    def forward(self, x):\n",
    "        embedding = self.triplet_head(x)  # Output of base model\n",
    "        class_output = self.classifier(embedding)  # Output for classification\n",
    "        return embedding, class_output"
   ]
  },
  {
   "cell_type": "markdown",
   "metadata": {},
   "source": [
    "### Set your dataset directory"
   ]
  },
  {
   "cell_type": "code",
   "execution_count": 3,
   "metadata": {},
   "outputs": [],
   "source": [
    "# Load data\n",
    "data_dir = '../../data/BiteCount/salient_poses/'\n",
    "\n",
    "# Define transformations for training set and validation set\n",
    "train_transforms = transforms.Compose([\n",
    "    transforms.Resize((224, 224)),  # Resizing to square input\n",
    "    transforms.RandomHorizontalFlip(),\n",
    "    transforms.ToTensor(),\n",
    "    transforms.Normalize([0.485, 0.456, 0.406], [0.229, 0.224, 0.225])\n",
    "])\n",
    "\n",
    "val_transforms = transforms.Compose([\n",
    "    transforms.Resize((224, 224)),  # Resizing to square input\n",
    "    transforms.ToTensor(),\n",
    "    transforms.Normalize([0.485, 0.456, 0.406], [0.229, 0.224, 0.225])\n",
    "])\n",
    "\n",
    "# Load dataset\n",
    "dataset = TripletDataset(data_dir, transform=train_transforms)\n",
    "dataset_size = len(dataset)\n",
    "class_names = dataset.classes\n",
    "\n",
    "# Hyperparameters\n",
    "batch_size = 64\n",
    "device = torch.device(\"cuda:0\" if torch.cuda.is_available() else \"cpu\")\n",
    "num_epochs = 50\n",
    "patience = 5\n",
    "alpha = 0.5\n",
    "\n",
    "# Placeholder to store metrics across folds\n",
    "val_accuracies = []\n",
    "val_f1_scores = []\n",
    "precisions = []\n",
    "recalls = []\n",
    "roc_aucs = []"
   ]
  },
  {
   "cell_type": "markdown",
   "metadata": {},
   "source": [
    "### Set your model and parameters"
   ]
  },
  {
   "cell_type": "code",
   "execution_count": 4,
   "metadata": {},
   "outputs": [],
   "source": [
    "def custom_collate(batch):\n",
    "    # Unpack the batch\n",
    "    anchors, positives, negatives, labels = zip(*batch)\n",
    "\n",
    "    # Stack tensors to create batches\n",
    "    anchors = torch.stack(anchors)\n",
    "    positives = torch.stack(positives)\n",
    "    negatives = torch.stack(negatives)\n",
    "\n",
    "    # Convert labels to a tensor\n",
    "    labels = torch.tensor(labels, dtype=torch.float32).unsqueeze(1)\n",
    "\n",
    "    return anchors, positives, negatives, labels"
   ]
  },
  {
   "cell_type": "code",
   "execution_count": 5,
   "metadata": {},
   "outputs": [],
   "source": [
    "import torch.nn.functional as F\n",
    "\n",
    "# Custom Triplet Loss without margin\n",
    "def triplet_loss_no_margin(anchor, positive, negative):\n",
    "    # Calculate the pairwise distances\n",
    "    pos_dist = F.pairwise_distance(anchor, positive)\n",
    "    neg_dist = F.pairwise_distance(anchor, negative)\n",
    "    \n",
    "    # Compute the triplet loss without a margin\n",
    "    loss = torch.clamp(pos_dist - neg_dist, min=0.0)\n",
    "    \n",
    "    # Return the mean of the loss over the batch\n",
    "    return loss.mean()"
   ]
  },
  {
   "cell_type": "markdown",
   "metadata": {},
   "source": [
    "## Tune the model"
   ]
  },
  {
   "cell_type": "code",
   "execution_count": 6,
   "metadata": {},
   "outputs": [
    {
     "name": "stdout",
     "output_type": "stream",
     "text": [
      "Training alpha: 0.3, learning_rate: 0.001, momentum: 0.5\n",
      "Fold 1\n",
      "Epoch [1/50], Loss: 1.1965\n",
      "Validation Loss: 2.0703, Accuracy: 0.4375, F1 Score: 0.6018, Precision: 0.4304, Recall: 1.0000, ROC AUC: 0.4322\n",
      "Epoch [2/50], Loss: 0.9283\n",
      "Validation Loss: 1.7870, Accuracy: 0.4500, F1 Score: 0.6071, Precision: 0.4359, Recall: 1.0000, ROC AUC: 0.4425\n",
      "Epoch [3/50], Loss: 0.7484\n",
      "Validation Loss: 1.5978, Accuracy: 0.4375, F1 Score: 0.6018, Precision: 0.4304, Recall: 1.0000, ROC AUC: 0.4808\n",
      "Epoch [4/50], Loss: 0.6310\n",
      "Validation Loss: 1.4853, Accuracy: 0.3875, F1 Score: 0.5505, Precision: 0.4000, Recall: 0.8824, ROC AUC: 0.4885\n",
      "Epoch [5/50], Loss: 0.5353\n",
      "Validation Loss: 1.4237, Accuracy: 0.3875, F1 Score: 0.5505, Precision: 0.4000, Recall: 0.8824, ROC AUC: 0.4757\n",
      "Epoch [6/50], Loss: 0.4824\n",
      "Validation Loss: 1.3570, Accuracy: 0.3875, F1 Score: 0.5333, Precision: 0.3944, Recall: 0.8235, ROC AUC: 0.4904\n",
      "Epoch [7/50], Loss: 0.4239\n",
      "Validation Loss: 1.3266, Accuracy: 0.3875, F1 Score: 0.5333, Precision: 0.3944, Recall: 0.8235, ROC AUC: 0.4802\n",
      "Early stopping triggered.\n",
      "Fold 2\n",
      "Epoch [1/50], Loss: 1.1582\n",
      "Validation Loss: 1.8873, Accuracy: 0.5000, F1 Score: 0.3333, Precision: 0.4762, Recall: 0.2564, ROC AUC: 0.4603\n",
      "Epoch [2/50], Loss: 0.9227\n",
      "Validation Loss: 1.6910, Accuracy: 0.5000, F1 Score: 0.3333, Precision: 0.4762, Recall: 0.2564, ROC AUC: 0.4753\n",
      "Epoch [3/50], Loss: 0.7405\n",
      "Validation Loss: 1.5512, Accuracy: 0.5125, F1 Score: 0.3810, Precision: 0.5000, Recall: 0.3077, ROC AUC: 0.4490\n",
      "Epoch [4/50], Loss: 0.6285\n",
      "Validation Loss: 1.4553, Accuracy: 0.4875, F1 Score: 0.3692, Precision: 0.4615, Recall: 0.3077, ROC AUC: 0.4403\n",
      "Epoch [5/50], Loss: 0.5388\n",
      "Validation Loss: 1.3987, Accuracy: 0.4875, F1 Score: 0.3881, Precision: 0.4643, Recall: 0.3333, ROC AUC: 0.4415\n",
      "Epoch [6/50], Loss: 0.4738\n",
      "Validation Loss: 1.3591, Accuracy: 0.4750, F1 Score: 0.4000, Precision: 0.4516, Recall: 0.3590, ROC AUC: 0.4415\n",
      "Epoch [7/50], Loss: 0.4206\n",
      "Validation Loss: 1.3263, Accuracy: 0.4500, F1 Score: 0.4054, Precision: 0.4286, Recall: 0.3846, ROC AUC: 0.4128\n",
      "Epoch [8/50], Loss: 0.3855\n",
      "Validation Loss: 1.2915, Accuracy: 0.4625, F1 Score: 0.3944, Precision: 0.4375, Recall: 0.3590, ROC AUC: 0.4184\n",
      "Early stopping triggered.\n",
      "Fold 3\n",
      "Epoch [1/50], Loss: 1.1774\n",
      "Validation Loss: 1.9536, Accuracy: 0.4810, F1 Score: 0.5176, Precision: 0.5116, Recall: 0.5238, ROC AUC: 0.4923\n",
      "Epoch [2/50], Loss: 0.9226\n",
      "Validation Loss: 1.6921, Accuracy: 0.4810, F1 Score: 0.4938, Precision: 0.5128, Recall: 0.4762, ROC AUC: 0.4994\n",
      "Epoch [3/50], Loss: 0.7505\n",
      "Validation Loss: 1.5467, Accuracy: 0.4937, F1 Score: 0.4872, Precision: 0.5278, Recall: 0.4524, ROC AUC: 0.5045\n",
      "Epoch [4/50], Loss: 0.6349\n",
      "Validation Loss: 1.4651, Accuracy: 0.5190, F1 Score: 0.5128, Precision: 0.5556, Recall: 0.4762, ROC AUC: 0.5000\n",
      "Epoch [5/50], Loss: 0.5432\n",
      "Validation Loss: 1.4046, Accuracy: 0.5190, F1 Score: 0.5000, Precision: 0.5588, Recall: 0.4524, ROC AUC: 0.5238\n",
      "Epoch [6/50], Loss: 0.4715\n",
      "Validation Loss: 1.3607, Accuracy: 0.5443, F1 Score: 0.5135, Precision: 0.5938, Recall: 0.4524, ROC AUC: 0.5174\n",
      "Epoch [7/50], Loss: 0.4261\n",
      "Validation Loss: 1.3244, Accuracy: 0.5443, F1 Score: 0.5135, Precision: 0.5938, Recall: 0.4524, ROC AUC: 0.5045\n",
      "Epoch [8/50], Loss: 0.3838\n",
      "Validation Loss: 1.2996, Accuracy: 0.5316, F1 Score: 0.4932, Precision: 0.5806, Recall: 0.4286, ROC AUC: 0.4974\n",
      "Epoch [9/50], Loss: 0.3496\n",
      "Validation Loss: 1.2734, Accuracy: 0.4810, F1 Score: 0.4058, Precision: 0.5185, Recall: 0.3333, ROC AUC: 0.5225\n",
      "Epoch [10/50], Loss: 0.3187\n",
      "Validation Loss: 1.2561, Accuracy: 0.5316, F1 Score: 0.4932, Precision: 0.5806, Recall: 0.4286, ROC AUC: 0.5103\n",
      "Epoch [11/50], Loss: 0.3013\n",
      "Validation Loss: 1.2442, Accuracy: 0.5316, F1 Score: 0.4932, Precision: 0.5806, Recall: 0.4286, ROC AUC: 0.5180\n",
      "Early stopping triggered.\n",
      "Fold 4\n",
      "Epoch [1/50], Loss: 1.1914\n",
      "Validation Loss: 1.9957, Accuracy: 0.5316, F1 Score: 0.6891, Precision: 0.5256, Recall: 1.0000, ROC AUC: 0.4134\n",
      "Epoch [2/50], Loss: 0.9391\n",
      "Validation Loss: 1.7797, Accuracy: 0.5316, F1 Score: 0.6891, Precision: 0.5256, Recall: 1.0000, ROC AUC: 0.3813\n",
      "Epoch [3/50], Loss: 0.7505\n",
      "Validation Loss: 1.6273, Accuracy: 0.4937, F1 Score: 0.6552, Precision: 0.5067, Recall: 0.9268, ROC AUC: 0.3659\n",
      "Epoch [4/50], Loss: 0.6398\n",
      "Validation Loss: 1.5395, Accuracy: 0.4810, F1 Score: 0.6372, Precision: 0.5000, Recall: 0.8780, ROC AUC: 0.3614\n",
      "Epoch [5/50], Loss: 0.5298\n",
      "Validation Loss: 1.4793, Accuracy: 0.4557, F1 Score: 0.6126, Precision: 0.4857, Recall: 0.8293, ROC AUC: 0.3646\n",
      "Epoch [6/50], Loss: 0.4888\n",
      "Validation Loss: 1.4303, Accuracy: 0.4684, F1 Score: 0.6111, Precision: 0.4925, Recall: 0.8049, ROC AUC: 0.3453\n",
      "Early stopping triggered.\n",
      "Fold 5\n",
      "Epoch [1/50], Loss: 1.1262\n",
      "Validation Loss: 1.9427, Accuracy: 0.5570, F1 Score: 0.7009, Precision: 0.5467, Recall: 0.9762, ROC AUC: 0.5438\n",
      "Epoch [2/50], Loss: 0.8881\n",
      "Validation Loss: 1.7303, Accuracy: 0.5316, F1 Score: 0.6667, Precision: 0.5362, Recall: 0.8810, ROC AUC: 0.5347\n",
      "Epoch [3/50], Loss: 0.7112\n",
      "Validation Loss: 1.6072, Accuracy: 0.5443, F1 Score: 0.6604, Precision: 0.5469, Recall: 0.8333, ROC AUC: 0.5405\n",
      "Epoch [4/50], Loss: 0.6092\n",
      "Validation Loss: 1.5094, Accuracy: 0.5316, F1 Score: 0.6022, Precision: 0.5490, Recall: 0.6667, ROC AUC: 0.5444\n",
      "Epoch [5/50], Loss: 0.5201\n",
      "Validation Loss: 1.4702, Accuracy: 0.5316, F1 Score: 0.5843, Precision: 0.5532, Recall: 0.6190, ROC AUC: 0.5489\n",
      "Epoch [6/50], Loss: 0.4552\n",
      "Validation Loss: 1.4125, Accuracy: 0.5316, F1 Score: 0.5843, Precision: 0.5532, Recall: 0.6190, ROC AUC: 0.5450\n",
      "Early stopping triggered.\n",
      "Average Validation Accuracy for alpha: 0.3, lr: 0.001, momentum: 0.5: 0.4763\n",
      "Training alpha: 0.3, learning_rate: 0.001, momentum: 0.8\n",
      "Fold 1\n",
      "Epoch [1/50], Loss: 1.0783\n",
      "Validation Loss: 1.7901, Accuracy: 0.4750, F1 Score: 0.0870, Precision: 0.1667, Recall: 0.0588, ROC AUC: 0.3542\n",
      "Epoch [2/50], Loss: 0.7038\n",
      "Validation Loss: 1.4452, Accuracy: 0.4000, F1 Score: 0.4286, Precision: 0.3600, Recall: 0.5294, ROC AUC: 0.3958\n",
      "Epoch [3/50], Loss: 0.4878\n",
      "Validation Loss: 1.2993, Accuracy: 0.4625, F1 Score: 0.5657, Precision: 0.4308, Recall: 0.8235, ROC AUC: 0.4246\n",
      "Epoch [4/50], Loss: 0.3807\n",
      "Validation Loss: 1.2470, Accuracy: 0.4375, F1 Score: 0.5545, Precision: 0.4179, Recall: 0.8235, ROC AUC: 0.4258\n",
      "Epoch [5/50], Loss: 0.3244\n",
      "Validation Loss: 1.2309, Accuracy: 0.4875, F1 Score: 0.6019, Precision: 0.4493, Recall: 0.9118, ROC AUC: 0.4246\n",
      "Epoch [6/50], Loss: 0.2721\n",
      "Validation Loss: 1.2008, Accuracy: 0.4250, F1 Score: 0.4889, Precision: 0.3929, Recall: 0.6471, ROC AUC: 0.4079\n",
      "Epoch [7/50], Loss: 0.2523\n",
      "Validation Loss: 1.1765, Accuracy: 0.5125, F1 Score: 0.6061, Precision: 0.4615, Recall: 0.8824, ROC AUC: 0.4098\n",
      "Epoch [8/50], Loss: 0.2271\n",
      "Validation Loss: 1.1834, Accuracy: 0.4750, F1 Score: 0.5882, Precision: 0.4412, Recall: 0.8824, ROC AUC: 0.4054\n",
      "Epoch [9/50], Loss: 0.2221\n",
      "Validation Loss: 1.1540, Accuracy: 0.4750, F1 Score: 0.6038, Precision: 0.4444, Recall: 0.9412, ROC AUC: 0.4137\n",
      "Epoch [10/50], Loss: 0.2221\n",
      "Validation Loss: 1.1501, Accuracy: 0.5125, F1 Score: 0.6139, Precision: 0.4627, Recall: 0.9118, ROC AUC: 0.4246\n",
      "Epoch [11/50], Loss: 0.2092\n",
      "Validation Loss: 1.1517, Accuracy: 0.4750, F1 Score: 0.5882, Precision: 0.4412, Recall: 0.8824, ROC AUC: 0.4265\n",
      "Epoch [12/50], Loss: 0.2055\n",
      "Validation Loss: 1.1439, Accuracy: 0.4750, F1 Score: 0.5800, Precision: 0.4394, Recall: 0.8529, ROC AUC: 0.4182\n",
      "Early stopping triggered.\n",
      "Fold 2\n",
      "Epoch [1/50], Loss: 1.1381\n",
      "Validation Loss: 1.7878, Accuracy: 0.5125, F1 Score: 0.6139, Precision: 0.5000, Recall: 0.7949, ROC AUC: 0.5366\n",
      "Epoch [2/50], Loss: 0.7318\n",
      "Validation Loss: 1.5000, Accuracy: 0.5250, F1 Score: 0.5870, Precision: 0.5094, Recall: 0.6923, ROC AUC: 0.5109\n",
      "Epoch [3/50], Loss: 0.5033\n",
      "Validation Loss: 1.3871, Accuracy: 0.5250, F1 Score: 0.5366, Precision: 0.5116, Recall: 0.5641, ROC AUC: 0.5428\n",
      "Epoch [4/50], Loss: 0.3916\n",
      "Validation Loss: 1.3324, Accuracy: 0.5375, F1 Score: 0.5843, Precision: 0.5200, Recall: 0.6667, ROC AUC: 0.4972\n",
      "Epoch [5/50], Loss: 0.3035\n",
      "Validation Loss: 1.2986, Accuracy: 0.5125, F1 Score: 0.5618, Precision: 0.5000, Recall: 0.6410, ROC AUC: 0.5278\n",
      "Epoch [6/50], Loss: 0.2639\n",
      "Validation Loss: 1.2862, Accuracy: 0.5375, F1 Score: 0.5316, Precision: 0.5250, Recall: 0.5385, ROC AUC: 0.5378\n",
      "Epoch [7/50], Loss: 0.2491\n",
      "Validation Loss: 1.2808, Accuracy: 0.5125, F1 Score: 0.4179, Precision: 0.5000, Recall: 0.3590, ROC AUC: 0.5235\n",
      "Epoch [8/50], Loss: 0.2280\n",
      "Validation Loss: 1.2682, Accuracy: 0.5500, F1 Score: 0.5000, Precision: 0.5455, Recall: 0.4615, ROC AUC: 0.5116\n",
      "Epoch [9/50], Loss: 0.2233\n",
      "Validation Loss: 1.2535, Accuracy: 0.5625, F1 Score: 0.5455, Precision: 0.5526, Recall: 0.5385, ROC AUC: 0.5178\n",
      "Epoch [10/50], Loss: 0.2156\n",
      "Validation Loss: 1.2565, Accuracy: 0.5000, F1 Score: 0.4118, Precision: 0.4828, Recall: 0.3590, ROC AUC: 0.5009\n",
      "Epoch [11/50], Loss: 0.2165\n",
      "Validation Loss: 1.2527, Accuracy: 0.5750, F1 Score: 0.5526, Precision: 0.5676, Recall: 0.5385, ROC AUC: 0.5147\n",
      "Epoch [12/50], Loss: 0.2145\n",
      "Validation Loss: 1.2442, Accuracy: 0.5000, F1 Score: 0.5918, Precision: 0.4915, Recall: 0.7436, ROC AUC: 0.4816\n",
      "Epoch [13/50], Loss: 0.2090\n",
      "Validation Loss: 1.2434, Accuracy: 0.5500, F1 Score: 0.5500, Precision: 0.5366, Recall: 0.5641, ROC AUC: 0.4866\n",
      "Epoch [14/50], Loss: 0.2079\n",
      "Validation Loss: 1.2445, Accuracy: 0.5375, F1 Score: 0.5316, Precision: 0.5250, Recall: 0.5385, ROC AUC: 0.4884\n",
      "Epoch [15/50], Loss: 0.2065\n",
      "Validation Loss: 1.2530, Accuracy: 0.4750, F1 Score: 0.5116, Precision: 0.4681, Recall: 0.5641, ROC AUC: 0.4841\n",
      "Epoch [16/50], Loss: 0.2063\n",
      "Validation Loss: 1.2491, Accuracy: 0.4875, F1 Score: 0.4225, Precision: 0.4688, Recall: 0.3846, ROC AUC: 0.4797\n",
      "Early stopping triggered.\n",
      "Fold 3\n",
      "Epoch [1/50], Loss: 1.1822\n",
      "Validation Loss: 1.7625, Accuracy: 0.3924, F1 Score: 0.2258, Precision: 0.3500, Recall: 0.1667, ROC AUC: 0.3758\n",
      "Epoch [2/50], Loss: 0.7695\n",
      "Validation Loss: 1.4663, Accuracy: 0.4051, F1 Score: 0.2985, Precision: 0.4000, Recall: 0.2381, ROC AUC: 0.3790\n",
      "Epoch [3/50], Loss: 0.5353\n",
      "Validation Loss: 1.3337, Accuracy: 0.3797, F1 Score: 0.2899, Precision: 0.3704, Recall: 0.2381, ROC AUC: 0.3745\n",
      "Epoch [4/50], Loss: 0.4207\n",
      "Validation Loss: 1.2661, Accuracy: 0.4304, F1 Score: 0.4000, Precision: 0.4545, Recall: 0.3571, ROC AUC: 0.3790\n",
      "Epoch [5/50], Loss: 0.3289\n",
      "Validation Loss: 1.2469, Accuracy: 0.3924, F1 Score: 0.3143, Precision: 0.3929, Recall: 0.2619, ROC AUC: 0.4022\n",
      "Epoch [6/50], Loss: 0.2753\n",
      "Validation Loss: 1.2217, Accuracy: 0.3924, F1 Score: 0.1724, Precision: 0.3125, Recall: 0.1190, ROC AUC: 0.4125\n",
      "Epoch [7/50], Loss: 0.2453\n",
      "Validation Loss: 1.2010, Accuracy: 0.3544, F1 Score: 0.1356, Precision: 0.2353, Recall: 0.0952, ROC AUC: 0.3719\n",
      "Epoch [8/50], Loss: 0.2317\n",
      "Validation Loss: 1.1992, Accuracy: 0.3291, F1 Score: 0.1311, Precision: 0.2105, Recall: 0.0952, ROC AUC: 0.3874\n",
      "Epoch [9/50], Loss: 0.2216\n",
      "Validation Loss: 1.1852, Accuracy: 0.4177, F1 Score: 0.3784, Precision: 0.4375, Recall: 0.3333, ROC AUC: 0.3707\n",
      "Early stopping triggered.\n",
      "Fold 4\n",
      "Epoch [1/50], Loss: 1.1290\n",
      "Validation Loss: 1.8300, Accuracy: 0.4810, F1 Score: 0.0465, Precision: 0.5000, Recall: 0.0244, ROC AUC: 0.5372\n",
      "Epoch [2/50], Loss: 0.7390\n",
      "Validation Loss: 1.5112, Accuracy: 0.4684, F1 Score: 0.1923, Precision: 0.4545, Recall: 0.1220, ROC AUC: 0.5430\n",
      "Epoch [3/50], Loss: 0.4953\n",
      "Validation Loss: 1.3894, Accuracy: 0.4810, F1 Score: 0.3051, Precision: 0.5000, Recall: 0.2195, ROC AUC: 0.5398\n",
      "Epoch [4/50], Loss: 0.3796\n",
      "Validation Loss: 1.3285, Accuracy: 0.5063, F1 Score: 0.4179, Precision: 0.5385, Recall: 0.3415, ROC AUC: 0.5469\n",
      "Epoch [5/50], Loss: 0.3184\n",
      "Validation Loss: 1.2777, Accuracy: 0.4430, F1 Score: 0.3333, Precision: 0.4400, Recall: 0.2683, ROC AUC: 0.5167\n",
      "Epoch [6/50], Loss: 0.2748\n",
      "Validation Loss: 1.2581, Accuracy: 0.5063, F1 Score: 0.4179, Precision: 0.5385, Recall: 0.3415, ROC AUC: 0.5295\n",
      "Epoch [7/50], Loss: 0.2520\n",
      "Validation Loss: 1.2454, Accuracy: 0.4684, F1 Score: 0.3226, Precision: 0.4762, Recall: 0.2439, ROC AUC: 0.5237\n",
      "Epoch [8/50], Loss: 0.2370\n",
      "Validation Loss: 1.2362, Accuracy: 0.5190, F1 Score: 0.5250, Precision: 0.5385, Recall: 0.5122, ROC AUC: 0.5051\n",
      "Epoch [9/50], Loss: 0.2264\n",
      "Validation Loss: 1.2138, Accuracy: 0.4684, F1 Score: 0.4000, Precision: 0.4828, Recall: 0.3415, ROC AUC: 0.5237\n",
      "Epoch [10/50], Loss: 0.2203\n",
      "Validation Loss: 1.2175, Accuracy: 0.4557, F1 Score: 0.3582, Precision: 0.4615, Recall: 0.2927, ROC AUC: 0.5199\n",
      "Epoch [11/50], Loss: 0.2172\n",
      "Validation Loss: 1.2182, Accuracy: 0.4304, F1 Score: 0.2373, Precision: 0.3889, Recall: 0.1707, ROC AUC: 0.5000\n",
      "Epoch [12/50], Loss: 0.2126\n",
      "Validation Loss: 1.2154, Accuracy: 0.4430, F1 Score: 0.3529, Precision: 0.4444, Recall: 0.2927, ROC AUC: 0.4974\n",
      "Epoch [13/50], Loss: 0.2108\n",
      "Validation Loss: 1.1980, Accuracy: 0.3924, F1 Score: 0.2000, Precision: 0.3158, Recall: 0.1463, ROC AUC: 0.4974\n",
      "Early stopping triggered.\n",
      "Fold 5\n",
      "Epoch [1/50], Loss: 1.0996\n",
      "Validation Loss: 1.7935, Accuracy: 0.4810, F1 Score: 0.4533, Precision: 0.5152, Recall: 0.4048, ROC AUC: 0.4131\n",
      "Epoch [2/50], Loss: 0.7109\n",
      "Validation Loss: 1.5085, Accuracy: 0.4557, F1 Score: 0.4691, Precision: 0.4872, Recall: 0.4524, ROC AUC: 0.4241\n",
      "Epoch [3/50], Loss: 0.4968\n",
      "Validation Loss: 1.3559, Accuracy: 0.5063, F1 Score: 0.5063, Precision: 0.5405, Recall: 0.4762, ROC AUC: 0.4163\n",
      "Epoch [4/50], Loss: 0.3669\n",
      "Validation Loss: 1.3000, Accuracy: 0.4177, F1 Score: 0.2812, Precision: 0.4091, Recall: 0.2143, ROC AUC: 0.4015\n",
      "Epoch [5/50], Loss: 0.3063\n",
      "Validation Loss: 1.2641, Accuracy: 0.4684, F1 Score: 0.4878, Precision: 0.5000, Recall: 0.4762, ROC AUC: 0.4189\n",
      "Epoch [6/50], Loss: 0.2653\n",
      "Validation Loss: 1.2469, Accuracy: 0.4304, F1 Score: 0.3284, Precision: 0.4400, Recall: 0.2619, ROC AUC: 0.4125\n",
      "Epoch [7/50], Loss: 0.2354\n",
      "Validation Loss: 1.2225, Accuracy: 0.4304, F1 Score: 0.3077, Precision: 0.4348, Recall: 0.2381, ROC AUC: 0.4163\n",
      "Epoch [8/50], Loss: 0.2257\n",
      "Validation Loss: 1.2179, Accuracy: 0.4051, F1 Score: 0.2295, Precision: 0.3684, Recall: 0.1667, ROC AUC: 0.4112\n",
      "Early stopping triggered.\n",
      "Average Validation Accuracy for alpha: 0.3, lr: 0.001, momentum: 0.8: 0.4355\n",
      "Training alpha: 0.3, learning_rate: 0.001, momentum: 0.9\n",
      "Fold 1\n",
      "Epoch [1/50], Loss: 1.1774\n",
      "Validation Loss: 1.7679, Accuracy: 0.4500, F1 Score: 0.5417, Precision: 0.4194, Recall: 0.7647, ROC AUC: 0.4348\n",
      "Epoch [2/50], Loss: 0.6667\n",
      "Validation Loss: 1.4119, Accuracy: 0.4375, F1 Score: 0.5631, Precision: 0.4203, Recall: 0.8529, ROC AUC: 0.5038\n",
      "Epoch [3/50], Loss: 0.4281\n",
      "Validation Loss: 1.3021, Accuracy: 0.4750, F1 Score: 0.5800, Precision: 0.4394, Recall: 0.8529, ROC AUC: 0.5332\n",
      "Epoch [4/50], Loss: 0.2974\n",
      "Validation Loss: 1.2416, Accuracy: 0.4500, F1 Score: 0.5769, Precision: 0.4286, Recall: 0.8824, ROC AUC: 0.5288\n",
      "Epoch [5/50], Loss: 0.2460\n",
      "Validation Loss: 1.2231, Accuracy: 0.4375, F1 Score: 0.5946, Precision: 0.4286, Recall: 0.9706, ROC AUC: 0.5307\n",
      "Epoch [6/50], Loss: 0.2226\n",
      "Validation Loss: 1.2003, Accuracy: 0.4375, F1 Score: 0.5872, Precision: 0.4267, Recall: 0.9412, ROC AUC: 0.5185\n",
      "Epoch [7/50], Loss: 0.2115\n",
      "Validation Loss: 1.1840, Accuracy: 0.4750, F1 Score: 0.5000, Precision: 0.4200, Recall: 0.6176, ROC AUC: 0.4974\n",
      "Epoch [8/50], Loss: 0.2118\n",
      "Validation Loss: 1.1762, Accuracy: 0.4750, F1 Score: 0.5227, Precision: 0.4259, Recall: 0.6765, ROC AUC: 0.4923\n",
      "Early stopping triggered.\n",
      "Fold 2\n",
      "Epoch [1/50], Loss: 1.1648\n",
      "Validation Loss: 1.7191, Accuracy: 0.5750, F1 Score: 0.6136, Precision: 0.5510, Recall: 0.6923, ROC AUC: 0.6291\n",
      "Epoch [2/50], Loss: 0.6471\n",
      "Validation Loss: 1.4221, Accuracy: 0.6375, F1 Score: 0.6027, Precision: 0.6471, Recall: 0.5641, ROC AUC: 0.6223\n",
      "Epoch [3/50], Loss: 0.4095\n",
      "Validation Loss: 1.3091, Accuracy: 0.5625, F1 Score: 0.6392, Precision: 0.5345, Recall: 0.7949, ROC AUC: 0.5797\n",
      "Epoch [4/50], Loss: 0.2995\n",
      "Validation Loss: 1.2637, Accuracy: 0.5750, F1 Score: 0.5143, Precision: 0.5806, Recall: 0.4615, ROC AUC: 0.5791\n",
      "Epoch [5/50], Loss: 0.2365\n",
      "Validation Loss: 1.2237, Accuracy: 0.5750, F1 Score: 0.6383, Precision: 0.5455, Recall: 0.7692, ROC AUC: 0.5985\n",
      "Epoch [6/50], Loss: 0.2151\n",
      "Validation Loss: 1.2262, Accuracy: 0.5750, F1 Score: 0.6136, Precision: 0.5510, Recall: 0.6923, ROC AUC: 0.5922\n",
      "Epoch [7/50], Loss: 0.2105\n",
      "Validation Loss: 1.2083, Accuracy: 0.5500, F1 Score: 0.6087, Precision: 0.5283, Recall: 0.7179, ROC AUC: 0.5629\n",
      "Early stopping triggered.\n",
      "Fold 3\n",
      "Epoch [1/50], Loss: 1.1602\n",
      "Validation Loss: 1.7954, Accuracy: 0.5063, F1 Score: 0.6609, Precision: 0.5205, Recall: 0.9048, ROC AUC: 0.4151\n",
      "Epoch [2/50], Loss: 0.6495\n",
      "Validation Loss: 1.4936, Accuracy: 0.4051, F1 Score: 0.2769, Precision: 0.3913, Recall: 0.2143, ROC AUC: 0.4234\n",
      "Epoch [3/50], Loss: 0.4039\n",
      "Validation Loss: 1.3854, Accuracy: 0.3671, F1 Score: 0.1667, Precision: 0.2778, Recall: 0.1190, ROC AUC: 0.3707\n",
      "Epoch [4/50], Loss: 0.2940\n",
      "Validation Loss: 1.3182, Accuracy: 0.3418, F1 Score: 0.1613, Precision: 0.2500, Recall: 0.1190, ROC AUC: 0.3604\n",
      "Epoch [5/50], Loss: 0.2396\n",
      "Validation Loss: 1.2967, Accuracy: 0.4304, F1 Score: 0.4156, Precision: 0.4571, Recall: 0.3810, ROC AUC: 0.3514\n",
      "Epoch [6/50], Loss: 0.2195\n",
      "Validation Loss: 1.2858, Accuracy: 0.4177, F1 Score: 0.3611, Precision: 0.4333, Recall: 0.3095, ROC AUC: 0.3552\n",
      "Early stopping triggered.\n",
      "Fold 4\n",
      "Epoch [1/50], Loss: 1.0679\n",
      "Validation Loss: 1.7122, Accuracy: 0.4430, F1 Score: 0.4634, Precision: 0.4634, Recall: 0.4634, ROC AUC: 0.4917\n",
      "Epoch [2/50], Loss: 0.6111\n",
      "Validation Loss: 1.4078, Accuracy: 0.5063, F1 Score: 0.3810, Precision: 0.5455, Recall: 0.2927, ROC AUC: 0.5148\n",
      "Epoch [3/50], Loss: 0.3914\n",
      "Validation Loss: 1.2663, Accuracy: 0.4684, F1 Score: 0.3636, Precision: 0.4800, Recall: 0.2927, ROC AUC: 0.4936\n",
      "Epoch [4/50], Loss: 0.2803\n",
      "Validation Loss: 1.2282, Accuracy: 0.4557, F1 Score: 0.3385, Precision: 0.4583, Recall: 0.2683, ROC AUC: 0.4589\n",
      "Epoch [5/50], Loss: 0.2397\n",
      "Validation Loss: 1.1990, Accuracy: 0.4304, F1 Score: 0.1818, Precision: 0.3571, Recall: 0.1220, ROC AUC: 0.4730\n",
      "Epoch [6/50], Loss: 0.2191\n",
      "Validation Loss: 1.1964, Accuracy: 0.4684, F1 Score: 0.4167, Precision: 0.4839, Recall: 0.3659, ROC AUC: 0.4737\n",
      "Epoch [7/50], Loss: 0.2099\n",
      "Validation Loss: 1.1877, Accuracy: 0.4430, F1 Score: 0.3714, Precision: 0.4483, Recall: 0.3171, ROC AUC: 0.4801\n",
      "Early stopping triggered.\n",
      "Fold 5\n",
      "Epoch [1/50], Loss: 1.1335\n",
      "Validation Loss: 1.7472, Accuracy: 0.4304, F1 Score: 0.1509, Precision: 0.3636, Recall: 0.0952, ROC AUC: 0.5431\n",
      "Epoch [2/50], Loss: 0.6206\n",
      "Validation Loss: 1.4266, Accuracy: 0.4684, F1 Score: 0.3438, Precision: 0.5000, Recall: 0.2619, ROC AUC: 0.5380\n",
      "Epoch [3/50], Loss: 0.4009\n",
      "Validation Loss: 1.3150, Accuracy: 0.5443, F1 Score: 0.5610, Precision: 0.5750, Recall: 0.5476, ROC AUC: 0.5122\n",
      "Epoch [4/50], Loss: 0.2873\n",
      "Validation Loss: 1.2513, Accuracy: 0.4810, F1 Score: 0.4810, Precision: 0.5135, Recall: 0.4524, ROC AUC: 0.4871\n",
      "Epoch [5/50], Loss: 0.2373\n",
      "Validation Loss: 1.2243, Accuracy: 0.4430, F1 Score: 0.3714, Precision: 0.4643, Recall: 0.3095, ROC AUC: 0.4672\n",
      "Epoch [6/50], Loss: 0.2176\n",
      "Validation Loss: 1.2124, Accuracy: 0.4937, F1 Score: 0.4286, Precision: 0.5357, Recall: 0.3571, ROC AUC: 0.4653\n",
      "Epoch [7/50], Loss: 0.2075\n",
      "Validation Loss: 1.1969, Accuracy: 0.4684, F1 Score: 0.3824, Precision: 0.5000, Recall: 0.3095, ROC AUC: 0.4723\n",
      "Epoch [8/50], Loss: 0.2047\n",
      "Validation Loss: 1.1995, Accuracy: 0.4557, F1 Score: 0.4110, Precision: 0.4839, Recall: 0.3571, ROC AUC: 0.4472\n",
      "Early stopping triggered.\n",
      "Average Validation Accuracy for alpha: 0.3, lr: 0.001, momentum: 0.9: 0.4683\n",
      "Training alpha: 0.3, learning_rate: 0.01, momentum: 0.5\n",
      "Fold 1\n",
      "Epoch [1/50], Loss: 0.8935\n",
      "Validation Loss: 1.4368, Accuracy: 0.4250, F1 Score: 0.5106, Precision: 0.4000, Recall: 0.7059, ROC AUC: 0.4098\n",
      "Epoch [2/50], Loss: 0.3719\n",
      "Validation Loss: 1.3417, Accuracy: 0.5250, F1 Score: 0.5682, Precision: 0.4630, Recall: 0.7353, ROC AUC: 0.4757\n",
      "Epoch [3/50], Loss: 0.2522\n",
      "Validation Loss: 1.1891, Accuracy: 0.4625, F1 Score: 0.5743, Precision: 0.4328, Recall: 0.8529, ROC AUC: 0.4476\n",
      "Epoch [4/50], Loss: 0.2202\n",
      "Validation Loss: 1.1674, Accuracy: 0.4750, F1 Score: 0.5625, Precision: 0.4355, Recall: 0.7941, ROC AUC: 0.4431\n",
      "Epoch [5/50], Loss: 0.2128\n",
      "Validation Loss: 1.1546, Accuracy: 0.4250, F1 Score: 0.5893, Precision: 0.4231, Recall: 0.9706, ROC AUC: 0.4341\n",
      "Epoch [6/50], Loss: 0.2051\n",
      "Validation Loss: 1.1289, Accuracy: 0.4750, F1 Score: 0.3000, Precision: 0.3462, Recall: 0.2647, ROC AUC: 0.4003\n",
      "Epoch [7/50], Loss: 0.2078\n",
      "Validation Loss: 1.1462, Accuracy: 0.4250, F1 Score: 0.4524, Precision: 0.3800, Recall: 0.5588, ROC AUC: 0.4118\n",
      "Early stopping triggered.\n",
      "Fold 2\n",
      "Epoch [1/50], Loss: 0.8517\n",
      "Validation Loss: 1.4227, Accuracy: 0.4375, F1 Score: 0.4000, Precision: 0.4167, Recall: 0.3846, ROC AUC: 0.4315\n",
      "Epoch [2/50], Loss: 0.3356\n",
      "Validation Loss: 1.2421, Accuracy: 0.5250, F1 Score: 0.4412, Precision: 0.5172, Recall: 0.3846, ROC AUC: 0.4753\n",
      "Epoch [3/50], Loss: 0.2406\n",
      "Validation Loss: 1.1959, Accuracy: 0.4750, F1 Score: 0.6111, Precision: 0.4783, Recall: 0.8462, ROC AUC: 0.4584\n",
      "Epoch [4/50], Loss: 0.2155\n",
      "Validation Loss: 1.2156, Accuracy: 0.4500, F1 Score: 0.3529, Precision: 0.4138, Recall: 0.3077, ROC AUC: 0.4428\n",
      "Epoch [5/50], Loss: 0.2046\n",
      "Validation Loss: 1.2161, Accuracy: 0.4375, F1 Score: 0.4000, Precision: 0.4167, Recall: 0.3846, ROC AUC: 0.4121\n",
      "Epoch [6/50], Loss: 0.2022\n",
      "Validation Loss: 1.1922, Accuracy: 0.4000, F1 Score: 0.4146, Precision: 0.3953, Recall: 0.4359, ROC AUC: 0.4234\n",
      "Epoch [7/50], Loss: 0.1976\n",
      "Validation Loss: 1.1854, Accuracy: 0.4250, F1 Score: 0.5000, Precision: 0.4340, Recall: 0.5897, ROC AUC: 0.4084\n",
      "Early stopping triggered.\n",
      "Fold 3\n",
      "Epoch [1/50], Loss: 0.9023\n",
      "Validation Loss: 1.3377, Accuracy: 0.4304, F1 Score: 0.3836, Precision: 0.4516, Recall: 0.3333, ROC AUC: 0.4826\n",
      "Epoch [2/50], Loss: 0.3625\n",
      "Validation Loss: 1.2858, Accuracy: 0.4430, F1 Score: 0.2414, Precision: 0.4375, Recall: 0.1667, ROC AUC: 0.4459\n",
      "Epoch [3/50], Loss: 0.2485\n",
      "Validation Loss: 1.2038, Accuracy: 0.4937, F1 Score: 0.5000, Precision: 0.5263, Recall: 0.4762, ROC AUC: 0.5148\n",
      "Epoch [4/50], Loss: 0.2195\n",
      "Validation Loss: 1.1973, Accuracy: 0.4557, F1 Score: 0.3385, Precision: 0.4783, Recall: 0.2619, ROC AUC: 0.4472\n",
      "Epoch [5/50], Loss: 0.2115\n",
      "Validation Loss: 1.2422, Accuracy: 0.4810, F1 Score: 0.1961, Precision: 0.5556, Recall: 0.1190, ROC AUC: 0.5212\n",
      "Epoch [6/50], Loss: 0.2068\n",
      "Validation Loss: 1.2018, Accuracy: 0.4937, F1 Score: 0.5918, Precision: 0.5179, Recall: 0.6905, ROC AUC: 0.4633\n",
      "Epoch [7/50], Loss: 0.2041\n",
      "Validation Loss: 1.1966, Accuracy: 0.4430, F1 Score: 0.2903, Precision: 0.4500, Recall: 0.2143, ROC AUC: 0.4961\n",
      "Epoch [8/50], Loss: 0.1978\n",
      "Validation Loss: 1.1918, Accuracy: 0.4684, F1 Score: 0.4750, Precision: 0.5000, Recall: 0.4524, ROC AUC: 0.4891\n",
      "Early stopping triggered.\n",
      "Fold 4\n",
      "Epoch [1/50], Loss: 0.8438\n",
      "Validation Loss: 1.3279, Accuracy: 0.4684, F1 Score: 0.4878, Precision: 0.4878, Recall: 0.4878, ROC AUC: 0.4243\n",
      "Epoch [2/50], Loss: 0.3515\n",
      "Validation Loss: 1.2493, Accuracy: 0.4557, F1 Score: 0.5905, Precision: 0.4844, Recall: 0.7561, ROC AUC: 0.4191\n",
      "Epoch [3/50], Loss: 0.2389\n",
      "Validation Loss: 1.2056, Accuracy: 0.4810, F1 Score: 0.0465, Precision: 0.5000, Recall: 0.0244, ROC AUC: 0.4409\n",
      "Epoch [4/50], Loss: 0.2147\n",
      "Validation Loss: 1.2000, Accuracy: 0.4937, F1 Score: 0.3333, Precision: 0.5263, Recall: 0.2439, ROC AUC: 0.4255\n",
      "Epoch [5/50], Loss: 0.2066\n",
      "Validation Loss: 1.1963, Accuracy: 0.4304, F1 Score: 0.5361, Precision: 0.4643, Recall: 0.6341, ROC AUC: 0.4243\n",
      "Epoch [6/50], Loss: 0.2050\n",
      "Validation Loss: 1.2076, Accuracy: 0.4430, F1 Score: 0.4359, Precision: 0.4595, Recall: 0.4146, ROC AUC: 0.4326\n",
      "Epoch [7/50], Loss: 0.2042\n",
      "Validation Loss: 1.1856, Accuracy: 0.5316, F1 Score: 0.4789, Precision: 0.5667, Recall: 0.4146, ROC AUC: 0.4724\n",
      "Epoch [8/50], Loss: 0.1972\n",
      "Validation Loss: 1.1815, Accuracy: 0.4810, F1 Score: 0.4810, Precision: 0.5000, Recall: 0.4634, ROC AUC: 0.4763\n",
      "Epoch [9/50], Loss: 0.1953\n",
      "Validation Loss: 1.1928, Accuracy: 0.5443, F1 Score: 0.4545, Precision: 0.6000, Recall: 0.3659, ROC AUC: 0.5096\n",
      "Epoch [10/50], Loss: 0.1922\n",
      "Validation Loss: 1.2073, Accuracy: 0.5443, F1 Score: 0.4000, Precision: 0.6316, Recall: 0.2927, ROC AUC: 0.5116\n",
      "Epoch [11/50], Loss: 0.1881\n",
      "Validation Loss: 1.2012, Accuracy: 0.5063, F1 Score: 0.5412, Precision: 0.5227, Recall: 0.5610, ROC AUC: 0.4698\n",
      "Epoch [12/50], Loss: 0.1836\n",
      "Validation Loss: 1.1942, Accuracy: 0.5949, F1 Score: 0.5152, Precision: 0.6800, Recall: 0.4146, ROC AUC: 0.5295\n",
      "Epoch [13/50], Loss: 0.1766\n",
      "Validation Loss: 1.1917, Accuracy: 0.5570, F1 Score: 0.5783, Precision: 0.5714, Recall: 0.5854, ROC AUC: 0.5237\n",
      "Epoch [14/50], Loss: 0.1691\n",
      "Validation Loss: 1.2161, Accuracy: 0.5443, F1 Score: 0.5385, Precision: 0.5676, Recall: 0.5122, ROC AUC: 0.4994\n",
      "Epoch [15/50], Loss: 0.1625\n",
      "Validation Loss: 1.2660, Accuracy: 0.4810, F1 Score: 0.4675, Precision: 0.5000, Recall: 0.4390, ROC AUC: 0.4942\n",
      "Epoch [16/50], Loss: 0.1511\n",
      "Validation Loss: 1.2772, Accuracy: 0.5570, F1 Score: 0.4928, Precision: 0.6071, Recall: 0.4146, ROC AUC: 0.5481\n",
      "Epoch [17/50], Loss: 0.1410\n",
      "Validation Loss: 1.2661, Accuracy: 0.5949, F1 Score: 0.5897, Precision: 0.6216, Recall: 0.5610, ROC AUC: 0.5764\n",
      "Early stopping triggered.\n",
      "Fold 5\n",
      "Epoch [1/50], Loss: 0.8640\n",
      "Validation Loss: 1.4608, Accuracy: 0.4430, F1 Score: 0.1200, Precision: 0.3750, Recall: 0.0714, ROC AUC: 0.4517\n",
      "Epoch [2/50], Loss: 0.3604\n",
      "Validation Loss: 1.2272, Accuracy: 0.4684, F1 Score: 0.2759, Precision: 0.5000, Recall: 0.1905, ROC AUC: 0.4846\n",
      "Epoch [3/50], Loss: 0.2431\n",
      "Validation Loss: 1.2206, Accuracy: 0.4304, F1 Score: 0.1818, Precision: 0.3846, Recall: 0.1190, ROC AUC: 0.5019\n",
      "Epoch [4/50], Loss: 0.2136\n",
      "Validation Loss: 1.1525, Accuracy: 0.4684, F1 Score: 0.2759, Precision: 0.5000, Recall: 0.1905, ROC AUC: 0.5515\n",
      "Epoch [5/50], Loss: 0.2069\n",
      "Validation Loss: 1.1815, Accuracy: 0.5063, F1 Score: 0.4507, Precision: 0.5517, Recall: 0.3810, ROC AUC: 0.5399\n",
      "Epoch [6/50], Loss: 0.2054\n",
      "Validation Loss: 1.1756, Accuracy: 0.5063, F1 Score: 0.3390, Precision: 0.5882, Recall: 0.2381, ROC AUC: 0.5380\n",
      "Epoch [7/50], Loss: 0.1986\n",
      "Validation Loss: 1.1919, Accuracy: 0.4557, F1 Score: 0.1224, Precision: 0.4286, Recall: 0.0714, ROC AUC: 0.5103\n",
      "Epoch [8/50], Loss: 0.1981\n",
      "Validation Loss: 1.1873, Accuracy: 0.4684, F1 Score: 0.1250, Precision: 0.5000, Recall: 0.0714, ROC AUC: 0.5264\n",
      "Epoch [9/50], Loss: 0.1869\n",
      "Validation Loss: 1.1677, Accuracy: 0.5443, F1 Score: 0.5263, Precision: 0.5882, Recall: 0.4762, ROC AUC: 0.5399\n",
      "Epoch [10/50], Loss: 0.1833\n",
      "Validation Loss: 1.1581, Accuracy: 0.5570, F1 Score: 0.5570, Precision: 0.5946, Recall: 0.5238, ROC AUC: 0.5418\n",
      "Epoch [11/50], Loss: 0.1793\n",
      "Validation Loss: 1.1842, Accuracy: 0.5316, F1 Score: 0.4478, Precision: 0.6000, Recall: 0.3571, ROC AUC: 0.5598\n",
      "Epoch [12/50], Loss: 0.1705\n",
      "Validation Loss: 1.1829, Accuracy: 0.5443, F1 Score: 0.6000, Precision: 0.5625, Recall: 0.6429, ROC AUC: 0.5586\n",
      "Epoch [13/50], Loss: 0.1611\n",
      "Validation Loss: 1.1671, Accuracy: 0.5316, F1 Score: 0.5747, Precision: 0.5556, Recall: 0.5952, ROC AUC: 0.5586\n",
      "Epoch [14/50], Loss: 0.1648\n",
      "Validation Loss: 1.1900, Accuracy: 0.5190, F1 Score: 0.4412, Precision: 0.5769, Recall: 0.3571, ROC AUC: 0.5270\n",
      "Epoch [15/50], Loss: 0.1455\n",
      "Validation Loss: 1.1946, Accuracy: 0.5316, F1 Score: 0.5316, Precision: 0.5676, Recall: 0.5000, ROC AUC: 0.5772\n",
      "Early stopping triggered.\n",
      "Average Validation Accuracy for alpha: 0.3, lr: 0.01, momentum: 0.5: 0.4890\n",
      "Training alpha: 0.3, learning_rate: 0.01, momentum: 0.8\n",
      "Fold 1\n",
      "Epoch [1/50], Loss: 0.8596\n",
      "Validation Loss: 1.5151, Accuracy: 0.5000, F1 Score: 0.4118, Precision: 0.4118, Recall: 0.4118, ROC AUC: 0.4546\n",
      "Epoch [2/50], Loss: 0.3502\n",
      "Validation Loss: 1.2666, Accuracy: 0.4500, F1 Score: 0.5217, Precision: 0.4138, Recall: 0.7059, ROC AUC: 0.5531\n",
      "Epoch [3/50], Loss: 0.2547\n",
      "Validation Loss: 1.2663, Accuracy: 0.4500, F1 Score: 0.6000, Precision: 0.4342, Recall: 0.9706, ROC AUC: 0.5058\n",
      "Epoch [4/50], Loss: 0.2236\n",
      "Validation Loss: 1.2064, Accuracy: 0.5250, F1 Score: 0.5957, Precision: 0.4667, Recall: 0.8235, ROC AUC: 0.5390\n",
      "Epoch [5/50], Loss: 0.2111\n",
      "Validation Loss: 1.2097, Accuracy: 0.4625, F1 Score: 0.4819, Precision: 0.4082, Recall: 0.5882, ROC AUC: 0.4616\n",
      "Epoch [6/50], Loss: 0.1959\n",
      "Validation Loss: 1.2025, Accuracy: 0.5125, F1 Score: 0.5618, Precision: 0.4545, Recall: 0.7353, ROC AUC: 0.4968\n",
      "Epoch [7/50], Loss: 0.1884\n",
      "Validation Loss: 1.1633, Accuracy: 0.5375, F1 Score: 0.5934, Precision: 0.4737, Recall: 0.7941, ROC AUC: 0.5729\n",
      "Epoch [8/50], Loss: 0.1757\n",
      "Validation Loss: 1.1413, Accuracy: 0.4875, F1 Score: 0.5495, Precision: 0.4386, Recall: 0.7353, ROC AUC: 0.6017\n",
      "Epoch [9/50], Loss: 0.1634\n",
      "Validation Loss: 1.2954, Accuracy: 0.5125, F1 Score: 0.5618, Precision: 0.4545, Recall: 0.7353, ROC AUC: 0.5953\n",
      "Epoch [10/50], Loss: 0.1561\n",
      "Validation Loss: 1.1858, Accuracy: 0.5500, F1 Score: 0.3333, Precision: 0.4500, Recall: 0.2647, ROC AUC: 0.6176\n",
      "Epoch [11/50], Loss: 0.1477\n",
      "Validation Loss: 1.1193, Accuracy: 0.6500, F1 Score: 0.5484, Precision: 0.6071, Recall: 0.5000, ROC AUC: 0.6803\n",
      "Epoch [12/50], Loss: 0.1676\n",
      "Validation Loss: 1.2000, Accuracy: 0.6125, F1 Score: 0.5507, Precision: 0.5429, Recall: 0.5588, ROC AUC: 0.6675\n",
      "Epoch [13/50], Loss: 0.1707\n",
      "Validation Loss: 1.1028, Accuracy: 0.6250, F1 Score: 0.6341, Precision: 0.5417, Recall: 0.7647, ROC AUC: 0.6944\n",
      "Epoch [14/50], Loss: 0.1197\n",
      "Validation Loss: 1.3223, Accuracy: 0.5750, F1 Score: 0.6136, Precision: 0.5000, Recall: 0.7941, ROC AUC: 0.6790\n",
      "Epoch [15/50], Loss: 0.1146\n",
      "Validation Loss: 1.1466, Accuracy: 0.6375, F1 Score: 0.5915, Precision: 0.5676, Recall: 0.6176, ROC AUC: 0.6797\n",
      "Epoch [16/50], Loss: 0.0950\n",
      "Validation Loss: 1.0554, Accuracy: 0.7000, F1 Score: 0.6364, Precision: 0.6562, Recall: 0.6176, ROC AUC: 0.7494\n",
      "Epoch [17/50], Loss: 0.0696\n",
      "Validation Loss: 1.1054, Accuracy: 0.7125, F1 Score: 0.6349, Precision: 0.6897, Recall: 0.5882, ROC AUC: 0.7621\n",
      "Epoch [18/50], Loss: 0.0825\n",
      "Validation Loss: 1.2167, Accuracy: 0.6500, F1 Score: 0.6889, Precision: 0.5536, Recall: 0.9118, ROC AUC: 0.7359\n",
      "Epoch [19/50], Loss: 0.1008\n",
      "Validation Loss: 1.3690, Accuracy: 0.5750, F1 Score: 0.5278, Precision: 0.5000, Recall: 0.5588, ROC AUC: 0.6049\n",
      "Epoch [20/50], Loss: 0.0847\n",
      "Validation Loss: 1.1798, Accuracy: 0.6500, F1 Score: 0.5484, Precision: 0.6071, Recall: 0.5000, ROC AUC: 0.7340\n",
      "Epoch [21/50], Loss: 0.0918\n",
      "Validation Loss: 1.1778, Accuracy: 0.7625, F1 Score: 0.7467, Precision: 0.6829, Recall: 0.8235, ROC AUC: 0.7941\n",
      "Epoch [22/50], Loss: 0.1138\n",
      "Validation Loss: 1.3025, Accuracy: 0.6750, F1 Score: 0.6176, Precision: 0.6176, Recall: 0.6176, ROC AUC: 0.7359\n",
      "Epoch [23/50], Loss: 0.1049\n",
      "Validation Loss: 1.0610, Accuracy: 0.7000, F1 Score: 0.7000, Precision: 0.6087, Recall: 0.8235, ROC AUC: 0.8325\n",
      "Epoch [24/50], Loss: 0.0768\n",
      "Validation Loss: 1.0172, Accuracy: 0.6875, F1 Score: 0.6667, Precision: 0.6098, Recall: 0.7353, ROC AUC: 0.7673\n",
      "Epoch [25/50], Loss: 0.0624\n",
      "Validation Loss: 1.3954, Accuracy: 0.6000, F1 Score: 0.6098, Precision: 0.5208, Recall: 0.7353, ROC AUC: 0.7685\n",
      "Epoch [26/50], Loss: 0.0463\n",
      "Validation Loss: 1.2968, Accuracy: 0.5875, F1 Score: 0.5714, Precision: 0.5116, Recall: 0.6471, ROC AUC: 0.7046\n",
      "Early stopping triggered.\n",
      "Fold 2\n",
      "Epoch [1/50], Loss: 0.8219\n",
      "Validation Loss: 1.6224, Accuracy: 0.4625, F1 Score: 0.0851, Precision: 0.2500, Recall: 0.0513, ROC AUC: 0.3996\n",
      "Epoch [2/50], Loss: 0.3509\n",
      "Validation Loss: 1.2487, Accuracy: 0.4625, F1 Score: 0.5981, Precision: 0.4706, Recall: 0.8205, ROC AUC: 0.4290\n",
      "Epoch [3/50], Loss: 0.2358\n",
      "Validation Loss: 1.3041, Accuracy: 0.4625, F1 Score: 0.5057, Precision: 0.4583, Recall: 0.5641, ROC AUC: 0.4772\n",
      "Epoch [4/50], Loss: 0.2179\n",
      "Validation Loss: 1.1749, Accuracy: 0.4625, F1 Score: 0.6055, Precision: 0.4714, Recall: 0.8462, ROC AUC: 0.4334\n",
      "Epoch [5/50], Loss: 0.2003\n",
      "Validation Loss: 1.1413, Accuracy: 0.5125, F1 Score: 0.3810, Precision: 0.5000, Recall: 0.3077, ROC AUC: 0.4678\n",
      "Epoch [6/50], Loss: 0.1834\n",
      "Validation Loss: 1.2326, Accuracy: 0.4375, F1 Score: 0.4706, Precision: 0.4348, Recall: 0.5128, ROC AUC: 0.4378\n",
      "Epoch [7/50], Loss: 0.1716\n",
      "Validation Loss: 1.1652, Accuracy: 0.5875, F1 Score: 0.5217, Precision: 0.6000, Recall: 0.4615, ROC AUC: 0.5710\n",
      "Epoch [8/50], Loss: 0.1625\n",
      "Validation Loss: 1.2453, Accuracy: 0.5375, F1 Score: 0.4789, Precision: 0.5312, Recall: 0.4359, ROC AUC: 0.5028\n",
      "Epoch [9/50], Loss: 0.1457\n",
      "Validation Loss: 1.1899, Accuracy: 0.5625, F1 Score: 0.5070, Precision: 0.5625, Recall: 0.4615, ROC AUC: 0.5804\n",
      "Epoch [10/50], Loss: 0.1298\n",
      "Validation Loss: 1.3759, Accuracy: 0.5000, F1 Score: 0.5745, Precision: 0.4909, Recall: 0.6923, ROC AUC: 0.5341\n",
      "Epoch [11/50], Loss: 0.1192\n",
      "Validation Loss: 1.2942, Accuracy: 0.5875, F1 Score: 0.4590, Precision: 0.6364, Recall: 0.3590, ROC AUC: 0.6379\n",
      "Epoch [12/50], Loss: 0.1245\n",
      "Validation Loss: 1.1357, Accuracy: 0.6375, F1 Score: 0.6027, Precision: 0.6471, Recall: 0.5641, ROC AUC: 0.6754\n",
      "Epoch [13/50], Loss: 0.1129\n",
      "Validation Loss: 1.1779, Accuracy: 0.6625, F1 Score: 0.6400, Precision: 0.6667, Recall: 0.6154, ROC AUC: 0.7048\n",
      "Epoch [14/50], Loss: 0.1004\n",
      "Validation Loss: 1.2135, Accuracy: 0.6875, F1 Score: 0.6479, Precision: 0.7188, Recall: 0.5897, ROC AUC: 0.6886\n",
      "Epoch [15/50], Loss: 0.0915\n",
      "Validation Loss: 1.1748, Accuracy: 0.6500, F1 Score: 0.5882, Precision: 0.6897, Recall: 0.5128, ROC AUC: 0.7386\n",
      "Epoch [16/50], Loss: 0.0889\n",
      "Validation Loss: 1.1218, Accuracy: 0.7375, F1 Score: 0.7123, Precision: 0.7647, Recall: 0.6667, ROC AUC: 0.7536\n",
      "Epoch [17/50], Loss: 0.0702\n",
      "Validation Loss: 1.3156, Accuracy: 0.6125, F1 Score: 0.5507, Precision: 0.6333, Recall: 0.4872, ROC AUC: 0.7486\n",
      "Epoch [18/50], Loss: 0.0672\n",
      "Validation Loss: 1.3100, Accuracy: 0.6125, F1 Score: 0.6173, Precision: 0.5952, Recall: 0.6410, ROC AUC: 0.7286\n",
      "Epoch [19/50], Loss: 0.0811\n",
      "Validation Loss: 1.4559, Accuracy: 0.6375, F1 Score: 0.6329, Precision: 0.6250, Recall: 0.6410, ROC AUC: 0.7136\n",
      "Epoch [20/50], Loss: 0.1554\n",
      "Validation Loss: 1.4150, Accuracy: 0.6125, F1 Score: 0.5753, Precision: 0.6176, Recall: 0.5385, ROC AUC: 0.6648\n",
      "Epoch [21/50], Loss: 0.0907\n",
      "Validation Loss: 1.1150, Accuracy: 0.6375, F1 Score: 0.6027, Precision: 0.6471, Recall: 0.5641, ROC AUC: 0.7248\n",
      "Early stopping triggered.\n",
      "Fold 3\n",
      "Epoch [1/50], Loss: 0.8702\n",
      "Validation Loss: 1.4007, Accuracy: 0.4684, F1 Score: 0.5435, Precision: 0.5000, Recall: 0.5952, ROC AUC: 0.4601\n",
      "Epoch [2/50], Loss: 0.3608\n",
      "Validation Loss: 1.3117, Accuracy: 0.5190, F1 Score: 0.5000, Precision: 0.5588, Recall: 0.4524, ROC AUC: 0.5154\n",
      "Epoch [3/50], Loss: 0.2595\n",
      "Validation Loss: 1.1795, Accuracy: 0.4937, F1 Score: 0.4595, Precision: 0.5312, Recall: 0.4048, ROC AUC: 0.4479\n",
      "Epoch [4/50], Loss: 0.2297\n",
      "Validation Loss: 1.1639, Accuracy: 0.4684, F1 Score: 0.1923, Precision: 0.5000, Recall: 0.1190, ROC AUC: 0.4524\n",
      "Epoch [5/50], Loss: 0.2091\n",
      "Validation Loss: 1.1349, Accuracy: 0.5190, F1 Score: 0.6724, Precision: 0.5270, Recall: 0.9286, ROC AUC: 0.4073\n",
      "Epoch [6/50], Loss: 0.2028\n",
      "Validation Loss: 1.2026, Accuracy: 0.4557, F1 Score: 0.3944, Precision: 0.4828, Recall: 0.3333, ROC AUC: 0.4241\n",
      "Epoch [7/50], Loss: 0.1944\n",
      "Validation Loss: 1.1271, Accuracy: 0.5823, F1 Score: 0.5714, Precision: 0.6286, Recall: 0.5238, ROC AUC: 0.5695\n",
      "Epoch [8/50], Loss: 0.1810\n",
      "Validation Loss: 1.1510, Accuracy: 0.5316, F1 Score: 0.3934, Precision: 0.6316, Recall: 0.2857, ROC AUC: 0.5206\n",
      "Epoch [9/50], Loss: 0.1558\n",
      "Validation Loss: 1.2085, Accuracy: 0.5570, F1 Score: 0.4068, Precision: 0.7059, Recall: 0.2857, ROC AUC: 0.5759\n",
      "Epoch [10/50], Loss: 0.1311\n",
      "Validation Loss: 1.1731, Accuracy: 0.5696, F1 Score: 0.6047, Precision: 0.5909, Recall: 0.6190, ROC AUC: 0.6088\n",
      "Epoch [11/50], Loss: 0.1225\n",
      "Validation Loss: 1.3364, Accuracy: 0.6076, F1 Score: 0.5373, Precision: 0.7200, Recall: 0.4286, ROC AUC: 0.6126\n",
      "Epoch [12/50], Loss: 0.1299\n",
      "Validation Loss: 1.2546, Accuracy: 0.6582, F1 Score: 0.6582, Precision: 0.7027, Recall: 0.6190, ROC AUC: 0.6429\n",
      "Epoch [13/50], Loss: 0.1469\n",
      "Validation Loss: 1.2503, Accuracy: 0.6076, F1 Score: 0.6517, Precision: 0.6170, Recall: 0.6905, ROC AUC: 0.6667\n",
      "Epoch [14/50], Loss: 0.1773\n",
      "Validation Loss: 1.1212, Accuracy: 0.6076, F1 Score: 0.6265, Precision: 0.6341, Recall: 0.6190, ROC AUC: 0.6512\n",
      "Epoch [15/50], Loss: 0.1401\n",
      "Validation Loss: 1.0517, Accuracy: 0.6709, F1 Score: 0.6750, Precision: 0.7105, Recall: 0.6429, ROC AUC: 0.7220\n",
      "Epoch [16/50], Loss: 0.0867\n",
      "Validation Loss: 1.0740, Accuracy: 0.6456, F1 Score: 0.6410, Precision: 0.6944, Recall: 0.5952, ROC AUC: 0.7239\n",
      "Epoch [17/50], Loss: 0.0625\n",
      "Validation Loss: 1.1244, Accuracy: 0.6835, F1 Score: 0.6835, Precision: 0.7297, Recall: 0.6429, ROC AUC: 0.7606\n",
      "Epoch [18/50], Loss: 0.0447\n",
      "Validation Loss: 1.2241, Accuracy: 0.6962, F1 Score: 0.7447, Precision: 0.6731, Recall: 0.8333, ROC AUC: 0.7272\n",
      "Epoch [19/50], Loss: 0.0614\n",
      "Validation Loss: 0.9836, Accuracy: 0.6709, F1 Score: 0.6286, Precision: 0.7857, Recall: 0.5238, ROC AUC: 0.8320\n",
      "Epoch [20/50], Loss: 0.0544\n",
      "Validation Loss: 1.2806, Accuracy: 0.6456, F1 Score: 0.6818, Precision: 0.6522, Recall: 0.7143, ROC AUC: 0.7091\n",
      "Epoch [21/50], Loss: 0.0542\n",
      "Validation Loss: 1.3264, Accuracy: 0.6582, F1 Score: 0.6582, Precision: 0.7027, Recall: 0.6190, ROC AUC: 0.7400\n",
      "Epoch [22/50], Loss: 0.0546\n",
      "Validation Loss: 1.2165, Accuracy: 0.7215, F1 Score: 0.7556, Precision: 0.7083, Recall: 0.8095, ROC AUC: 0.7593\n",
      "Epoch [23/50], Loss: 0.0674\n",
      "Validation Loss: 1.0060, Accuracy: 0.7468, F1 Score: 0.7561, Precision: 0.7750, Recall: 0.7381, ROC AUC: 0.8346\n",
      "Epoch [24/50], Loss: 0.0758\n",
      "Validation Loss: 1.2268, Accuracy: 0.6962, F1 Score: 0.7273, Precision: 0.6957, Recall: 0.7619, ROC AUC: 0.7799\n",
      "Epoch [25/50], Loss: 0.0437\n",
      "Validation Loss: 1.2493, Accuracy: 0.6835, F1 Score: 0.6753, Precision: 0.7429, Recall: 0.6190, ROC AUC: 0.7864\n",
      "Epoch [26/50], Loss: 0.1493\n",
      "Validation Loss: 1.4033, Accuracy: 0.5949, F1 Score: 0.6279, Precision: 0.6136, Recall: 0.6429, ROC AUC: 0.7085\n",
      "Epoch [27/50], Loss: 0.0997\n",
      "Validation Loss: 0.9504, Accuracy: 0.7089, F1 Score: 0.7579, Precision: 0.6792, Recall: 0.8571, ROC AUC: 0.8224\n",
      "Epoch [28/50], Loss: 0.0447\n",
      "Validation Loss: 0.9407, Accuracy: 0.7595, F1 Score: 0.7595, Precision: 0.8108, Recall: 0.7143, ROC AUC: 0.8578\n",
      "Epoch [29/50], Loss: 0.0294\n",
      "Validation Loss: 0.7700, Accuracy: 0.8101, F1 Score: 0.8352, Precision: 0.7755, Recall: 0.9048, ROC AUC: 0.8983\n",
      "Epoch [30/50], Loss: 0.0209\n",
      "Validation Loss: 0.9353, Accuracy: 0.8228, F1 Score: 0.8409, Precision: 0.8043, Recall: 0.8810, ROC AUC: 0.8571\n",
      "Epoch [31/50], Loss: 0.0182\n",
      "Validation Loss: 0.7580, Accuracy: 0.8101, F1 Score: 0.8193, Precision: 0.8293, Recall: 0.8095, ROC AUC: 0.9080\n",
      "Epoch [32/50], Loss: 0.0207\n",
      "Validation Loss: 0.8029, Accuracy: 0.7975, F1 Score: 0.8261, Precision: 0.7600, Recall: 0.9048, ROC AUC: 0.9157\n",
      "Epoch [33/50], Loss: 0.0350\n",
      "Validation Loss: 1.6127, Accuracy: 0.6962, F1 Score: 0.6923, Precision: 0.7500, Recall: 0.6429, ROC AUC: 0.7632\n",
      "Epoch [34/50], Loss: 0.0795\n",
      "Validation Loss: 1.5981, Accuracy: 0.6203, F1 Score: 0.6154, Precision: 0.6667, Recall: 0.5714, ROC AUC: 0.6918\n",
      "Epoch [35/50], Loss: 0.0791\n",
      "Validation Loss: 1.1384, Accuracy: 0.6962, F1 Score: 0.7647, Precision: 0.6500, Recall: 0.9286, ROC AUC: 0.8301\n",
      "Early stopping triggered.\n",
      "Fold 4\n",
      "Epoch [1/50], Loss: 0.8661\n",
      "Validation Loss: 1.4183, Accuracy: 0.4304, F1 Score: 0.1509, Precision: 0.3333, Recall: 0.0976, ROC AUC: 0.4153\n",
      "Epoch [2/50], Loss: 0.3497\n",
      "Validation Loss: 1.2677, Accuracy: 0.4557, F1 Score: 0.1569, Precision: 0.4000, Recall: 0.0976, ROC AUC: 0.4063\n",
      "Epoch [3/50], Loss: 0.2505\n",
      "Validation Loss: 1.2518, Accuracy: 0.4430, F1 Score: 0.3333, Precision: 0.4400, Recall: 0.2683, ROC AUC: 0.4551\n",
      "Epoch [4/50], Loss: 0.2159\n",
      "Validation Loss: 1.3015, Accuracy: 0.4304, F1 Score: 0.1818, Precision: 0.3571, Recall: 0.1220, ROC AUC: 0.4442\n",
      "Epoch [5/50], Loss: 0.2049\n",
      "Validation Loss: 1.2450, Accuracy: 0.4684, F1 Score: 0.5435, Precision: 0.4902, Recall: 0.6098, ROC AUC: 0.3954\n",
      "Epoch [6/50], Loss: 0.1986\n",
      "Validation Loss: 1.2270, Accuracy: 0.4684, F1 Score: 0.5625, Precision: 0.4909, Recall: 0.6585, ROC AUC: 0.4159\n",
      "Epoch [7/50], Loss: 0.1823\n",
      "Validation Loss: 1.3359, Accuracy: 0.4684, F1 Score: 0.4324, Precision: 0.4848, Recall: 0.3902, ROC AUC: 0.4531\n",
      "Epoch [8/50], Loss: 0.1735\n",
      "Validation Loss: 1.3028, Accuracy: 0.4810, F1 Score: 0.5393, Precision: 0.5000, Recall: 0.5854, ROC AUC: 0.4820\n",
      "Epoch [9/50], Loss: 0.1579\n",
      "Validation Loss: 1.4126, Accuracy: 0.4430, F1 Score: 0.4359, Precision: 0.4595, Recall: 0.4146, ROC AUC: 0.4467\n",
      "Epoch [10/50], Loss: 0.1486\n",
      "Validation Loss: 1.3368, Accuracy: 0.4684, F1 Score: 0.5333, Precision: 0.4898, Recall: 0.5854, ROC AUC: 0.5148\n",
      "Epoch [11/50], Loss: 0.1366\n",
      "Validation Loss: 1.4407, Accuracy: 0.4937, F1 Score: 0.3548, Precision: 0.5238, Recall: 0.2683, ROC AUC: 0.5064\n",
      "Epoch [12/50], Loss: 0.1332\n",
      "Validation Loss: 1.5674, Accuracy: 0.4177, F1 Score: 0.4390, Precision: 0.4390, Recall: 0.4390, ROC AUC: 0.4756\n",
      "Epoch [13/50], Loss: 0.1244\n",
      "Validation Loss: 1.5170, Accuracy: 0.5190, F1 Score: 0.5870, Precision: 0.5294, Recall: 0.6585, ROC AUC: 0.5392\n",
      "Epoch [14/50], Loss: 0.1152\n",
      "Validation Loss: 1.5705, Accuracy: 0.5949, F1 Score: 0.5294, Precision: 0.6667, Recall: 0.4390, ROC AUC: 0.6110\n",
      "Epoch [15/50], Loss: 0.1199\n",
      "Validation Loss: 1.7098, Accuracy: 0.4304, F1 Score: 0.3662, Precision: 0.4333, Recall: 0.3171, ROC AUC: 0.5276\n",
      "Epoch [16/50], Loss: 0.1112\n",
      "Validation Loss: 1.4402, Accuracy: 0.6203, F1 Score: 0.6154, Precision: 0.6486, Recall: 0.5854, ROC AUC: 0.6098\n",
      "Epoch [17/50], Loss: 0.1039\n",
      "Validation Loss: 1.5151, Accuracy: 0.5823, F1 Score: 0.6024, Precision: 0.5952, Recall: 0.6098, ROC AUC: 0.6175\n",
      "Epoch [18/50], Loss: 0.0743\n",
      "Validation Loss: 1.5735, Accuracy: 0.5823, F1 Score: 0.5714, Precision: 0.6111, Recall: 0.5366, ROC AUC: 0.6309\n",
      "Epoch [19/50], Loss: 0.0410\n",
      "Validation Loss: 1.7855, Accuracy: 0.5949, F1 Score: 0.5152, Precision: 0.6800, Recall: 0.4146, ROC AUC: 0.6329\n",
      "Epoch [20/50], Loss: 0.0666\n",
      "Validation Loss: 1.7338, Accuracy: 0.5823, F1 Score: 0.6024, Precision: 0.5952, Recall: 0.6098, ROC AUC: 0.6303\n",
      "Epoch [21/50], Loss: 0.0530\n",
      "Validation Loss: 1.7787, Accuracy: 0.6329, F1 Score: 0.6420, Precision: 0.6500, Recall: 0.6341, ROC AUC: 0.6142\n",
      "Epoch [22/50], Loss: 0.0840\n",
      "Validation Loss: 1.7034, Accuracy: 0.5823, F1 Score: 0.5823, Precision: 0.6053, Recall: 0.5610, ROC AUC: 0.6836\n",
      "Epoch [23/50], Loss: 0.0717\n",
      "Validation Loss: 1.8036, Accuracy: 0.6076, F1 Score: 0.5634, Precision: 0.6667, Recall: 0.4878, ROC AUC: 0.6772\n",
      "Epoch [24/50], Loss: 0.0785\n",
      "Validation Loss: 1.2230, Accuracy: 0.6962, F1 Score: 0.6757, Precision: 0.7576, Recall: 0.6098, ROC AUC: 0.7696\n",
      "Epoch [25/50], Loss: 0.0598\n",
      "Validation Loss: 1.4108, Accuracy: 0.6582, F1 Score: 0.6400, Precision: 0.7059, Recall: 0.5854, ROC AUC: 0.7580\n",
      "Epoch [26/50], Loss: 0.0339\n",
      "Validation Loss: 1.4593, Accuracy: 0.7215, F1 Score: 0.7442, Precision: 0.7111, Recall: 0.7805, ROC AUC: 0.7587\n",
      "Epoch [27/50], Loss: 0.0535\n",
      "Validation Loss: 1.7001, Accuracy: 0.6329, F1 Score: 0.6133, Precision: 0.6765, Recall: 0.5610, ROC AUC: 0.6900\n",
      "Epoch [28/50], Loss: 0.0351\n",
      "Validation Loss: 1.6446, Accuracy: 0.6456, F1 Score: 0.6000, Precision: 0.7241, Recall: 0.5122, ROC AUC: 0.6829\n",
      "Epoch [29/50], Loss: 0.0178\n",
      "Validation Loss: 1.7842, Accuracy: 0.6709, F1 Score: 0.7045, Precision: 0.6596, Recall: 0.7561, ROC AUC: 0.7555\n",
      "Epoch [30/50], Loss: 0.0281\n",
      "Validation Loss: 1.6263, Accuracy: 0.6329, F1 Score: 0.6506, Precision: 0.6429, Recall: 0.6585, ROC AUC: 0.7202\n",
      "Epoch [31/50], Loss: 0.0871\n",
      "Validation Loss: 1.5225, Accuracy: 0.6709, F1 Score: 0.7045, Precision: 0.6596, Recall: 0.7561, ROC AUC: 0.7202\n",
      "Early stopping triggered.\n",
      "Fold 5\n",
      "Epoch [1/50], Loss: 0.8471\n",
      "Validation Loss: 1.5442, Accuracy: 0.3797, F1 Score: 0.2687, Precision: 0.3600, Recall: 0.2143, ROC AUC: 0.4421\n",
      "Epoch [2/50], Loss: 0.3331\n",
      "Validation Loss: 1.4404, Accuracy: 0.3797, F1 Score: 0.3636, Precision: 0.4000, Recall: 0.3333, ROC AUC: 0.3887\n",
      "Epoch [3/50], Loss: 0.2362\n",
      "Validation Loss: 1.3976, Accuracy: 0.4684, F1 Score: 0.4474, Precision: 0.5000, Recall: 0.4048, ROC AUC: 0.4363\n",
      "Epoch [4/50], Loss: 0.2109\n",
      "Validation Loss: 1.3765, Accuracy: 0.3924, F1 Score: 0.4000, Precision: 0.4211, Recall: 0.3810, ROC AUC: 0.3880\n",
      "Epoch [5/50], Loss: 0.2007\n",
      "Validation Loss: 1.3635, Accuracy: 0.4557, F1 Score: 0.4557, Precision: 0.4865, Recall: 0.4286, ROC AUC: 0.4234\n",
      "Epoch [6/50], Loss: 0.1962\n",
      "Validation Loss: 1.3614, Accuracy: 0.5063, F1 Score: 0.4507, Precision: 0.5517, Recall: 0.3810, ROC AUC: 0.4485\n",
      "Epoch [7/50], Loss: 0.1902\n",
      "Validation Loss: 1.3496, Accuracy: 0.4937, F1 Score: 0.4737, Precision: 0.5294, Recall: 0.4286, ROC AUC: 0.4871\n",
      "Epoch [8/50], Loss: 0.1731\n",
      "Validation Loss: 1.4283, Accuracy: 0.4177, F1 Score: 0.4250, Precision: 0.4474, Recall: 0.4048, ROC AUC: 0.4299\n",
      "Epoch [9/50], Loss: 0.1528\n",
      "Validation Loss: 1.4866, Accuracy: 0.4684, F1 Score: 0.5435, Precision: 0.5000, Recall: 0.5952, ROC AUC: 0.4003\n",
      "Epoch [10/50], Loss: 0.1371\n",
      "Validation Loss: 1.5628, Accuracy: 0.5190, F1 Score: 0.5366, Precision: 0.5500, Recall: 0.5238, ROC AUC: 0.5122\n",
      "Epoch [11/50], Loss: 0.1218\n",
      "Validation Loss: 1.5482, Accuracy: 0.4937, F1 Score: 0.4872, Precision: 0.5278, Recall: 0.4524, ROC AUC: 0.5302\n",
      "Epoch [12/50], Loss: 0.1352\n",
      "Validation Loss: 1.6242, Accuracy: 0.5570, F1 Score: 0.5070, Precision: 0.6207, Recall: 0.4286, ROC AUC: 0.5734\n",
      "Epoch [13/50], Loss: 0.1323\n",
      "Validation Loss: 1.4400, Accuracy: 0.5823, F1 Score: 0.4762, Precision: 0.7143, Recall: 0.3571, ROC AUC: 0.6474\n",
      "Epoch [14/50], Loss: 0.1031\n",
      "Validation Loss: 1.3961, Accuracy: 0.5823, F1 Score: 0.5823, Precision: 0.6216, Recall: 0.5476, ROC AUC: 0.6287\n",
      "Epoch [15/50], Loss: 0.0763\n",
      "Validation Loss: 1.7853, Accuracy: 0.4810, F1 Score: 0.5176, Precision: 0.5116, Recall: 0.5238, ROC AUC: 0.5399\n",
      "Epoch [16/50], Loss: 0.0829\n",
      "Validation Loss: 1.4816, Accuracy: 0.5696, F1 Score: 0.5526, Precision: 0.6176, Recall: 0.5000, ROC AUC: 0.6338\n",
      "Epoch [17/50], Loss: 0.0829\n",
      "Validation Loss: 1.5478, Accuracy: 0.5823, F1 Score: 0.6207, Precision: 0.6000, Recall: 0.6429, ROC AUC: 0.5959\n",
      "Epoch [18/50], Loss: 0.1039\n",
      "Validation Loss: 1.4255, Accuracy: 0.6203, F1 Score: 0.6667, Precision: 0.6250, Recall: 0.7143, ROC AUC: 0.6918\n",
      "Epoch [19/50], Loss: 0.0693\n",
      "Validation Loss: 1.4969, Accuracy: 0.6329, F1 Score: 0.6813, Precision: 0.6327, Recall: 0.7381, ROC AUC: 0.7104\n",
      "Epoch [20/50], Loss: 0.0694\n",
      "Validation Loss: 1.6660, Accuracy: 0.6329, F1 Score: 0.6420, Precision: 0.6667, Recall: 0.6190, ROC AUC: 0.6892\n",
      "Epoch [21/50], Loss: 0.0633\n",
      "Validation Loss: 1.6553, Accuracy: 0.5696, F1 Score: 0.5750, Precision: 0.6053, Recall: 0.5476, ROC AUC: 0.6416\n",
      "Epoch [22/50], Loss: 0.0545\n",
      "Validation Loss: 1.5423, Accuracy: 0.6456, F1 Score: 0.6111, Precision: 0.7333, Recall: 0.5238, ROC AUC: 0.7046\n",
      "Epoch [23/50], Loss: 0.0533\n",
      "Validation Loss: 1.5329, Accuracy: 0.6329, F1 Score: 0.6329, Precision: 0.6757, Recall: 0.5952, ROC AUC: 0.6860\n",
      "Epoch [24/50], Loss: 0.0447\n",
      "Validation Loss: 1.6919, Accuracy: 0.6203, F1 Score: 0.6512, Precision: 0.6364, Recall: 0.6667, ROC AUC: 0.6557\n",
      "Epoch [25/50], Loss: 0.0423\n",
      "Validation Loss: 1.8687, Accuracy: 0.5949, F1 Score: 0.5676, Precision: 0.6562, Recall: 0.5000, ROC AUC: 0.6557\n",
      "Epoch [26/50], Loss: 0.0704\n",
      "Validation Loss: 1.5836, Accuracy: 0.6835, F1 Score: 0.6667, Precision: 0.7576, Recall: 0.5952, ROC AUC: 0.7066\n",
      "Epoch [27/50], Loss: 0.0537\n",
      "Validation Loss: 1.6141, Accuracy: 0.6582, F1 Score: 0.6824, Precision: 0.6744, Recall: 0.6905, ROC AUC: 0.7252\n",
      "Epoch [28/50], Loss: 0.0456\n",
      "Validation Loss: 1.6816, Accuracy: 0.6709, F1 Score: 0.6486, Precision: 0.7500, Recall: 0.5714, ROC AUC: 0.7400\n",
      "Epoch [29/50], Loss: 0.0317\n",
      "Validation Loss: 1.7611, Accuracy: 0.6709, F1 Score: 0.6286, Precision: 0.7857, Recall: 0.5238, ROC AUC: 0.7613\n",
      "Epoch [30/50], Loss: 0.0330\n",
      "Validation Loss: 1.4684, Accuracy: 0.7089, F1 Score: 0.7013, Precision: 0.7714, Recall: 0.6429, ROC AUC: 0.7806\n",
      "Epoch [31/50], Loss: 0.0220\n",
      "Validation Loss: 1.7500, Accuracy: 0.7215, F1 Score: 0.6944, Precision: 0.8333, Recall: 0.5952, ROC AUC: 0.7625\n",
      "Epoch [32/50], Loss: 0.0242\n",
      "Validation Loss: 1.7258, Accuracy: 0.6962, F1 Score: 0.6667, Precision: 0.8000, Recall: 0.5714, ROC AUC: 0.7535\n",
      "Epoch [33/50], Loss: 0.0095\n",
      "Validation Loss: 1.6533, Accuracy: 0.6835, F1 Score: 0.6988, Precision: 0.7073, Recall: 0.6905, ROC AUC: 0.7645\n",
      "Epoch [34/50], Loss: 0.0066\n",
      "Validation Loss: 1.7697, Accuracy: 0.6582, F1 Score: 0.6582, Precision: 0.7027, Recall: 0.6190, ROC AUC: 0.7535\n",
      "Epoch [35/50], Loss: 0.0140\n",
      "Validation Loss: 1.7360, Accuracy: 0.7215, F1 Score: 0.7179, Precision: 0.7778, Recall: 0.6667, ROC AUC: 0.7587\n",
      "Epoch [36/50], Loss: 0.0064\n",
      "Validation Loss: 1.8734, Accuracy: 0.6835, F1 Score: 0.6575, Precision: 0.7742, Recall: 0.5714, ROC AUC: 0.7503\n",
      "Early stopping triggered.\n",
      "Average Validation Accuracy for alpha: 0.3, lr: 0.01, momentum: 0.8: 0.6551\n",
      "Training alpha: 0.3, learning_rate: 0.01, momentum: 0.9\n",
      "Fold 1\n",
      "Epoch [1/50], Loss: 0.8600\n",
      "Validation Loss: 1.4652, Accuracy: 0.4375, F1 Score: 0.6018, Precision: 0.4304, Recall: 1.0000, ROC AUC: 0.5269\n",
      "Epoch [2/50], Loss: 0.4176\n",
      "Validation Loss: 1.3589, Accuracy: 0.5875, F1 Score: 0.2326, Precision: 0.5556, Recall: 0.1471, ROC AUC: 0.5486\n",
      "Epoch [3/50], Loss: 0.3147\n",
      "Validation Loss: 1.2554, Accuracy: 0.4500, F1 Score: 0.6000, Precision: 0.4342, Recall: 0.9706, ROC AUC: 0.5806\n",
      "Epoch [4/50], Loss: 0.2712\n",
      "Validation Loss: 1.2032, Accuracy: 0.5000, F1 Score: 0.5238, Precision: 0.4400, Recall: 0.6471, ROC AUC: 0.5185\n",
      "Epoch [5/50], Loss: 0.2735\n",
      "Validation Loss: 1.1547, Accuracy: 0.5500, F1 Score: 0.6170, Precision: 0.4833, Recall: 0.8529, ROC AUC: 0.6272\n",
      "Epoch [6/50], Loss: 0.2388\n",
      "Validation Loss: 1.2623, Accuracy: 0.5750, F1 Score: 0.6458, Precision: 0.5000, Recall: 0.9118, ROC AUC: 0.7685\n",
      "Epoch [7/50], Loss: 0.1999\n",
      "Validation Loss: 1.0975, Accuracy: 0.7125, F1 Score: 0.6667, Precision: 0.6571, Recall: 0.6765, ROC AUC: 0.8114\n",
      "Epoch [8/50], Loss: 0.2158\n",
      "Validation Loss: 1.1273, Accuracy: 0.7375, F1 Score: 0.6957, Precision: 0.6857, Recall: 0.7059, ROC AUC: 0.7756\n",
      "Epoch [9/50], Loss: 0.1852\n",
      "Validation Loss: 1.0515, Accuracy: 0.6625, F1 Score: 0.6747, Precision: 0.5714, Recall: 0.8235, ROC AUC: 0.7992\n",
      "Epoch [10/50], Loss: 0.1445\n",
      "Validation Loss: 1.0003, Accuracy: 0.7375, F1 Score: 0.6866, Precision: 0.6970, Recall: 0.6765, ROC AUC: 0.8376\n",
      "Epoch [11/50], Loss: 0.1582\n",
      "Validation Loss: 1.4306, Accuracy: 0.7000, F1 Score: 0.6571, Precision: 0.6389, Recall: 0.6765, ROC AUC: 0.7347\n",
      "Epoch [12/50], Loss: 0.1873\n",
      "Validation Loss: 1.2818, Accuracy: 0.7750, F1 Score: 0.7000, Precision: 0.8077, Recall: 0.6176, ROC AUC: 0.8376\n",
      "Epoch [13/50], Loss: 0.2042\n",
      "Validation Loss: 0.9694, Accuracy: 0.6625, F1 Score: 0.7097, Precision: 0.5593, Recall: 0.9706, ROC AUC: 0.9015\n",
      "Epoch [14/50], Loss: 0.1394\n",
      "Validation Loss: 0.7897, Accuracy: 0.8000, F1 Score: 0.8000, Precision: 0.6957, Recall: 0.9412, ROC AUC: 0.9201\n",
      "Epoch [15/50], Loss: 0.1137\n",
      "Validation Loss: 0.8467, Accuracy: 0.8125, F1 Score: 0.7761, Precision: 0.7879, Recall: 0.7647, ROC AUC: 0.9207\n",
      "Epoch [16/50], Loss: 0.1092\n",
      "Validation Loss: 0.7413, Accuracy: 0.8250, F1 Score: 0.8250, Precision: 0.7174, Recall: 0.9706, ROC AUC: 0.9188\n",
      "Epoch [17/50], Loss: 0.1183\n",
      "Validation Loss: 0.8910, Accuracy: 0.8250, F1 Score: 0.8056, Precision: 0.7632, Recall: 0.8529, ROC AUC: 0.9124\n",
      "Epoch [18/50], Loss: 0.0999\n",
      "Validation Loss: 0.9220, Accuracy: 0.8250, F1 Score: 0.8000, Precision: 0.7778, Recall: 0.8235, ROC AUC: 0.9028\n",
      "Epoch [19/50], Loss: 0.1060\n",
      "Validation Loss: 0.9946, Accuracy: 0.7500, F1 Score: 0.7561, Precision: 0.6458, Recall: 0.9118, ROC AUC: 0.8919\n",
      "Epoch [20/50], Loss: 0.0641\n",
      "Validation Loss: 0.8791, Accuracy: 0.8000, F1 Score: 0.8049, Precision: 0.6875, Recall: 0.9706, ROC AUC: 0.9130\n",
      "Epoch [21/50], Loss: 0.0444\n",
      "Validation Loss: 1.1277, Accuracy: 0.8500, F1 Score: 0.8462, Precision: 0.7500, Recall: 0.9706, ROC AUC: 0.8728\n",
      "Epoch [22/50], Loss: 0.0584\n",
      "Validation Loss: 1.2496, Accuracy: 0.8125, F1 Score: 0.7761, Precision: 0.7879, Recall: 0.7647, ROC AUC: 0.9022\n",
      "Epoch [23/50], Loss: 0.0965\n",
      "Validation Loss: 1.2980, Accuracy: 0.7750, F1 Score: 0.7907, Precision: 0.6538, Recall: 1.0000, ROC AUC: 0.8894\n",
      "Epoch [24/50], Loss: 0.0863\n",
      "Validation Loss: 0.8242, Accuracy: 0.8625, F1 Score: 0.8493, Precision: 0.7949, Recall: 0.9118, ROC AUC: 0.9488\n",
      "Epoch [25/50], Loss: 0.0572\n",
      "Validation Loss: 1.0492, Accuracy: 0.8250, F1 Score: 0.7941, Precision: 0.7941, Recall: 0.7941, ROC AUC: 0.8971\n",
      "Epoch [26/50], Loss: 0.0914\n",
      "Validation Loss: 0.8217, Accuracy: 0.8625, F1 Score: 0.8571, Precision: 0.7674, Recall: 0.9706, ROC AUC: 0.9233\n",
      "Epoch [27/50], Loss: 0.0470\n",
      "Validation Loss: 0.7457, Accuracy: 0.8250, F1 Score: 0.8108, Precision: 0.7500, Recall: 0.8824, ROC AUC: 0.9105\n",
      "Epoch [28/50], Loss: 0.0544\n",
      "Validation Loss: 0.7404, Accuracy: 0.8750, F1 Score: 0.8649, Precision: 0.8000, Recall: 0.9412, ROC AUC: 0.9277\n",
      "Epoch [29/50], Loss: 0.0258\n",
      "Validation Loss: 0.5791, Accuracy: 0.9000, F1 Score: 0.8947, Precision: 0.8095, Recall: 1.0000, ROC AUC: 0.9533\n",
      "Epoch [30/50], Loss: 0.0302\n",
      "Validation Loss: 0.8951, Accuracy: 0.8500, F1 Score: 0.8378, Precision: 0.7750, Recall: 0.9118, ROC AUC: 0.9098\n",
      "Epoch [31/50], Loss: 0.0574\n",
      "Validation Loss: 0.7883, Accuracy: 0.8500, F1 Score: 0.8421, Precision: 0.7619, Recall: 0.9412, ROC AUC: 0.9322\n",
      "Epoch [32/50], Loss: 0.0248\n",
      "Validation Loss: 0.7956, Accuracy: 0.8875, F1 Score: 0.8657, Precision: 0.8788, Recall: 0.8529, ROC AUC: 0.9309\n",
      "Epoch [33/50], Loss: 0.0320\n",
      "Validation Loss: 0.6865, Accuracy: 0.8875, F1 Score: 0.8767, Precision: 0.8205, Recall: 0.9412, ROC AUC: 0.9488\n",
      "Epoch [34/50], Loss: 0.0117\n",
      "Validation Loss: 0.7936, Accuracy: 0.8625, F1 Score: 0.8571, Precision: 0.7674, Recall: 0.9706, ROC AUC: 0.9380\n",
      "Early stopping triggered.\n",
      "Fold 2\n",
      "Epoch [1/50], Loss: 0.8676\n",
      "Validation Loss: 1.5896, Accuracy: 0.3875, F1 Score: 0.4615, Precision: 0.4038, Recall: 0.5385, ROC AUC: 0.3390\n",
      "Epoch [2/50], Loss: 0.4218\n",
      "Validation Loss: 1.4848, Accuracy: 0.5000, F1 Score: 0.6154, Precision: 0.4923, Recall: 0.8205, ROC AUC: 0.4722\n",
      "Epoch [3/50], Loss: 0.3257\n",
      "Validation Loss: 1.4482, Accuracy: 0.5125, F1 Score: 0.6286, Precision: 0.5000, Recall: 0.8462, ROC AUC: 0.5266\n",
      "Epoch [4/50], Loss: 0.2929\n",
      "Validation Loss: 1.3278, Accuracy: 0.5500, F1 Score: 0.5714, Precision: 0.5333, Recall: 0.6154, ROC AUC: 0.6066\n",
      "Epoch [5/50], Loss: 0.2791\n",
      "Validation Loss: 1.5354, Accuracy: 0.6000, F1 Score: 0.6279, Precision: 0.5745, Recall: 0.6923, ROC AUC: 0.6298\n",
      "Epoch [6/50], Loss: 0.2489\n",
      "Validation Loss: 1.3402, Accuracy: 0.6375, F1 Score: 0.6027, Precision: 0.6471, Recall: 0.5641, ROC AUC: 0.7073\n",
      "Epoch [7/50], Loss: 0.2245\n",
      "Validation Loss: 1.4475, Accuracy: 0.5500, F1 Score: 0.6000, Precision: 0.5294, Recall: 0.6923, ROC AUC: 0.6535\n",
      "Epoch [8/50], Loss: 0.2257\n",
      "Validation Loss: 1.6849, Accuracy: 0.6625, F1 Score: 0.5970, Precision: 0.7143, Recall: 0.5128, ROC AUC: 0.6898\n",
      "Epoch [9/50], Loss: 0.2013\n",
      "Validation Loss: 1.3185, Accuracy: 0.6625, F1 Score: 0.6824, Precision: 0.6304, Recall: 0.7436, ROC AUC: 0.7624\n",
      "Epoch [10/50], Loss: 0.1564\n",
      "Validation Loss: 1.2150, Accuracy: 0.8250, F1 Score: 0.8250, Precision: 0.8049, Recall: 0.8462, ROC AUC: 0.8637\n",
      "Epoch [11/50], Loss: 0.1749\n",
      "Validation Loss: 1.4099, Accuracy: 0.7125, F1 Score: 0.7160, Precision: 0.6905, Recall: 0.7436, ROC AUC: 0.7755\n",
      "Epoch [12/50], Loss: 0.1387\n",
      "Validation Loss: 1.2874, Accuracy: 0.7000, F1 Score: 0.6667, Precision: 0.7273, Recall: 0.6154, ROC AUC: 0.8018\n",
      "Epoch [13/50], Loss: 0.1417\n",
      "Validation Loss: 1.2819, Accuracy: 0.7500, F1 Score: 0.7297, Precision: 0.7714, Recall: 0.6923, ROC AUC: 0.8049\n",
      "Epoch [14/50], Loss: 0.1108\n",
      "Validation Loss: 1.1721, Accuracy: 0.8000, F1 Score: 0.8049, Precision: 0.7674, Recall: 0.8462, ROC AUC: 0.8605\n",
      "Epoch [15/50], Loss: 0.0811\n",
      "Validation Loss: 1.7442, Accuracy: 0.6750, F1 Score: 0.5517, Precision: 0.8421, Recall: 0.4103, ROC AUC: 0.7949\n",
      "Early stopping triggered.\n",
      "Fold 3\n",
      "Epoch [1/50], Loss: 0.8699\n",
      "Validation Loss: 1.6599, Accuracy: 0.5063, F1 Score: 0.6549, Precision: 0.5211, Recall: 0.8810, ROC AUC: 0.4820\n",
      "Epoch [2/50], Loss: 0.4462\n",
      "Validation Loss: 1.3941, Accuracy: 0.4684, F1 Score: 0.0000, Precision: 0.0000, Recall: 0.0000, ROC AUC: 0.5463\n"
     ]
    },
    {
     "name": "stderr",
     "output_type": "stream",
     "text": [
      "/home/sadat/miniconda3/envs/cs721/lib/python3.8/site-packages/sklearn/metrics/_classification.py:1471: UndefinedMetricWarning: Precision is ill-defined and being set to 0.0 due to no predicted samples. Use `zero_division` parameter to control this behavior.\n",
      "  _warn_prf(average, modifier, msg_start, len(result))\n"
     ]
    },
    {
     "name": "stdout",
     "output_type": "stream",
     "text": [
      "Epoch [3/50], Loss: 0.3392\n",
      "Validation Loss: 1.3368, Accuracy: 0.5063, F1 Score: 0.4179, Precision: 0.5600, Recall: 0.3333, ROC AUC: 0.5097\n",
      "Epoch [4/50], Loss: 0.2924\n",
      "Validation Loss: 1.3532, Accuracy: 0.5823, F1 Score: 0.4590, Precision: 0.7368, Recall: 0.3333, ROC AUC: 0.6030\n",
      "Epoch [5/50], Loss: 0.2772\n",
      "Validation Loss: 1.3351, Accuracy: 0.5316, F1 Score: 0.5432, Precision: 0.5641, Recall: 0.5238, ROC AUC: 0.5721\n",
      "Epoch [6/50], Loss: 0.2543\n",
      "Validation Loss: 1.3793, Accuracy: 0.5823, F1 Score: 0.6118, Precision: 0.6047, Recall: 0.6190, ROC AUC: 0.6088\n",
      "Epoch [7/50], Loss: 0.2280\n",
      "Validation Loss: 1.5769, Accuracy: 0.5949, F1 Score: 0.6444, Precision: 0.6042, Recall: 0.6905, ROC AUC: 0.5476\n",
      "Epoch [8/50], Loss: 0.2286\n",
      "Validation Loss: 1.2905, Accuracy: 0.5949, F1 Score: 0.6190, Precision: 0.6190, Recall: 0.6190, ROC AUC: 0.7001\n",
      "Epoch [9/50], Loss: 0.1840\n",
      "Validation Loss: 1.2851, Accuracy: 0.7215, F1 Score: 0.7609, Precision: 0.7000, Recall: 0.8333, ROC AUC: 0.7439\n",
      "Epoch [10/50], Loss: 0.1707\n",
      "Validation Loss: 1.3750, Accuracy: 0.6709, F1 Score: 0.6486, Precision: 0.7500, Recall: 0.5714, ROC AUC: 0.7799\n",
      "Epoch [11/50], Loss: 0.1537\n",
      "Validation Loss: 1.4970, Accuracy: 0.6582, F1 Score: 0.7273, Precision: 0.6316, Recall: 0.8571, ROC AUC: 0.7452\n",
      "Epoch [12/50], Loss: 0.1388\n",
      "Validation Loss: 1.2948, Accuracy: 0.7215, F1 Score: 0.7556, Precision: 0.7083, Recall: 0.8095, ROC AUC: 0.8224\n",
      "Epoch [13/50], Loss: 0.1086\n",
      "Validation Loss: 1.2545, Accuracy: 0.6962, F1 Score: 0.7273, Precision: 0.6957, Recall: 0.7619, ROC AUC: 0.8095\n",
      "Epoch [14/50], Loss: 0.0987\n",
      "Validation Loss: 1.2485, Accuracy: 0.7722, F1 Score: 0.7500, Precision: 0.9000, Recall: 0.6429, ROC AUC: 0.8481\n",
      "Epoch [15/50], Loss: 0.0819\n",
      "Validation Loss: 1.9217, Accuracy: 0.7089, F1 Score: 0.7356, Precision: 0.7111, Recall: 0.7619, ROC AUC: 0.7471\n",
      "Epoch [16/50], Loss: 0.1567\n",
      "Validation Loss: 1.6618, Accuracy: 0.6962, F1 Score: 0.6129, Precision: 0.9500, Recall: 0.4524, ROC AUC: 0.8140\n",
      "Epoch [17/50], Loss: 0.1416\n",
      "Validation Loss: 1.6048, Accuracy: 0.6962, F1 Score: 0.6923, Precision: 0.7500, Recall: 0.6429, ROC AUC: 0.7934\n",
      "Epoch [18/50], Loss: 0.0858\n",
      "Validation Loss: 1.2601, Accuracy: 0.7722, F1 Score: 0.7632, Precision: 0.8529, Recall: 0.6905, ROC AUC: 0.8616\n",
      "Epoch [19/50], Loss: 0.0895\n",
      "Validation Loss: 1.5726, Accuracy: 0.7595, F1 Score: 0.7654, Precision: 0.7949, Recall: 0.7381, ROC AUC: 0.8147\n",
      "Early stopping triggered.\n",
      "Fold 4\n",
      "Epoch [1/50], Loss: 0.8934\n",
      "Validation Loss: 1.5057, Accuracy: 0.4937, F1 Score: 0.4595, Precision: 0.5152, Recall: 0.4146, ROC AUC: 0.5083\n",
      "Epoch [2/50], Loss: 0.4213\n",
      "Validation Loss: 1.3492, Accuracy: 0.5190, F1 Score: 0.6122, Precision: 0.5263, Recall: 0.7317, ROC AUC: 0.4865\n",
      "Epoch [3/50], Loss: 0.3306\n",
      "Validation Loss: 1.3218, Accuracy: 0.4937, F1 Score: 0.2857, Precision: 0.5333, Recall: 0.1951, ROC AUC: 0.4236\n",
      "Epoch [4/50], Loss: 0.2907\n",
      "Validation Loss: 1.3363, Accuracy: 0.4810, F1 Score: 0.6372, Precision: 0.5000, Recall: 0.8780, ROC AUC: 0.3838\n",
      "Epoch [5/50], Loss: 0.2711\n",
      "Validation Loss: 1.4423, Accuracy: 0.4937, F1 Score: 0.2000, Precision: 0.5556, Recall: 0.1220, ROC AUC: 0.5327\n",
      "Epoch [6/50], Loss: 0.2500\n",
      "Validation Loss: 1.4421, Accuracy: 0.5316, F1 Score: 0.5934, Precision: 0.5400, Recall: 0.6585, ROC AUC: 0.5603\n",
      "Epoch [7/50], Loss: 0.2098\n",
      "Validation Loss: 1.4353, Accuracy: 0.5316, F1 Score: 0.5747, Precision: 0.5435, Recall: 0.6098, ROC AUC: 0.5642\n",
      "Epoch [8/50], Loss: 0.2182\n",
      "Validation Loss: 1.5169, Accuracy: 0.6076, F1 Score: 0.6737, Precision: 0.5926, Recall: 0.7805, ROC AUC: 0.6033\n",
      "Epoch [9/50], Loss: 0.2213\n",
      "Validation Loss: 1.6999, Accuracy: 0.5443, F1 Score: 0.4706, Precision: 0.5926, Recall: 0.3902, ROC AUC: 0.5610\n",
      "Epoch [10/50], Loss: 0.1453\n",
      "Validation Loss: 1.4523, Accuracy: 0.6076, F1 Score: 0.6667, Precision: 0.5962, Recall: 0.7561, ROC AUC: 0.6682\n",
      "Epoch [11/50], Loss: 0.1318\n",
      "Validation Loss: 1.5672, Accuracy: 0.6582, F1 Score: 0.6966, Precision: 0.6458, Recall: 0.7561, ROC AUC: 0.6816\n",
      "Epoch [12/50], Loss: 0.1929\n",
      "Validation Loss: 1.6184, Accuracy: 0.6076, F1 Score: 0.5079, Precision: 0.7273, Recall: 0.3902, ROC AUC: 0.7112\n",
      "Epoch [13/50], Loss: 0.1941\n",
      "Validation Loss: 1.4774, Accuracy: 0.6709, F1 Score: 0.6667, Precision: 0.7027, Recall: 0.6341, ROC AUC: 0.6887\n",
      "Epoch [14/50], Loss: 0.1451\n",
      "Validation Loss: 1.5794, Accuracy: 0.6456, F1 Score: 0.6000, Precision: 0.7241, Recall: 0.5122, ROC AUC: 0.6900\n",
      "Epoch [15/50], Loss: 0.2069\n",
      "Validation Loss: 1.4808, Accuracy: 0.6329, F1 Score: 0.6506, Precision: 0.6429, Recall: 0.6585, ROC AUC: 0.7272\n",
      "Epoch [16/50], Loss: 0.1889\n",
      "Validation Loss: 1.4625, Accuracy: 0.6582, F1 Score: 0.7379, Precision: 0.6129, Recall: 0.9268, ROC AUC: 0.7176\n",
      "Epoch [17/50], Loss: 0.1914\n",
      "Validation Loss: 1.6305, Accuracy: 0.6329, F1 Score: 0.5085, Precision: 0.8333, Recall: 0.3659, ROC AUC: 0.7497\n",
      "Epoch [18/50], Loss: 0.1284\n",
      "Validation Loss: 1.2178, Accuracy: 0.6456, F1 Score: 0.5333, Precision: 0.8421, Recall: 0.3902, ROC AUC: 0.8434\n",
      "Early stopping triggered.\n",
      "Fold 5\n",
      "Epoch [1/50], Loss: 0.8448\n",
      "Validation Loss: 1.5122, Accuracy: 0.5190, F1 Score: 0.4242, Precision: 0.5833, Recall: 0.3333, ROC AUC: 0.4833\n",
      "Epoch [2/50], Loss: 0.4261\n",
      "Validation Loss: 1.6825, Accuracy: 0.4430, F1 Score: 0.0000, Precision: 0.0000, Recall: 0.0000, ROC AUC: 0.4833\n",
      "Epoch [3/50], Loss: 0.3334\n",
      "Validation Loss: 1.2669, Accuracy: 0.5316, F1 Score: 0.6838, Precision: 0.5333, Recall: 0.9524, ROC AUC: 0.5058\n",
      "Epoch [4/50], Loss: 0.2755\n",
      "Validation Loss: 1.2601, Accuracy: 0.5316, F1 Score: 0.5747, Precision: 0.5556, Recall: 0.5952, ROC AUC: 0.5875\n",
      "Epoch [5/50], Loss: 0.2644\n",
      "Validation Loss: 1.3409, Accuracy: 0.5696, F1 Score: 0.5278, Precision: 0.6333, Recall: 0.4524, ROC AUC: 0.5631\n",
      "Epoch [6/50], Loss: 0.2322\n",
      "Validation Loss: 1.4066, Accuracy: 0.5190, F1 Score: 0.5000, Precision: 0.5588, Recall: 0.4524, ROC AUC: 0.5663\n",
      "Epoch [7/50], Loss: 0.2298\n",
      "Validation Loss: 1.3914, Accuracy: 0.5823, F1 Score: 0.5217, Precision: 0.6667, Recall: 0.4286, ROC AUC: 0.6326\n",
      "Epoch [8/50], Loss: 0.2081\n",
      "Validation Loss: 1.1907, Accuracy: 0.6835, F1 Score: 0.7312, Precision: 0.6667, Recall: 0.8095, ROC AUC: 0.6892\n",
      "Epoch [9/50], Loss: 0.1671\n",
      "Validation Loss: 1.2658, Accuracy: 0.6456, F1 Score: 0.6585, Precision: 0.6750, Recall: 0.6429, ROC AUC: 0.6847\n",
      "Epoch [10/50], Loss: 0.1698\n",
      "Validation Loss: 1.1375, Accuracy: 0.6709, F1 Score: 0.7111, Precision: 0.6667, Recall: 0.7619, ROC AUC: 0.7407\n",
      "Epoch [11/50], Loss: 0.1948\n",
      "Validation Loss: 1.4322, Accuracy: 0.5823, F1 Score: 0.5714, Precision: 0.6286, Recall: 0.5238, ROC AUC: 0.6332\n",
      "Epoch [12/50], Loss: 0.1746\n",
      "Validation Loss: 1.3959, Accuracy: 0.6709, F1 Score: 0.6176, Precision: 0.8077, Recall: 0.5000, ROC AUC: 0.7207\n",
      "Epoch [13/50], Loss: 0.1321\n",
      "Validation Loss: 1.3969, Accuracy: 0.7089, F1 Score: 0.7527, Precision: 0.6863, Recall: 0.8333, ROC AUC: 0.7510\n",
      "Epoch [14/50], Loss: 0.1657\n",
      "Validation Loss: 1.5398, Accuracy: 0.6076, F1 Score: 0.5753, Precision: 0.6774, Recall: 0.5000, ROC AUC: 0.6345\n",
      "Epoch [15/50], Loss: 0.1822\n",
      "Validation Loss: 1.2772, Accuracy: 0.6456, F1 Score: 0.6000, Precision: 0.7500, Recall: 0.5000, ROC AUC: 0.7394\n",
      "Epoch [16/50], Loss: 0.1347\n",
      "Validation Loss: 1.4110, Accuracy: 0.6329, F1 Score: 0.6329, Precision: 0.6757, Recall: 0.5952, ROC AUC: 0.7368\n",
      "Epoch [17/50], Loss: 0.0608\n",
      "Validation Loss: 1.3161, Accuracy: 0.6456, F1 Score: 0.6410, Precision: 0.6944, Recall: 0.5952, ROC AUC: 0.7748\n",
      "Epoch [18/50], Loss: 0.0604\n",
      "Validation Loss: 1.5219, Accuracy: 0.7342, F1 Score: 0.6957, Precision: 0.8889, Recall: 0.5714, ROC AUC: 0.8295\n",
      "Epoch [19/50], Loss: 0.1189\n",
      "Validation Loss: 1.5393, Accuracy: 0.6582, F1 Score: 0.5714, Precision: 0.8571, Recall: 0.4286, ROC AUC: 0.8082\n",
      "Epoch [20/50], Loss: 0.0812\n",
      "Validation Loss: 1.3165, Accuracy: 0.7595, F1 Score: 0.7765, Precision: 0.7674, Recall: 0.7857, ROC AUC: 0.8333\n",
      "Epoch [21/50], Loss: 0.0804\n",
      "Validation Loss: 1.4309, Accuracy: 0.7722, F1 Score: 0.7353, Precision: 0.9615, Recall: 0.5952, ROC AUC: 0.8385\n",
      "Epoch [22/50], Loss: 0.0586\n",
      "Validation Loss: 1.3678, Accuracy: 0.7468, F1 Score: 0.7436, Precision: 0.8056, Recall: 0.6905, ROC AUC: 0.8314\n",
      "Epoch [23/50], Loss: 0.0630\n",
      "Validation Loss: 1.5727, Accuracy: 0.7089, F1 Score: 0.7229, Precision: 0.7317, Recall: 0.7143, ROC AUC: 0.7754\n",
      "Epoch [24/50], Loss: 0.0657\n",
      "Validation Loss: 1.7107, Accuracy: 0.7089, F1 Score: 0.7294, Precision: 0.7209, Recall: 0.7381, ROC AUC: 0.7812\n",
      "Epoch [25/50], Loss: 0.0531\n",
      "Validation Loss: 1.5760, Accuracy: 0.7215, F1 Score: 0.6944, Precision: 0.8333, Recall: 0.5952, ROC AUC: 0.7786\n",
      "Epoch [26/50], Loss: 0.0692\n",
      "Validation Loss: 1.6271, Accuracy: 0.7089, F1 Score: 0.7229, Precision: 0.7317, Recall: 0.7143, ROC AUC: 0.7561\n",
      "Early stopping triggered.\n",
      "Average Validation Accuracy for alpha: 0.3, lr: 0.01, momentum: 0.9: 0.7303\n",
      "Training alpha: 0.3, learning_rate: 0.1, momentum: 0.5\n",
      "Fold 1\n",
      "Epoch [1/50], Loss: 0.9448\n",
      "Validation Loss: 2.6155, Accuracy: 0.5750, F1 Score: 0.0000, Precision: 0.0000, Recall: 0.0000, ROC AUC: 0.5288\n"
     ]
    },
    {
     "name": "stderr",
     "output_type": "stream",
     "text": [
      "/home/sadat/miniconda3/envs/cs721/lib/python3.8/site-packages/sklearn/metrics/_classification.py:1471: UndefinedMetricWarning: Precision is ill-defined and being set to 0.0 due to no predicted samples. Use `zero_division` parameter to control this behavior.\n",
      "  _warn_prf(average, modifier, msg_start, len(result))\n"
     ]
    },
    {
     "name": "stdout",
     "output_type": "stream",
     "text": [
      "Epoch [2/50], Loss: 0.4855\n",
      "Validation Loss: 1.0076, Accuracy: 0.4250, F1 Score: 0.5965, Precision: 0.4250, Recall: 1.0000, ROC AUC: 0.3836\n",
      "Epoch [3/50], Loss: 0.2545\n",
      "Validation Loss: 0.7821, Accuracy: 0.4250, F1 Score: 0.5965, Precision: 0.4250, Recall: 1.0000, ROC AUC: 0.4258\n",
      "Epoch [4/50], Loss: 0.2251\n",
      "Validation Loss: 0.7826, Accuracy: 0.5750, F1 Score: 0.0000, Precision: 0.0000, Recall: 0.0000, ROC AUC: 0.5345\n"
     ]
    },
    {
     "name": "stderr",
     "output_type": "stream",
     "text": [
      "/home/sadat/miniconda3/envs/cs721/lib/python3.8/site-packages/sklearn/metrics/_classification.py:1471: UndefinedMetricWarning: Precision is ill-defined and being set to 0.0 due to no predicted samples. Use `zero_division` parameter to control this behavior.\n",
      "  _warn_prf(average, modifier, msg_start, len(result))\n"
     ]
    },
    {
     "name": "stdout",
     "output_type": "stream",
     "text": [
      "Epoch [5/50], Loss: 0.2165\n",
      "Validation Loss: 0.7764, Accuracy: 0.5750, F1 Score: 0.0000, Precision: 0.0000, Recall: 0.0000, ROC AUC: 0.4540\n"
     ]
    },
    {
     "name": "stderr",
     "output_type": "stream",
     "text": [
      "/home/sadat/miniconda3/envs/cs721/lib/python3.8/site-packages/sklearn/metrics/_classification.py:1471: UndefinedMetricWarning: Precision is ill-defined and being set to 0.0 due to no predicted samples. Use `zero_division` parameter to control this behavior.\n",
      "  _warn_prf(average, modifier, msg_start, len(result))\n"
     ]
    },
    {
     "name": "stdout",
     "output_type": "stream",
     "text": [
      "Epoch [6/50], Loss: 0.2125\n",
      "Validation Loss: 0.7739, Accuracy: 0.5750, F1 Score: 0.0000, Precision: 0.0000, Recall: 0.0000, ROC AUC: 0.4776\n",
      "Early stopping triggered.\n",
      "Fold 2\n"
     ]
    },
    {
     "name": "stderr",
     "output_type": "stream",
     "text": [
      "/home/sadat/miniconda3/envs/cs721/lib/python3.8/site-packages/sklearn/metrics/_classification.py:1471: UndefinedMetricWarning: Precision is ill-defined and being set to 0.0 due to no predicted samples. Use `zero_division` parameter to control this behavior.\n",
      "  _warn_prf(average, modifier, msg_start, len(result))\n"
     ]
    },
    {
     "name": "stdout",
     "output_type": "stream",
     "text": [
      "Epoch [1/50], Loss: 0.9732\n",
      "Validation Loss: 3.3192, Accuracy: 0.4750, F1 Score: 0.3636, Precision: 0.4444, Recall: 0.3077, ROC AUC: 0.4334\n",
      "Epoch [2/50], Loss: 0.4244\n",
      "Validation Loss: 1.3093, Accuracy: 0.4750, F1 Score: 0.6441, Precision: 0.4810, Recall: 0.9744, ROC AUC: 0.3927\n",
      "Epoch [3/50], Loss: 0.2583\n",
      "Validation Loss: 0.7578, Accuracy: 0.4875, F1 Score: 0.6555, Precision: 0.4875, Recall: 1.0000, ROC AUC: 0.4847\n",
      "Epoch [4/50], Loss: 0.2318\n",
      "Validation Loss: 0.7248, Accuracy: 0.4875, F1 Score: 0.6555, Precision: 0.4875, Recall: 1.0000, ROC AUC: 0.4534\n",
      "Epoch [5/50], Loss: 0.2363\n",
      "Validation Loss: 0.7351, Accuracy: 0.4625, F1 Score: 0.0444, Precision: 0.1667, Recall: 0.0256, ROC AUC: 0.3446\n",
      "Epoch [6/50], Loss: 0.2253\n",
      "Validation Loss: 0.7348, Accuracy: 0.4875, F1 Score: 0.6555, Precision: 0.4875, Recall: 1.0000, ROC AUC: 0.3618\n",
      "Epoch [7/50], Loss: 0.2223\n",
      "Validation Loss: 0.7288, Accuracy: 0.5125, F1 Score: 0.0000, Precision: 0.0000, Recall: 0.0000, ROC AUC: 0.3684\n"
     ]
    },
    {
     "name": "stderr",
     "output_type": "stream",
     "text": [
      "/home/sadat/miniconda3/envs/cs721/lib/python3.8/site-packages/sklearn/metrics/_classification.py:1471: UndefinedMetricWarning: Precision is ill-defined and being set to 0.0 due to no predicted samples. Use `zero_division` parameter to control this behavior.\n",
      "  _warn_prf(average, modifier, msg_start, len(result))\n"
     ]
    },
    {
     "name": "stdout",
     "output_type": "stream",
     "text": [
      "Epoch [8/50], Loss: 0.2181\n",
      "Validation Loss: 0.7148, Accuracy: 0.4875, F1 Score: 0.6555, Precision: 0.4875, Recall: 1.0000, ROC AUC: 0.4365\n",
      "Epoch [9/50], Loss: 0.2171\n",
      "Validation Loss: 0.7083, Accuracy: 0.4875, F1 Score: 0.6555, Precision: 0.4875, Recall: 1.0000, ROC AUC: 0.4478\n",
      "Epoch [10/50], Loss: 0.2155\n",
      "Validation Loss: 0.7408, Accuracy: 0.5125, F1 Score: 0.0000, Precision: 0.0000, Recall: 0.0000, ROC AUC: 0.5360\n"
     ]
    },
    {
     "name": "stderr",
     "output_type": "stream",
     "text": [
      "/home/sadat/miniconda3/envs/cs721/lib/python3.8/site-packages/sklearn/metrics/_classification.py:1471: UndefinedMetricWarning: Precision is ill-defined and being set to 0.0 due to no predicted samples. Use `zero_division` parameter to control this behavior.\n",
      "  _warn_prf(average, modifier, msg_start, len(result))\n"
     ]
    },
    {
     "name": "stdout",
     "output_type": "stream",
     "text": [
      "Epoch [11/50], Loss: 0.2140\n",
      "Validation Loss: 0.7098, Accuracy: 0.4875, F1 Score: 0.6555, Precision: 0.4875, Recall: 1.0000, ROC AUC: 0.4590\n",
      "Epoch [12/50], Loss: 0.2130\n",
      "Validation Loss: 0.7112, Accuracy: 0.4875, F1 Score: 0.6555, Precision: 0.4875, Recall: 1.0000, ROC AUC: 0.4353\n",
      "Early stopping triggered.\n",
      "Fold 3\n",
      "Epoch [1/50], Loss: 0.9804\n",
      "Validation Loss: 8.1825, Accuracy: 0.4810, F1 Score: 0.0465, Precision: 1.0000, Recall: 0.0238, ROC AUC: 0.4987\n",
      "Epoch [2/50], Loss: 0.5299\n",
      "Validation Loss: 1.0227, Accuracy: 0.4684, F1 Score: 0.0000, Precision: 0.0000, Recall: 0.0000, ROC AUC: 0.4743\n"
     ]
    },
    {
     "name": "stderr",
     "output_type": "stream",
     "text": [
      "/home/sadat/miniconda3/envs/cs721/lib/python3.8/site-packages/sklearn/metrics/_classification.py:1471: UndefinedMetricWarning: Precision is ill-defined and being set to 0.0 due to no predicted samples. Use `zero_division` parameter to control this behavior.\n",
      "  _warn_prf(average, modifier, msg_start, len(result))\n"
     ]
    },
    {
     "name": "stdout",
     "output_type": "stream",
     "text": [
      "Epoch [3/50], Loss: 0.2731\n",
      "Validation Loss: 0.8297, Accuracy: 0.4684, F1 Score: 0.0000, Precision: 0.0000, Recall: 0.0000, ROC AUC: 0.5373\n"
     ]
    },
    {
     "name": "stderr",
     "output_type": "stream",
     "text": [
      "/home/sadat/miniconda3/envs/cs721/lib/python3.8/site-packages/sklearn/metrics/_classification.py:1471: UndefinedMetricWarning: Precision is ill-defined and being set to 0.0 due to no predicted samples. Use `zero_division` parameter to control this behavior.\n",
      "  _warn_prf(average, modifier, msg_start, len(result))\n"
     ]
    },
    {
     "name": "stdout",
     "output_type": "stream",
     "text": [
      "Epoch [4/50], Loss: 0.2369\n",
      "Validation Loss: 0.8316, Accuracy: 0.4684, F1 Score: 0.0000, Precision: 0.0000, Recall: 0.0000, ROC AUC: 0.3906\n"
     ]
    },
    {
     "name": "stderr",
     "output_type": "stream",
     "text": [
      "/home/sadat/miniconda3/envs/cs721/lib/python3.8/site-packages/sklearn/metrics/_classification.py:1471: UndefinedMetricWarning: Precision is ill-defined and being set to 0.0 due to no predicted samples. Use `zero_division` parameter to control this behavior.\n",
      "  _warn_prf(average, modifier, msg_start, len(result))\n"
     ]
    },
    {
     "name": "stdout",
     "output_type": "stream",
     "text": [
      "Epoch [5/50], Loss: 0.2247\n",
      "Validation Loss: 0.8106, Accuracy: 0.4810, F1 Score: 0.3881, Precision: 0.5200, Recall: 0.3095, ROC AUC: 0.4781\n",
      "Epoch [6/50], Loss: 0.2181\n",
      "Validation Loss: 0.7567, Accuracy: 0.5316, F1 Score: 0.6942, Precision: 0.5316, Recall: 1.0000, ROC AUC: 0.5129\n",
      "Epoch [7/50], Loss: 0.2118\n",
      "Validation Loss: 0.7763, Accuracy: 0.4684, F1 Score: 0.0000, Precision: 0.0000, Recall: 0.0000, ROC AUC: 0.4028\n"
     ]
    },
    {
     "name": "stderr",
     "output_type": "stream",
     "text": [
      "/home/sadat/miniconda3/envs/cs721/lib/python3.8/site-packages/sklearn/metrics/_classification.py:1471: UndefinedMetricWarning: Precision is ill-defined and being set to 0.0 due to no predicted samples. Use `zero_division` parameter to control this behavior.\n",
      "  _warn_prf(average, modifier, msg_start, len(result))\n"
     ]
    },
    {
     "name": "stdout",
     "output_type": "stream",
     "text": [
      "Epoch [8/50], Loss: 0.2113\n",
      "Validation Loss: 0.7630, Accuracy: 0.5316, F1 Score: 0.6942, Precision: 0.5316, Recall: 1.0000, ROC AUC: 0.4730\n",
      "Epoch [9/50], Loss: 0.2101\n",
      "Validation Loss: 0.7732, Accuracy: 0.4684, F1 Score: 0.0000, Precision: 0.0000, Recall: 0.0000, ROC AUC: 0.4292\n"
     ]
    },
    {
     "name": "stderr",
     "output_type": "stream",
     "text": [
      "/home/sadat/miniconda3/envs/cs721/lib/python3.8/site-packages/sklearn/metrics/_classification.py:1471: UndefinedMetricWarning: Precision is ill-defined and being set to 0.0 due to no predicted samples. Use `zero_division` parameter to control this behavior.\n",
      "  _warn_prf(average, modifier, msg_start, len(result))\n"
     ]
    },
    {
     "name": "stdout",
     "output_type": "stream",
     "text": [
      "Epoch [10/50], Loss: 0.2086\n",
      "Validation Loss: 0.7644, Accuracy: 0.4684, F1 Score: 0.0000, Precision: 0.0000, Recall: 0.0000, ROC AUC: 0.4820\n"
     ]
    },
    {
     "name": "stderr",
     "output_type": "stream",
     "text": [
      "/home/sadat/miniconda3/envs/cs721/lib/python3.8/site-packages/sklearn/metrics/_classification.py:1471: UndefinedMetricWarning: Precision is ill-defined and being set to 0.0 due to no predicted samples. Use `zero_division` parameter to control this behavior.\n",
      "  _warn_prf(average, modifier, msg_start, len(result))\n"
     ]
    },
    {
     "name": "stdout",
     "output_type": "stream",
     "text": [
      "Epoch [11/50], Loss: 0.2121\n",
      "Validation Loss: 0.7736, Accuracy: 0.4684, F1 Score: 0.0000, Precision: 0.0000, Recall: 0.0000, ROC AUC: 0.3713\n",
      "Early stopping triggered.\n",
      "Fold 4\n"
     ]
    },
    {
     "name": "stderr",
     "output_type": "stream",
     "text": [
      "/home/sadat/miniconda3/envs/cs721/lib/python3.8/site-packages/sklearn/metrics/_classification.py:1471: UndefinedMetricWarning: Precision is ill-defined and being set to 0.0 due to no predicted samples. Use `zero_division` parameter to control this behavior.\n",
      "  _warn_prf(average, modifier, msg_start, len(result))\n"
     ]
    },
    {
     "name": "stdout",
     "output_type": "stream",
     "text": [
      "Epoch [1/50], Loss: 0.9383\n",
      "Validation Loss: 2.6141, Accuracy: 0.5190, F1 Score: 0.6833, Precision: 0.5190, Recall: 1.0000, ROC AUC: 0.5135\n",
      "Epoch [2/50], Loss: 0.5909\n",
      "Validation Loss: 1.2373, Accuracy: 0.5316, F1 Score: 0.6476, Precision: 0.5312, Recall: 0.8293, ROC AUC: 0.5449\n",
      "Epoch [3/50], Loss: 0.3116\n",
      "Validation Loss: 0.7739, Accuracy: 0.4810, F1 Score: 0.0000, Precision: 0.0000, Recall: 0.0000, ROC AUC: 0.4275\n"
     ]
    },
    {
     "name": "stderr",
     "output_type": "stream",
     "text": [
      "/home/sadat/miniconda3/envs/cs721/lib/python3.8/site-packages/sklearn/metrics/_classification.py:1471: UndefinedMetricWarning: Precision is ill-defined and being set to 0.0 due to no predicted samples. Use `zero_division` parameter to control this behavior.\n",
      "  _warn_prf(average, modifier, msg_start, len(result))\n"
     ]
    },
    {
     "name": "stdout",
     "output_type": "stream",
     "text": [
      "Epoch [4/50], Loss: 0.2474\n",
      "Validation Loss: 0.8360, Accuracy: 0.5063, F1 Score: 0.6723, Precision: 0.5128, Recall: 0.9756, ROC AUC: 0.5125\n",
      "Epoch [5/50], Loss: 0.2383\n",
      "Validation Loss: 0.7973, Accuracy: 0.4810, F1 Score: 0.0000, Precision: 0.0000, Recall: 0.0000, ROC AUC: 0.3511\n"
     ]
    },
    {
     "name": "stderr",
     "output_type": "stream",
     "text": [
      "/home/sadat/miniconda3/envs/cs721/lib/python3.8/site-packages/sklearn/metrics/_classification.py:1471: UndefinedMetricWarning: Precision is ill-defined and being set to 0.0 due to no predicted samples. Use `zero_division` parameter to control this behavior.\n",
      "  _warn_prf(average, modifier, msg_start, len(result))\n"
     ]
    },
    {
     "name": "stdout",
     "output_type": "stream",
     "text": [
      "Epoch [6/50], Loss: 0.2443\n",
      "Validation Loss: 0.9065, Accuracy: 0.5190, F1 Score: 0.6833, Precision: 0.5190, Recall: 1.0000, ROC AUC: 0.4865\n",
      "Epoch [7/50], Loss: 0.2372\n",
      "Validation Loss: 0.7379, Accuracy: 0.5190, F1 Score: 0.6833, Precision: 0.5190, Recall: 1.0000, ROC AUC: 0.5385\n",
      "Early stopping triggered.\n",
      "Fold 5\n",
      "Epoch [1/50], Loss: 0.9937\n",
      "Validation Loss: 2.5992, Accuracy: 0.4557, F1 Score: 0.0000, Precision: 0.0000, Recall: 0.0000, ROC AUC: 0.4981\n",
      "Epoch [2/50], Loss: 0.6013\n",
      "Validation Loss: 1.0283, Accuracy: 0.5190, F1 Score: 0.6833, Precision: 0.5256, Recall: 0.9762, ROC AUC: 0.4530\n",
      "Epoch [3/50], Loss: 0.3488\n",
      "Validation Loss: 1.0536, Accuracy: 0.4810, F1 Score: 0.3279, Precision: 0.5263, Recall: 0.2381, ROC AUC: 0.4498\n",
      "Epoch [4/50], Loss: 0.3275\n",
      "Validation Loss: 0.8530, Accuracy: 0.4684, F1 Score: 0.0455, Precision: 0.5000, Recall: 0.0238, ROC AUC: 0.4530\n",
      "Epoch [5/50], Loss: 0.2595\n",
      "Validation Loss: 0.7996, Accuracy: 0.4684, F1 Score: 0.0000, Precision: 0.0000, Recall: 0.0000, ROC AUC: 0.5557\n"
     ]
    },
    {
     "name": "stderr",
     "output_type": "stream",
     "text": [
      "/home/sadat/miniconda3/envs/cs721/lib/python3.8/site-packages/sklearn/metrics/_classification.py:1471: UndefinedMetricWarning: Precision is ill-defined and being set to 0.0 due to no predicted samples. Use `zero_division` parameter to control this behavior.\n",
      "  _warn_prf(average, modifier, msg_start, len(result))\n"
     ]
    },
    {
     "name": "stdout",
     "output_type": "stream",
     "text": [
      "Epoch [6/50], Loss: 0.2403\n",
      "Validation Loss: 0.7663, Accuracy: 0.5316, F1 Score: 0.6942, Precision: 0.5316, Recall: 1.0000, ROC AUC: 0.4369\n",
      "Epoch [7/50], Loss: 0.2278\n",
      "Validation Loss: 0.8009, Accuracy: 0.4684, F1 Score: 0.0000, Precision: 0.0000, Recall: 0.0000, ROC AUC: 0.4862\n"
     ]
    },
    {
     "name": "stderr",
     "output_type": "stream",
     "text": [
      "/home/sadat/miniconda3/envs/cs721/lib/python3.8/site-packages/sklearn/metrics/_classification.py:1471: UndefinedMetricWarning: Precision is ill-defined and being set to 0.0 due to no predicted samples. Use `zero_division` parameter to control this behavior.\n",
      "  _warn_prf(average, modifier, msg_start, len(result))\n"
     ]
    },
    {
     "name": "stdout",
     "output_type": "stream",
     "text": [
      "Epoch [8/50], Loss: 0.2212\n",
      "Validation Loss: 0.7586, Accuracy: 0.5316, F1 Score: 0.6942, Precision: 0.5316, Recall: 1.0000, ROC AUC: 0.3945\n",
      "Epoch [9/50], Loss: 0.2307\n",
      "Validation Loss: 0.7581, Accuracy: 0.5443, F1 Score: 0.6087, Precision: 0.5600, Recall: 0.6667, ROC AUC: 0.4537\n",
      "Epoch [10/50], Loss: 0.2256\n",
      "Validation Loss: 0.7757, Accuracy: 0.4684, F1 Score: 0.0000, Precision: 0.0000, Recall: 0.0000, ROC AUC: 0.4807\n"
     ]
    },
    {
     "name": "stderr",
     "output_type": "stream",
     "text": [
      "/home/sadat/miniconda3/envs/cs721/lib/python3.8/site-packages/sklearn/metrics/_classification.py:1471: UndefinedMetricWarning: Precision is ill-defined and being set to 0.0 due to no predicted samples. Use `zero_division` parameter to control this behavior.\n",
      "  _warn_prf(average, modifier, msg_start, len(result))\n"
     ]
    },
    {
     "name": "stdout",
     "output_type": "stream",
     "text": [
      "Epoch [11/50], Loss: 0.2235\n",
      "Validation Loss: 0.7556, Accuracy: 0.4684, F1 Score: 0.0000, Precision: 0.0000, Recall: 0.0000, ROC AUC: 0.4524\n"
     ]
    },
    {
     "name": "stderr",
     "output_type": "stream",
     "text": [
      "/home/sadat/miniconda3/envs/cs721/lib/python3.8/site-packages/sklearn/metrics/_classification.py:1471: UndefinedMetricWarning: Precision is ill-defined and being set to 0.0 due to no predicted samples. Use `zero_division` parameter to control this behavior.\n",
      "  _warn_prf(average, modifier, msg_start, len(result))\n"
     ]
    },
    {
     "name": "stdout",
     "output_type": "stream",
     "text": [
      "Epoch [12/50], Loss: 0.2362\n",
      "Validation Loss: 0.7543, Accuracy: 0.4684, F1 Score: 0.0000, Precision: 0.0000, Recall: 0.0000, ROC AUC: 0.3616\n"
     ]
    },
    {
     "name": "stderr",
     "output_type": "stream",
     "text": [
      "/home/sadat/miniconda3/envs/cs721/lib/python3.8/site-packages/sklearn/metrics/_classification.py:1471: UndefinedMetricWarning: Precision is ill-defined and being set to 0.0 due to no predicted samples. Use `zero_division` parameter to control this behavior.\n",
      "  _warn_prf(average, modifier, msg_start, len(result))\n"
     ]
    },
    {
     "name": "stdout",
     "output_type": "stream",
     "text": [
      "Epoch [13/50], Loss: 0.2295\n",
      "Validation Loss: 0.7552, Accuracy: 0.4684, F1 Score: 0.0000, Precision: 0.0000, Recall: 0.0000, ROC AUC: 0.3829\n"
     ]
    },
    {
     "name": "stderr",
     "output_type": "stream",
     "text": [
      "/home/sadat/miniconda3/envs/cs721/lib/python3.8/site-packages/sklearn/metrics/_classification.py:1471: UndefinedMetricWarning: Precision is ill-defined and being set to 0.0 due to no predicted samples. Use `zero_division` parameter to control this behavior.\n",
      "  _warn_prf(average, modifier, msg_start, len(result))\n"
     ]
    },
    {
     "name": "stdout",
     "output_type": "stream",
     "text": [
      "Epoch [14/50], Loss: 0.2166\n",
      "Validation Loss: 0.7409, Accuracy: 0.4684, F1 Score: 0.5532, Precision: 0.5000, Recall: 0.6190, ROC AUC: 0.4015\n",
      "Early stopping triggered.\n",
      "Average Validation Accuracy for alpha: 0.3, lr: 0.1, momentum: 0.5: 0.5036\n",
      "Training alpha: 0.3, learning_rate: 0.1, momentum: 0.8\n",
      "Fold 1\n",
      "Epoch [1/50], Loss: 1.2676\n",
      "Validation Loss: 62.3058, Accuracy: 0.4250, F1 Score: 0.5965, Precision: 0.4250, Recall: 1.0000, ROC AUC: 0.6058\n",
      "Epoch [2/50], Loss: 0.6388\n",
      "Validation Loss: 1.5183, Accuracy: 0.5125, F1 Score: 0.2353, Precision: 0.3529, Recall: 0.1765, ROC AUC: 0.4751\n",
      "Epoch [3/50], Loss: 0.3872\n",
      "Validation Loss: 0.8546, Accuracy: 0.5750, F1 Score: 0.0000, Precision: 0.0000, Recall: 0.0000, ROC AUC: 0.5416\n"
     ]
    },
    {
     "name": "stderr",
     "output_type": "stream",
     "text": [
      "/home/sadat/miniconda3/envs/cs721/lib/python3.8/site-packages/sklearn/metrics/_classification.py:1471: UndefinedMetricWarning: Precision is ill-defined and being set to 0.0 due to no predicted samples. Use `zero_division` parameter to control this behavior.\n",
      "  _warn_prf(average, modifier, msg_start, len(result))\n"
     ]
    },
    {
     "name": "stdout",
     "output_type": "stream",
     "text": [
      "Epoch [4/50], Loss: 0.3123\n",
      "Validation Loss: 2.8373, Accuracy: 0.5500, F1 Score: 0.1818, Precision: 0.4000, Recall: 0.1176, ROC AUC: 0.4246\n",
      "Epoch [5/50], Loss: 0.3911\n",
      "Validation Loss: 1.4499, Accuracy: 0.4500, F1 Score: 0.6071, Precision: 0.4359, Recall: 1.0000, ROC AUC: 0.4399\n",
      "Epoch [6/50], Loss: 0.2679\n",
      "Validation Loss: 1.1465, Accuracy: 0.4250, F1 Score: 0.5965, Precision: 0.4250, Recall: 1.0000, ROC AUC: 0.5422\n",
      "Epoch [7/50], Loss: 0.2851\n",
      "Validation Loss: 0.7264, Accuracy: 0.4250, F1 Score: 0.5965, Precision: 0.4250, Recall: 1.0000, ROC AUC: 0.3593\n",
      "Epoch [8/50], Loss: 0.3175\n",
      "Validation Loss: 1.4731, Accuracy: 0.4250, F1 Score: 0.5965, Precision: 0.4250, Recall: 1.0000, ROC AUC: 0.4450\n",
      "Early stopping triggered.\n",
      "Fold 2\n",
      "Epoch [1/50], Loss: 1.2311\n",
      "Validation Loss: 12.7644, Accuracy: 0.5125, F1 Score: 0.0000, Precision: 0.0000, Recall: 0.0000, ROC AUC: 0.5722\n"
     ]
    },
    {
     "name": "stderr",
     "output_type": "stream",
     "text": [
      "/home/sadat/miniconda3/envs/cs721/lib/python3.8/site-packages/sklearn/metrics/_classification.py:1471: UndefinedMetricWarning: Precision is ill-defined and being set to 0.0 due to no predicted samples. Use `zero_division` parameter to control this behavior.\n",
      "  _warn_prf(average, modifier, msg_start, len(result))\n"
     ]
    },
    {
     "name": "stdout",
     "output_type": "stream",
     "text": [
      "Epoch [2/50], Loss: 0.4859\n",
      "Validation Loss: 1.1541, Accuracy: 0.4875, F1 Score: 0.6555, Precision: 0.4875, Recall: 1.0000, ROC AUC: 0.5034\n",
      "Epoch [3/50], Loss: 0.2379\n",
      "Validation Loss: 0.7103, Accuracy: 0.5125, F1 Score: 0.6667, Precision: 0.5000, Recall: 1.0000, ROC AUC: 0.5009\n",
      "Epoch [4/50], Loss: 0.2168\n",
      "Validation Loss: 0.7127, Accuracy: 0.5125, F1 Score: 0.0000, Precision: 0.0000, Recall: 0.0000, ROC AUC: 0.5478\n"
     ]
    },
    {
     "name": "stderr",
     "output_type": "stream",
     "text": [
      "/home/sadat/miniconda3/envs/cs721/lib/python3.8/site-packages/sklearn/metrics/_classification.py:1471: UndefinedMetricWarning: Precision is ill-defined and being set to 0.0 due to no predicted samples. Use `zero_division` parameter to control this behavior.\n",
      "  _warn_prf(average, modifier, msg_start, len(result))\n"
     ]
    },
    {
     "name": "stdout",
     "output_type": "stream",
     "text": [
      "Epoch [5/50], Loss: 0.2127\n",
      "Validation Loss: 0.6980, Accuracy: 0.4875, F1 Score: 0.6555, Precision: 0.4875, Recall: 1.0000, ROC AUC: 0.4709\n",
      "Epoch [6/50], Loss: 0.2196\n",
      "Validation Loss: 0.6898, Accuracy: 0.4875, F1 Score: 0.6555, Precision: 0.4875, Recall: 1.0000, ROC AUC: 0.5876\n",
      "Early stopping triggered.\n",
      "Fold 3\n",
      "Epoch [1/50], Loss: 1.1475\n",
      "Validation Loss: 5.2986, Accuracy: 0.4684, F1 Score: 0.0455, Precision: 0.5000, Recall: 0.0238, ROC AUC: 0.5245\n",
      "Epoch [2/50], Loss: 0.5615\n",
      "Validation Loss: 2.7805, Accuracy: 0.5190, F1 Score: 0.6833, Precision: 0.5256, Recall: 0.9762, ROC AUC: 0.4775\n",
      "Epoch [3/50], Loss: 0.2707\n",
      "Validation Loss: 0.8238, Accuracy: 0.4684, F1 Score: 0.0000, Precision: 0.0000, Recall: 0.0000, ROC AUC: 0.4775\n"
     ]
    },
    {
     "name": "stderr",
     "output_type": "stream",
     "text": [
      "/home/sadat/miniconda3/envs/cs721/lib/python3.8/site-packages/sklearn/metrics/_classification.py:1471: UndefinedMetricWarning: Precision is ill-defined and being set to 0.0 due to no predicted samples. Use `zero_division` parameter to control this behavior.\n",
      "  _warn_prf(average, modifier, msg_start, len(result))\n"
     ]
    },
    {
     "name": "stdout",
     "output_type": "stream",
     "text": [
      "Epoch [4/50], Loss: 0.2480\n",
      "Validation Loss: 0.7877, Accuracy: 0.4684, F1 Score: 0.0000, Precision: 0.0000, Recall: 0.0000, ROC AUC: 0.5071\n"
     ]
    },
    {
     "name": "stderr",
     "output_type": "stream",
     "text": [
      "/home/sadat/miniconda3/envs/cs721/lib/python3.8/site-packages/sklearn/metrics/_classification.py:1471: UndefinedMetricWarning: Precision is ill-defined and being set to 0.0 due to no predicted samples. Use `zero_division` parameter to control this behavior.\n",
      "  _warn_prf(average, modifier, msg_start, len(result))\n"
     ]
    },
    {
     "name": "stdout",
     "output_type": "stream",
     "text": [
      "Epoch [5/50], Loss: 0.2461\n",
      "Validation Loss: 0.7445, Accuracy: 0.4684, F1 Score: 0.0000, Precision: 0.0000, Recall: 0.0000, ROC AUC: 0.4685\n"
     ]
    },
    {
     "name": "stderr",
     "output_type": "stream",
     "text": [
      "/home/sadat/miniconda3/envs/cs721/lib/python3.8/site-packages/sklearn/metrics/_classification.py:1471: UndefinedMetricWarning: Precision is ill-defined and being set to 0.0 due to no predicted samples. Use `zero_division` parameter to control this behavior.\n",
      "  _warn_prf(average, modifier, msg_start, len(result))\n"
     ]
    },
    {
     "name": "stdout",
     "output_type": "stream",
     "text": [
      "Epoch [6/50], Loss: 0.2391\n",
      "Validation Loss: 0.7435, Accuracy: 0.4684, F1 Score: 0.0000, Precision: 0.0000, Recall: 0.0000, ROC AUC: 0.4530\n"
     ]
    },
    {
     "name": "stderr",
     "output_type": "stream",
     "text": [
      "/home/sadat/miniconda3/envs/cs721/lib/python3.8/site-packages/sklearn/metrics/_classification.py:1471: UndefinedMetricWarning: Precision is ill-defined and being set to 0.0 due to no predicted samples. Use `zero_division` parameter to control this behavior.\n",
      "  _warn_prf(average, modifier, msg_start, len(result))\n"
     ]
    },
    {
     "name": "stdout",
     "output_type": "stream",
     "text": [
      "Epoch [7/50], Loss: 0.2361\n",
      "Validation Loss: 0.7316, Accuracy: 0.5316, F1 Score: 0.6942, Precision: 0.5316, Recall: 1.0000, ROC AUC: 0.4318\n",
      "Epoch [8/50], Loss: 0.2262\n",
      "Validation Loss: 0.7493, Accuracy: 0.4684, F1 Score: 0.0000, Precision: 0.0000, Recall: 0.0000, ROC AUC: 0.5142\n"
     ]
    },
    {
     "name": "stderr",
     "output_type": "stream",
     "text": [
      "/home/sadat/miniconda3/envs/cs721/lib/python3.8/site-packages/sklearn/metrics/_classification.py:1471: UndefinedMetricWarning: Precision is ill-defined and being set to 0.0 due to no predicted samples. Use `zero_division` parameter to control this behavior.\n",
      "  _warn_prf(average, modifier, msg_start, len(result))\n"
     ]
    },
    {
     "name": "stdout",
     "output_type": "stream",
     "text": [
      "Epoch [9/50], Loss: 0.2243\n",
      "Validation Loss: 0.7397, Accuracy: 0.4684, F1 Score: 0.0000, Precision: 0.0000, Recall: 0.0000, ROC AUC: 0.5322\n"
     ]
    },
    {
     "name": "stderr",
     "output_type": "stream",
     "text": [
      "/home/sadat/miniconda3/envs/cs721/lib/python3.8/site-packages/sklearn/metrics/_classification.py:1471: UndefinedMetricWarning: Precision is ill-defined and being set to 0.0 due to no predicted samples. Use `zero_division` parameter to control this behavior.\n",
      "  _warn_prf(average, modifier, msg_start, len(result))\n"
     ]
    },
    {
     "name": "stdout",
     "output_type": "stream",
     "text": [
      "Epoch [10/50], Loss: 0.2294\n",
      "Validation Loss: 0.7468, Accuracy: 0.4684, F1 Score: 0.0000, Precision: 0.0000, Recall: 0.0000, ROC AUC: 0.4633\n"
     ]
    },
    {
     "name": "stderr",
     "output_type": "stream",
     "text": [
      "/home/sadat/miniconda3/envs/cs721/lib/python3.8/site-packages/sklearn/metrics/_classification.py:1471: UndefinedMetricWarning: Precision is ill-defined and being set to 0.0 due to no predicted samples. Use `zero_division` parameter to control this behavior.\n",
      "  _warn_prf(average, modifier, msg_start, len(result))\n"
     ]
    },
    {
     "name": "stdout",
     "output_type": "stream",
     "text": [
      "Epoch [11/50], Loss: 0.2305\n",
      "Validation Loss: 0.7336, Accuracy: 0.4684, F1 Score: 0.0000, Precision: 0.0000, Recall: 0.0000, ROC AUC: 0.4755\n"
     ]
    },
    {
     "name": "stderr",
     "output_type": "stream",
     "text": [
      "/home/sadat/miniconda3/envs/cs721/lib/python3.8/site-packages/sklearn/metrics/_classification.py:1471: UndefinedMetricWarning: Precision is ill-defined and being set to 0.0 due to no predicted samples. Use `zero_division` parameter to control this behavior.\n",
      "  _warn_prf(average, modifier, msg_start, len(result))\n"
     ]
    },
    {
     "name": "stdout",
     "output_type": "stream",
     "text": [
      "Epoch [12/50], Loss: 0.2285\n",
      "Validation Loss: 0.7347, Accuracy: 0.4684, F1 Score: 0.0000, Precision: 0.0000, Recall: 0.0000, ROC AUC: 0.4550\n",
      "Early stopping triggered.\n",
      "Fold 4\n"
     ]
    },
    {
     "name": "stderr",
     "output_type": "stream",
     "text": [
      "/home/sadat/miniconda3/envs/cs721/lib/python3.8/site-packages/sklearn/metrics/_classification.py:1471: UndefinedMetricWarning: Precision is ill-defined and being set to 0.0 due to no predicted samples. Use `zero_division` parameter to control this behavior.\n",
      "  _warn_prf(average, modifier, msg_start, len(result))\n"
     ]
    },
    {
     "name": "stdout",
     "output_type": "stream",
     "text": [
      "Epoch [1/50], Loss: 0.9167\n",
      "Validation Loss: 23.3792, Accuracy: 0.4810, F1 Score: 0.0000, Precision: 0.0000, Recall: 0.0000, ROC AUC: 0.4891\n"
     ]
    },
    {
     "name": "stderr",
     "output_type": "stream",
     "text": [
      "/home/sadat/miniconda3/envs/cs721/lib/python3.8/site-packages/sklearn/metrics/_classification.py:1471: UndefinedMetricWarning: Precision is ill-defined and being set to 0.0 due to no predicted samples. Use `zero_division` parameter to control this behavior.\n",
      "  _warn_prf(average, modifier, msg_start, len(result))\n"
     ]
    },
    {
     "name": "stdout",
     "output_type": "stream",
     "text": [
      "Epoch [2/50], Loss: 0.3703\n",
      "Validation Loss: 0.7718, Accuracy: 0.5190, F1 Score: 0.6833, Precision: 0.5190, Recall: 1.0000, ROC AUC: 0.5751\n",
      "Epoch [3/50], Loss: 0.2248\n",
      "Validation Loss: 0.7038, Accuracy: 0.4810, F1 Score: 0.0000, Precision: 0.0000, Recall: 0.0000, ROC AUC: 0.4422\n"
     ]
    },
    {
     "name": "stderr",
     "output_type": "stream",
     "text": [
      "/home/sadat/miniconda3/envs/cs721/lib/python3.8/site-packages/sklearn/metrics/_classification.py:1471: UndefinedMetricWarning: Precision is ill-defined and being set to 0.0 due to no predicted samples. Use `zero_division` parameter to control this behavior.\n",
      "  _warn_prf(average, modifier, msg_start, len(result))\n"
     ]
    },
    {
     "name": "stdout",
     "output_type": "stream",
     "text": [
      "Epoch [4/50], Loss: 0.2128\n",
      "Validation Loss: 0.6963, Accuracy: 0.5190, F1 Score: 0.6833, Precision: 0.5190, Recall: 1.0000, ROC AUC: 0.4673\n",
      "Epoch [5/50], Loss: 0.2203\n",
      "Validation Loss: 0.6778, Accuracy: 0.5190, F1 Score: 0.6833, Precision: 0.5190, Recall: 1.0000, ROC AUC: 0.6130\n",
      "Epoch [6/50], Loss: 0.2111\n",
      "Validation Loss: 0.7033, Accuracy: 0.4810, F1 Score: 0.0000, Precision: 0.0000, Recall: 0.0000, ROC AUC: 0.3992\n"
     ]
    },
    {
     "name": "stderr",
     "output_type": "stream",
     "text": [
      "/home/sadat/miniconda3/envs/cs721/lib/python3.8/site-packages/sklearn/metrics/_classification.py:1471: UndefinedMetricWarning: Precision is ill-defined and being set to 0.0 due to no predicted samples. Use `zero_division` parameter to control this behavior.\n",
      "  _warn_prf(average, modifier, msg_start, len(result))\n"
     ]
    },
    {
     "name": "stdout",
     "output_type": "stream",
     "text": [
      "Epoch [7/50], Loss: 0.2099\n",
      "Validation Loss: 0.7051, Accuracy: 0.4810, F1 Score: 0.0000, Precision: 0.0000, Recall: 0.0000, ROC AUC: 0.4018\n",
      "Early stopping triggered.\n",
      "Fold 5\n"
     ]
    },
    {
     "name": "stderr",
     "output_type": "stream",
     "text": [
      "/home/sadat/miniconda3/envs/cs721/lib/python3.8/site-packages/sklearn/metrics/_classification.py:1471: UndefinedMetricWarning: Precision is ill-defined and being set to 0.0 due to no predicted samples. Use `zero_division` parameter to control this behavior.\n",
      "  _warn_prf(average, modifier, msg_start, len(result))\n"
     ]
    },
    {
     "name": "stdout",
     "output_type": "stream",
     "text": [
      "Epoch [1/50], Loss: 1.2100\n",
      "Validation Loss: 923.1115, Accuracy: 0.4684, F1 Score: 0.0000, Precision: 0.0000, Recall: 0.0000, ROC AUC: 0.5199\n"
     ]
    },
    {
     "name": "stderr",
     "output_type": "stream",
     "text": [
      "/home/sadat/miniconda3/envs/cs721/lib/python3.8/site-packages/sklearn/metrics/_classification.py:1471: UndefinedMetricWarning: Precision is ill-defined and being set to 0.0 due to no predicted samples. Use `zero_division` parameter to control this behavior.\n",
      "  _warn_prf(average, modifier, msg_start, len(result))\n"
     ]
    },
    {
     "name": "stdout",
     "output_type": "stream",
     "text": [
      "Epoch [2/50], Loss: 0.6465\n",
      "Validation Loss: 2.6489, Accuracy: 0.5443, F1 Score: 0.7000, Precision: 0.5385, Recall: 1.0000, ROC AUC: 0.4131\n",
      "Epoch [3/50], Loss: 0.3228\n",
      "Validation Loss: 0.7996, Accuracy: 0.4684, F1 Score: 0.0000, Precision: 0.0000, Recall: 0.0000, ROC AUC: 0.4498\n"
     ]
    },
    {
     "name": "stderr",
     "output_type": "stream",
     "text": [
      "/home/sadat/miniconda3/envs/cs721/lib/python3.8/site-packages/sklearn/metrics/_classification.py:1471: UndefinedMetricWarning: Precision is ill-defined and being set to 0.0 due to no predicted samples. Use `zero_division` parameter to control this behavior.\n",
      "  _warn_prf(average, modifier, msg_start, len(result))\n"
     ]
    },
    {
     "name": "stdout",
     "output_type": "stream",
     "text": [
      "Epoch [4/50], Loss: 0.2474\n",
      "Validation Loss: 0.7483, Accuracy: 0.4684, F1 Score: 0.0000, Precision: 0.0000, Recall: 0.0000, ROC AUC: 0.4913\n"
     ]
    },
    {
     "name": "stderr",
     "output_type": "stream",
     "text": [
      "/home/sadat/miniconda3/envs/cs721/lib/python3.8/site-packages/sklearn/metrics/_classification.py:1471: UndefinedMetricWarning: Precision is ill-defined and being set to 0.0 due to no predicted samples. Use `zero_division` parameter to control this behavior.\n",
      "  _warn_prf(average, modifier, msg_start, len(result))\n"
     ]
    },
    {
     "name": "stdout",
     "output_type": "stream",
     "text": [
      "Epoch [5/50], Loss: 0.2311\n",
      "Validation Loss: 0.7267, Accuracy: 0.4684, F1 Score: 0.0000, Precision: 0.0000, Recall: 0.0000, ROC AUC: 0.4961\n"
     ]
    },
    {
     "name": "stderr",
     "output_type": "stream",
     "text": [
      "/home/sadat/miniconda3/envs/cs721/lib/python3.8/site-packages/sklearn/metrics/_classification.py:1471: UndefinedMetricWarning: Precision is ill-defined and being set to 0.0 due to no predicted samples. Use `zero_division` parameter to control this behavior.\n",
      "  _warn_prf(average, modifier, msg_start, len(result))\n"
     ]
    },
    {
     "name": "stdout",
     "output_type": "stream",
     "text": [
      "Epoch [6/50], Loss: 0.2568\n",
      "Validation Loss: 0.7988, Accuracy: 0.4684, F1 Score: 0.0000, Precision: 0.0000, Recall: 0.0000, ROC AUC: 0.4151\n"
     ]
    },
    {
     "name": "stderr",
     "output_type": "stream",
     "text": [
      "/home/sadat/miniconda3/envs/cs721/lib/python3.8/site-packages/sklearn/metrics/_classification.py:1471: UndefinedMetricWarning: Precision is ill-defined and being set to 0.0 due to no predicted samples. Use `zero_division` parameter to control this behavior.\n",
      "  _warn_prf(average, modifier, msg_start, len(result))\n"
     ]
    },
    {
     "name": "stdout",
     "output_type": "stream",
     "text": [
      "Epoch [7/50], Loss: 0.2306\n",
      "Validation Loss: 0.7197, Accuracy: 0.4684, F1 Score: 0.0000, Precision: 0.0000, Recall: 0.0000, ROC AUC: 0.4794\n",
      "Early stopping triggered.\n",
      "Average Validation Accuracy for alpha: 0.3, lr: 0.1, momentum: 0.8: 0.4660\n",
      "Training alpha: 0.3, learning_rate: 0.1, momentum: 0.9\n",
      "Fold 1\n"
     ]
    },
    {
     "name": "stderr",
     "output_type": "stream",
     "text": [
      "/home/sadat/miniconda3/envs/cs721/lib/python3.8/site-packages/sklearn/metrics/_classification.py:1471: UndefinedMetricWarning: Precision is ill-defined and being set to 0.0 due to no predicted samples. Use `zero_division` parameter to control this behavior.\n",
      "  _warn_prf(average, modifier, msg_start, len(result))\n"
     ]
    },
    {
     "name": "stdout",
     "output_type": "stream",
     "text": [
      "Epoch [1/50], Loss: 1.2352\n",
      "Validation Loss: 223.0407, Accuracy: 0.4250, F1 Score: 0.5965, Precision: 0.4250, Recall: 1.0000, ROC AUC: 0.4799\n",
      "Epoch [2/50], Loss: 1.0099\n",
      "Validation Loss: 463.3997, Accuracy: 0.3875, F1 Score: 0.5149, Precision: 0.3881, Recall: 0.7647, ROC AUC: 0.5224\n",
      "Epoch [3/50], Loss: 0.4398\n",
      "Validation Loss: 34.6118, Accuracy: 0.4375, F1 Score: 0.5872, Precision: 0.4267, Recall: 0.9412, ROC AUC: 0.4984\n",
      "Epoch [4/50], Loss: 0.3808\n",
      "Validation Loss: 3.6815, Accuracy: 0.4750, F1 Score: 0.5116, Precision: 0.4231, Recall: 0.6471, ROC AUC: 0.4578\n",
      "Epoch [5/50], Loss: 0.3690\n",
      "Validation Loss: 1.2769, Accuracy: 0.4875, F1 Score: 0.6239, Precision: 0.4533, Recall: 1.0000, ROC AUC: 0.5524\n",
      "Epoch [6/50], Loss: 0.3488\n",
      "Validation Loss: 1.1285, Accuracy: 0.4375, F1 Score: 0.5714, Precision: 0.4225, Recall: 0.8824, ROC AUC: 0.4898\n",
      "Epoch [7/50], Loss: 0.3097\n",
      "Validation Loss: 0.8710, Accuracy: 0.4250, F1 Score: 0.5965, Precision: 0.4250, Recall: 1.0000, ROC AUC: 0.5489\n",
      "Epoch [8/50], Loss: 0.3838\n",
      "Validation Loss: 0.8803, Accuracy: 0.4250, F1 Score: 0.5965, Precision: 0.4250, Recall: 1.0000, ROC AUC: 0.5227\n",
      "Epoch [9/50], Loss: 0.3185\n",
      "Validation Loss: 0.8860, Accuracy: 0.5750, F1 Score: 0.0000, Precision: 0.0000, Recall: 0.0000, ROC AUC: 0.4917\n"
     ]
    },
    {
     "name": "stderr",
     "output_type": "stream",
     "text": [
      "/home/sadat/miniconda3/envs/cs721/lib/python3.8/site-packages/sklearn/metrics/_classification.py:1471: UndefinedMetricWarning: Precision is ill-defined and being set to 0.0 due to no predicted samples. Use `zero_division` parameter to control this behavior.\n",
      "  _warn_prf(average, modifier, msg_start, len(result))\n"
     ]
    },
    {
     "name": "stdout",
     "output_type": "stream",
     "text": [
      "Epoch [10/50], Loss: 0.2920\n",
      "Validation Loss: 0.7732, Accuracy: 0.5750, F1 Score: 0.0000, Precision: 0.0000, Recall: 0.0000, ROC AUC: 0.5579\n"
     ]
    },
    {
     "name": "stderr",
     "output_type": "stream",
     "text": [
      "/home/sadat/miniconda3/envs/cs721/lib/python3.8/site-packages/sklearn/metrics/_classification.py:1471: UndefinedMetricWarning: Precision is ill-defined and being set to 0.0 due to no predicted samples. Use `zero_division` parameter to control this behavior.\n",
      "  _warn_prf(average, modifier, msg_start, len(result))\n"
     ]
    },
    {
     "name": "stdout",
     "output_type": "stream",
     "text": [
      "Epoch [11/50], Loss: 0.2654\n",
      "Validation Loss: 0.7567, Accuracy: 0.4250, F1 Score: 0.5965, Precision: 0.4250, Recall: 1.0000, ROC AUC: 0.5301\n",
      "Epoch [12/50], Loss: 0.2655\n",
      "Validation Loss: 0.7792, Accuracy: 0.4250, F1 Score: 0.5965, Precision: 0.4250, Recall: 1.0000, ROC AUC: 0.4226\n",
      "Epoch [13/50], Loss: 0.3296\n",
      "Validation Loss: 0.7824, Accuracy: 0.4250, F1 Score: 0.5965, Precision: 0.4250, Recall: 1.0000, ROC AUC: 0.4882\n",
      "Epoch [14/50], Loss: 0.2811\n",
      "Validation Loss: 0.8140, Accuracy: 0.4250, F1 Score: 0.5965, Precision: 0.4250, Recall: 1.0000, ROC AUC: 0.4357\n",
      "Early stopping triggered.\n",
      "Fold 2\n",
      "Epoch [1/50], Loss: 1.2948\n",
      "Validation Loss: 15.9951, Accuracy: 0.4875, F1 Score: 0.6555, Precision: 0.4875, Recall: 1.0000, ROC AUC: 0.5841\n",
      "Epoch [2/50], Loss: 0.6122\n",
      "Validation Loss: 6.0175, Accuracy: 0.5375, F1 Score: 0.6263, Precision: 0.5167, Recall: 0.7949, ROC AUC: 0.5253\n",
      "Epoch [3/50], Loss: 0.3043\n",
      "Validation Loss: 1.5984, Accuracy: 0.5625, F1 Score: 0.3860, Precision: 0.6111, Recall: 0.2821, ROC AUC: 0.5222\n",
      "Epoch [4/50], Loss: 0.2675\n",
      "Validation Loss: 1.0524, Accuracy: 0.4875, F1 Score: 0.6555, Precision: 0.4875, Recall: 1.0000, ROC AUC: 0.4862\n",
      "Epoch [5/50], Loss: 0.2358\n",
      "Validation Loss: 0.7055, Accuracy: 0.4875, F1 Score: 0.6555, Precision: 0.4875, Recall: 1.0000, ROC AUC: 0.5428\n",
      "Epoch [6/50], Loss: 0.2193\n",
      "Validation Loss: 0.7027, Accuracy: 0.5125, F1 Score: 0.0000, Precision: 0.0000, Recall: 0.0000, ROC AUC: 0.5578\n"
     ]
    },
    {
     "name": "stderr",
     "output_type": "stream",
     "text": [
      "/home/sadat/miniconda3/envs/cs721/lib/python3.8/site-packages/sklearn/metrics/_classification.py:1471: UndefinedMetricWarning: Precision is ill-defined and being set to 0.0 due to no predicted samples. Use `zero_division` parameter to control this behavior.\n",
      "  _warn_prf(average, modifier, msg_start, len(result))\n"
     ]
    },
    {
     "name": "stdout",
     "output_type": "stream",
     "text": [
      "Epoch [7/50], Loss: 0.2137\n",
      "Validation Loss: 0.6924, Accuracy: 0.4875, F1 Score: 0.6555, Precision: 0.4875, Recall: 1.0000, ROC AUC: 0.4653\n",
      "Epoch [8/50], Loss: 0.2126\n",
      "Validation Loss: 0.6906, Accuracy: 0.4875, F1 Score: 0.6555, Precision: 0.4875, Recall: 1.0000, ROC AUC: 0.6019\n",
      "Early stopping triggered.\n",
      "Fold 3\n",
      "Epoch [1/50], Loss: 1.2131\n",
      "Validation Loss: 137.0656, Accuracy: 0.4684, F1 Score: 0.0000, Precision: 0.0000, Recall: 0.0000, ROC AUC: 0.4440\n"
     ]
    },
    {
     "name": "stderr",
     "output_type": "stream",
     "text": [
      "/home/sadat/miniconda3/envs/cs721/lib/python3.8/site-packages/sklearn/metrics/_classification.py:1471: UndefinedMetricWarning: Precision is ill-defined and being set to 0.0 due to no predicted samples. Use `zero_division` parameter to control this behavior.\n",
      "  _warn_prf(average, modifier, msg_start, len(result))\n"
     ]
    },
    {
     "name": "stdout",
     "output_type": "stream",
     "text": [
      "Epoch [2/50], Loss: 0.4913\n",
      "Validation Loss: 1.0030, Accuracy: 0.4684, F1 Score: 0.0000, Precision: 0.0000, Recall: 0.0000, ROC AUC: 0.4350\n"
     ]
    },
    {
     "name": "stderr",
     "output_type": "stream",
     "text": [
      "/home/sadat/miniconda3/envs/cs721/lib/python3.8/site-packages/sklearn/metrics/_classification.py:1471: UndefinedMetricWarning: Precision is ill-defined and being set to 0.0 due to no predicted samples. Use `zero_division` parameter to control this behavior.\n",
      "  _warn_prf(average, modifier, msg_start, len(result))\n"
     ]
    },
    {
     "name": "stdout",
     "output_type": "stream",
     "text": [
      "Epoch [3/50], Loss: 0.2220\n",
      "Validation Loss: 0.6960, Accuracy: 0.5316, F1 Score: 0.6942, Precision: 0.5316, Recall: 1.0000, ROC AUC: 0.4839\n",
      "Epoch [4/50], Loss: 0.2188\n",
      "Validation Loss: 0.6983, Accuracy: 0.4684, F1 Score: 0.0000, Precision: 0.0000, Recall: 0.0000, ROC AUC: 0.5119\n"
     ]
    },
    {
     "name": "stderr",
     "output_type": "stream",
     "text": [
      "/home/sadat/miniconda3/envs/cs721/lib/python3.8/site-packages/sklearn/metrics/_classification.py:1471: UndefinedMetricWarning: Precision is ill-defined and being set to 0.0 due to no predicted samples. Use `zero_division` parameter to control this behavior.\n",
      "  _warn_prf(average, modifier, msg_start, len(result))\n"
     ]
    },
    {
     "name": "stdout",
     "output_type": "stream",
     "text": [
      "Epoch [5/50], Loss: 0.2100\n",
      "Validation Loss: 0.6992, Accuracy: 0.4684, F1 Score: 0.0000, Precision: 0.0000, Recall: 0.0000, ROC AUC: 0.5994\n"
     ]
    },
    {
     "name": "stderr",
     "output_type": "stream",
     "text": [
      "/home/sadat/miniconda3/envs/cs721/lib/python3.8/site-packages/sklearn/metrics/_classification.py:1471: UndefinedMetricWarning: Precision is ill-defined and being set to 0.0 due to no predicted samples. Use `zero_division` parameter to control this behavior.\n",
      "  _warn_prf(average, modifier, msg_start, len(result))\n"
     ]
    },
    {
     "name": "stdout",
     "output_type": "stream",
     "text": [
      "Epoch [6/50], Loss: 0.2120\n",
      "Validation Loss: 0.7065, Accuracy: 0.4684, F1 Score: 0.0000, Precision: 0.0000, Recall: 0.0000, ROC AUC: 0.5026\n"
     ]
    },
    {
     "name": "stderr",
     "output_type": "stream",
     "text": [
      "/home/sadat/miniconda3/envs/cs721/lib/python3.8/site-packages/sklearn/metrics/_classification.py:1471: UndefinedMetricWarning: Precision is ill-defined and being set to 0.0 due to no predicted samples. Use `zero_division` parameter to control this behavior.\n",
      "  _warn_prf(average, modifier, msg_start, len(result))\n"
     ]
    },
    {
     "name": "stdout",
     "output_type": "stream",
     "text": [
      "Epoch [7/50], Loss: 0.2101\n",
      "Validation Loss: 0.6771, Accuracy: 0.5316, F1 Score: 0.6942, Precision: 0.5316, Recall: 1.0000, ROC AUC: 0.4318\n",
      "Epoch [8/50], Loss: 0.2094\n",
      "Validation Loss: 0.6910, Accuracy: 0.5316, F1 Score: 0.6942, Precision: 0.5316, Recall: 1.0000, ROC AUC: 0.4913\n",
      "Early stopping triggered.\n",
      "Fold 4\n",
      "Epoch [1/50], Loss: 1.1120\n",
      "Validation Loss: 20.8123, Accuracy: 0.4810, F1 Score: 0.0000, Precision: 0.0000, Recall: 0.0000, ROC AUC: 0.5193\n"
     ]
    },
    {
     "name": "stderr",
     "output_type": "stream",
     "text": [
      "/home/sadat/miniconda3/envs/cs721/lib/python3.8/site-packages/sklearn/metrics/_classification.py:1471: UndefinedMetricWarning: Precision is ill-defined and being set to 0.0 due to no predicted samples. Use `zero_division` parameter to control this behavior.\n",
      "  _warn_prf(average, modifier, msg_start, len(result))\n"
     ]
    },
    {
     "name": "stdout",
     "output_type": "stream",
     "text": [
      "Epoch [2/50], Loss: 0.4355\n",
      "Validation Loss: 1.1629, Accuracy: 0.4810, F1 Score: 0.0000, Precision: 0.0000, Recall: 0.0000, ROC AUC: 0.5905\n"
     ]
    },
    {
     "name": "stderr",
     "output_type": "stream",
     "text": [
      "/home/sadat/miniconda3/envs/cs721/lib/python3.8/site-packages/sklearn/metrics/_classification.py:1471: UndefinedMetricWarning: Precision is ill-defined and being set to 0.0 due to no predicted samples. Use `zero_division` parameter to control this behavior.\n",
      "  _warn_prf(average, modifier, msg_start, len(result))\n"
     ]
    },
    {
     "name": "stdout",
     "output_type": "stream",
     "text": [
      "Epoch [3/50], Loss: 0.2250\n",
      "Validation Loss: 0.7007, Accuracy: 0.5190, F1 Score: 0.6833, Precision: 0.5190, Recall: 1.0000, ROC AUC: 0.4945\n",
      "Epoch [4/50], Loss: 0.2124\n",
      "Validation Loss: 0.7007, Accuracy: 0.4810, F1 Score: 0.0000, Precision: 0.0000, Recall: 0.0000, ROC AUC: 0.4708\n"
     ]
    },
    {
     "name": "stderr",
     "output_type": "stream",
     "text": [
      "/home/sadat/miniconda3/envs/cs721/lib/python3.8/site-packages/sklearn/metrics/_classification.py:1471: UndefinedMetricWarning: Precision is ill-defined and being set to 0.0 due to no predicted samples. Use `zero_division` parameter to control this behavior.\n",
      "  _warn_prf(average, modifier, msg_start, len(result))\n"
     ]
    },
    {
     "name": "stdout",
     "output_type": "stream",
     "text": [
      "Epoch [5/50], Loss: 0.2126\n",
      "Validation Loss: 0.7146, Accuracy: 0.4810, F1 Score: 0.0000, Precision: 0.0000, Recall: 0.0000, ROC AUC: 0.5035\n"
     ]
    },
    {
     "name": "stderr",
     "output_type": "stream",
     "text": [
      "/home/sadat/miniconda3/envs/cs721/lib/python3.8/site-packages/sklearn/metrics/_classification.py:1471: UndefinedMetricWarning: Precision is ill-defined and being set to 0.0 due to no predicted samples. Use `zero_division` parameter to control this behavior.\n",
      "  _warn_prf(average, modifier, msg_start, len(result))\n"
     ]
    },
    {
     "name": "stdout",
     "output_type": "stream",
     "text": [
      "Epoch [6/50], Loss: 0.2099\n",
      "Validation Loss: 0.7044, Accuracy: 0.4810, F1 Score: 0.0000, Precision: 0.0000, Recall: 0.0000, ROC AUC: 0.4981\n"
     ]
    },
    {
     "name": "stderr",
     "output_type": "stream",
     "text": [
      "/home/sadat/miniconda3/envs/cs721/lib/python3.8/site-packages/sklearn/metrics/_classification.py:1471: UndefinedMetricWarning: Precision is ill-defined and being set to 0.0 due to no predicted samples. Use `zero_division` parameter to control this behavior.\n",
      "  _warn_prf(average, modifier, msg_start, len(result))\n"
     ]
    },
    {
     "name": "stdout",
     "output_type": "stream",
     "text": [
      "Epoch [7/50], Loss: 0.2096\n",
      "Validation Loss: 0.6805, Accuracy: 0.5190, F1 Score: 0.6833, Precision: 0.5190, Recall: 1.0000, ROC AUC: 0.4775\n",
      "Epoch [8/50], Loss: 0.2096\n",
      "Validation Loss: 0.6961, Accuracy: 0.4810, F1 Score: 0.0000, Precision: 0.0000, Recall: 0.0000, ROC AUC: 0.5379\n",
      "Early stopping triggered.\n",
      "Fold 5\n"
     ]
    },
    {
     "name": "stderr",
     "output_type": "stream",
     "text": [
      "/home/sadat/miniconda3/envs/cs721/lib/python3.8/site-packages/sklearn/metrics/_classification.py:1471: UndefinedMetricWarning: Precision is ill-defined and being set to 0.0 due to no predicted samples. Use `zero_division` parameter to control this behavior.\n",
      "  _warn_prf(average, modifier, msg_start, len(result))\n"
     ]
    },
    {
     "name": "stdout",
     "output_type": "stream",
     "text": [
      "Epoch [1/50], Loss: 1.3482\n",
      "Validation Loss: 795.6648, Accuracy: 0.5316, F1 Score: 0.6942, Precision: 0.5316, Recall: 1.0000, ROC AUC: 0.5000\n",
      "Epoch [2/50], Loss: 0.4339\n",
      "Validation Loss: 1.1973, Accuracy: 0.4684, F1 Score: 0.0000, Precision: 0.0000, Recall: 0.0000, ROC AUC: 0.5238\n"
     ]
    },
    {
     "name": "stderr",
     "output_type": "stream",
     "text": [
      "/home/sadat/miniconda3/envs/cs721/lib/python3.8/site-packages/sklearn/metrics/_classification.py:1471: UndefinedMetricWarning: Precision is ill-defined and being set to 0.0 due to no predicted samples. Use `zero_division` parameter to control this behavior.\n",
      "  _warn_prf(average, modifier, msg_start, len(result))\n"
     ]
    },
    {
     "name": "stdout",
     "output_type": "stream",
     "text": [
      "Epoch [3/50], Loss: 0.2284\n",
      "Validation Loss: 0.7020, Accuracy: 0.5316, F1 Score: 0.6942, Precision: 0.5316, Recall: 1.0000, ROC AUC: 0.4389\n",
      "Epoch [4/50], Loss: 0.2194\n",
      "Validation Loss: 0.6826, Accuracy: 0.5316, F1 Score: 0.6942, Precision: 0.5316, Recall: 1.0000, ROC AUC: 0.5264\n",
      "Epoch [5/50], Loss: 0.2201\n",
      "Validation Loss: 0.6833, Accuracy: 0.5316, F1 Score: 0.6942, Precision: 0.5316, Recall: 1.0000, ROC AUC: 0.4550\n",
      "Epoch [6/50], Loss: 0.2180\n",
      "Validation Loss: 0.7357, Accuracy: 0.4684, F1 Score: 0.0000, Precision: 0.0000, Recall: 0.0000, ROC AUC: 0.5135\n",
      "Early stopping triggered.\n",
      "Average Validation Accuracy for alpha: 0.3, lr: 0.1, momentum: 0.9: 0.4787\n",
      "Training alpha: 0.5, learning_rate: 0.001, momentum: 0.5\n",
      "Fold 1\n"
     ]
    },
    {
     "name": "stderr",
     "output_type": "stream",
     "text": [
      "/home/sadat/miniconda3/envs/cs721/lib/python3.8/site-packages/sklearn/metrics/_classification.py:1471: UndefinedMetricWarning: Precision is ill-defined and being set to 0.0 due to no predicted samples. Use `zero_division` parameter to control this behavior.\n",
      "  _warn_prf(average, modifier, msg_start, len(result))\n"
     ]
    },
    {
     "name": "stdout",
     "output_type": "stream",
     "text": [
      "Epoch [1/50], Loss: 1.0642\n",
      "Validation Loss: 2.0841, Accuracy: 0.4125, F1 Score: 0.5766, Precision: 0.4156, Recall: 0.9412, ROC AUC: 0.5793\n",
      "Epoch [2/50], Loss: 0.9323\n",
      "Validation Loss: 1.8546, Accuracy: 0.4375, F1 Score: 0.6018, Precision: 0.4304, Recall: 1.0000, ROC AUC: 0.5550\n",
      "Epoch [3/50], Loss: 0.8353\n",
      "Validation Loss: 1.7074, Accuracy: 0.4500, F1 Score: 0.5926, Precision: 0.4324, Recall: 0.9412, ROC AUC: 0.5505\n",
      "Epoch [4/50], Loss: 0.7469\n",
      "Validation Loss: 1.5848, Accuracy: 0.4375, F1 Score: 0.5794, Precision: 0.4247, Recall: 0.9118, ROC AUC: 0.5390\n",
      "Epoch [5/50], Loss: 0.6772\n",
      "Validation Loss: 1.5013, Accuracy: 0.4375, F1 Score: 0.5794, Precision: 0.4247, Recall: 0.9118, ROC AUC: 0.5301\n",
      "Epoch [6/50], Loss: 0.6322\n",
      "Validation Loss: 1.4465, Accuracy: 0.4250, F1 Score: 0.5660, Precision: 0.4167, Recall: 0.8824, ROC AUC: 0.5070\n",
      "Epoch [7/50], Loss: 0.5825\n",
      "Validation Loss: 1.3873, Accuracy: 0.4250, F1 Score: 0.5660, Precision: 0.4167, Recall: 0.8824, ROC AUC: 0.4763\n",
      "Epoch [8/50], Loss: 0.5426\n",
      "Validation Loss: 1.3495, Accuracy: 0.4250, F1 Score: 0.5660, Precision: 0.4167, Recall: 0.8824, ROC AUC: 0.4808\n",
      "Early stopping triggered.\n",
      "Fold 2\n",
      "Epoch [1/50], Loss: 1.0878\n",
      "Validation Loss: 1.8730, Accuracy: 0.4875, F1 Score: 0.3692, Precision: 0.4615, Recall: 0.3077, ROC AUC: 0.5272\n",
      "Epoch [2/50], Loss: 0.9463\n",
      "Validation Loss: 1.7030, Accuracy: 0.4750, F1 Score: 0.3636, Precision: 0.4444, Recall: 0.3077, ROC AUC: 0.5122\n",
      "Epoch [3/50], Loss: 0.8461\n",
      "Validation Loss: 1.5822, Accuracy: 0.5250, F1 Score: 0.5000, Precision: 0.5135, Recall: 0.4872, ROC AUC: 0.5028\n",
      "Epoch [4/50], Loss: 0.7625\n",
      "Validation Loss: 1.5011, Accuracy: 0.5000, F1 Score: 0.5000, Precision: 0.4878, Recall: 0.5128, ROC AUC: 0.4959\n",
      "Epoch [5/50], Loss: 0.7008\n",
      "Validation Loss: 1.4410, Accuracy: 0.5000, F1 Score: 0.5000, Precision: 0.4878, Recall: 0.5128, ROC AUC: 0.5097\n",
      "Epoch [6/50], Loss: 0.6410\n",
      "Validation Loss: 1.3872, Accuracy: 0.5000, F1 Score: 0.5455, Precision: 0.4898, Recall: 0.6154, ROC AUC: 0.4972\n",
      "Epoch [7/50], Loss: 0.6000\n",
      "Validation Loss: 1.3465, Accuracy: 0.4875, F1 Score: 0.5393, Precision: 0.4800, Recall: 0.6154, ROC AUC: 0.4853\n",
      "Epoch [8/50], Loss: 0.5635\n",
      "Validation Loss: 1.3185, Accuracy: 0.4750, F1 Score: 0.5000, Precision: 0.4667, Recall: 0.5385, ROC AUC: 0.4734\n",
      "Early stopping triggered.\n",
      "Fold 3\n",
      "Epoch [1/50], Loss: 1.0790\n",
      "Validation Loss: 2.0283, Accuracy: 0.4937, F1 Score: 0.5349, Precision: 0.5227, Recall: 0.5476, ROC AUC: 0.4762\n",
      "Epoch [2/50], Loss: 0.9412\n",
      "Validation Loss: 1.8442, Accuracy: 0.4684, F1 Score: 0.4878, Precision: 0.5000, Recall: 0.4762, ROC AUC: 0.4762\n",
      "Epoch [3/50], Loss: 0.8342\n",
      "Validation Loss: 1.7127, Accuracy: 0.4810, F1 Score: 0.4675, Precision: 0.5143, Recall: 0.4286, ROC AUC: 0.4665\n",
      "Epoch [4/50], Loss: 0.7505\n",
      "Validation Loss: 1.6026, Accuracy: 0.4684, F1 Score: 0.4750, Precision: 0.5000, Recall: 0.4524, ROC AUC: 0.4569\n",
      "Epoch [5/50], Loss: 0.6867\n",
      "Validation Loss: 1.5335, Accuracy: 0.4937, F1 Score: 0.4737, Precision: 0.5294, Recall: 0.4286, ROC AUC: 0.4640\n",
      "Epoch [6/50], Loss: 0.6315\n",
      "Validation Loss: 1.4718, Accuracy: 0.4810, F1 Score: 0.4938, Precision: 0.5128, Recall: 0.4762, ROC AUC: 0.4524\n",
      "Early stopping triggered.\n",
      "Fold 4\n",
      "Epoch [1/50], Loss: 1.0475\n",
      "Validation Loss: 2.0482, Accuracy: 0.4810, F1 Score: 0.2545, Precision: 0.5000, Recall: 0.1707, ROC AUC: 0.4332\n",
      "Epoch [2/50], Loss: 0.9043\n",
      "Validation Loss: 1.8599, Accuracy: 0.4557, F1 Score: 0.2951, Precision: 0.4500, Recall: 0.2195, ROC AUC: 0.4114\n",
      "Epoch [3/50], Loss: 0.8040\n",
      "Validation Loss: 1.7354, Accuracy: 0.4557, F1 Score: 0.2951, Precision: 0.4500, Recall: 0.2195, ROC AUC: 0.4230\n",
      "Epoch [4/50], Loss: 0.7300\n",
      "Validation Loss: 1.6482, Accuracy: 0.4430, F1 Score: 0.2903, Precision: 0.4286, Recall: 0.2195, ROC AUC: 0.4249\n",
      "Epoch [5/50], Loss: 0.6617\n",
      "Validation Loss: 1.5925, Accuracy: 0.4304, F1 Score: 0.2623, Precision: 0.4000, Recall: 0.1951, ROC AUC: 0.4089\n",
      "Epoch [6/50], Loss: 0.6132\n",
      "Validation Loss: 1.5351, Accuracy: 0.4304, F1 Score: 0.2857, Precision: 0.4091, Recall: 0.2195, ROC AUC: 0.4146\n",
      "Early stopping triggered.\n",
      "Fold 5\n",
      "Epoch [1/50], Loss: 1.0485\n",
      "Validation Loss: 2.0871, Accuracy: 0.4177, F1 Score: 0.4889, Precision: 0.4583, Recall: 0.5238, ROC AUC: 0.4241\n",
      "Epoch [2/50], Loss: 0.9127\n",
      "Validation Loss: 1.8644, Accuracy: 0.4430, F1 Score: 0.4359, Precision: 0.4722, Recall: 0.4048, ROC AUC: 0.4009\n",
      "Epoch [3/50], Loss: 0.8006\n",
      "Validation Loss: 1.7179, Accuracy: 0.4177, F1 Score: 0.3429, Precision: 0.4286, Recall: 0.2857, ROC AUC: 0.3771\n",
      "Epoch [4/50], Loss: 0.7215\n",
      "Validation Loss: 1.6182, Accuracy: 0.4177, F1 Score: 0.3235, Precision: 0.4231, Recall: 0.2619, ROC AUC: 0.3784\n",
      "Epoch [5/50], Loss: 0.6617\n",
      "Validation Loss: 1.5596, Accuracy: 0.4177, F1 Score: 0.2069, Precision: 0.3750, Recall: 0.1429, ROC AUC: 0.3707\n",
      "Epoch [6/50], Loss: 0.6127\n",
      "Validation Loss: 1.4986, Accuracy: 0.3797, F1 Score: 0.2222, Precision: 0.3333, Recall: 0.1667, ROC AUC: 0.3636\n",
      "Epoch [7/50], Loss: 0.5722\n",
      "Validation Loss: 1.4541, Accuracy: 0.3797, F1 Score: 0.2222, Precision: 0.3333, Recall: 0.1667, ROC AUC: 0.3623\n",
      "Early stopping triggered.\n",
      "Average Validation Accuracy for alpha: 0.5, lr: 0.001, momentum: 0.5: 0.4382\n",
      "Training alpha: 0.5, learning_rate: 0.001, momentum: 0.8\n",
      "Fold 1\n",
      "Epoch [1/50], Loss: 1.0489\n",
      "Validation Loss: 1.8565, Accuracy: 0.4000, F1 Score: 0.5636, Precision: 0.4079, Recall: 0.9118, ROC AUC: 0.3517\n",
      "Epoch [2/50], Loss: 0.7872\n",
      "Validation Loss: 1.4823, Accuracy: 0.3000, F1 Score: 0.4167, Precision: 0.3226, Recall: 0.5882, ROC AUC: 0.3165\n",
      "Epoch [3/50], Loss: 0.6267\n",
      "Validation Loss: 1.3112, Accuracy: 0.3250, F1 Score: 0.4255, Precision: 0.3333, Recall: 0.5882, ROC AUC: 0.3095\n",
      "Epoch [4/50], Loss: 0.5355\n",
      "Validation Loss: 1.2453, Accuracy: 0.3375, F1 Score: 0.4421, Precision: 0.3443, Recall: 0.6176, ROC AUC: 0.3133\n",
      "Epoch [5/50], Loss: 0.4750\n",
      "Validation Loss: 1.1987, Accuracy: 0.3500, F1 Score: 0.4694, Precision: 0.3594, Recall: 0.6765, ROC AUC: 0.2807\n",
      "Epoch [6/50], Loss: 0.4299\n",
      "Validation Loss: 1.1650, Accuracy: 0.3500, F1 Score: 0.4222, Precision: 0.3393, Recall: 0.5588, ROC AUC: 0.2884\n",
      "Early stopping triggered.\n",
      "Fold 2\n",
      "Epoch [1/50], Loss: 1.0334\n",
      "Validation Loss: 1.8358, Accuracy: 0.5250, F1 Score: 0.6724, Precision: 0.5065, Recall: 1.0000, ROC AUC: 0.4941\n",
      "Epoch [2/50], Loss: 0.7743\n",
      "Validation Loss: 1.5630, Accuracy: 0.5250, F1 Score: 0.6346, Precision: 0.5077, Recall: 0.8462, ROC AUC: 0.4897\n",
      "Epoch [3/50], Loss: 0.6232\n",
      "Validation Loss: 1.4358, Accuracy: 0.4875, F1 Score: 0.4810, Precision: 0.4750, Recall: 0.4872, ROC AUC: 0.4978\n",
      "Epoch [4/50], Loss: 0.5275\n",
      "Validation Loss: 1.3707, Accuracy: 0.5250, F1 Score: 0.5957, Precision: 0.5091, Recall: 0.7179, ROC AUC: 0.4941\n",
      "Epoch [5/50], Loss: 0.4677\n",
      "Validation Loss: 1.3219, Accuracy: 0.5000, F1 Score: 0.5745, Precision: 0.4909, Recall: 0.6923, ROC AUC: 0.4834\n",
      "Epoch [6/50], Loss: 0.4319\n",
      "Validation Loss: 1.2889, Accuracy: 0.5000, F1 Score: 0.5833, Precision: 0.4912, Recall: 0.7179, ROC AUC: 0.4747\n",
      "Early stopping triggered.\n",
      "Fold 3\n",
      "Epoch [1/50], Loss: 1.0822\n",
      "Validation Loss: 1.8681, Accuracy: 0.4937, F1 Score: 0.5238, Precision: 0.5238, Recall: 0.5238, ROC AUC: 0.4897\n",
      "Epoch [2/50], Loss: 0.8241\n",
      "Validation Loss: 1.5979, Accuracy: 0.4937, F1 Score: 0.2857, Precision: 0.5714, Recall: 0.1905, ROC AUC: 0.4891\n",
      "Epoch [3/50], Loss: 0.6534\n",
      "Validation Loss: 1.4408, Accuracy: 0.4684, F1 Score: 0.3226, Precision: 0.5000, Recall: 0.2381, ROC AUC: 0.4891\n",
      "Epoch [4/50], Loss: 0.5562\n",
      "Validation Loss: 1.3697, Accuracy: 0.4557, F1 Score: 0.2456, Precision: 0.4667, Recall: 0.1667, ROC AUC: 0.4826\n",
      "Epoch [5/50], Loss: 0.4861\n",
      "Validation Loss: 1.3285, Accuracy: 0.4684, F1 Score: 0.5000, Precision: 0.5000, Recall: 0.5000, ROC AUC: 0.4717\n",
      "Epoch [6/50], Loss: 0.4424\n",
      "Validation Loss: 1.2820, Accuracy: 0.5063, F1 Score: 0.4348, Precision: 0.5556, Recall: 0.3571, ROC AUC: 0.4794\n",
      "Epoch [7/50], Loss: 0.4081\n",
      "Validation Loss: 1.2740, Accuracy: 0.4684, F1 Score: 0.3000, Precision: 0.5000, Recall: 0.2143, ROC AUC: 0.4852\n",
      "Epoch [8/50], Loss: 0.3909\n",
      "Validation Loss: 1.2584, Accuracy: 0.4810, F1 Score: 0.4058, Precision: 0.5185, Recall: 0.3333, ROC AUC: 0.4704\n",
      "Epoch [9/50], Loss: 0.3718\n",
      "Validation Loss: 1.2544, Accuracy: 0.4810, F1 Score: 0.4058, Precision: 0.5185, Recall: 0.3333, ROC AUC: 0.4627\n",
      "Epoch [10/50], Loss: 0.3567\n",
      "Validation Loss: 1.2381, Accuracy: 0.4557, F1 Score: 0.3175, Precision: 0.4762, Recall: 0.2381, ROC AUC: 0.4813\n",
      "Epoch [11/50], Loss: 0.3532\n",
      "Validation Loss: 1.2343, Accuracy: 0.4684, F1 Score: 0.2759, Precision: 0.5000, Recall: 0.1905, ROC AUC: 0.4929\n",
      "Early stopping triggered.\n",
      "Fold 4\n",
      "Epoch [1/50], Loss: 1.0212\n",
      "Validation Loss: 1.9529, Accuracy: 0.4810, F1 Score: 0.1961, Precision: 0.5000, Recall: 0.1220, ROC AUC: 0.4974\n",
      "Epoch [2/50], Loss: 0.7664\n",
      "Validation Loss: 1.6653, Accuracy: 0.4937, F1 Score: 0.2857, Precision: 0.5333, Recall: 0.1951, ROC AUC: 0.4641\n",
      "Epoch [3/50], Loss: 0.6207\n",
      "Validation Loss: 1.5248, Accuracy: 0.5063, F1 Score: 0.3390, Precision: 0.5556, Recall: 0.2439, ROC AUC: 0.4685\n",
      "Epoch [4/50], Loss: 0.5351\n",
      "Validation Loss: 1.4525, Accuracy: 0.4684, F1 Score: 0.4878, Precision: 0.4878, Recall: 0.4878, ROC AUC: 0.4480\n",
      "Epoch [5/50], Loss: 0.4659\n",
      "Validation Loss: 1.4081, Accuracy: 0.4810, F1 Score: 0.4225, Precision: 0.5000, Recall: 0.3659, ROC AUC: 0.4454\n",
      "Epoch [6/50], Loss: 0.4303\n",
      "Validation Loss: 1.3662, Accuracy: 0.5316, F1 Score: 0.4308, Precision: 0.5833, Recall: 0.3415, ROC AUC: 0.4570\n",
      "Epoch [7/50], Loss: 0.4073\n",
      "Validation Loss: 1.3450, Accuracy: 0.5190, F1 Score: 0.3667, Precision: 0.5789, Recall: 0.2683, ROC AUC: 0.4467\n",
      "Epoch [8/50], Loss: 0.3900\n",
      "Validation Loss: 1.3151, Accuracy: 0.5063, F1 Score: 0.3158, Precision: 0.5625, Recall: 0.2195, ROC AUC: 0.4474\n",
      "Epoch [9/50], Loss: 0.3695\n",
      "Validation Loss: 1.3047, Accuracy: 0.5063, F1 Score: 0.3607, Precision: 0.5500, Recall: 0.2683, ROC AUC: 0.4480\n",
      "Epoch [10/50], Loss: 0.3613\n",
      "Validation Loss: 1.2993, Accuracy: 0.4684, F1 Score: 0.3824, Precision: 0.4815, Recall: 0.3171, ROC AUC: 0.4339\n",
      "Epoch [11/50], Loss: 0.3536\n",
      "Validation Loss: 1.2957, Accuracy: 0.4937, F1 Score: 0.2857, Precision: 0.5333, Recall: 0.1951, ROC AUC: 0.4371\n",
      "Early stopping triggered.\n",
      "Fold 5\n",
      "Epoch [1/50], Loss: 1.0181\n",
      "Validation Loss: 1.8281, Accuracy: 0.5063, F1 Score: 0.5895, Precision: 0.5283, Recall: 0.6667, ROC AUC: 0.4749\n",
      "Epoch [2/50], Loss: 0.7779\n",
      "Validation Loss: 1.5240, Accuracy: 0.4557, F1 Score: 0.4416, Precision: 0.4857, Recall: 0.4048, ROC AUC: 0.4640\n",
      "Epoch [3/50], Loss: 0.6248\n",
      "Validation Loss: 1.3881, Accuracy: 0.4557, F1 Score: 0.2456, Precision: 0.4667, Recall: 0.1667, ROC AUC: 0.4376\n",
      "Epoch [4/50], Loss: 0.5405\n",
      "Validation Loss: 1.3232, Accuracy: 0.4557, F1 Score: 0.3582, Precision: 0.4800, Recall: 0.2857, ROC AUC: 0.4858\n",
      "Epoch [5/50], Loss: 0.4672\n",
      "Validation Loss: 1.2631, Accuracy: 0.4684, F1 Score: 0.3636, Precision: 0.5000, Recall: 0.2857, ROC AUC: 0.4595\n",
      "Epoch [6/50], Loss: 0.4208\n",
      "Validation Loss: 1.2226, Accuracy: 0.4557, F1 Score: 0.3768, Precision: 0.4815, Recall: 0.3095, ROC AUC: 0.4607\n",
      "Early stopping triggered.\n",
      "Average Validation Accuracy for alpha: 0.5, lr: 0.001, momentum: 0.8: 0.4535\n",
      "Training alpha: 0.5, learning_rate: 0.001, momentum: 0.9\n",
      "Fold 1\n",
      "Epoch [1/50], Loss: 1.0254\n",
      "Validation Loss: 1.7965, Accuracy: 0.4375, F1 Score: 0.5361, Precision: 0.4127, Recall: 0.7647, ROC AUC: 0.5288\n",
      "Epoch [2/50], Loss: 0.7166\n",
      "Validation Loss: 1.4032, Accuracy: 0.4375, F1 Score: 0.5455, Precision: 0.4154, Recall: 0.7941, ROC AUC: 0.4239\n",
      "Epoch [3/50], Loss: 0.5325\n",
      "Validation Loss: 1.2796, Accuracy: 0.4125, F1 Score: 0.5053, Precision: 0.3934, Recall: 0.7059, ROC AUC: 0.3817\n",
      "Epoch [4/50], Loss: 0.4427\n",
      "Validation Loss: 1.2199, Accuracy: 0.4000, F1 Score: 0.5000, Precision: 0.3871, Recall: 0.7059, ROC AUC: 0.4079\n",
      "Epoch [5/50], Loss: 0.3918\n",
      "Validation Loss: 1.1765, Accuracy: 0.4250, F1 Score: 0.4390, Precision: 0.3750, Recall: 0.5294, ROC AUC: 0.4028\n",
      "Epoch [6/50], Loss: 0.3646\n",
      "Validation Loss: 1.1621, Accuracy: 0.4500, F1 Score: 0.5686, Precision: 0.4265, Recall: 0.8529, ROC AUC: 0.4092\n",
      "Epoch [7/50], Loss: 0.3495\n",
      "Validation Loss: 1.1527, Accuracy: 0.4500, F1 Score: 0.5600, Precision: 0.4242, Recall: 0.8235, ROC AUC: 0.4009\n",
      "Epoch [8/50], Loss: 0.3412\n",
      "Validation Loss: 1.1545, Accuracy: 0.3750, F1 Score: 0.4048, Precision: 0.3400, Recall: 0.5000, ROC AUC: 0.3951\n",
      "Epoch [9/50], Loss: 0.3357\n",
      "Validation Loss: 1.1527, Accuracy: 0.4375, F1 Score: 0.5361, Precision: 0.4127, Recall: 0.7647, ROC AUC: 0.3772\n",
      "Epoch [10/50], Loss: 0.3312\n",
      "Validation Loss: 1.1595, Accuracy: 0.3750, F1 Score: 0.3590, Precision: 0.3182, Recall: 0.4118, ROC AUC: 0.3734\n",
      "Epoch [11/50], Loss: 0.3274\n",
      "Validation Loss: 1.1544, Accuracy: 0.3375, F1 Score: 0.3765, Precision: 0.3137, Recall: 0.4706, ROC AUC: 0.3542\n",
      "Early stopping triggered.\n",
      "Fold 2\n",
      "Epoch [1/50], Loss: 1.0231\n",
      "Validation Loss: 1.7938, Accuracy: 0.6000, F1 Score: 0.4839, Precision: 0.6522, Recall: 0.3846, ROC AUC: 0.6310\n",
      "Epoch [2/50], Loss: 0.6990\n",
      "Validation Loss: 1.4528, Accuracy: 0.6000, F1 Score: 0.5676, Precision: 0.6000, Recall: 0.5385, ROC AUC: 0.6510\n",
      "Epoch [3/50], Loss: 0.5294\n",
      "Validation Loss: 1.3451, Accuracy: 0.5875, F1 Score: 0.5217, Precision: 0.6000, Recall: 0.4615, ROC AUC: 0.6173\n",
      "Epoch [4/50], Loss: 0.4314\n",
      "Validation Loss: 1.2479, Accuracy: 0.5000, F1 Score: 0.5122, Precision: 0.4884, Recall: 0.5385, ROC AUC: 0.5910\n",
      "Epoch [5/50], Loss: 0.3908\n",
      "Validation Loss: 1.2162, Accuracy: 0.5250, F1 Score: 0.5870, Precision: 0.5094, Recall: 0.6923, ROC AUC: 0.5635\n",
      "Epoch [6/50], Loss: 0.3573\n",
      "Validation Loss: 1.1996, Accuracy: 0.5375, F1 Score: 0.5934, Precision: 0.5192, Recall: 0.6923, ROC AUC: 0.5466\n",
      "Early stopping triggered.\n",
      "Fold 3\n",
      "Epoch [1/50], Loss: 1.0570\n",
      "Validation Loss: 1.7634, Accuracy: 0.4810, F1 Score: 0.4225, Precision: 0.5172, Recall: 0.3571, ROC AUC: 0.5103\n",
      "Epoch [2/50], Loss: 0.7266\n",
      "Validation Loss: 1.3922, Accuracy: 0.5949, F1 Score: 0.6667, Precision: 0.5926, Recall: 0.7619, ROC AUC: 0.5167\n",
      "Epoch [3/50], Loss: 0.5430\n",
      "Validation Loss: 1.2799, Accuracy: 0.4684, F1 Score: 0.1923, Precision: 0.5000, Recall: 0.1190, ROC AUC: 0.4865\n",
      "Epoch [4/50], Loss: 0.4474\n",
      "Validation Loss: 1.2158, Accuracy: 0.4557, F1 Score: 0.4110, Precision: 0.4839, Recall: 0.3571, ROC AUC: 0.4376\n",
      "Epoch [5/50], Loss: 0.3883\n",
      "Validation Loss: 1.1688, Accuracy: 0.4304, F1 Score: 0.4304, Precision: 0.4595, Recall: 0.4048, ROC AUC: 0.4389\n",
      "Epoch [6/50], Loss: 0.3563\n",
      "Validation Loss: 1.1430, Accuracy: 0.4304, F1 Score: 0.3662, Precision: 0.4483, Recall: 0.3095, ROC AUC: 0.4344\n",
      "Epoch [7/50], Loss: 0.3419\n",
      "Validation Loss: 1.1313, Accuracy: 0.4304, F1 Score: 0.2623, Precision: 0.4211, Recall: 0.1905, ROC AUC: 0.4344\n",
      "Early stopping triggered.\n",
      "Fold 4\n",
      "Epoch [1/50], Loss: 1.0390\n",
      "Validation Loss: 1.9249, Accuracy: 0.4684, F1 Score: 0.1923, Precision: 0.4545, Recall: 0.1220, ROC AUC: 0.5276\n",
      "Epoch [2/50], Loss: 0.7147\n",
      "Validation Loss: 1.5534, Accuracy: 0.5316, F1 Score: 0.6783, Precision: 0.5270, Recall: 0.9512, ROC AUC: 0.4743\n",
      "Epoch [3/50], Loss: 0.5309\n",
      "Validation Loss: 1.3724, Accuracy: 0.5063, F1 Score: 0.6723, Precision: 0.5128, Recall: 0.9756, ROC AUC: 0.4814\n",
      "Epoch [4/50], Loss: 0.4354\n",
      "Validation Loss: 1.3138, Accuracy: 0.4684, F1 Score: 0.2759, Precision: 0.4706, Recall: 0.1951, ROC AUC: 0.4891\n",
      "Epoch [5/50], Loss: 0.3884\n",
      "Validation Loss: 1.2847, Accuracy: 0.4430, F1 Score: 0.0435, Precision: 0.2000, Recall: 0.0244, ROC AUC: 0.4801\n",
      "Epoch [6/50], Loss: 0.3658\n",
      "Validation Loss: 1.2472, Accuracy: 0.4937, F1 Score: 0.6154, Precision: 0.5079, Recall: 0.7805, ROC AUC: 0.4416\n",
      "Epoch [7/50], Loss: 0.3521\n",
      "Validation Loss: 1.2460, Accuracy: 0.4177, F1 Score: 0.4889, Precision: 0.4490, Recall: 0.5366, ROC AUC: 0.4435\n",
      "Early stopping triggered.\n",
      "Fold 5\n",
      "Epoch [1/50], Loss: 1.0172\n",
      "Validation Loss: 1.8848, Accuracy: 0.4684, F1 Score: 0.0455, Precision: 0.5000, Recall: 0.0238, ROC AUC: 0.4762\n",
      "Epoch [2/50], Loss: 0.7049\n",
      "Validation Loss: 1.5463, Accuracy: 0.4810, F1 Score: 0.5591, Precision: 0.5098, Recall: 0.6190, ROC AUC: 0.4633\n",
      "Epoch [3/50], Loss: 0.5374\n",
      "Validation Loss: 1.4082, Accuracy: 0.4810, F1 Score: 0.6168, Precision: 0.5077, Recall: 0.7857, ROC AUC: 0.4324\n",
      "Epoch [4/50], Loss: 0.4455\n",
      "Validation Loss: 1.3587, Accuracy: 0.4557, F1 Score: 0.2182, Precision: 0.4615, Recall: 0.1429, ROC AUC: 0.4073\n",
      "Epoch [5/50], Loss: 0.3906\n",
      "Validation Loss: 1.3262, Accuracy: 0.4304, F1 Score: 0.0816, Precision: 0.2857, Recall: 0.0476, ROC AUC: 0.3687\n",
      "Epoch [6/50], Loss: 0.3605\n",
      "Validation Loss: 1.3100, Accuracy: 0.4557, F1 Score: 0.1887, Precision: 0.4545, Recall: 0.1190, ROC AUC: 0.3777\n",
      "Epoch [7/50], Loss: 0.3491\n",
      "Validation Loss: 1.2884, Accuracy: 0.4051, F1 Score: 0.2295, Precision: 0.3684, Recall: 0.1667, ROC AUC: 0.3662\n",
      "Early stopping triggered.\n",
      "Average Validation Accuracy for alpha: 0.5, lr: 0.001, momentum: 0.9: 0.4256\n",
      "Training alpha: 0.5, learning_rate: 0.01, momentum: 0.5\n",
      "Fold 1\n",
      "Epoch [1/50], Loss: 0.8516\n",
      "Validation Loss: 1.3856, Accuracy: 0.4250, F1 Score: 0.5965, Precision: 0.4250, Recall: 1.0000, ROC AUC: 0.4597\n",
      "Epoch [2/50], Loss: 0.4899\n",
      "Validation Loss: 1.2312, Accuracy: 0.5750, F1 Score: 0.0000, Precision: 0.0000, Recall: 0.0000, ROC AUC: 0.3095\n"
     ]
    },
    {
     "name": "stderr",
     "output_type": "stream",
     "text": [
      "/home/sadat/miniconda3/envs/cs721/lib/python3.8/site-packages/sklearn/metrics/_classification.py:1471: UndefinedMetricWarning: Precision is ill-defined and being set to 0.0 due to no predicted samples. Use `zero_division` parameter to control this behavior.\n",
      "  _warn_prf(average, modifier, msg_start, len(result))\n"
     ]
    },
    {
     "name": "stdout",
     "output_type": "stream",
     "text": [
      "Epoch [3/50], Loss: 0.3902\n",
      "Validation Loss: 1.1817, Accuracy: 0.4250, F1 Score: 0.2812, Precision: 0.3000, Recall: 0.2647, ROC AUC: 0.3223\n",
      "Epoch [4/50], Loss: 0.3614\n",
      "Validation Loss: 1.1478, Accuracy: 0.3750, F1 Score: 0.5192, Precision: 0.3857, Recall: 0.7941, ROC AUC: 0.3210\n",
      "Epoch [5/50], Loss: 0.3490\n",
      "Validation Loss: 1.1570, Accuracy: 0.4125, F1 Score: 0.5841, Precision: 0.4177, Recall: 0.9706, ROC AUC: 0.4003\n",
      "Epoch [6/50], Loss: 0.3353\n",
      "Validation Loss: 1.1378, Accuracy: 0.4250, F1 Score: 0.5893, Precision: 0.4231, Recall: 0.9706, ROC AUC: 0.3971\n",
      "Epoch [7/50], Loss: 0.3287\n",
      "Validation Loss: 1.1565, Accuracy: 0.4375, F1 Score: 0.5361, Precision: 0.4127, Recall: 0.7647, ROC AUC: 0.3919\n",
      "Early stopping triggered.\n",
      "Fold 2\n",
      "Epoch [1/50], Loss: 0.8583\n",
      "Validation Loss: 1.4689, Accuracy: 0.3875, F1 Score: 0.4615, Precision: 0.4038, Recall: 0.5385, ROC AUC: 0.3740\n",
      "Epoch [2/50], Loss: 0.4890\n",
      "Validation Loss: 1.3503, Accuracy: 0.4875, F1 Score: 0.6555, Precision: 0.4875, Recall: 1.0000, ROC AUC: 0.3583\n",
      "Epoch [3/50], Loss: 0.3938\n",
      "Validation Loss: 1.3154, Accuracy: 0.3625, F1 Score: 0.4742, Precision: 0.3966, Recall: 0.5897, ROC AUC: 0.3021\n",
      "Epoch [4/50], Loss: 0.3627\n",
      "Validation Loss: 1.2646, Accuracy: 0.3625, F1 Score: 0.3544, Precision: 0.3500, Recall: 0.3590, ROC AUC: 0.3277\n",
      "Epoch [5/50], Loss: 0.3413\n",
      "Validation Loss: 1.2703, Accuracy: 0.3250, F1 Score: 0.4600, Precision: 0.3770, Recall: 0.5897, ROC AUC: 0.3258\n",
      "Epoch [6/50], Loss: 0.3293\n",
      "Validation Loss: 1.2910, Accuracy: 0.4625, F1 Score: 0.2182, Precision: 0.3750, Recall: 0.1538, ROC AUC: 0.2977\n",
      "Epoch [7/50], Loss: 0.3237\n",
      "Validation Loss: 1.2962, Accuracy: 0.4125, F1 Score: 0.2295, Precision: 0.3182, Recall: 0.1795, ROC AUC: 0.3189\n",
      "Early stopping triggered.\n",
      "Fold 3\n",
      "Epoch [1/50], Loss: 0.8504\n",
      "Validation Loss: 1.3292, Accuracy: 0.5443, F1 Score: 0.7000, Precision: 0.5385, Recall: 1.0000, ROC AUC: 0.4318\n",
      "Epoch [2/50], Loss: 0.4886\n",
      "Validation Loss: 1.1818, Accuracy: 0.4177, F1 Score: 0.0800, Precision: 0.2500, Recall: 0.0476, ROC AUC: 0.4163\n",
      "Epoch [3/50], Loss: 0.3854\n",
      "Validation Loss: 1.1311, Accuracy: 0.4304, F1 Score: 0.3478, Precision: 0.4444, Recall: 0.2857, ROC AUC: 0.4279\n",
      "Epoch [4/50], Loss: 0.3477\n",
      "Validation Loss: 1.1139, Accuracy: 0.4177, F1 Score: 0.0417, Precision: 0.1667, Recall: 0.0238, ROC AUC: 0.4369\n",
      "Epoch [5/50], Loss: 0.3435\n",
      "Validation Loss: 1.1035, Accuracy: 0.4430, F1 Score: 0.0000, Precision: 0.0000, Recall: 0.0000, ROC AUC: 0.4279\n",
      "Epoch [6/50], Loss: 0.3327\n",
      "Validation Loss: 1.0846, Accuracy: 0.4684, F1 Score: 0.5227, Precision: 0.5000, Recall: 0.5476, ROC AUC: 0.4356\n",
      "Early stopping triggered.\n",
      "Fold 4\n",
      "Epoch [1/50], Loss: 0.8293\n",
      "Validation Loss: 1.4979, Accuracy: 0.4430, F1 Score: 0.5926, Precision: 0.4776, Recall: 0.7805, ROC AUC: 0.4499\n",
      "Epoch [2/50], Loss: 0.4760\n",
      "Validation Loss: 1.2914, Accuracy: 0.4810, F1 Score: 0.0000, Precision: 0.0000, Recall: 0.0000, ROC AUC: 0.4288\n"
     ]
    },
    {
     "name": "stderr",
     "output_type": "stream",
     "text": [
      "/home/sadat/miniconda3/envs/cs721/lib/python3.8/site-packages/sklearn/metrics/_classification.py:1471: UndefinedMetricWarning: Precision is ill-defined and being set to 0.0 due to no predicted samples. Use `zero_division` parameter to control this behavior.\n",
      "  _warn_prf(average, modifier, msg_start, len(result))\n"
     ]
    },
    {
     "name": "stdout",
     "output_type": "stream",
     "text": [
      "Epoch [3/50], Loss: 0.3842\n",
      "Validation Loss: 1.2038, Accuracy: 0.5190, F1 Score: 0.6780, Precision: 0.5195, Recall: 0.9756, ROC AUC: 0.4063\n",
      "Epoch [4/50], Loss: 0.3523\n",
      "Validation Loss: 1.2073, Accuracy: 0.4810, F1 Score: 0.0000, Precision: 0.0000, Recall: 0.0000, ROC AUC: 0.3947\n"
     ]
    },
    {
     "name": "stderr",
     "output_type": "stream",
     "text": [
      "/home/sadat/miniconda3/envs/cs721/lib/python3.8/site-packages/sklearn/metrics/_classification.py:1471: UndefinedMetricWarning: Precision is ill-defined and being set to 0.0 due to no predicted samples. Use `zero_division` parameter to control this behavior.\n",
      "  _warn_prf(average, modifier, msg_start, len(result))\n"
     ]
    },
    {
     "name": "stdout",
     "output_type": "stream",
     "text": [
      "Epoch [5/50], Loss: 0.3422\n",
      "Validation Loss: 1.1727, Accuracy: 0.4177, F1 Score: 0.4250, Precision: 0.4359, Recall: 0.4146, ROC AUC: 0.3902\n",
      "Epoch [6/50], Loss: 0.3314\n",
      "Validation Loss: 1.2126, Accuracy: 0.4684, F1 Score: 0.1923, Precision: 0.4545, Recall: 0.1220, ROC AUC: 0.3947\n",
      "Epoch [7/50], Loss: 0.3198\n",
      "Validation Loss: 1.2025, Accuracy: 0.4177, F1 Score: 0.5577, Precision: 0.4603, Recall: 0.7073, ROC AUC: 0.3659\n",
      "Epoch [8/50], Loss: 0.3100\n",
      "Validation Loss: 1.2158, Accuracy: 0.4430, F1 Score: 0.5111, Precision: 0.4694, Recall: 0.5610, ROC AUC: 0.4024\n",
      "Early stopping triggered.\n",
      "Fold 5\n",
      "Epoch [1/50], Loss: 0.8558\n",
      "Validation Loss: 1.4220, Accuracy: 0.5316, F1 Score: 0.6942, Precision: 0.5316, Recall: 1.0000, ROC AUC: 0.4620\n",
      "Epoch [2/50], Loss: 0.4948\n",
      "Validation Loss: 1.3197, Accuracy: 0.4557, F1 Score: 0.0000, Precision: 0.0000, Recall: 0.0000, ROC AUC: 0.4183\n",
      "Epoch [3/50], Loss: 0.3908\n",
      "Validation Loss: 1.2780, Accuracy: 0.4304, F1 Score: 0.1176, Precision: 0.3333, Recall: 0.0714, ROC AUC: 0.4054\n",
      "Epoch [4/50], Loss: 0.3579\n",
      "Validation Loss: 1.2626, Accuracy: 0.4810, F1 Score: 0.4533, Precision: 0.5152, Recall: 0.4048, ROC AUC: 0.4517\n",
      "Epoch [5/50], Loss: 0.3352\n",
      "Validation Loss: 1.2788, Accuracy: 0.4810, F1 Score: 0.1277, Precision: 0.6000, Recall: 0.0714, ROC AUC: 0.4215\n",
      "Epoch [6/50], Loss: 0.3202\n",
      "Validation Loss: 1.2560, Accuracy: 0.4684, F1 Score: 0.4474, Precision: 0.5000, Recall: 0.4048, ROC AUC: 0.4067\n",
      "Early stopping triggered.\n",
      "Average Validation Accuracy for alpha: 0.5, lr: 0.01, momentum: 0.5: 0.4459\n",
      "Training alpha: 0.5, learning_rate: 0.01, momentum: 0.8\n",
      "Fold 1\n",
      "Epoch [1/50], Loss: 0.8325\n",
      "Validation Loss: 1.5746, Accuracy: 0.4375, F1 Score: 0.5631, Precision: 0.4203, Recall: 0.8529, ROC AUC: 0.4955\n",
      "Epoch [2/50], Loss: 0.4259\n",
      "Validation Loss: 1.2638, Accuracy: 0.4250, F1 Score: 0.5660, Precision: 0.4167, Recall: 0.8824, ROC AUC: 0.5192\n",
      "Epoch [3/50], Loss: 0.3552\n",
      "Validation Loss: 1.2252, Accuracy: 0.4375, F1 Score: 0.5794, Precision: 0.4247, Recall: 0.9118, ROC AUC: 0.5269\n",
      "Epoch [4/50], Loss: 0.3192\n",
      "Validation Loss: 1.1888, Accuracy: 0.5125, F1 Score: 0.4507, Precision: 0.4324, Recall: 0.4706, ROC AUC: 0.5243\n",
      "Epoch [5/50], Loss: 0.2728\n",
      "Validation Loss: 1.1609, Accuracy: 0.5375, F1 Score: 0.5934, Precision: 0.4737, Recall: 0.7941, ROC AUC: 0.5959\n",
      "Epoch [6/50], Loss: 0.2152\n",
      "Validation Loss: 1.3514, Accuracy: 0.4125, F1 Score: 0.5524, Precision: 0.4085, Recall: 0.8529, ROC AUC: 0.5358\n",
      "Epoch [7/50], Loss: 0.1898\n",
      "Validation Loss: 1.5067, Accuracy: 0.5875, F1 Score: 0.6207, Precision: 0.5094, Recall: 0.7941, ROC AUC: 0.6234\n",
      "Epoch [8/50], Loss: 0.2903\n",
      "Validation Loss: 1.5761, Accuracy: 0.6250, F1 Score: 0.5161, Precision: 0.5714, Recall: 0.4706, ROC AUC: 0.6145\n",
      "Epoch [9/50], Loss: 0.2177\n",
      "Validation Loss: 1.0339, Accuracy: 0.6500, F1 Score: 0.6818, Precision: 0.5556, Recall: 0.8824, ROC AUC: 0.7941\n",
      "Epoch [10/50], Loss: 0.1232\n",
      "Validation Loss: 0.8703, Accuracy: 0.7125, F1 Score: 0.7089, Precision: 0.6222, Recall: 0.8235, ROC AUC: 0.8306\n",
      "Epoch [11/50], Loss: 0.0649\n",
      "Validation Loss: 0.9279, Accuracy: 0.7750, F1 Score: 0.7632, Precision: 0.6905, Recall: 0.8529, ROC AUC: 0.8593\n",
      "Epoch [12/50], Loss: 0.0692\n",
      "Validation Loss: 0.9785, Accuracy: 0.7750, F1 Score: 0.7568, Precision: 0.7000, Recall: 0.8235, ROC AUC: 0.8862\n",
      "Epoch [13/50], Loss: 0.0713\n",
      "Validation Loss: 1.0278, Accuracy: 0.8000, F1 Score: 0.7714, Precision: 0.7500, Recall: 0.7941, ROC AUC: 0.8267\n",
      "Epoch [14/50], Loss: 0.0998\n",
      "Validation Loss: 1.6806, Accuracy: 0.6125, F1 Score: 0.6437, Precision: 0.5283, Recall: 0.8235, ROC AUC: 0.7040\n",
      "Epoch [15/50], Loss: 0.1357\n",
      "Validation Loss: 1.4385, Accuracy: 0.6625, F1 Score: 0.6301, Precision: 0.5897, Recall: 0.6765, ROC AUC: 0.7263\n",
      "Epoch [16/50], Loss: 0.1214\n",
      "Validation Loss: 1.3546, Accuracy: 0.6875, F1 Score: 0.7126, Precision: 0.5849, Recall: 0.9118, ROC AUC: 0.7832\n",
      "Epoch [17/50], Loss: 0.1426\n",
      "Validation Loss: 1.4122, Accuracy: 0.7250, F1 Score: 0.6562, Precision: 0.7000, Recall: 0.6176, ROC AUC: 0.7877\n",
      "Epoch [18/50], Loss: 0.1048\n",
      "Validation Loss: 1.0686, Accuracy: 0.6875, F1 Score: 0.6914, Precision: 0.5957, Recall: 0.8235, ROC AUC: 0.8683\n",
      "Early stopping triggered.\n",
      "Fold 2\n",
      "Epoch [1/50], Loss: 0.8385\n",
      "Validation Loss: 1.5267, Accuracy: 0.5500, F1 Score: 0.6087, Precision: 0.5283, Recall: 0.7179, ROC AUC: 0.5122\n",
      "Epoch [2/50], Loss: 0.4603\n",
      "Validation Loss: 1.3703, Accuracy: 0.4875, F1 Score: 0.6555, Precision: 0.4875, Recall: 1.0000, ROC AUC: 0.3458\n",
      "Epoch [3/50], Loss: 0.3674\n",
      "Validation Loss: 1.2675, Accuracy: 0.4375, F1 Score: 0.2857, Precision: 0.3750, Recall: 0.2308, ROC AUC: 0.3546\n",
      "Epoch [4/50], Loss: 0.3290\n",
      "Validation Loss: 1.3019, Accuracy: 0.4250, F1 Score: 0.2333, Precision: 0.3333, Recall: 0.1795, ROC AUC: 0.3602\n",
      "Epoch [5/50], Loss: 0.3137\n",
      "Validation Loss: 1.2890, Accuracy: 0.4375, F1 Score: 0.4000, Precision: 0.4167, Recall: 0.3846, ROC AUC: 0.3965\n",
      "Epoch [6/50], Loss: 0.2740\n",
      "Validation Loss: 1.3961, Accuracy: 0.4375, F1 Score: 0.5872, Precision: 0.4571, Recall: 0.8205, ROC AUC: 0.4678\n",
      "Early stopping triggered.\n",
      "Fold 3\n",
      "Epoch [1/50], Loss: 0.8425\n",
      "Validation Loss: 1.3936, Accuracy: 0.5190, F1 Score: 0.6833, Precision: 0.5256, Recall: 0.9762, ROC AUC: 0.5167\n",
      "Epoch [2/50], Loss: 0.4532\n",
      "Validation Loss: 1.2560, Accuracy: 0.4684, F1 Score: 0.5962, Precision: 0.5000, Recall: 0.7381, ROC AUC: 0.5122\n",
      "Epoch [3/50], Loss: 0.3630\n",
      "Validation Loss: 1.2245, Accuracy: 0.4430, F1 Score: 0.3333, Precision: 0.4583, Recall: 0.2619, ROC AUC: 0.4723\n",
      "Epoch [4/50], Loss: 0.3401\n",
      "Validation Loss: 1.2065, Accuracy: 0.5190, F1 Score: 0.6545, Precision: 0.5294, Recall: 0.8571, ROC AUC: 0.4710\n",
      "Epoch [5/50], Loss: 0.3095\n",
      "Validation Loss: 1.2792, Accuracy: 0.4684, F1 Score: 0.1250, Precision: 0.5000, Recall: 0.0714, ROC AUC: 0.4903\n",
      "Epoch [6/50], Loss: 0.2818\n",
      "Validation Loss: 1.3106, Accuracy: 0.4810, F1 Score: 0.4675, Precision: 0.5143, Recall: 0.4286, ROC AUC: 0.4949\n",
      "Early stopping triggered.\n",
      "Fold 4\n",
      "Epoch [1/50], Loss: 0.8387\n",
      "Validation Loss: 1.5427, Accuracy: 0.4810, F1 Score: 0.0000, Precision: 0.0000, Recall: 0.0000, ROC AUC: 0.4403\n"
     ]
    },
    {
     "name": "stderr",
     "output_type": "stream",
     "text": [
      "/home/sadat/miniconda3/envs/cs721/lib/python3.8/site-packages/sklearn/metrics/_classification.py:1471: UndefinedMetricWarning: Precision is ill-defined and being set to 0.0 due to no predicted samples. Use `zero_division` parameter to control this behavior.\n",
      "  _warn_prf(average, modifier, msg_start, len(result))\n"
     ]
    },
    {
     "name": "stdout",
     "output_type": "stream",
     "text": [
      "Epoch [2/50], Loss: 0.4407\n",
      "Validation Loss: 1.3406, Accuracy: 0.5063, F1 Score: 0.6609, Precision: 0.5135, Recall: 0.9268, ROC AUC: 0.3729\n",
      "Epoch [3/50], Loss: 0.3537\n",
      "Validation Loss: 1.2865, Accuracy: 0.4177, F1 Score: 0.0800, Precision: 0.2222, Recall: 0.0488, ROC AUC: 0.4101\n",
      "Epoch [4/50], Loss: 0.3279\n",
      "Validation Loss: 1.2510, Accuracy: 0.4810, F1 Score: 0.5684, Precision: 0.5000, Recall: 0.6585, ROC AUC: 0.4172\n",
      "Epoch [5/50], Loss: 0.3026\n",
      "Validation Loss: 1.2986, Accuracy: 0.4557, F1 Score: 0.2712, Precision: 0.4444, Recall: 0.1951, ROC AUC: 0.4718\n",
      "Epoch [6/50], Loss: 0.2702\n",
      "Validation Loss: 1.3201, Accuracy: 0.4810, F1 Score: 0.5060, Precision: 0.5000, Recall: 0.5122, ROC AUC: 0.4955\n",
      "Epoch [7/50], Loss: 0.2539\n",
      "Validation Loss: 1.4411, Accuracy: 0.5190, F1 Score: 0.6122, Precision: 0.5263, Recall: 0.7317, ROC AUC: 0.4641\n",
      "Epoch [8/50], Loss: 0.2022\n",
      "Validation Loss: 1.4638, Accuracy: 0.5316, F1 Score: 0.3934, Precision: 0.6000, Recall: 0.2927, ROC AUC: 0.5456\n",
      "Epoch [9/50], Loss: 0.1891\n",
      "Validation Loss: 1.7683, Accuracy: 0.5316, F1 Score: 0.5316, Precision: 0.5526, Recall: 0.5122, ROC AUC: 0.5976\n",
      "Epoch [10/50], Loss: 0.1597\n",
      "Validation Loss: 2.0592, Accuracy: 0.5063, F1 Score: 0.4800, Precision: 0.5294, Recall: 0.4390, ROC AUC: 0.5488\n",
      "Epoch [11/50], Loss: 0.1287\n",
      "Validation Loss: 1.5150, Accuracy: 0.6203, F1 Score: 0.6053, Precision: 0.6571, Recall: 0.5610, ROC AUC: 0.6303\n",
      "Epoch [12/50], Loss: 0.0989\n",
      "Validation Loss: 1.8332, Accuracy: 0.5316, F1 Score: 0.6105, Precision: 0.5370, Recall: 0.7073, ROC AUC: 0.5757\n",
      "Epoch [13/50], Loss: 0.1096\n",
      "Validation Loss: 2.1097, Accuracy: 0.5949, F1 Score: 0.5789, Precision: 0.6286, Recall: 0.5366, ROC AUC: 0.6566\n",
      "Epoch [14/50], Loss: 0.1597\n",
      "Validation Loss: 2.0907, Accuracy: 0.5949, F1 Score: 0.5789, Precision: 0.6286, Recall: 0.5366, ROC AUC: 0.5693\n",
      "Epoch [15/50], Loss: 0.1603\n",
      "Validation Loss: 1.6915, Accuracy: 0.6203, F1 Score: 0.6667, Precision: 0.6122, Recall: 0.7317, ROC AUC: 0.6836\n",
      "Epoch [16/50], Loss: 0.0908\n",
      "Validation Loss: 1.2761, Accuracy: 0.7595, F1 Score: 0.7816, Precision: 0.7391, Recall: 0.8293, ROC AUC: 0.8151\n",
      "Epoch [17/50], Loss: 0.0785\n",
      "Validation Loss: 1.7112, Accuracy: 0.6329, F1 Score: 0.5538, Precision: 0.7500, Recall: 0.4390, ROC AUC: 0.7394\n",
      "Epoch [18/50], Loss: 0.0543\n",
      "Validation Loss: 1.8278, Accuracy: 0.6582, F1 Score: 0.6582, Precision: 0.6842, Recall: 0.6341, ROC AUC: 0.7208\n",
      "Epoch [19/50], Loss: 0.0310\n",
      "Validation Loss: 1.7205, Accuracy: 0.6962, F1 Score: 0.6757, Precision: 0.7576, Recall: 0.6098, ROC AUC: 0.7741\n",
      "Epoch [20/50], Loss: 0.0224\n",
      "Validation Loss: 1.6851, Accuracy: 0.7215, F1 Score: 0.7442, Precision: 0.7111, Recall: 0.7805, ROC AUC: 0.8074\n",
      "Epoch [21/50], Loss: 0.0685\n",
      "Validation Loss: 1.8814, Accuracy: 0.5949, F1 Score: 0.5152, Precision: 0.6800, Recall: 0.4146, ROC AUC: 0.7420\n",
      "Early stopping triggered.\n",
      "Fold 5\n",
      "Epoch [1/50], Loss: 0.8347\n",
      "Validation Loss: 1.3792, Accuracy: 0.4937, F1 Score: 0.6154, Precision: 0.5161, Recall: 0.7619, ROC AUC: 0.4208\n",
      "Epoch [2/50], Loss: 0.4390\n",
      "Validation Loss: 1.2390, Accuracy: 0.4684, F1 Score: 0.0000, Precision: 0.0000, Recall: 0.0000, ROC AUC: 0.4118\n"
     ]
    },
    {
     "name": "stderr",
     "output_type": "stream",
     "text": [
      "/home/sadat/miniconda3/envs/cs721/lib/python3.8/site-packages/sklearn/metrics/_classification.py:1471: UndefinedMetricWarning: Precision is ill-defined and being set to 0.0 due to no predicted samples. Use `zero_division` parameter to control this behavior.\n",
      "  _warn_prf(average, modifier, msg_start, len(result))\n"
     ]
    },
    {
     "name": "stdout",
     "output_type": "stream",
     "text": [
      "Epoch [3/50], Loss: 0.3531\n",
      "Validation Loss: 1.1379, Accuracy: 0.5190, F1 Score: 0.6275, Precision: 0.5333, Recall: 0.7619, ROC AUC: 0.4607\n",
      "Epoch [4/50], Loss: 0.3199\n",
      "Validation Loss: 1.2853, Accuracy: 0.4177, F1 Score: 0.2812, Precision: 0.4091, Recall: 0.2143, ROC AUC: 0.4183\n",
      "Epoch [5/50], Loss: 0.3008\n",
      "Validation Loss: 1.2566, Accuracy: 0.4684, F1 Score: 0.1600, Precision: 0.5000, Recall: 0.0952, ROC AUC: 0.4730\n",
      "Epoch [6/50], Loss: 0.2482\n",
      "Validation Loss: 1.3309, Accuracy: 0.4557, F1 Score: 0.4691, Precision: 0.4872, Recall: 0.4524, ROC AUC: 0.5199\n",
      "Epoch [7/50], Loss: 0.1944\n",
      "Validation Loss: 1.3078, Accuracy: 0.5316, F1 Score: 0.5432, Precision: 0.5641, Recall: 0.5238, ROC AUC: 0.5644\n",
      "Epoch [8/50], Loss: 0.1845\n",
      "Validation Loss: 1.6054, Accuracy: 0.5443, F1 Score: 0.6400, Precision: 0.5517, Recall: 0.7619, ROC AUC: 0.6454\n",
      "Epoch [9/50], Loss: 0.1897\n",
      "Validation Loss: 1.5939, Accuracy: 0.6329, F1 Score: 0.6506, Precision: 0.6585, Recall: 0.6429, ROC AUC: 0.6229\n",
      "Epoch [10/50], Loss: 0.1852\n",
      "Validation Loss: 1.8239, Accuracy: 0.6203, F1 Score: 0.6512, Precision: 0.6364, Recall: 0.6667, ROC AUC: 0.6390\n",
      "Epoch [11/50], Loss: 0.1288\n",
      "Validation Loss: 1.2977, Accuracy: 0.7468, F1 Score: 0.7368, Precision: 0.8235, Recall: 0.6667, ROC AUC: 0.7999\n",
      "Epoch [12/50], Loss: 0.1103\n",
      "Validation Loss: 1.3663, Accuracy: 0.5823, F1 Score: 0.5479, Precision: 0.6452, Recall: 0.4762, ROC AUC: 0.7085\n",
      "Epoch [13/50], Loss: 0.0725\n",
      "Validation Loss: 1.5120, Accuracy: 0.6582, F1 Score: 0.6897, Precision: 0.6667, Recall: 0.7143, ROC AUC: 0.6963\n",
      "Epoch [14/50], Loss: 0.1047\n",
      "Validation Loss: 1.3500, Accuracy: 0.6962, F1 Score: 0.7273, Precision: 0.6957, Recall: 0.7619, ROC AUC: 0.7889\n",
      "Epoch [15/50], Loss: 0.1120\n",
      "Validation Loss: 1.3624, Accuracy: 0.7089, F1 Score: 0.7527, Precision: 0.6863, Recall: 0.8333, ROC AUC: 0.8005\n",
      "Epoch [16/50], Loss: 0.0686\n",
      "Validation Loss: 1.7075, Accuracy: 0.6835, F1 Score: 0.6154, Precision: 0.8696, Recall: 0.4762, ROC AUC: 0.8263\n",
      "Early stopping triggered.\n",
      "Average Validation Accuracy for alpha: 0.5, lr: 0.01, momentum: 0.8: 0.5769\n",
      "Training alpha: 0.5, learning_rate: 0.01, momentum: 0.9\n",
      "Fold 1\n",
      "Epoch [1/50], Loss: 0.8241\n",
      "Validation Loss: 1.3731, Accuracy: 0.5750, F1 Score: 0.0000, Precision: 0.0000, Recall: 0.0000, ROC AUC: 0.5160\n"
     ]
    },
    {
     "name": "stderr",
     "output_type": "stream",
     "text": [
      "/home/sadat/miniconda3/envs/cs721/lib/python3.8/site-packages/sklearn/metrics/_classification.py:1471: UndefinedMetricWarning: Precision is ill-defined and being set to 0.0 due to no predicted samples. Use `zero_division` parameter to control this behavior.\n",
      "  _warn_prf(average, modifier, msg_start, len(result))\n"
     ]
    },
    {
     "name": "stdout",
     "output_type": "stream",
     "text": [
      "Epoch [2/50], Loss: 0.4607\n",
      "Validation Loss: 1.3117, Accuracy: 0.4125, F1 Score: 0.5766, Precision: 0.4156, Recall: 0.9412, ROC AUC: 0.4719\n",
      "Epoch [3/50], Loss: 0.3909\n",
      "Validation Loss: 1.2190, Accuracy: 0.4250, F1 Score: 0.5965, Precision: 0.4250, Recall: 1.0000, ROC AUC: 0.5345\n",
      "Epoch [4/50], Loss: 0.3400\n",
      "Validation Loss: 1.4473, Accuracy: 0.5750, F1 Score: 0.0000, Precision: 0.0000, Recall: 0.0000, ROC AUC: 0.5307\n"
     ]
    },
    {
     "name": "stderr",
     "output_type": "stream",
     "text": [
      "/home/sadat/miniconda3/envs/cs721/lib/python3.8/site-packages/sklearn/metrics/_classification.py:1471: UndefinedMetricWarning: Precision is ill-defined and being set to 0.0 due to no predicted samples. Use `zero_division` parameter to control this behavior.\n",
      "  _warn_prf(average, modifier, msg_start, len(result))\n"
     ]
    },
    {
     "name": "stdout",
     "output_type": "stream",
     "text": [
      "Epoch [5/50], Loss: 0.2937\n",
      "Validation Loss: 1.3628, Accuracy: 0.4250, F1 Score: 0.5965, Precision: 0.4250, Recall: 1.0000, ROC AUC: 0.6151\n",
      "Epoch [6/50], Loss: 0.2706\n",
      "Validation Loss: 1.4828, Accuracy: 0.6375, F1 Score: 0.5246, Precision: 0.5926, Recall: 0.4706, ROC AUC: 0.6285\n",
      "Epoch [7/50], Loss: 0.3417\n",
      "Validation Loss: 1.6790, Accuracy: 0.5750, F1 Score: 0.5952, Precision: 0.5000, Recall: 0.7353, ROC AUC: 0.6598\n",
      "Epoch [8/50], Loss: 0.3116\n",
      "Validation Loss: 1.3921, Accuracy: 0.5125, F1 Score: 0.6286, Precision: 0.4648, Recall: 0.9706, ROC AUC: 0.7871\n",
      "Epoch [9/50], Loss: 0.2117\n",
      "Validation Loss: 1.2044, Accuracy: 0.7500, F1 Score: 0.6296, Precision: 0.8500, Recall: 0.5000, ROC AUC: 0.8446\n",
      "Epoch [10/50], Loss: 0.1658\n",
      "Validation Loss: 1.5926, Accuracy: 0.7125, F1 Score: 0.7229, Precision: 0.6122, Recall: 0.8824, ROC AUC: 0.8050\n",
      "Epoch [11/50], Loss: 0.1565\n",
      "Validation Loss: 1.4737, Accuracy: 0.6125, F1 Score: 0.6173, Precision: 0.5319, Recall: 0.7353, ROC AUC: 0.7558\n",
      "Epoch [12/50], Loss: 0.2222\n",
      "Validation Loss: 1.7173, Accuracy: 0.6125, F1 Score: 0.6737, Precision: 0.5246, Recall: 0.9412, ROC AUC: 0.7251\n",
      "Epoch [13/50], Loss: 0.1943\n",
      "Validation Loss: 1.5433, Accuracy: 0.7250, F1 Score: 0.6562, Precision: 0.7000, Recall: 0.6176, ROC AUC: 0.7960\n",
      "Epoch [14/50], Loss: 0.1548\n",
      "Validation Loss: 1.2497, Accuracy: 0.6875, F1 Score: 0.6988, Precision: 0.5918, Recall: 0.8529, ROC AUC: 0.8747\n",
      "Early stopping triggered.\n",
      "Fold 2\n",
      "Epoch [1/50], Loss: 0.8337\n",
      "Validation Loss: 1.5696, Accuracy: 0.4875, F1 Score: 0.6555, Precision: 0.4875, Recall: 1.0000, ROC AUC: 0.4803\n",
      "Epoch [2/50], Loss: 0.4816\n",
      "Validation Loss: 1.5196, Accuracy: 0.4375, F1 Score: 0.3284, Precision: 0.3929, Recall: 0.2821, ROC AUC: 0.4109\n",
      "Epoch [3/50], Loss: 0.4012\n",
      "Validation Loss: 1.2782, Accuracy: 0.5125, F1 Score: 0.5806, Precision: 0.5000, Recall: 0.6923, ROC AUC: 0.5034\n",
      "Epoch [4/50], Loss: 0.3188\n",
      "Validation Loss: 1.3869, Accuracy: 0.6250, F1 Score: 0.6809, Precision: 0.5818, Recall: 0.8205, ROC AUC: 0.6204\n",
      "Epoch [5/50], Loss: 0.3239\n",
      "Validation Loss: 1.3765, Accuracy: 0.5000, F1 Score: 0.5556, Precision: 0.4902, Recall: 0.6410, ROC AUC: 0.5729\n",
      "Epoch [6/50], Loss: 0.2972\n",
      "Validation Loss: 1.6191, Accuracy: 0.4750, F1 Score: 0.3226, Precision: 0.4348, Recall: 0.2564, ROC AUC: 0.5172\n",
      "Epoch [7/50], Loss: 0.2523\n",
      "Validation Loss: 1.4913, Accuracy: 0.6000, F1 Score: 0.6667, Precision: 0.5614, Recall: 0.8205, ROC AUC: 0.6648\n",
      "Epoch [8/50], Loss: 0.2079\n",
      "Validation Loss: 1.6337, Accuracy: 0.6375, F1 Score: 0.6027, Precision: 0.6471, Recall: 0.5641, ROC AUC: 0.7205\n",
      "Epoch [9/50], Loss: 0.1764\n",
      "Validation Loss: 2.0334, Accuracy: 0.5375, F1 Score: 0.4127, Precision: 0.5417, Recall: 0.3333, ROC AUC: 0.5991\n",
      "Epoch [10/50], Loss: 0.1726\n",
      "Validation Loss: 1.9348, Accuracy: 0.6625, F1 Score: 0.6747, Precision: 0.6364, Recall: 0.7179, ROC AUC: 0.7048\n",
      "Epoch [11/50], Loss: 0.1704\n",
      "Validation Loss: 2.2743, Accuracy: 0.5875, F1 Score: 0.3774, Precision: 0.7143, Recall: 0.2564, ROC AUC: 0.5372\n",
      "Epoch [12/50], Loss: 0.3370\n",
      "Validation Loss: 2.1517, Accuracy: 0.5125, F1 Score: 0.3390, Precision: 0.5000, Recall: 0.2564, ROC AUC: 0.5897\n",
      "Epoch [13/50], Loss: 0.2220\n",
      "Validation Loss: 1.2689, Accuracy: 0.7125, F1 Score: 0.7473, Precision: 0.6538, Recall: 0.8718, ROC AUC: 0.8161\n",
      "Epoch [14/50], Loss: 0.1085\n",
      "Validation Loss: 1.2990, Accuracy: 0.7500, F1 Score: 0.7436, Precision: 0.7436, Recall: 0.7436, ROC AUC: 0.7799\n",
      "Epoch [15/50], Loss: 0.1388\n",
      "Validation Loss: 2.1718, Accuracy: 0.6625, F1 Score: 0.4906, Precision: 0.9286, Recall: 0.3333, ROC AUC: 0.8099\n",
      "Epoch [16/50], Loss: 0.1549\n",
      "Validation Loss: 1.7600, Accuracy: 0.7500, F1 Score: 0.7297, Precision: 0.7714, Recall: 0.6923, ROC AUC: 0.7992\n",
      "Epoch [17/50], Loss: 0.1062\n",
      "Validation Loss: 1.6602, Accuracy: 0.7125, F1 Score: 0.6567, Precision: 0.7857, Recall: 0.5641, ROC AUC: 0.7849\n",
      "Epoch [18/50], Loss: 0.0797\n",
      "Validation Loss: 1.4420, Accuracy: 0.8000, F1 Score: 0.7714, Precision: 0.8710, Recall: 0.6923, ROC AUC: 0.8518\n",
      "Epoch [19/50], Loss: 0.0501\n",
      "Validation Loss: 1.6768, Accuracy: 0.7500, F1 Score: 0.7059, Precision: 0.8276, Recall: 0.6154, ROC AUC: 0.8224\n",
      "Epoch [20/50], Loss: 0.0368\n",
      "Validation Loss: 1.9302, Accuracy: 0.7750, F1 Score: 0.7188, Precision: 0.9200, Recall: 0.5897, ROC AUC: 0.8443\n",
      "Epoch [21/50], Loss: 0.0358\n",
      "Validation Loss: 2.0521, Accuracy: 0.7875, F1 Score: 0.7606, Precision: 0.8438, Recall: 0.6923, ROC AUC: 0.8055\n",
      "Epoch [22/50], Loss: 0.0755\n",
      "Validation Loss: 3.1670, Accuracy: 0.6625, F1 Score: 0.6087, Precision: 0.7000, Recall: 0.5385, ROC AUC: 0.7392\n",
      "Epoch [23/50], Loss: 0.1185\n",
      "Validation Loss: 2.1173, Accuracy: 0.6250, F1 Score: 0.6250, Precision: 0.6098, Recall: 0.6410, ROC AUC: 0.7436\n",
      "Early stopping triggered.\n",
      "Fold 3\n",
      "Epoch [1/50], Loss: 0.8388\n",
      "Validation Loss: 1.3730, Accuracy: 0.4937, F1 Score: 0.6226, Precision: 0.5156, Recall: 0.7857, ROC AUC: 0.4614\n",
      "Epoch [2/50], Loss: 0.4702\n",
      "Validation Loss: 1.2870, Accuracy: 0.4557, F1 Score: 0.4416, Precision: 0.4857, Recall: 0.4048, ROC AUC: 0.4794\n",
      "Epoch [3/50], Loss: 0.3787\n",
      "Validation Loss: 1.1639, Accuracy: 0.5570, F1 Score: 0.5977, Precision: 0.5778, Recall: 0.6190, ROC AUC: 0.5727\n",
      "Epoch [4/50], Loss: 0.3397\n",
      "Validation Loss: 1.2211, Accuracy: 0.4684, F1 Score: 0.1250, Precision: 0.5000, Recall: 0.0714, ROC AUC: 0.5811\n",
      "Epoch [5/50], Loss: 0.2798\n",
      "Validation Loss: 1.3503, Accuracy: 0.6203, F1 Score: 0.6591, Precision: 0.6304, Recall: 0.6905, ROC AUC: 0.6268\n",
      "Epoch [6/50], Loss: 0.2316\n",
      "Validation Loss: 1.3438, Accuracy: 0.5696, F1 Score: 0.5641, Precision: 0.6111, Recall: 0.5238, ROC AUC: 0.6583\n",
      "Epoch [7/50], Loss: 0.2371\n",
      "Validation Loss: 1.2941, Accuracy: 0.6203, F1 Score: 0.6053, Precision: 0.6765, Recall: 0.5476, ROC AUC: 0.7291\n",
      "Epoch [8/50], Loss: 0.2422\n",
      "Validation Loss: 1.3352, Accuracy: 0.6076, F1 Score: 0.6931, Precision: 0.5932, Recall: 0.8333, ROC AUC: 0.6364\n",
      "Epoch [9/50], Loss: 0.2200\n",
      "Validation Loss: 1.3740, Accuracy: 0.6582, F1 Score: 0.7327, Precision: 0.6271, Recall: 0.8810, ROC AUC: 0.7941\n",
      "Epoch [10/50], Loss: 0.1877\n",
      "Validation Loss: 1.6249, Accuracy: 0.7215, F1 Score: 0.7885, Precision: 0.6613, Recall: 0.9762, ROC AUC: 0.7793\n",
      "Epoch [11/50], Loss: 0.3449\n",
      "Validation Loss: 1.4960, Accuracy: 0.6709, F1 Score: 0.6750, Precision: 0.7105, Recall: 0.6429, ROC AUC: 0.7394\n",
      "Epoch [12/50], Loss: 0.2782\n",
      "Validation Loss: 1.0844, Accuracy: 0.6962, F1 Score: 0.7551, Precision: 0.6607, Recall: 0.8810, ROC AUC: 0.8115\n",
      "Epoch [13/50], Loss: 0.1890\n",
      "Validation Loss: 1.3014, Accuracy: 0.7468, F1 Score: 0.7500, Precision: 0.7895, Recall: 0.7143, ROC AUC: 0.8436\n",
      "Epoch [14/50], Loss: 0.1290\n",
      "Validation Loss: 1.5688, Accuracy: 0.7342, F1 Score: 0.7273, Precision: 0.8000, Recall: 0.6667, ROC AUC: 0.8153\n",
      "Epoch [15/50], Loss: 0.1189\n",
      "Validation Loss: 1.2012, Accuracy: 0.7468, F1 Score: 0.7619, Precision: 0.7619, Recall: 0.7619, ROC AUC: 0.8327\n",
      "Epoch [16/50], Loss: 0.0778\n",
      "Validation Loss: 1.4162, Accuracy: 0.7722, F1 Score: 0.7805, Precision: 0.8000, Recall: 0.7619, ROC AUC: 0.8571\n",
      "Epoch [17/50], Loss: 0.0606\n",
      "Validation Loss: 1.7896, Accuracy: 0.8101, F1 Score: 0.8000, Precision: 0.9091, Recall: 0.7143, ROC AUC: 0.8797\n",
      "Epoch [18/50], Loss: 0.2634\n",
      "Validation Loss: 1.8039, Accuracy: 0.6709, F1 Score: 0.7292, Precision: 0.6481, Recall: 0.8333, ROC AUC: 0.7194\n",
      "Epoch [19/50], Loss: 0.2099\n",
      "Validation Loss: 1.1558, Accuracy: 0.7215, F1 Score: 0.7250, Precision: 0.7632, Recall: 0.6905, ROC AUC: 0.7876\n",
      "Epoch [20/50], Loss: 0.1114\n",
      "Validation Loss: 1.4667, Accuracy: 0.7722, F1 Score: 0.7750, Precision: 0.8158, Recall: 0.7381, ROC AUC: 0.8237\n",
      "Epoch [21/50], Loss: 0.0994\n",
      "Validation Loss: 1.6356, Accuracy: 0.8101, F1 Score: 0.8387, Precision: 0.7647, Recall: 0.9286, ROC AUC: 0.8964\n",
      "Epoch [22/50], Loss: 0.1005\n",
      "Validation Loss: 1.9081, Accuracy: 0.7848, F1 Score: 0.7848, Precision: 0.8378, Recall: 0.7381, ROC AUC: 0.8430\n",
      "Early stopping triggered.\n",
      "Fold 4\n",
      "Epoch [1/50], Loss: 0.8391\n",
      "Validation Loss: 1.4670, Accuracy: 0.4937, F1 Score: 0.5122, Precision: 0.5122, Recall: 0.5122, ROC AUC: 0.4955\n",
      "Epoch [2/50], Loss: 0.4765\n",
      "Validation Loss: 1.3477, Accuracy: 0.4810, F1 Score: 0.6239, Precision: 0.5000, Recall: 0.8293, ROC AUC: 0.4211\n",
      "Epoch [3/50], Loss: 0.3944\n",
      "Validation Loss: 1.3463, Accuracy: 0.4430, F1 Score: 0.1538, Precision: 0.3636, Recall: 0.0976, ROC AUC: 0.3813\n",
      "Epoch [4/50], Loss: 0.3532\n",
      "Validation Loss: 1.2554, Accuracy: 0.5063, F1 Score: 0.3810, Precision: 0.5455, Recall: 0.2927, ROC AUC: 0.5019\n",
      "Epoch [5/50], Loss: 0.2912\n",
      "Validation Loss: 1.3611, Accuracy: 0.4810, F1 Score: 0.5495, Precision: 0.5000, Recall: 0.6098, ROC AUC: 0.4820\n",
      "Epoch [6/50], Loss: 0.2425\n",
      "Validation Loss: 1.5070, Accuracy: 0.5316, F1 Score: 0.5647, Precision: 0.5455, Recall: 0.5854, ROC AUC: 0.5886\n",
      "Epoch [7/50], Loss: 0.2705\n",
      "Validation Loss: 1.6899, Accuracy: 0.5316, F1 Score: 0.6726, Precision: 0.5278, Recall: 0.9268, ROC AUC: 0.5841\n",
      "Epoch [8/50], Loss: 0.2654\n",
      "Validation Loss: 1.4882, Accuracy: 0.5949, F1 Score: 0.6098, Precision: 0.6098, Recall: 0.6098, ROC AUC: 0.6791\n",
      "Epoch [9/50], Loss: 0.1672\n",
      "Validation Loss: 2.2068, Accuracy: 0.5316, F1 Score: 0.4638, Precision: 0.5714, Recall: 0.3902, ROC AUC: 0.5757\n",
      "Epoch [10/50], Loss: 0.1860\n",
      "Validation Loss: 1.5563, Accuracy: 0.5696, F1 Score: 0.5526, Precision: 0.6000, Recall: 0.5122, ROC AUC: 0.6059\n",
      "Epoch [11/50], Loss: 0.2754\n",
      "Validation Loss: 1.2360, Accuracy: 0.5823, F1 Score: 0.5823, Precision: 0.6053, Recall: 0.5610, ROC AUC: 0.6784\n",
      "Epoch [12/50], Loss: 0.1928\n",
      "Validation Loss: 1.3969, Accuracy: 0.6456, F1 Score: 0.7200, Precision: 0.6102, Recall: 0.8780, ROC AUC: 0.7067\n",
      "Epoch [13/50], Loss: 0.1206\n",
      "Validation Loss: 1.8216, Accuracy: 0.6962, F1 Score: 0.6250, Precision: 0.8696, Recall: 0.4878, ROC AUC: 0.7304\n",
      "Epoch [14/50], Loss: 0.0921\n",
      "Validation Loss: 1.7833, Accuracy: 0.7089, F1 Score: 0.6933, Precision: 0.7647, Recall: 0.6341, ROC AUC: 0.7593\n",
      "Epoch [15/50], Loss: 0.0892\n",
      "Validation Loss: 1.9544, Accuracy: 0.6835, F1 Score: 0.6835, Precision: 0.7105, Recall: 0.6585, ROC AUC: 0.7195\n",
      "Epoch [16/50], Loss: 0.0702\n",
      "Validation Loss: 2.1767, Accuracy: 0.6709, F1 Score: 0.5938, Precision: 0.8261, Recall: 0.4634, ROC AUC: 0.7349\n",
      "Epoch [17/50], Loss: 0.1098\n",
      "Validation Loss: 1.3023, Accuracy: 0.7468, F1 Score: 0.7778, Precision: 0.7143, Recall: 0.8537, ROC AUC: 0.8344\n",
      "Epoch [18/50], Loss: 0.1573\n",
      "Validation Loss: 2.3086, Accuracy: 0.6709, F1 Score: 0.5667, Precision: 0.8947, Recall: 0.4146, ROC AUC: 0.6958\n",
      "Epoch [19/50], Loss: 0.1405\n",
      "Validation Loss: 1.0997, Accuracy: 0.7722, F1 Score: 0.8000, Precision: 0.7347, Recall: 0.8780, ROC AUC: 0.8370\n",
      "Epoch [20/50], Loss: 0.1004\n",
      "Validation Loss: 1.2356, Accuracy: 0.7215, F1 Score: 0.7660, Precision: 0.6792, Recall: 0.8780, ROC AUC: 0.8639\n",
      "Epoch [21/50], Loss: 0.0686\n",
      "Validation Loss: 1.8339, Accuracy: 0.6962, F1 Score: 0.6250, Precision: 0.8696, Recall: 0.4878, ROC AUC: 0.7728\n",
      "Epoch [22/50], Loss: 0.0320\n",
      "Validation Loss: 1.1701, Accuracy: 0.7089, F1 Score: 0.7527, Precision: 0.6731, Recall: 0.8537, ROC AUC: 0.8466\n",
      "Epoch [23/50], Loss: 0.0525\n",
      "Validation Loss: 2.4343, Accuracy: 0.6962, F1 Score: 0.5862, Precision: 1.0000, Recall: 0.4146, ROC AUC: 0.8466\n",
      "Epoch [24/50], Loss: 0.0805\n",
      "Validation Loss: 1.8582, Accuracy: 0.7342, F1 Score: 0.7273, Precision: 0.7778, Recall: 0.6829, ROC AUC: 0.8055\n",
      "Early stopping triggered.\n",
      "Fold 5\n",
      "Epoch [1/50], Loss: 0.8391\n",
      "Validation Loss: 1.5595, Accuracy: 0.4684, F1 Score: 0.0000, Precision: 0.0000, Recall: 0.0000, ROC AUC: 0.3983\n"
     ]
    },
    {
     "name": "stderr",
     "output_type": "stream",
     "text": [
      "/home/sadat/miniconda3/envs/cs721/lib/python3.8/site-packages/sklearn/metrics/_classification.py:1471: UndefinedMetricWarning: Precision is ill-defined and being set to 0.0 due to no predicted samples. Use `zero_division` parameter to control this behavior.\n",
      "  _warn_prf(average, modifier, msg_start, len(result))\n"
     ]
    },
    {
     "name": "stdout",
     "output_type": "stream",
     "text": [
      "Epoch [2/50], Loss: 0.5099\n",
      "Validation Loss: 1.5252, Accuracy: 0.4684, F1 Score: 0.0000, Precision: 0.0000, Recall: 0.0000, ROC AUC: 0.4202\n"
     ]
    },
    {
     "name": "stderr",
     "output_type": "stream",
     "text": [
      "/home/sadat/miniconda3/envs/cs721/lib/python3.8/site-packages/sklearn/metrics/_classification.py:1471: UndefinedMetricWarning: Precision is ill-defined and being set to 0.0 due to no predicted samples. Use `zero_division` parameter to control this behavior.\n",
      "  _warn_prf(average, modifier, msg_start, len(result))\n"
     ]
    },
    {
     "name": "stdout",
     "output_type": "stream",
     "text": [
      "Epoch [3/50], Loss: 0.3918\n",
      "Validation Loss: 1.2854, Accuracy: 0.5443, F1 Score: 0.6949, Precision: 0.5395, Recall: 0.9762, ROC AUC: 0.5148\n",
      "Epoch [4/50], Loss: 0.3566\n",
      "Validation Loss: 1.3082, Accuracy: 0.4810, F1 Score: 0.0889, Precision: 0.6667, Recall: 0.0476, ROC AUC: 0.5032\n",
      "Epoch [5/50], Loss: 0.3122\n",
      "Validation Loss: 1.3250, Accuracy: 0.5190, F1 Score: 0.3871, Precision: 0.6000, Recall: 0.2857, ROC AUC: 0.5502\n",
      "Epoch [6/50], Loss: 0.2745\n",
      "Validation Loss: 1.4684, Accuracy: 0.5316, F1 Score: 0.6606, Precision: 0.5373, Recall: 0.8571, ROC AUC: 0.5071\n",
      "Epoch [7/50], Loss: 0.2407\n",
      "Validation Loss: 1.5530, Accuracy: 0.5316, F1 Score: 0.3273, Precision: 0.6923, Recall: 0.2143, ROC AUC: 0.5669\n",
      "Epoch [8/50], Loss: 0.2465\n",
      "Validation Loss: 1.6921, Accuracy: 0.5696, F1 Score: 0.5854, Precision: 0.6000, Recall: 0.5714, ROC AUC: 0.6641\n",
      "Epoch [9/50], Loss: 0.2938\n",
      "Validation Loss: 1.9282, Accuracy: 0.5190, F1 Score: 0.2400, Precision: 0.7500, Recall: 0.1429, ROC AUC: 0.6203\n",
      "Epoch [10/50], Loss: 0.2350\n",
      "Validation Loss: 1.4500, Accuracy: 0.7215, F1 Score: 0.7381, Precision: 0.7381, Recall: 0.7381, ROC AUC: 0.7568\n",
      "Epoch [11/50], Loss: 0.2193\n",
      "Validation Loss: 1.8855, Accuracy: 0.5949, F1 Score: 0.4667, Precision: 0.7778, Recall: 0.3333, ROC AUC: 0.7072\n",
      "Epoch [12/50], Loss: 0.1570\n",
      "Validation Loss: 1.3527, Accuracy: 0.6835, F1 Score: 0.7253, Precision: 0.6735, Recall: 0.7857, ROC AUC: 0.7819\n",
      "Epoch [13/50], Loss: 0.1987\n",
      "Validation Loss: 1.8040, Accuracy: 0.6582, F1 Score: 0.6897, Precision: 0.6667, Recall: 0.7143, ROC AUC: 0.7085\n",
      "Epoch [14/50], Loss: 0.1774\n",
      "Validation Loss: 1.6505, Accuracy: 0.6582, F1 Score: 0.6494, Precision: 0.7143, Recall: 0.5952, ROC AUC: 0.7542\n",
      "Epoch [15/50], Loss: 0.1138\n",
      "Validation Loss: 1.7913, Accuracy: 0.6962, F1 Score: 0.6571, Precision: 0.8214, Recall: 0.5476, ROC AUC: 0.8224\n",
      "Early stopping triggered.\n",
      "Average Validation Accuracy for alpha: 0.5, lr: 0.01, momentum: 0.9: 0.7055\n",
      "Training alpha: 0.5, learning_rate: 0.1, momentum: 0.5\n",
      "Fold 1\n",
      "Epoch [1/50], Loss: 0.8258\n",
      "Validation Loss: 1.7165, Accuracy: 0.5000, F1 Score: 0.0476, Precision: 0.1250, Recall: 0.0294, ROC AUC: 0.5352\n",
      "Epoch [2/50], Loss: 0.5496\n",
      "Validation Loss: 0.9280, Accuracy: 0.5750, F1 Score: 0.0000, Precision: 0.0000, Recall: 0.0000, ROC AUC: 0.4981\n"
     ]
    },
    {
     "name": "stderr",
     "output_type": "stream",
     "text": [
      "/home/sadat/miniconda3/envs/cs721/lib/python3.8/site-packages/sklearn/metrics/_classification.py:1471: UndefinedMetricWarning: Precision is ill-defined and being set to 0.0 due to no predicted samples. Use `zero_division` parameter to control this behavior.\n",
      "  _warn_prf(average, modifier, msg_start, len(result))\n"
     ]
    },
    {
     "name": "stdout",
     "output_type": "stream",
     "text": [
      "Epoch [3/50], Loss: 0.3806\n",
      "Validation Loss: 0.8085, Accuracy: 0.5750, F1 Score: 0.0000, Precision: 0.0000, Recall: 0.0000, ROC AUC: 0.4987\n"
     ]
    },
    {
     "name": "stderr",
     "output_type": "stream",
     "text": [
      "/home/sadat/miniconda3/envs/cs721/lib/python3.8/site-packages/sklearn/metrics/_classification.py:1471: UndefinedMetricWarning: Precision is ill-defined and being set to 0.0 due to no predicted samples. Use `zero_division` parameter to control this behavior.\n",
      "  _warn_prf(average, modifier, msg_start, len(result))\n"
     ]
    },
    {
     "name": "stdout",
     "output_type": "stream",
     "text": [
      "Epoch [4/50], Loss: 0.3679\n",
      "Validation Loss: 0.8321, Accuracy: 0.4250, F1 Score: 0.5965, Precision: 0.4250, Recall: 1.0000, ROC AUC: 0.4508\n",
      "Epoch [5/50], Loss: 0.3693\n",
      "Validation Loss: 0.8174, Accuracy: 0.5750, F1 Score: 0.0000, Precision: 0.0000, Recall: 0.0000, ROC AUC: 0.4885\n"
     ]
    },
    {
     "name": "stderr",
     "output_type": "stream",
     "text": [
      "/home/sadat/miniconda3/envs/cs721/lib/python3.8/site-packages/sklearn/metrics/_classification.py:1471: UndefinedMetricWarning: Precision is ill-defined and being set to 0.0 due to no predicted samples. Use `zero_division` parameter to control this behavior.\n",
      "  _warn_prf(average, modifier, msg_start, len(result))\n"
     ]
    },
    {
     "name": "stdout",
     "output_type": "stream",
     "text": [
      "Epoch [6/50], Loss: 0.3582\n",
      "Validation Loss: 0.7922, Accuracy: 0.4500, F1 Score: 0.5111, Precision: 0.4107, Recall: 0.6765, ROC AUC: 0.4955\n",
      "Epoch [7/50], Loss: 0.3517\n",
      "Validation Loss: 0.8038, Accuracy: 0.5125, F1 Score: 0.2642, Precision: 0.3684, Recall: 0.2059, ROC AUC: 0.4744\n",
      "Early stopping triggered.\n",
      "Fold 2\n",
      "Epoch [1/50], Loss: 0.8514\n",
      "Validation Loss: 2.0258, Accuracy: 0.5125, F1 Score: 0.0000, Precision: 0.0000, Recall: 0.0000, ROC AUC: 0.5253\n"
     ]
    },
    {
     "name": "stderr",
     "output_type": "stream",
     "text": [
      "/home/sadat/miniconda3/envs/cs721/lib/python3.8/site-packages/sklearn/metrics/_classification.py:1471: UndefinedMetricWarning: Precision is ill-defined and being set to 0.0 due to no predicted samples. Use `zero_division` parameter to control this behavior.\n",
      "  _warn_prf(average, modifier, msg_start, len(result))\n"
     ]
    },
    {
     "name": "stdout",
     "output_type": "stream",
     "text": [
      "Epoch [2/50], Loss: 0.6517\n",
      "Validation Loss: 1.4194, Accuracy: 0.5000, F1 Score: 0.6610, Precision: 0.4937, Recall: 1.0000, ROC AUC: 0.5385\n",
      "Epoch [3/50], Loss: 0.4627\n",
      "Validation Loss: 0.8596, Accuracy: 0.5250, F1 Score: 0.6667, Precision: 0.5067, Recall: 0.9744, ROC AUC: 0.4440\n",
      "Epoch [4/50], Loss: 0.3802\n",
      "Validation Loss: 0.8117, Accuracy: 0.4875, F1 Score: 0.6555, Precision: 0.4875, Recall: 1.0000, ROC AUC: 0.4053\n",
      "Epoch [5/50], Loss: 0.3581\n",
      "Validation Loss: 0.8064, Accuracy: 0.4125, F1 Score: 0.3380, Precision: 0.3750, Recall: 0.3077, ROC AUC: 0.3440\n",
      "Epoch [6/50], Loss: 0.3615\n",
      "Validation Loss: 0.7878, Accuracy: 0.5000, F1 Score: 0.6491, Precision: 0.4933, Recall: 0.9487, ROC AUC: 0.3896\n",
      "Epoch [7/50], Loss: 0.3562\n",
      "Validation Loss: 0.7902, Accuracy: 0.4875, F1 Score: 0.6555, Precision: 0.4875, Recall: 1.0000, ROC AUC: 0.4447\n",
      "Epoch [8/50], Loss: 0.3498\n",
      "Validation Loss: 0.7982, Accuracy: 0.4875, F1 Score: 0.0000, Precision: 0.0000, Recall: 0.0000, ROC AUC: 0.3990\n",
      "Early stopping triggered.\n",
      "Fold 3\n",
      "Epoch [1/50], Loss: 0.8523\n",
      "Validation Loss: 1.7042, Accuracy: 0.5063, F1 Score: 0.5895, Precision: 0.5283, Recall: 0.6667, ROC AUC: 0.4311\n",
      "Epoch [2/50], Loss: 0.5700\n",
      "Validation Loss: 1.2634, Accuracy: 0.4684, F1 Score: 0.0000, Precision: 0.0000, Recall: 0.0000, ROC AUC: 0.4395\n"
     ]
    },
    {
     "name": "stderr",
     "output_type": "stream",
     "text": [
      "/home/sadat/miniconda3/envs/cs721/lib/python3.8/site-packages/sklearn/metrics/_classification.py:1471: UndefinedMetricWarning: Precision is ill-defined and being set to 0.0 due to no predicted samples. Use `zero_division` parameter to control this behavior.\n",
      "  _warn_prf(average, modifier, msg_start, len(result))\n"
     ]
    },
    {
     "name": "stdout",
     "output_type": "stream",
     "text": [
      "Epoch [3/50], Loss: 0.4047\n",
      "Validation Loss: 0.8750, Accuracy: 0.4937, F1 Score: 0.2308, Precision: 0.6000, Recall: 0.1429, ROC AUC: 0.5296\n",
      "Epoch [4/50], Loss: 0.3623\n",
      "Validation Loss: 0.8237, Accuracy: 0.4684, F1 Score: 0.0000, Precision: 0.0000, Recall: 0.0000, ROC AUC: 0.5077\n"
     ]
    },
    {
     "name": "stderr",
     "output_type": "stream",
     "text": [
      "/home/sadat/miniconda3/envs/cs721/lib/python3.8/site-packages/sklearn/metrics/_classification.py:1471: UndefinedMetricWarning: Precision is ill-defined and being set to 0.0 due to no predicted samples. Use `zero_division` parameter to control this behavior.\n",
      "  _warn_prf(average, modifier, msg_start, len(result))\n"
     ]
    },
    {
     "name": "stdout",
     "output_type": "stream",
     "text": [
      "Epoch [5/50], Loss: 0.3580\n",
      "Validation Loss: 0.8444, Accuracy: 0.5316, F1 Score: 0.6942, Precision: 0.5316, Recall: 1.0000, ROC AUC: 0.5360\n",
      "Epoch [6/50], Loss: 0.3624\n",
      "Validation Loss: 0.8348, Accuracy: 0.4684, F1 Score: 0.0000, Precision: 0.0000, Recall: 0.0000, ROC AUC: 0.4607\n"
     ]
    },
    {
     "name": "stderr",
     "output_type": "stream",
     "text": [
      "/home/sadat/miniconda3/envs/cs721/lib/python3.8/site-packages/sklearn/metrics/_classification.py:1471: UndefinedMetricWarning: Precision is ill-defined and being set to 0.0 due to no predicted samples. Use `zero_division` parameter to control this behavior.\n",
      "  _warn_prf(average, modifier, msg_start, len(result))\n"
     ]
    },
    {
     "name": "stdout",
     "output_type": "stream",
     "text": [
      "Epoch [7/50], Loss: 0.3490\n",
      "Validation Loss: 0.7991, Accuracy: 0.4937, F1 Score: 0.5745, Precision: 0.5192, Recall: 0.6429, ROC AUC: 0.5116\n",
      "Epoch [8/50], Loss: 0.3472\n",
      "Validation Loss: 0.8249, Accuracy: 0.4684, F1 Score: 0.0000, Precision: 0.0000, Recall: 0.0000, ROC AUC: 0.5135\n"
     ]
    },
    {
     "name": "stderr",
     "output_type": "stream",
     "text": [
      "/home/sadat/miniconda3/envs/cs721/lib/python3.8/site-packages/sklearn/metrics/_classification.py:1471: UndefinedMetricWarning: Precision is ill-defined and being set to 0.0 due to no predicted samples. Use `zero_division` parameter to control this behavior.\n",
      "  _warn_prf(average, modifier, msg_start, len(result))\n"
     ]
    },
    {
     "name": "stdout",
     "output_type": "stream",
     "text": [
      "Epoch [9/50], Loss: 0.3460\n",
      "Validation Loss: 0.8268, Accuracy: 0.5696, F1 Score: 0.4688, Precision: 0.6818, Recall: 0.3571, ROC AUC: 0.5663\n",
      "Epoch [10/50], Loss: 0.3432\n",
      "Validation Loss: 0.8891, Accuracy: 0.5190, F1 Score: 0.2963, Precision: 0.6667, Recall: 0.1905, ROC AUC: 0.5084\n",
      "Epoch [11/50], Loss: 0.3427\n",
      "Validation Loss: 0.9118, Accuracy: 0.5696, F1 Score: 0.5405, Precision: 0.6250, Recall: 0.4762, ROC AUC: 0.5495\n",
      "Epoch [12/50], Loss: 0.3400\n",
      "Validation Loss: 0.8845, Accuracy: 0.5063, F1 Score: 0.6355, Precision: 0.5231, Recall: 0.8095, ROC AUC: 0.5058\n",
      "Epoch [13/50], Loss: 0.3411\n",
      "Validation Loss: 1.0258, Accuracy: 0.4557, F1 Score: 0.0444, Precision: 0.3333, Recall: 0.0238, ROC AUC: 0.5811\n",
      "Epoch [14/50], Loss: 0.3706\n",
      "Validation Loss: 0.9174, Accuracy: 0.5190, F1 Score: 0.5366, Precision: 0.5500, Recall: 0.5238, ROC AUC: 0.5901\n",
      "Early stopping triggered.\n",
      "Fold 4\n",
      "Epoch [1/50], Loss: 0.8277\n",
      "Validation Loss: 1.7056, Accuracy: 0.4810, F1 Score: 0.0000, Precision: 0.0000, Recall: 0.0000, ROC AUC: 0.4621\n"
     ]
    },
    {
     "name": "stderr",
     "output_type": "stream",
     "text": [
      "/home/sadat/miniconda3/envs/cs721/lib/python3.8/site-packages/sklearn/metrics/_classification.py:1471: UndefinedMetricWarning: Precision is ill-defined and being set to 0.0 due to no predicted samples. Use `zero_division` parameter to control this behavior.\n",
      "  _warn_prf(average, modifier, msg_start, len(result))\n"
     ]
    },
    {
     "name": "stdout",
     "output_type": "stream",
     "text": [
      "Epoch [2/50], Loss: 0.6986\n",
      "Validation Loss: 1.8715, Accuracy: 0.4684, F1 Score: 0.6182, Precision: 0.4928, Recall: 0.8293, ROC AUC: 0.4718\n",
      "Epoch [3/50], Loss: 0.5737\n",
      "Validation Loss: 1.3743, Accuracy: 0.4810, F1 Score: 0.0889, Precision: 0.5000, Recall: 0.0488, ROC AUC: 0.4641\n",
      "Epoch [4/50], Loss: 0.4334\n",
      "Validation Loss: 0.9646, Accuracy: 0.4557, F1 Score: 0.5567, Precision: 0.4821, Recall: 0.6585, ROC AUC: 0.4050\n",
      "Epoch [5/50], Loss: 0.3947\n",
      "Validation Loss: 0.9077, Accuracy: 0.4810, F1 Score: 0.0000, Precision: 0.0000, Recall: 0.0000, ROC AUC: 0.5006\n"
     ]
    },
    {
     "name": "stderr",
     "output_type": "stream",
     "text": [
      "/home/sadat/miniconda3/envs/cs721/lib/python3.8/site-packages/sklearn/metrics/_classification.py:1471: UndefinedMetricWarning: Precision is ill-defined and being set to 0.0 due to no predicted samples. Use `zero_division` parameter to control this behavior.\n",
      "  _warn_prf(average, modifier, msg_start, len(result))\n"
     ]
    },
    {
     "name": "stdout",
     "output_type": "stream",
     "text": [
      "Epoch [6/50], Loss: 0.3660\n",
      "Validation Loss: 0.9225, Accuracy: 0.4810, F1 Score: 0.0000, Precision: 0.0000, Recall: 0.0000, ROC AUC: 0.4442\n",
      "Early stopping triggered.\n",
      "Fold 5\n"
     ]
    },
    {
     "name": "stderr",
     "output_type": "stream",
     "text": [
      "/home/sadat/miniconda3/envs/cs721/lib/python3.8/site-packages/sklearn/metrics/_classification.py:1471: UndefinedMetricWarning: Precision is ill-defined and being set to 0.0 due to no predicted samples. Use `zero_division` parameter to control this behavior.\n",
      "  _warn_prf(average, modifier, msg_start, len(result))\n"
     ]
    },
    {
     "name": "stdout",
     "output_type": "stream",
     "text": [
      "Epoch [1/50], Loss: 0.8637\n",
      "Validation Loss: 1.4602, Accuracy: 0.5443, F1 Score: 0.6949, Precision: 0.5395, Recall: 0.9762, ROC AUC: 0.4968\n",
      "Epoch [2/50], Loss: 0.6095\n",
      "Validation Loss: 1.0339, Accuracy: 0.5316, F1 Score: 0.6942, Precision: 0.5316, Recall: 1.0000, ROC AUC: 0.4987\n",
      "Epoch [3/50], Loss: 0.4345\n",
      "Validation Loss: 0.8569, Accuracy: 0.5316, F1 Score: 0.6942, Precision: 0.5316, Recall: 1.0000, ROC AUC: 0.3983\n",
      "Epoch [4/50], Loss: 0.3818\n",
      "Validation Loss: 0.7837, Accuracy: 0.4684, F1 Score: 0.0000, Precision: 0.0000, Recall: 0.0000, ROC AUC: 0.4131\n"
     ]
    },
    {
     "name": "stderr",
     "output_type": "stream",
     "text": [
      "/home/sadat/miniconda3/envs/cs721/lib/python3.8/site-packages/sklearn/metrics/_classification.py:1471: UndefinedMetricWarning: Precision is ill-defined and being set to 0.0 due to no predicted samples. Use `zero_division` parameter to control this behavior.\n",
      "  _warn_prf(average, modifier, msg_start, len(result))\n"
     ]
    },
    {
     "name": "stdout",
     "output_type": "stream",
     "text": [
      "Epoch [5/50], Loss: 0.3688\n",
      "Validation Loss: 0.7606, Accuracy: 0.4684, F1 Score: 0.0000, Precision: 0.0000, Recall: 0.0000, ROC AUC: 0.3983\n"
     ]
    },
    {
     "name": "stderr",
     "output_type": "stream",
     "text": [
      "/home/sadat/miniconda3/envs/cs721/lib/python3.8/site-packages/sklearn/metrics/_classification.py:1471: UndefinedMetricWarning: Precision is ill-defined and being set to 0.0 due to no predicted samples. Use `zero_division` parameter to control this behavior.\n",
      "  _warn_prf(average, modifier, msg_start, len(result))\n"
     ]
    },
    {
     "name": "stdout",
     "output_type": "stream",
     "text": [
      "Epoch [6/50], Loss: 0.3599\n",
      "Validation Loss: 0.7691, Accuracy: 0.4684, F1 Score: 0.0000, Precision: 0.0000, Recall: 0.0000, ROC AUC: 0.3275\n",
      "Early stopping triggered.\n",
      "Average Validation Accuracy for alpha: 0.5, lr: 0.1, momentum: 0.5: 0.4937\n",
      "Training alpha: 0.5, learning_rate: 0.1, momentum: 0.8\n",
      "Fold 1\n"
     ]
    },
    {
     "name": "stderr",
     "output_type": "stream",
     "text": [
      "/home/sadat/miniconda3/envs/cs721/lib/python3.8/site-packages/sklearn/metrics/_classification.py:1471: UndefinedMetricWarning: Precision is ill-defined and being set to 0.0 due to no predicted samples. Use `zero_division` parameter to control this behavior.\n",
      "  _warn_prf(average, modifier, msg_start, len(result))\n"
     ]
    },
    {
     "name": "stdout",
     "output_type": "stream",
     "text": [
      "Epoch [1/50], Loss: 0.9056\n",
      "Validation Loss: 2.0860, Accuracy: 0.4250, F1 Score: 0.5965, Precision: 0.4250, Recall: 1.0000, ROC AUC: 0.4035\n",
      "Epoch [2/50], Loss: 0.7092\n",
      "Validation Loss: 4.4209, Accuracy: 0.3875, F1 Score: 0.5586, Precision: 0.4026, Recall: 0.9118, ROC AUC: 0.4942\n",
      "Epoch [3/50], Loss: 0.5319\n",
      "Validation Loss: 1.0541, Accuracy: 0.4250, F1 Score: 0.5965, Precision: 0.4250, Recall: 1.0000, ROC AUC: 0.5313\n",
      "Epoch [4/50], Loss: 0.4003\n",
      "Validation Loss: 0.8053, Accuracy: 0.6000, F1 Score: 0.1579, Precision: 0.7500, Recall: 0.0882, ROC AUC: 0.5294\n",
      "Epoch [5/50], Loss: 0.3746\n",
      "Validation Loss: 0.7377, Accuracy: 0.4250, F1 Score: 0.5965, Precision: 0.4250, Recall: 1.0000, ROC AUC: 0.5537\n",
      "Epoch [6/50], Loss: 0.3672\n",
      "Validation Loss: 0.7278, Accuracy: 0.5875, F1 Score: 0.1538, Precision: 0.6000, Recall: 0.0882, ROC AUC: 0.6183\n",
      "Epoch [7/50], Loss: 0.3614\n",
      "Validation Loss: 0.7190, Accuracy: 0.4250, F1 Score: 0.5965, Precision: 0.4250, Recall: 1.0000, ROC AUC: 0.4357\n",
      "Epoch [8/50], Loss: 0.3578\n",
      "Validation Loss: 0.7198, Accuracy: 0.4250, F1 Score: 0.5965, Precision: 0.4250, Recall: 1.0000, ROC AUC: 0.5806\n",
      "Epoch [9/50], Loss: 0.3610\n",
      "Validation Loss: 0.7153, Accuracy: 0.4250, F1 Score: 0.5965, Precision: 0.4250, Recall: 1.0000, ROC AUC: 0.5994\n",
      "Early stopping triggered.\n",
      "Fold 2\n",
      "Epoch [1/50], Loss: 0.9060\n",
      "Validation Loss: 8.9092, Accuracy: 0.4875, F1 Score: 0.6555, Precision: 0.4875, Recall: 1.0000, ROC AUC: 0.6179\n",
      "Epoch [2/50], Loss: 0.6408\n",
      "Validation Loss: 1.4949, Accuracy: 0.5500, F1 Score: 0.5263, Precision: 0.5405, Recall: 0.5128, ROC AUC: 0.5503\n",
      "Epoch [3/50], Loss: 0.4101\n",
      "Validation Loss: 0.9907, Accuracy: 0.5125, F1 Score: 0.0000, Precision: 0.0000, Recall: 0.0000, ROC AUC: 0.5553\n"
     ]
    },
    {
     "name": "stderr",
     "output_type": "stream",
     "text": [
      "/home/sadat/miniconda3/envs/cs721/lib/python3.8/site-packages/sklearn/metrics/_classification.py:1471: UndefinedMetricWarning: Precision is ill-defined and being set to 0.0 due to no predicted samples. Use `zero_division` parameter to control this behavior.\n",
      "  _warn_prf(average, modifier, msg_start, len(result))\n"
     ]
    },
    {
     "name": "stdout",
     "output_type": "stream",
     "text": [
      "Epoch [4/50], Loss: 0.3798\n",
      "Validation Loss: 0.7341, Accuracy: 0.4750, F1 Score: 0.2500, Precision: 0.4118, Recall: 0.1795, ROC AUC: 0.5122\n",
      "Epoch [5/50], Loss: 0.3647\n",
      "Validation Loss: 0.7349, Accuracy: 0.5125, F1 Score: 0.0000, Precision: 0.0000, Recall: 0.0000, ROC AUC: 0.4715\n"
     ]
    },
    {
     "name": "stderr",
     "output_type": "stream",
     "text": [
      "/home/sadat/miniconda3/envs/cs721/lib/python3.8/site-packages/sklearn/metrics/_classification.py:1471: UndefinedMetricWarning: Precision is ill-defined and being set to 0.0 due to no predicted samples. Use `zero_division` parameter to control this behavior.\n",
      "  _warn_prf(average, modifier, msg_start, len(result))\n"
     ]
    },
    {
     "name": "stdout",
     "output_type": "stream",
     "text": [
      "Epoch [6/50], Loss: 0.3606\n",
      "Validation Loss: 0.7181, Accuracy: 0.5125, F1 Score: 0.0000, Precision: 0.0000, Recall: 0.0000, ROC AUC: 0.4778\n"
     ]
    },
    {
     "name": "stderr",
     "output_type": "stream",
     "text": [
      "/home/sadat/miniconda3/envs/cs721/lib/python3.8/site-packages/sklearn/metrics/_classification.py:1471: UndefinedMetricWarning: Precision is ill-defined and being set to 0.0 due to no predicted samples. Use `zero_division` parameter to control this behavior.\n",
      "  _warn_prf(average, modifier, msg_start, len(result))\n"
     ]
    },
    {
     "name": "stdout",
     "output_type": "stream",
     "text": [
      "Epoch [7/50], Loss: 0.3577\n",
      "Validation Loss: 0.7127, Accuracy: 0.5125, F1 Score: 0.0000, Precision: 0.0000, Recall: 0.0000, ROC AUC: 0.4303\n",
      "Early stopping triggered.\n",
      "Fold 3\n"
     ]
    },
    {
     "name": "stderr",
     "output_type": "stream",
     "text": [
      "/home/sadat/miniconda3/envs/cs721/lib/python3.8/site-packages/sklearn/metrics/_classification.py:1471: UndefinedMetricWarning: Precision is ill-defined and being set to 0.0 due to no predicted samples. Use `zero_division` parameter to control this behavior.\n",
      "  _warn_prf(average, modifier, msg_start, len(result))\n"
     ]
    },
    {
     "name": "stdout",
     "output_type": "stream",
     "text": [
      "Epoch [1/50], Loss: 0.9752\n",
      "Validation Loss: 3.2401, Accuracy: 0.4684, F1 Score: 0.0000, Precision: 0.0000, Recall: 0.0000, ROC AUC: 0.4234\n"
     ]
    },
    {
     "name": "stderr",
     "output_type": "stream",
     "text": [
      "/home/sadat/miniconda3/envs/cs721/lib/python3.8/site-packages/sklearn/metrics/_classification.py:1471: UndefinedMetricWarning: Precision is ill-defined and being set to 0.0 due to no predicted samples. Use `zero_division` parameter to control this behavior.\n",
      "  _warn_prf(average, modifier, msg_start, len(result))\n"
     ]
    },
    {
     "name": "stdout",
     "output_type": "stream",
     "text": [
      "Epoch [2/50], Loss: 0.5143\n",
      "Validation Loss: 0.8831, Accuracy: 0.4684, F1 Score: 0.0000, Precision: 0.0000, Recall: 0.0000, ROC AUC: 0.5225\n"
     ]
    },
    {
     "name": "stderr",
     "output_type": "stream",
     "text": [
      "/home/sadat/miniconda3/envs/cs721/lib/python3.8/site-packages/sklearn/metrics/_classification.py:1471: UndefinedMetricWarning: Precision is ill-defined and being set to 0.0 due to no predicted samples. Use `zero_division` parameter to control this behavior.\n",
      "  _warn_prf(average, modifier, msg_start, len(result))\n"
     ]
    },
    {
     "name": "stdout",
     "output_type": "stream",
     "text": [
      "Epoch [3/50], Loss: 0.3621\n",
      "Validation Loss: 0.7107, Accuracy: 0.4684, F1 Score: 0.0000, Precision: 0.0000, Recall: 0.0000, ROC AUC: 0.4363\n"
     ]
    },
    {
     "name": "stderr",
     "output_type": "stream",
     "text": [
      "/home/sadat/miniconda3/envs/cs721/lib/python3.8/site-packages/sklearn/metrics/_classification.py:1471: UndefinedMetricWarning: Precision is ill-defined and being set to 0.0 due to no predicted samples. Use `zero_division` parameter to control this behavior.\n",
      "  _warn_prf(average, modifier, msg_start, len(result))\n"
     ]
    },
    {
     "name": "stdout",
     "output_type": "stream",
     "text": [
      "Epoch [4/50], Loss: 0.3514\n",
      "Validation Loss: 0.7024, Accuracy: 0.4684, F1 Score: 0.0000, Precision: 0.0000, Recall: 0.0000, ROC AUC: 0.5399\n"
     ]
    },
    {
     "name": "stderr",
     "output_type": "stream",
     "text": [
      "/home/sadat/miniconda3/envs/cs721/lib/python3.8/site-packages/sklearn/metrics/_classification.py:1471: UndefinedMetricWarning: Precision is ill-defined and being set to 0.0 due to no predicted samples. Use `zero_division` parameter to control this behavior.\n",
      "  _warn_prf(average, modifier, msg_start, len(result))\n"
     ]
    },
    {
     "name": "stdout",
     "output_type": "stream",
     "text": [
      "Epoch [5/50], Loss: 0.3491\n",
      "Validation Loss: 0.6992, Accuracy: 0.4684, F1 Score: 0.0000, Precision: 0.0000, Recall: 0.0000, ROC AUC: 0.4955\n"
     ]
    },
    {
     "name": "stderr",
     "output_type": "stream",
     "text": [
      "/home/sadat/miniconda3/envs/cs721/lib/python3.8/site-packages/sklearn/metrics/_classification.py:1471: UndefinedMetricWarning: Precision is ill-defined and being set to 0.0 due to no predicted samples. Use `zero_division` parameter to control this behavior.\n",
      "  _warn_prf(average, modifier, msg_start, len(result))\n"
     ]
    },
    {
     "name": "stdout",
     "output_type": "stream",
     "text": [
      "Epoch [6/50], Loss: 0.3488\n",
      "Validation Loss: 0.7047, Accuracy: 0.4684, F1 Score: 0.0000, Precision: 0.0000, Recall: 0.0000, ROC AUC: 0.5991\n",
      "Early stopping triggered.\n",
      "Fold 4\n"
     ]
    },
    {
     "name": "stderr",
     "output_type": "stream",
     "text": [
      "/home/sadat/miniconda3/envs/cs721/lib/python3.8/site-packages/sklearn/metrics/_classification.py:1471: UndefinedMetricWarning: Precision is ill-defined and being set to 0.0 due to no predicted samples. Use `zero_division` parameter to control this behavior.\n",
      "  _warn_prf(average, modifier, msg_start, len(result))\n"
     ]
    },
    {
     "name": "stdout",
     "output_type": "stream",
     "text": [
      "Epoch [1/50], Loss: 0.8916\n",
      "Validation Loss: 1.9050, Accuracy: 0.4304, F1 Score: 0.0426, Precision: 0.1667, Recall: 0.0244, ROC AUC: 0.4583\n",
      "Epoch [2/50], Loss: 0.5040\n",
      "Validation Loss: 1.1344, Accuracy: 0.4810, F1 Score: 0.0000, Precision: 0.0000, Recall: 0.0000, ROC AUC: 0.4929\n"
     ]
    },
    {
     "name": "stderr",
     "output_type": "stream",
     "text": [
      "/home/sadat/miniconda3/envs/cs721/lib/python3.8/site-packages/sklearn/metrics/_classification.py:1471: UndefinedMetricWarning: Precision is ill-defined and being set to 0.0 due to no predicted samples. Use `zero_division` parameter to control this behavior.\n",
      "  _warn_prf(average, modifier, msg_start, len(result))\n"
     ]
    },
    {
     "name": "stdout",
     "output_type": "stream",
     "text": [
      "Epoch [3/50], Loss: 0.3738\n",
      "Validation Loss: 0.7365, Accuracy: 0.4810, F1 Score: 0.0000, Precision: 0.0000, Recall: 0.0000, ROC AUC: 0.5122\n"
     ]
    },
    {
     "name": "stderr",
     "output_type": "stream",
     "text": [
      "/home/sadat/miniconda3/envs/cs721/lib/python3.8/site-packages/sklearn/metrics/_classification.py:1471: UndefinedMetricWarning: Precision is ill-defined and being set to 0.0 due to no predicted samples. Use `zero_division` parameter to control this behavior.\n",
      "  _warn_prf(average, modifier, msg_start, len(result))\n"
     ]
    },
    {
     "name": "stdout",
     "output_type": "stream",
     "text": [
      "Epoch [4/50], Loss: 0.3569\n",
      "Validation Loss: 0.7053, Accuracy: 0.4810, F1 Score: 0.0000, Precision: 0.0000, Recall: 0.0000, ROC AUC: 0.4217\n"
     ]
    },
    {
     "name": "stderr",
     "output_type": "stream",
     "text": [
      "/home/sadat/miniconda3/envs/cs721/lib/python3.8/site-packages/sklearn/metrics/_classification.py:1471: UndefinedMetricWarning: Precision is ill-defined and being set to 0.0 due to no predicted samples. Use `zero_division` parameter to control this behavior.\n",
      "  _warn_prf(average, modifier, msg_start, len(result))\n"
     ]
    },
    {
     "name": "stdout",
     "output_type": "stream",
     "text": [
      "Epoch [5/50], Loss: 0.3546\n",
      "Validation Loss: 0.7420, Accuracy: 0.4810, F1 Score: 0.0000, Precision: 0.0000, Recall: 0.0000, ROC AUC: 0.5706\n"
     ]
    },
    {
     "name": "stderr",
     "output_type": "stream",
     "text": [
      "/home/sadat/miniconda3/envs/cs721/lib/python3.8/site-packages/sklearn/metrics/_classification.py:1471: UndefinedMetricWarning: Precision is ill-defined and being set to 0.0 due to no predicted samples. Use `zero_division` parameter to control this behavior.\n",
      "  _warn_prf(average, modifier, msg_start, len(result))\n"
     ]
    },
    {
     "name": "stdout",
     "output_type": "stream",
     "text": [
      "Epoch [6/50], Loss: 0.3495\n",
      "Validation Loss: 0.6888, Accuracy: 0.5190, F1 Score: 0.6833, Precision: 0.5190, Recall: 1.0000, ROC AUC: 0.4525\n",
      "Epoch [7/50], Loss: 0.3512\n",
      "Validation Loss: 0.6986, Accuracy: 0.4810, F1 Score: 0.0000, Precision: 0.0000, Recall: 0.0000, ROC AUC: 0.3928\n"
     ]
    },
    {
     "name": "stderr",
     "output_type": "stream",
     "text": [
      "/home/sadat/miniconda3/envs/cs721/lib/python3.8/site-packages/sklearn/metrics/_classification.py:1471: UndefinedMetricWarning: Precision is ill-defined and being set to 0.0 due to no predicted samples. Use `zero_division` parameter to control this behavior.\n",
      "  _warn_prf(average, modifier, msg_start, len(result))\n"
     ]
    },
    {
     "name": "stdout",
     "output_type": "stream",
     "text": [
      "Epoch [8/50], Loss: 0.3492\n",
      "Validation Loss: 0.6981, Accuracy: 0.5190, F1 Score: 0.6833, Precision: 0.5190, Recall: 1.0000, ROC AUC: 0.4756\n",
      "Epoch [9/50], Loss: 0.3479\n",
      "Validation Loss: 0.7026, Accuracy: 0.4810, F1 Score: 0.0000, Precision: 0.0000, Recall: 0.0000, ROC AUC: 0.5116\n"
     ]
    },
    {
     "name": "stderr",
     "output_type": "stream",
     "text": [
      "/home/sadat/miniconda3/envs/cs721/lib/python3.8/site-packages/sklearn/metrics/_classification.py:1471: UndefinedMetricWarning: Precision is ill-defined and being set to 0.0 due to no predicted samples. Use `zero_division` parameter to control this behavior.\n",
      "  _warn_prf(average, modifier, msg_start, len(result))\n"
     ]
    },
    {
     "name": "stdout",
     "output_type": "stream",
     "text": [
      "Epoch [10/50], Loss: 0.3475\n",
      "Validation Loss: 0.7015, Accuracy: 0.4810, F1 Score: 0.0000, Precision: 0.0000, Recall: 0.0000, ROC AUC: 0.4602\n"
     ]
    },
    {
     "name": "stderr",
     "output_type": "stream",
     "text": [
      "/home/sadat/miniconda3/envs/cs721/lib/python3.8/site-packages/sklearn/metrics/_classification.py:1471: UndefinedMetricWarning: Precision is ill-defined and being set to 0.0 due to no predicted samples. Use `zero_division` parameter to control this behavior.\n",
      "  _warn_prf(average, modifier, msg_start, len(result))\n"
     ]
    },
    {
     "name": "stdout",
     "output_type": "stream",
     "text": [
      "Epoch [11/50], Loss: 0.3480\n",
      "Validation Loss: 0.7031, Accuracy: 0.4810, F1 Score: 0.0000, Precision: 0.0000, Recall: 0.0000, ROC AUC: 0.4551\n",
      "Early stopping triggered.\n",
      "Fold 5\n"
     ]
    },
    {
     "name": "stderr",
     "output_type": "stream",
     "text": [
      "/home/sadat/miniconda3/envs/cs721/lib/python3.8/site-packages/sklearn/metrics/_classification.py:1471: UndefinedMetricWarning: Precision is ill-defined and being set to 0.0 due to no predicted samples. Use `zero_division` parameter to control this behavior.\n",
      "  _warn_prf(average, modifier, msg_start, len(result))\n"
     ]
    },
    {
     "name": "stdout",
     "output_type": "stream",
     "text": [
      "Epoch [1/50], Loss: 0.9144\n",
      "Validation Loss: 1.7129, Accuracy: 0.5316, F1 Score: 0.6942, Precision: 0.5316, Recall: 1.0000, ROC AUC: 0.4228\n",
      "Epoch [2/50], Loss: 0.5425\n",
      "Validation Loss: 2.8835, Accuracy: 0.5316, F1 Score: 0.6942, Precision: 0.5316, Recall: 1.0000, ROC AUC: 0.4781\n",
      "Epoch [3/50], Loss: 0.4110\n",
      "Validation Loss: 0.7554, Accuracy: 0.4684, F1 Score: 0.0000, Precision: 0.0000, Recall: 0.0000, ROC AUC: 0.4472\n"
     ]
    },
    {
     "name": "stderr",
     "output_type": "stream",
     "text": [
      "/home/sadat/miniconda3/envs/cs721/lib/python3.8/site-packages/sklearn/metrics/_classification.py:1471: UndefinedMetricWarning: Precision is ill-defined and being set to 0.0 due to no predicted samples. Use `zero_division` parameter to control this behavior.\n",
      "  _warn_prf(average, modifier, msg_start, len(result))\n"
     ]
    },
    {
     "name": "stdout",
     "output_type": "stream",
     "text": [
      "Epoch [4/50], Loss: 0.3807\n",
      "Validation Loss: 0.7518, Accuracy: 0.4684, F1 Score: 0.0000, Precision: 0.0000, Recall: 0.0000, ROC AUC: 0.4878\n"
     ]
    },
    {
     "name": "stderr",
     "output_type": "stream",
     "text": [
      "/home/sadat/miniconda3/envs/cs721/lib/python3.8/site-packages/sklearn/metrics/_classification.py:1471: UndefinedMetricWarning: Precision is ill-defined and being set to 0.0 due to no predicted samples. Use `zero_division` parameter to control this behavior.\n",
      "  _warn_prf(average, modifier, msg_start, len(result))\n"
     ]
    },
    {
     "name": "stdout",
     "output_type": "stream",
     "text": [
      "Epoch [5/50], Loss: 0.3643\n",
      "Validation Loss: 0.7352, Accuracy: 0.4684, F1 Score: 0.0000, Precision: 0.0000, Recall: 0.0000, ROC AUC: 0.4356\n"
     ]
    },
    {
     "name": "stderr",
     "output_type": "stream",
     "text": [
      "/home/sadat/miniconda3/envs/cs721/lib/python3.8/site-packages/sklearn/metrics/_classification.py:1471: UndefinedMetricWarning: Precision is ill-defined and being set to 0.0 due to no predicted samples. Use `zero_division` parameter to control this behavior.\n",
      "  _warn_prf(average, modifier, msg_start, len(result))\n"
     ]
    },
    {
     "name": "stdout",
     "output_type": "stream",
     "text": [
      "Epoch [6/50], Loss: 0.3629\n",
      "Validation Loss: 0.7214, Accuracy: 0.4684, F1 Score: 0.0000, Precision: 0.0000, Recall: 0.0000, ROC AUC: 0.5444\n",
      "Early stopping triggered.\n",
      "Average Validation Accuracy for alpha: 0.5, lr: 0.1, momentum: 0.8: 0.4710\n",
      "Training alpha: 0.5, learning_rate: 0.1, momentum: 0.9\n",
      "Fold 1\n"
     ]
    },
    {
     "name": "stderr",
     "output_type": "stream",
     "text": [
      "/home/sadat/miniconda3/envs/cs721/lib/python3.8/site-packages/sklearn/metrics/_classification.py:1471: UndefinedMetricWarning: Precision is ill-defined and being set to 0.0 due to no predicted samples. Use `zero_division` parameter to control this behavior.\n",
      "  _warn_prf(average, modifier, msg_start, len(result))\n"
     ]
    },
    {
     "name": "stdout",
     "output_type": "stream",
     "text": [
      "Epoch [1/50], Loss: 0.9628\n",
      "Validation Loss: 7.7550, Accuracy: 0.5250, F1 Score: 0.0000, Precision: 0.0000, Recall: 0.0000, ROC AUC: 0.4616\n",
      "Epoch [2/50], Loss: 0.5605\n",
      "Validation Loss: 2.0287, Accuracy: 0.4250, F1 Score: 0.5965, Precision: 0.4250, Recall: 1.0000, ROC AUC: 0.5173\n",
      "Epoch [3/50], Loss: 0.4482\n",
      "Validation Loss: 0.8761, Accuracy: 0.4250, F1 Score: 0.5965, Precision: 0.4250, Recall: 1.0000, ROC AUC: 0.6733\n",
      "Epoch [4/50], Loss: 0.4019\n",
      "Validation Loss: 0.7281, Accuracy: 0.4250, F1 Score: 0.5965, Precision: 0.4250, Recall: 1.0000, ROC AUC: 0.5416\n",
      "Epoch [5/50], Loss: 0.3579\n",
      "Validation Loss: 0.7154, Accuracy: 0.5750, F1 Score: 0.0000, Precision: 0.0000, Recall: 0.0000, ROC AUC: 0.4719\n"
     ]
    },
    {
     "name": "stderr",
     "output_type": "stream",
     "text": [
      "/home/sadat/miniconda3/envs/cs721/lib/python3.8/site-packages/sklearn/metrics/_classification.py:1471: UndefinedMetricWarning: Precision is ill-defined and being set to 0.0 due to no predicted samples. Use `zero_division` parameter to control this behavior.\n",
      "  _warn_prf(average, modifier, msg_start, len(result))\n"
     ]
    },
    {
     "name": "stdout",
     "output_type": "stream",
     "text": [
      "Epoch [6/50], Loss: 0.3608\n",
      "Validation Loss: 0.7031, Accuracy: 0.4250, F1 Score: 0.5965, Precision: 0.4250, Recall: 1.0000, ROC AUC: 0.5166\n",
      "Epoch [7/50], Loss: 0.3503\n",
      "Validation Loss: 0.7021, Accuracy: 0.5750, F1 Score: 0.0000, Precision: 0.0000, Recall: 0.0000, ROC AUC: 0.4869\n"
     ]
    },
    {
     "name": "stderr",
     "output_type": "stream",
     "text": [
      "/home/sadat/miniconda3/envs/cs721/lib/python3.8/site-packages/sklearn/metrics/_classification.py:1471: UndefinedMetricWarning: Precision is ill-defined and being set to 0.0 due to no predicted samples. Use `zero_division` parameter to control this behavior.\n",
      "  _warn_prf(average, modifier, msg_start, len(result))\n"
     ]
    },
    {
     "name": "stdout",
     "output_type": "stream",
     "text": [
      "Epoch [8/50], Loss: 0.3493\n",
      "Validation Loss: 0.6960, Accuracy: 0.4250, F1 Score: 0.5965, Precision: 0.4250, Recall: 1.0000, ROC AUC: 0.4242\n",
      "Epoch [9/50], Loss: 0.3484\n",
      "Validation Loss: 0.6955, Accuracy: 0.4250, F1 Score: 0.5965, Precision: 0.4250, Recall: 1.0000, ROC AUC: 0.4942\n",
      "Epoch [10/50], Loss: 0.3479\n",
      "Validation Loss: 0.6950, Accuracy: 0.4250, F1 Score: 0.5965, Precision: 0.4250, Recall: 1.0000, ROC AUC: 0.5141\n",
      "Early stopping triggered.\n",
      "Fold 2\n",
      "Epoch [1/50], Loss: 0.9719\n",
      "Validation Loss: 9.4759, Accuracy: 0.4875, F1 Score: 0.6555, Precision: 0.4875, Recall: 1.0000, ROC AUC: 0.5216\n",
      "Epoch [2/50], Loss: 0.7594\n",
      "Validation Loss: 600.2077, Accuracy: 0.5125, F1 Score: 0.0930, Precision: 0.5000, Recall: 0.0513, ROC AUC: 0.4909\n",
      "Epoch [3/50], Loss: 0.5454\n",
      "Validation Loss: 11.8239, Accuracy: 0.4500, F1 Score: 0.6140, Precision: 0.4667, Recall: 0.8974, ROC AUC: 0.3240\n",
      "Epoch [4/50], Loss: 0.3972\n",
      "Validation Loss: 0.8254, Accuracy: 0.4875, F1 Score: 0.6555, Precision: 0.4875, Recall: 1.0000, ROC AUC: 0.3852\n",
      "Epoch [5/50], Loss: 0.3934\n",
      "Validation Loss: 0.7776, Accuracy: 0.5125, F1 Score: 0.0000, Precision: 0.0000, Recall: 0.0000, ROC AUC: 0.5541\n"
     ]
    },
    {
     "name": "stderr",
     "output_type": "stream",
     "text": [
      "/home/sadat/miniconda3/envs/cs721/lib/python3.8/site-packages/sklearn/metrics/_classification.py:1471: UndefinedMetricWarning: Precision is ill-defined and being set to 0.0 due to no predicted samples. Use `zero_division` parameter to control this behavior.\n",
      "  _warn_prf(average, modifier, msg_start, len(result))\n"
     ]
    },
    {
     "name": "stdout",
     "output_type": "stream",
     "text": [
      "Epoch [6/50], Loss: 0.3867\n",
      "Validation Loss: 0.7142, Accuracy: 0.5125, F1 Score: 0.0000, Precision: 0.0000, Recall: 0.0000, ROC AUC: 0.5572\n"
     ]
    },
    {
     "name": "stderr",
     "output_type": "stream",
     "text": [
      "/home/sadat/miniconda3/envs/cs721/lib/python3.8/site-packages/sklearn/metrics/_classification.py:1471: UndefinedMetricWarning: Precision is ill-defined and being set to 0.0 due to no predicted samples. Use `zero_division` parameter to control this behavior.\n",
      "  _warn_prf(average, modifier, msg_start, len(result))\n"
     ]
    },
    {
     "name": "stdout",
     "output_type": "stream",
     "text": [
      "Epoch [7/50], Loss: 0.3665\n",
      "Validation Loss: 0.6915, Accuracy: 0.4875, F1 Score: 0.6555, Precision: 0.4875, Recall: 1.0000, ROC AUC: 0.4321\n",
      "Early stopping triggered.\n",
      "Fold 3\n",
      "Epoch [1/50], Loss: 0.9043\n",
      "Validation Loss: 7.2858, Accuracy: 0.4684, F1 Score: 0.0000, Precision: 0.0000, Recall: 0.0000, ROC AUC: 0.4086\n"
     ]
    },
    {
     "name": "stderr",
     "output_type": "stream",
     "text": [
      "/home/sadat/miniconda3/envs/cs721/lib/python3.8/site-packages/sklearn/metrics/_classification.py:1471: UndefinedMetricWarning: Precision is ill-defined and being set to 0.0 due to no predicted samples. Use `zero_division` parameter to control this behavior.\n",
      "  _warn_prf(average, modifier, msg_start, len(result))\n"
     ]
    },
    {
     "name": "stdout",
     "output_type": "stream",
     "text": [
      "Epoch [2/50], Loss: 0.5651\n",
      "Validation Loss: 13.1160, Accuracy: 0.5316, F1 Score: 0.6942, Precision: 0.5316, Recall: 1.0000, ROC AUC: 0.4852\n",
      "Epoch [3/50], Loss: 0.5349\n",
      "Validation Loss: 1.7453, Accuracy: 0.5570, F1 Score: 0.7059, Precision: 0.5455, Recall: 1.0000, ROC AUC: 0.5907\n",
      "Epoch [4/50], Loss: 0.4069\n",
      "Validation Loss: 1.5452, Accuracy: 0.5443, F1 Score: 0.6170, Precision: 0.5577, Recall: 0.6905, ROC AUC: 0.5701\n",
      "Epoch [5/50], Loss: 0.4257\n",
      "Validation Loss: 11.8249, Accuracy: 0.5063, F1 Score: 0.6286, Precision: 0.5238, Recall: 0.7857, ROC AUC: 0.4530\n",
      "Epoch [6/50], Loss: 0.4463\n",
      "Validation Loss: 0.9627, Accuracy: 0.5570, F1 Score: 0.7059, Precision: 0.5455, Recall: 1.0000, ROC AUC: 0.5637\n",
      "Epoch [7/50], Loss: 0.4177\n",
      "Validation Loss: 0.9398, Accuracy: 0.4684, F1 Score: 0.0455, Precision: 0.5000, Recall: 0.0238, ROC AUC: 0.4176\n",
      "Epoch [8/50], Loss: 0.4139\n",
      "Validation Loss: 0.7678, Accuracy: 0.5316, F1 Score: 0.6942, Precision: 0.5316, Recall: 1.0000, ROC AUC: 0.4736\n",
      "Early stopping triggered.\n",
      "Fold 4\n",
      "Epoch [1/50], Loss: 1.0276\n",
      "Validation Loss: 7.3267, Accuracy: 0.4430, F1 Score: 0.1200, Precision: 0.3333, Recall: 0.0732, ROC AUC: 0.5064\n",
      "Epoch [2/50], Loss: 0.6220\n",
      "Validation Loss: 94.7025, Accuracy: 0.5190, F1 Score: 0.6833, Precision: 0.5190, Recall: 1.0000, ROC AUC: 0.4438\n",
      "Epoch [3/50], Loss: 0.5683\n",
      "Validation Loss: 1.2049, Accuracy: 0.5190, F1 Score: 0.6833, Precision: 0.5190, Recall: 1.0000, ROC AUC: 0.5789\n",
      "Epoch [4/50], Loss: 0.3954\n",
      "Validation Loss: 0.8132, Accuracy: 0.4810, F1 Score: 0.0000, Precision: 0.0000, Recall: 0.0000, ROC AUC: 0.5481\n"
     ]
    },
    {
     "name": "stderr",
     "output_type": "stream",
     "text": [
      "/home/sadat/miniconda3/envs/cs721/lib/python3.8/site-packages/sklearn/metrics/_classification.py:1471: UndefinedMetricWarning: Precision is ill-defined and being set to 0.0 due to no predicted samples. Use `zero_division` parameter to control this behavior.\n",
      "  _warn_prf(average, modifier, msg_start, len(result))\n"
     ]
    },
    {
     "name": "stdout",
     "output_type": "stream",
     "text": [
      "Epoch [5/50], Loss: 0.3874\n",
      "Validation Loss: 0.7615, Accuracy: 0.5190, F1 Score: 0.6833, Precision: 0.5190, Recall: 1.0000, ROC AUC: 0.4897\n",
      "Epoch [6/50], Loss: 0.3574\n",
      "Validation Loss: 0.7434, Accuracy: 0.4810, F1 Score: 0.0000, Precision: 0.0000, Recall: 0.0000, ROC AUC: 0.5212\n"
     ]
    },
    {
     "name": "stderr",
     "output_type": "stream",
     "text": [
      "/home/sadat/miniconda3/envs/cs721/lib/python3.8/site-packages/sklearn/metrics/_classification.py:1471: UndefinedMetricWarning: Precision is ill-defined and being set to 0.0 due to no predicted samples. Use `zero_division` parameter to control this behavior.\n",
      "  _warn_prf(average, modifier, msg_start, len(result))\n"
     ]
    },
    {
     "name": "stdout",
     "output_type": "stream",
     "text": [
      "Epoch [7/50], Loss: 0.3600\n",
      "Validation Loss: 0.7021, Accuracy: 0.5190, F1 Score: 0.6833, Precision: 0.5190, Recall: 1.0000, ROC AUC: 0.5815\n",
      "Early stopping triggered.\n",
      "Fold 5\n",
      "Epoch [1/50], Loss: 0.9188\n",
      "Validation Loss: 40.6214, Accuracy: 0.4684, F1 Score: 0.0000, Precision: 0.0000, Recall: 0.0000, ROC AUC: 0.4537\n"
     ]
    },
    {
     "name": "stderr",
     "output_type": "stream",
     "text": [
      "/home/sadat/miniconda3/envs/cs721/lib/python3.8/site-packages/sklearn/metrics/_classification.py:1471: UndefinedMetricWarning: Precision is ill-defined and being set to 0.0 due to no predicted samples. Use `zero_division` parameter to control this behavior.\n",
      "  _warn_prf(average, modifier, msg_start, len(result))\n"
     ]
    },
    {
     "name": "stdout",
     "output_type": "stream",
     "text": [
      "Epoch [2/50], Loss: 0.6236\n",
      "Validation Loss: 2.1004, Accuracy: 0.4430, F1 Score: 0.3125, Precision: 0.4545, Recall: 0.2381, ROC AUC: 0.4344\n",
      "Epoch [3/50], Loss: 0.4864\n",
      "Validation Loss: 1.0375, Accuracy: 0.5316, F1 Score: 0.6942, Precision: 0.5316, Recall: 1.0000, ROC AUC: 0.5663\n",
      "Epoch [4/50], Loss: 0.4385\n",
      "Validation Loss: 1.0322, Accuracy: 0.4684, F1 Score: 0.0000, Precision: 0.0000, Recall: 0.0000, ROC AUC: 0.4640\n"
     ]
    },
    {
     "name": "stderr",
     "output_type": "stream",
     "text": [
      "/home/sadat/miniconda3/envs/cs721/lib/python3.8/site-packages/sklearn/metrics/_classification.py:1471: UndefinedMetricWarning: Precision is ill-defined and being set to 0.0 due to no predicted samples. Use `zero_division` parameter to control this behavior.\n",
      "  _warn_prf(average, modifier, msg_start, len(result))\n"
     ]
    },
    {
     "name": "stdout",
     "output_type": "stream",
     "text": [
      "Epoch [5/50], Loss: 0.4027\n",
      "Validation Loss: 0.7990, Accuracy: 0.4684, F1 Score: 0.0000, Precision: 0.0000, Recall: 0.0000, ROC AUC: 0.4900\n"
     ]
    },
    {
     "name": "stderr",
     "output_type": "stream",
     "text": [
      "/home/sadat/miniconda3/envs/cs721/lib/python3.8/site-packages/sklearn/metrics/_classification.py:1471: UndefinedMetricWarning: Precision is ill-defined and being set to 0.0 due to no predicted samples. Use `zero_division` parameter to control this behavior.\n",
      "  _warn_prf(average, modifier, msg_start, len(result))\n"
     ]
    },
    {
     "name": "stdout",
     "output_type": "stream",
     "text": [
      "Epoch [6/50], Loss: 0.3948\n",
      "Validation Loss: 0.8336, Accuracy: 0.4684, F1 Score: 0.0000, Precision: 0.0000, Recall: 0.0000, ROC AUC: 0.5380\n"
     ]
    },
    {
     "name": "stderr",
     "output_type": "stream",
     "text": [
      "/home/sadat/miniconda3/envs/cs721/lib/python3.8/site-packages/sklearn/metrics/_classification.py:1471: UndefinedMetricWarning: Precision is ill-defined and being set to 0.0 due to no predicted samples. Use `zero_division` parameter to control this behavior.\n",
      "  _warn_prf(average, modifier, msg_start, len(result))\n"
     ]
    },
    {
     "name": "stdout",
     "output_type": "stream",
     "text": [
      "Epoch [7/50], Loss: 0.3888\n",
      "Validation Loss: 0.7780, Accuracy: 0.4810, F1 Score: 0.0465, Precision: 1.0000, Recall: 0.0238, ROC AUC: 0.5663\n",
      "Epoch [8/50], Loss: 0.3839\n",
      "Validation Loss: 0.7585, Accuracy: 0.4684, F1 Score: 0.0000, Precision: 0.0000, Recall: 0.0000, ROC AUC: 0.4755\n",
      "Early stopping triggered.\n",
      "Average Validation Accuracy for alpha: 0.5, lr: 0.1, momentum: 0.9: 0.4863\n",
      "Training alpha: 0.7, learning_rate: 0.001, momentum: 0.5\n",
      "Fold 1\n"
     ]
    },
    {
     "name": "stderr",
     "output_type": "stream",
     "text": [
      "/home/sadat/miniconda3/envs/cs721/lib/python3.8/site-packages/sklearn/metrics/_classification.py:1471: UndefinedMetricWarning: Precision is ill-defined and being set to 0.0 due to no predicted samples. Use `zero_division` parameter to control this behavior.\n",
      "  _warn_prf(average, modifier, msg_start, len(result))\n"
     ]
    },
    {
     "name": "stdout",
     "output_type": "stream",
     "text": [
      "Epoch [1/50], Loss: 0.9171\n",
      "Validation Loss: 2.2836, Accuracy: 0.4250, F1 Score: 0.5965, Precision: 0.4250, Recall: 1.0000, ROC AUC: 0.5013\n",
      "Epoch [2/50], Loss: 0.8616\n",
      "Validation Loss: 2.0901, Accuracy: 0.4375, F1 Score: 0.5946, Precision: 0.4286, Recall: 0.9706, ROC AUC: 0.4744\n",
      "Epoch [3/50], Loss: 0.8076\n",
      "Validation Loss: 1.9662, Accuracy: 0.4375, F1 Score: 0.5631, Precision: 0.4203, Recall: 0.8529, ROC AUC: 0.4668\n",
      "Epoch [4/50], Loss: 0.7612\n",
      "Validation Loss: 1.8581, Accuracy: 0.4500, F1 Score: 0.5686, Precision: 0.4265, Recall: 0.8529, ROC AUC: 0.4495\n",
      "Epoch [5/50], Loss: 0.7303\n",
      "Validation Loss: 1.7845, Accuracy: 0.4375, F1 Score: 0.5455, Precision: 0.4154, Recall: 0.7941, ROC AUC: 0.4431\n",
      "Epoch [6/50], Loss: 0.7003\n",
      "Validation Loss: 1.7035, Accuracy: 0.4500, F1 Score: 0.5417, Precision: 0.4194, Recall: 0.7647, ROC AUC: 0.4246\n",
      "Epoch [7/50], Loss: 0.6760\n",
      "Validation Loss: 1.6490, Accuracy: 0.4250, F1 Score: 0.5490, Precision: 0.4118, Recall: 0.8235, ROC AUC: 0.4233\n",
      "Epoch [8/50], Loss: 0.6561\n",
      "Validation Loss: 1.6107, Accuracy: 0.4125, F1 Score: 0.5253, Precision: 0.4000, Recall: 0.7647, ROC AUC: 0.4214\n",
      "Epoch [9/50], Loss: 0.6322\n",
      "Validation Loss: 1.5649, Accuracy: 0.4000, F1 Score: 0.5102, Precision: 0.3906, Recall: 0.7353, ROC AUC: 0.4150\n",
      "Early stopping triggered.\n",
      "Fold 2\n",
      "Epoch [1/50], Loss: 0.9194\n",
      "Validation Loss: 2.2210, Accuracy: 0.4875, F1 Score: 0.5495, Precision: 0.4808, Recall: 0.6410, ROC AUC: 0.5172\n",
      "Epoch [2/50], Loss: 0.8646\n",
      "Validation Loss: 2.0821, Accuracy: 0.4875, F1 Score: 0.5859, Precision: 0.4833, Recall: 0.7436, ROC AUC: 0.5047\n",
      "Epoch [3/50], Loss: 0.8196\n",
      "Validation Loss: 1.9748, Accuracy: 0.4875, F1 Score: 0.5773, Precision: 0.4828, Recall: 0.7179, ROC AUC: 0.4866\n",
      "Epoch [4/50], Loss: 0.7768\n",
      "Validation Loss: 1.8947, Accuracy: 0.4500, F1 Score: 0.4884, Precision: 0.4468, Recall: 0.5385, ROC AUC: 0.4753\n",
      "Epoch [5/50], Loss: 0.7443\n",
      "Validation Loss: 1.7980, Accuracy: 0.4500, F1 Score: 0.5000, Precision: 0.4490, Recall: 0.5641, ROC AUC: 0.4722\n",
      "Epoch [6/50], Loss: 0.7133\n",
      "Validation Loss: 1.7545, Accuracy: 0.4500, F1 Score: 0.4884, Precision: 0.4468, Recall: 0.5385, ROC AUC: 0.4615\n",
      "Early stopping triggered.\n",
      "Fold 3\n",
      "Epoch [1/50], Loss: 0.9264\n",
      "Validation Loss: 2.0567, Accuracy: 0.4937, F1 Score: 0.4286, Precision: 0.5357, Recall: 0.3571, ROC AUC: 0.5135\n",
      "Epoch [2/50], Loss: 0.8756\n",
      "Validation Loss: 1.9079, Accuracy: 0.4937, F1 Score: 0.4286, Precision: 0.5357, Recall: 0.3571, ROC AUC: 0.4987\n",
      "Epoch [3/50], Loss: 0.8352\n",
      "Validation Loss: 1.7810, Accuracy: 0.4937, F1 Score: 0.4286, Precision: 0.5357, Recall: 0.3571, ROC AUC: 0.5026\n",
      "Epoch [4/50], Loss: 0.7942\n",
      "Validation Loss: 1.7011, Accuracy: 0.4810, F1 Score: 0.4058, Precision: 0.5185, Recall: 0.3333, ROC AUC: 0.5000\n",
      "Epoch [5/50], Loss: 0.7604\n",
      "Validation Loss: 1.6184, Accuracy: 0.4810, F1 Score: 0.4225, Precision: 0.5172, Recall: 0.3571, ROC AUC: 0.4961\n",
      "Epoch [6/50], Loss: 0.7321\n",
      "Validation Loss: 1.5542, Accuracy: 0.4810, F1 Score: 0.4225, Precision: 0.5172, Recall: 0.3571, ROC AUC: 0.4794\n",
      "Early stopping triggered.\n",
      "Fold 4\n",
      "Epoch [1/50], Loss: 0.9301\n",
      "Validation Loss: 2.2089, Accuracy: 0.4430, F1 Score: 0.4634, Precision: 0.4634, Recall: 0.4634, ROC AUC: 0.4756\n",
      "Epoch [2/50], Loss: 0.8727\n",
      "Validation Loss: 2.0702, Accuracy: 0.4430, F1 Score: 0.4634, Precision: 0.4634, Recall: 0.4634, ROC AUC: 0.4718\n",
      "Epoch [3/50], Loss: 0.8245\n",
      "Validation Loss: 1.9339, Accuracy: 0.4557, F1 Score: 0.4819, Precision: 0.4762, Recall: 0.4878, ROC AUC: 0.4718\n",
      "Epoch [4/50], Loss: 0.7769\n",
      "Validation Loss: 1.8282, Accuracy: 0.4557, F1 Score: 0.4819, Precision: 0.4762, Recall: 0.4878, ROC AUC: 0.4692\n",
      "Epoch [5/50], Loss: 0.7422\n",
      "Validation Loss: 1.7597, Accuracy: 0.4430, F1 Score: 0.4634, Precision: 0.4634, Recall: 0.4634, ROC AUC: 0.4679\n",
      "Epoch [6/50], Loss: 0.7115\n",
      "Validation Loss: 1.7033, Accuracy: 0.4557, F1 Score: 0.4557, Precision: 0.4737, Recall: 0.4390, ROC AUC: 0.4531\n",
      "Epoch [7/50], Loss: 0.6860\n",
      "Validation Loss: 1.6478, Accuracy: 0.4051, F1 Score: 0.4051, Precision: 0.4211, Recall: 0.3902, ROC AUC: 0.4467\n",
      "Epoch [8/50], Loss: 0.6607\n",
      "Validation Loss: 1.5884, Accuracy: 0.4430, F1 Score: 0.4359, Precision: 0.4595, Recall: 0.4146, ROC AUC: 0.4416\n",
      "Early stopping triggered.\n",
      "Fold 5\n",
      "Epoch [1/50], Loss: 0.9511\n",
      "Validation Loss: 2.2193, Accuracy: 0.4937, F1 Score: 0.4444, Precision: 0.5333, Recall: 0.3810, ROC AUC: 0.4955\n",
      "Epoch [2/50], Loss: 0.8917\n",
      "Validation Loss: 2.0629, Accuracy: 0.5063, F1 Score: 0.4800, Precision: 0.5455, Recall: 0.4286, ROC AUC: 0.4910\n",
      "Epoch [3/50], Loss: 0.8412\n",
      "Validation Loss: 1.9641, Accuracy: 0.5063, F1 Score: 0.4507, Precision: 0.5517, Recall: 0.3810, ROC AUC: 0.5051\n",
      "Epoch [4/50], Loss: 0.7965\n",
      "Validation Loss: 1.8643, Accuracy: 0.5316, F1 Score: 0.4932, Precision: 0.5806, Recall: 0.4286, ROC AUC: 0.5154\n",
      "Epoch [5/50], Loss: 0.7636\n",
      "Validation Loss: 1.7858, Accuracy: 0.5316, F1 Score: 0.5067, Precision: 0.5758, Recall: 0.4524, ROC AUC: 0.4961\n",
      "Epoch [6/50], Loss: 0.7315\n",
      "Validation Loss: 1.7143, Accuracy: 0.4937, F1 Score: 0.4286, Precision: 0.5357, Recall: 0.3571, ROC AUC: 0.5071\n",
      "Epoch [7/50], Loss: 0.7057\n",
      "Validation Loss: 1.6647, Accuracy: 0.5443, F1 Score: 0.4375, Precision: 0.6364, Recall: 0.3333, ROC AUC: 0.5032\n",
      "Epoch [8/50], Loss: 0.6809\n",
      "Validation Loss: 1.6269, Accuracy: 0.5443, F1 Score: 0.4375, Precision: 0.6364, Recall: 0.3333, ROC AUC: 0.5257\n",
      "Epoch [9/50], Loss: 0.6590\n",
      "Validation Loss: 1.5744, Accuracy: 0.5696, F1 Score: 0.5143, Precision: 0.6429, Recall: 0.4286, ROC AUC: 0.5148\n",
      "Epoch [10/50], Loss: 0.6419\n",
      "Validation Loss: 1.5528, Accuracy: 0.5570, F1 Score: 0.4928, Precision: 0.6296, Recall: 0.4048, ROC AUC: 0.5148\n",
      "Epoch [11/50], Loss: 0.6224\n",
      "Validation Loss: 1.5158, Accuracy: 0.4937, F1 Score: 0.3333, Precision: 0.5556, Recall: 0.2381, ROC AUC: 0.5154\n",
      "Epoch [12/50], Loss: 0.6106\n",
      "Validation Loss: 1.4916, Accuracy: 0.5063, F1 Score: 0.3390, Precision: 0.5882, Recall: 0.2381, ROC AUC: 0.5026\n",
      "Epoch [13/50], Loss: 0.5973\n",
      "Validation Loss: 1.4625, Accuracy: 0.5316, F1 Score: 0.4308, Precision: 0.6087, Recall: 0.3333, ROC AUC: 0.5058\n",
      "Epoch [14/50], Loss: 0.5841\n",
      "Validation Loss: 1.4474, Accuracy: 0.4684, F1 Score: 0.2759, Precision: 0.5000, Recall: 0.1905, ROC AUC: 0.4974\n",
      "Early stopping triggered.\n",
      "Average Validation Accuracy for alpha: 0.7, lr: 0.001, momentum: 0.5: 0.4485\n",
      "Training alpha: 0.7, learning_rate: 0.001, momentum: 0.8\n",
      "Fold 1\n",
      "Epoch [1/50], Loss: 0.9229\n",
      "Validation Loss: 2.1631, Accuracy: 0.5375, F1 Score: 0.0976, Precision: 0.2857, Recall: 0.0588, ROC AUC: 0.5070\n",
      "Epoch [2/50], Loss: 0.8118\n",
      "Validation Loss: 1.8472, Accuracy: 0.4125, F1 Score: 0.5437, Precision: 0.4058, Recall: 0.8235, ROC AUC: 0.4994\n",
      "Epoch [3/50], Loss: 0.7230\n",
      "Validation Loss: 1.6555, Accuracy: 0.4000, F1 Score: 0.4894, Precision: 0.3833, Recall: 0.6765, ROC AUC: 0.4763\n",
      "Epoch [4/50], Loss: 0.6657\n",
      "Validation Loss: 1.5513, Accuracy: 0.4625, F1 Score: 0.5474, Precision: 0.4262, Recall: 0.7647, ROC AUC: 0.4802\n",
      "Epoch [5/50], Loss: 0.6172\n",
      "Validation Loss: 1.4818, Accuracy: 0.4250, F1 Score: 0.5490, Precision: 0.4118, Recall: 0.8235, ROC AUC: 0.4636\n",
      "Epoch [6/50], Loss: 0.5915\n",
      "Validation Loss: 1.4213, Accuracy: 0.4500, F1 Score: 0.5600, Precision: 0.4242, Recall: 0.8235, ROC AUC: 0.4636\n",
      "Early stopping triggered.\n",
      "Fold 2\n",
      "Epoch [1/50], Loss: 0.9167\n",
      "Validation Loss: 2.0211, Accuracy: 0.5750, F1 Score: 0.4333, Precision: 0.6190, Recall: 0.3333, ROC AUC: 0.5616\n",
      "Epoch [2/50], Loss: 0.8094\n",
      "Validation Loss: 1.7616, Accuracy: 0.4750, F1 Score: 0.3824, Precision: 0.4483, Recall: 0.3333, ROC AUC: 0.5235\n",
      "Epoch [3/50], Loss: 0.7356\n",
      "Validation Loss: 1.6041, Accuracy: 0.5000, F1 Score: 0.6491, Precision: 0.4933, Recall: 0.9487, ROC AUC: 0.5128\n",
      "Epoch [4/50], Loss: 0.6735\n",
      "Validation Loss: 1.5184, Accuracy: 0.5375, F1 Score: 0.2745, Precision: 0.5833, Recall: 0.1795, ROC AUC: 0.5278\n",
      "Epoch [5/50], Loss: 0.6320\n",
      "Validation Loss: 1.4443, Accuracy: 0.5250, F1 Score: 0.5870, Precision: 0.5094, Recall: 0.6923, ROC AUC: 0.5141\n",
      "Epoch [6/50], Loss: 0.5966\n",
      "Validation Loss: 1.3910, Accuracy: 0.4500, F1 Score: 0.3889, Precision: 0.4242, Recall: 0.3590, ROC AUC: 0.4884\n",
      "Early stopping triggered.\n",
      "Fold 3\n",
      "Epoch [1/50], Loss: 0.9275\n",
      "Validation Loss: 2.1127, Accuracy: 0.4684, F1 Score: 0.3000, Precision: 0.5000, Recall: 0.2143, ROC AUC: 0.4987\n",
      "Epoch [2/50], Loss: 0.8154\n",
      "Validation Loss: 1.8189, Accuracy: 0.5063, F1 Score: 0.4800, Precision: 0.5455, Recall: 0.4286, ROC AUC: 0.4833\n",
      "Epoch [3/50], Loss: 0.7334\n",
      "Validation Loss: 1.6617, Accuracy: 0.5316, F1 Score: 0.5067, Precision: 0.5758, Recall: 0.4524, ROC AUC: 0.4865\n",
      "Epoch [4/50], Loss: 0.6693\n",
      "Validation Loss: 1.5306, Accuracy: 0.4937, F1 Score: 0.5238, Precision: 0.5238, Recall: 0.5238, ROC AUC: 0.4762\n",
      "Epoch [5/50], Loss: 0.6272\n",
      "Validation Loss: 1.4785, Accuracy: 0.4937, F1 Score: 0.3548, Precision: 0.5500, Recall: 0.2619, ROC AUC: 0.4858\n",
      "Epoch [6/50], Loss: 0.5886\n",
      "Validation Loss: 1.4114, Accuracy: 0.4937, F1 Score: 0.5122, Precision: 0.5250, Recall: 0.5000, ROC AUC: 0.4826\n",
      "Epoch [7/50], Loss: 0.5678\n",
      "Validation Loss: 1.3751, Accuracy: 0.4430, F1 Score: 0.3125, Precision: 0.4545, Recall: 0.2381, ROC AUC: 0.4916\n",
      "Epoch [8/50], Loss: 0.5417\n",
      "Validation Loss: 1.3457, Accuracy: 0.4810, F1 Score: 0.4675, Precision: 0.5143, Recall: 0.4286, ROC AUC: 0.4749\n",
      "Early stopping triggered.\n",
      "Fold 4\n",
      "Epoch [1/50], Loss: 0.9130\n",
      "Validation Loss: 2.0531, Accuracy: 0.5823, F1 Score: 0.6207, Precision: 0.5870, Recall: 0.6585, ROC AUC: 0.5398\n",
      "Epoch [2/50], Loss: 0.8091\n",
      "Validation Loss: 1.8096, Accuracy: 0.4937, F1 Score: 0.4737, Precision: 0.5143, Recall: 0.4390, ROC AUC: 0.4891\n",
      "Epoch [3/50], Loss: 0.7180\n",
      "Validation Loss: 1.6523, Accuracy: 0.4177, F1 Score: 0.2069, Precision: 0.3529, Recall: 0.1463, ROC AUC: 0.4718\n",
      "Epoch [4/50], Loss: 0.6652\n",
      "Validation Loss: 1.5428, Accuracy: 0.4051, F1 Score: 0.3380, Precision: 0.4000, Recall: 0.2927, ROC AUC: 0.4397\n",
      "Epoch [5/50], Loss: 0.6209\n",
      "Validation Loss: 1.4816, Accuracy: 0.3671, F1 Score: 0.2647, Precision: 0.3333, Recall: 0.2195, ROC AUC: 0.4288\n",
      "Epoch [6/50], Loss: 0.5867\n",
      "Validation Loss: 1.4323, Accuracy: 0.3924, F1 Score: 0.3333, Precision: 0.3871, Recall: 0.2927, ROC AUC: 0.4146\n",
      "Early stopping triggered.\n",
      "Fold 5\n",
      "Epoch [1/50], Loss: 0.9267\n",
      "Validation Loss: 1.9829, Accuracy: 0.5570, F1 Score: 0.6237, Precision: 0.5686, Recall: 0.6905, ROC AUC: 0.5161\n",
      "Epoch [2/50], Loss: 0.8132\n",
      "Validation Loss: 1.7126, Accuracy: 0.5316, F1 Score: 0.5843, Precision: 0.5532, Recall: 0.6190, ROC AUC: 0.5051\n",
      "Epoch [3/50], Loss: 0.7273\n",
      "Validation Loss: 1.5299, Accuracy: 0.4810, F1 Score: 0.4810, Precision: 0.5135, Recall: 0.4524, ROC AUC: 0.5000\n",
      "Epoch [4/50], Loss: 0.6679\n",
      "Validation Loss: 1.4352, Accuracy: 0.4304, F1 Score: 0.3478, Precision: 0.4444, Recall: 0.2857, ROC AUC: 0.4846\n",
      "Epoch [5/50], Loss: 0.6184\n",
      "Validation Loss: 1.3840, Accuracy: 0.4430, F1 Score: 0.3125, Precision: 0.4545, Recall: 0.2381, ROC AUC: 0.4717\n",
      "Epoch [6/50], Loss: 0.5844\n",
      "Validation Loss: 1.3374, Accuracy: 0.4557, F1 Score: 0.3385, Precision: 0.4783, Recall: 0.2619, ROC AUC: 0.4556\n",
      "Early stopping triggered.\n",
      "Average Validation Accuracy for alpha: 0.7, lr: 0.001, momentum: 0.8: 0.4458\n",
      "Training alpha: 0.7, learning_rate: 0.001, momentum: 0.9\n",
      "Fold 1\n",
      "Epoch [1/50], Loss: 0.9083\n",
      "Validation Loss: 2.0244, Accuracy: 0.4875, F1 Score: 0.4675, Precision: 0.4186, Recall: 0.5294, ROC AUC: 0.4827\n",
      "Epoch [2/50], Loss: 0.7696\n",
      "Validation Loss: 1.6132, Accuracy: 0.3750, F1 Score: 0.4565, Precision: 0.3621, Recall: 0.6176, ROC AUC: 0.4277\n",
      "Epoch [3/50], Loss: 0.6609\n",
      "Validation Loss: 1.4378, Accuracy: 0.3250, F1 Score: 0.3571, Precision: 0.3000, Recall: 0.4412, ROC AUC: 0.3766\n",
      "Epoch [4/50], Loss: 0.5923\n",
      "Validation Loss: 1.3362, Accuracy: 0.3500, F1 Score: 0.4468, Precision: 0.3500, Recall: 0.6176, ROC AUC: 0.3676\n",
      "Epoch [5/50], Loss: 0.5495\n",
      "Validation Loss: 1.2762, Accuracy: 0.3875, F1 Score: 0.5149, Precision: 0.3881, Recall: 0.7647, ROC AUC: 0.3760\n",
      "Epoch [6/50], Loss: 0.5193\n",
      "Validation Loss: 1.2554, Accuracy: 0.4250, F1 Score: 0.4651, Precision: 0.3846, Recall: 0.5882, ROC AUC: 0.4143\n",
      "Early stopping triggered.\n",
      "Fold 2\n",
      "Epoch [1/50], Loss: 0.9109\n",
      "Validation Loss: 1.9534, Accuracy: 0.4500, F1 Score: 0.4634, Precision: 0.4419, Recall: 0.4872, ROC AUC: 0.4966\n",
      "Epoch [2/50], Loss: 0.7656\n",
      "Validation Loss: 1.6001, Accuracy: 0.4250, F1 Score: 0.4250, Precision: 0.4146, Recall: 0.4359, ROC AUC: 0.4422\n",
      "Epoch [3/50], Loss: 0.6581\n",
      "Validation Loss: 1.4326, Accuracy: 0.4500, F1 Score: 0.3714, Precision: 0.4194, Recall: 0.3333, ROC AUC: 0.4178\n",
      "Epoch [4/50], Loss: 0.5922\n",
      "Validation Loss: 1.3363, Accuracy: 0.3875, F1 Score: 0.3467, Precision: 0.3611, Recall: 0.3333, ROC AUC: 0.3840\n",
      "Epoch [5/50], Loss: 0.5500\n",
      "Validation Loss: 1.2789, Accuracy: 0.4000, F1 Score: 0.5294, Precision: 0.4286, Recall: 0.6923, ROC AUC: 0.3771\n",
      "Epoch [6/50], Loss: 0.5122\n",
      "Validation Loss: 1.2540, Accuracy: 0.3750, F1 Score: 0.3243, Precision: 0.3429, Recall: 0.3077, ROC AUC: 0.3659\n",
      "Early stopping triggered.\n",
      "Fold 3\n",
      "Epoch [1/50], Loss: 0.9205\n",
      "Validation Loss: 1.9149, Accuracy: 0.4684, F1 Score: 0.2500, Precision: 0.5000, Recall: 0.1667, ROC AUC: 0.4833\n",
      "Epoch [2/50], Loss: 0.7782\n",
      "Validation Loss: 1.5691, Accuracy: 0.4937, F1 Score: 0.6296, Precision: 0.5152, Recall: 0.8095, ROC AUC: 0.4607\n",
      "Epoch [3/50], Loss: 0.6681\n",
      "Validation Loss: 1.4128, Accuracy: 0.5063, F1 Score: 0.5412, Precision: 0.5349, Recall: 0.5476, ROC AUC: 0.4511\n",
      "Epoch [4/50], Loss: 0.6034\n",
      "Validation Loss: 1.3155, Accuracy: 0.4557, F1 Score: 0.1224, Precision: 0.4286, Recall: 0.0714, ROC AUC: 0.4453\n",
      "Epoch [5/50], Loss: 0.5532\n",
      "Validation Loss: 1.2713, Accuracy: 0.4684, F1 Score: 0.1923, Precision: 0.5000, Recall: 0.1190, ROC AUC: 0.4080\n",
      "Epoch [6/50], Loss: 0.5261\n",
      "Validation Loss: 1.2017, Accuracy: 0.4557, F1 Score: 0.5825, Precision: 0.4918, Recall: 0.7143, ROC AUC: 0.3842\n",
      "Epoch [7/50], Loss: 0.5011\n",
      "Validation Loss: 1.1933, Accuracy: 0.4557, F1 Score: 0.5057, Precision: 0.4889, Recall: 0.5238, ROC AUC: 0.3784\n",
      "Epoch [8/50], Loss: 0.4861\n",
      "Validation Loss: 1.1718, Accuracy: 0.4430, F1 Score: 0.3529, Precision: 0.4615, Recall: 0.2857, ROC AUC: 0.3983\n",
      "Early stopping triggered.\n",
      "Fold 4\n",
      "Epoch [1/50], Loss: 0.9006\n",
      "Validation Loss: 2.0669, Accuracy: 0.5696, F1 Score: 0.4687, Precision: 0.6522, Recall: 0.3659, ROC AUC: 0.5969\n",
      "Epoch [2/50], Loss: 0.7642\n",
      "Validation Loss: 1.7371, Accuracy: 0.5316, F1 Score: 0.4638, Precision: 0.5714, Recall: 0.3902, ROC AUC: 0.5815\n",
      "Epoch [3/50], Loss: 0.6587\n",
      "Validation Loss: 1.5341, Accuracy: 0.5696, F1 Score: 0.6600, Precision: 0.5593, Recall: 0.8049, ROC AUC: 0.5783\n",
      "Epoch [4/50], Loss: 0.5938\n",
      "Validation Loss: 1.4574, Accuracy: 0.4684, F1 Score: 0.3226, Precision: 0.4762, Recall: 0.2439, ROC AUC: 0.5591\n",
      "Epoch [5/50], Loss: 0.5485\n",
      "Validation Loss: 1.3930, Accuracy: 0.4937, F1 Score: 0.3750, Precision: 0.5217, Recall: 0.2927, ROC AUC: 0.5565\n",
      "Epoch [6/50], Loss: 0.5210\n",
      "Validation Loss: 1.3449, Accuracy: 0.4810, F1 Score: 0.3051, Precision: 0.5000, Recall: 0.2195, ROC AUC: 0.5539\n",
      "Early stopping triggered.\n",
      "Fold 5\n",
      "Epoch [1/50], Loss: 0.9222\n",
      "Validation Loss: 2.0914, Accuracy: 0.5063, F1 Score: 0.3158, Precision: 0.6000, Recall: 0.2143, ROC AUC: 0.5109\n",
      "Epoch [2/50], Loss: 0.7713\n",
      "Validation Loss: 1.7750, Accuracy: 0.5063, F1 Score: 0.3158, Precision: 0.6000, Recall: 0.2143, ROC AUC: 0.4466\n",
      "Epoch [3/50], Loss: 0.6564\n",
      "Validation Loss: 1.6001, Accuracy: 0.4937, F1 Score: 0.3103, Precision: 0.5625, Recall: 0.2143, ROC AUC: 0.4241\n",
      "Epoch [4/50], Loss: 0.5839\n",
      "Validation Loss: 1.5145, Accuracy: 0.4810, F1 Score: 0.1633, Precision: 0.5714, Recall: 0.0952, ROC AUC: 0.3958\n",
      "Epoch [5/50], Loss: 0.5386\n",
      "Validation Loss: 1.4518, Accuracy: 0.4051, F1 Score: 0.4598, Precision: 0.4444, Recall: 0.4762, ROC AUC: 0.4035\n",
      "Epoch [6/50], Loss: 0.5100\n",
      "Validation Loss: 1.4318, Accuracy: 0.4304, F1 Score: 0.1176, Precision: 0.3333, Recall: 0.0714, ROC AUC: 0.3964\n",
      "Early stopping triggered.\n",
      "Average Validation Accuracy for alpha: 0.7, lr: 0.001, momentum: 0.9: 0.4309\n",
      "Training alpha: 0.7, learning_rate: 0.01, momentum: 0.5\n",
      "Fold 1\n",
      "Epoch [1/50], Loss: 0.8250\n",
      "Validation Loss: 1.5192, Accuracy: 0.3375, F1 Score: 0.4752, Precision: 0.3582, Recall: 0.7059, ROC AUC: 0.3536\n",
      "Epoch [2/50], Loss: 0.6091\n",
      "Validation Loss: 1.4010, Accuracy: 0.5750, F1 Score: 0.0000, Precision: 0.0000, Recall: 0.0000, ROC AUC: 0.3363\n"
     ]
    },
    {
     "name": "stderr",
     "output_type": "stream",
     "text": [
      "/home/sadat/miniconda3/envs/cs721/lib/python3.8/site-packages/sklearn/metrics/_classification.py:1471: UndefinedMetricWarning: Precision is ill-defined and being set to 0.0 due to no predicted samples. Use `zero_division` parameter to control this behavior.\n",
      "  _warn_prf(average, modifier, msg_start, len(result))\n"
     ]
    },
    {
     "name": "stdout",
     "output_type": "stream",
     "text": [
      "Epoch [3/50], Loss: 0.5364\n",
      "Validation Loss: 1.2940, Accuracy: 0.4250, F1 Score: 0.5965, Precision: 0.4250, Recall: 1.0000, ROC AUC: 0.3651\n",
      "Epoch [4/50], Loss: 0.4887\n",
      "Validation Loss: 1.3221, Accuracy: 0.5750, F1 Score: 0.0000, Precision: 0.0000, Recall: 0.0000, ROC AUC: 0.2941\n"
     ]
    },
    {
     "name": "stderr",
     "output_type": "stream",
     "text": [
      "/home/sadat/miniconda3/envs/cs721/lib/python3.8/site-packages/sklearn/metrics/_classification.py:1471: UndefinedMetricWarning: Precision is ill-defined and being set to 0.0 due to no predicted samples. Use `zero_division` parameter to control this behavior.\n",
      "  _warn_prf(average, modifier, msg_start, len(result))\n"
     ]
    },
    {
     "name": "stdout",
     "output_type": "stream",
     "text": [
      "Epoch [5/50], Loss: 0.4806\n",
      "Validation Loss: 1.2461, Accuracy: 0.4250, F1 Score: 0.1786, Precision: 0.2273, Recall: 0.1471, ROC AUC: 0.2858\n",
      "Epoch [6/50], Loss: 0.4554\n",
      "Validation Loss: 1.2649, Accuracy: 0.3375, F1 Score: 0.4045, Precision: 0.3273, Recall: 0.5294, ROC AUC: 0.3306\n",
      "Epoch [7/50], Loss: 0.4314\n",
      "Validation Loss: 1.3109, Accuracy: 0.3125, F1 Score: 0.4554, Precision: 0.3433, Recall: 0.6765, ROC AUC: 0.3299\n",
      "Early stopping triggered.\n",
      "Fold 2\n",
      "Epoch [1/50], Loss: 0.8151\n",
      "Validation Loss: 1.4876, Accuracy: 0.4750, F1 Score: 0.2222, Precision: 0.4000, Recall: 0.1538, ROC AUC: 0.4597\n",
      "Epoch [2/50], Loss: 0.6105\n",
      "Validation Loss: 1.3863, Accuracy: 0.5125, F1 Score: 0.0000, Precision: 0.0000, Recall: 0.0000, ROC AUC: 0.4378\n"
     ]
    },
    {
     "name": "stderr",
     "output_type": "stream",
     "text": [
      "/home/sadat/miniconda3/envs/cs721/lib/python3.8/site-packages/sklearn/metrics/_classification.py:1471: UndefinedMetricWarning: Precision is ill-defined and being set to 0.0 due to no predicted samples. Use `zero_division` parameter to control this behavior.\n",
      "  _warn_prf(average, modifier, msg_start, len(result))\n"
     ]
    },
    {
     "name": "stdout",
     "output_type": "stream",
     "text": [
      "Epoch [3/50], Loss: 0.5390\n",
      "Validation Loss: 1.2700, Accuracy: 0.5000, F1 Score: 0.0476, Precision: 0.3333, Recall: 0.0256, ROC AUC: 0.4803\n",
      "Epoch [4/50], Loss: 0.4952\n",
      "Validation Loss: 1.2658, Accuracy: 0.4500, F1 Score: 0.3889, Precision: 0.4242, Recall: 0.3590, ROC AUC: 0.4396\n",
      "Epoch [5/50], Loss: 0.4685\n",
      "Validation Loss: 1.2144, Accuracy: 0.4750, F1 Score: 0.6379, Precision: 0.4805, Recall: 0.9487, ROC AUC: 0.4772\n",
      "Epoch [6/50], Loss: 0.4369\n",
      "Validation Loss: 1.2415, Accuracy: 0.4500, F1 Score: 0.2667, Precision: 0.3810, Recall: 0.2051, ROC AUC: 0.4672\n",
      "Epoch [7/50], Loss: 0.4127\n",
      "Validation Loss: 1.2488, Accuracy: 0.4500, F1 Score: 0.3889, Precision: 0.4242, Recall: 0.3590, ROC AUC: 0.4916\n",
      "Early stopping triggered.\n",
      "Fold 3\n",
      "Epoch [1/50], Loss: 0.8268\n",
      "Validation Loss: 1.5250, Accuracy: 0.4810, F1 Score: 0.1961, Precision: 0.5556, Recall: 0.1190, ROC AUC: 0.4968\n",
      "Epoch [2/50], Loss: 0.6191\n",
      "Validation Loss: 1.3491, Accuracy: 0.5063, F1 Score: 0.2909, Precision: 0.6154, Recall: 0.1905, ROC AUC: 0.5032\n",
      "Epoch [3/50], Loss: 0.5411\n",
      "Validation Loss: 1.3183, Accuracy: 0.4810, F1 Score: 0.1277, Precision: 0.6000, Recall: 0.0714, ROC AUC: 0.4878\n",
      "Epoch [4/50], Loss: 0.4976\n",
      "Validation Loss: 1.2401, Accuracy: 0.5316, F1 Score: 0.3934, Precision: 0.6316, Recall: 0.2857, ROC AUC: 0.4846\n",
      "Epoch [5/50], Loss: 0.4648\n",
      "Validation Loss: 1.2555, Accuracy: 0.4430, F1 Score: 0.4359, Precision: 0.4722, Recall: 0.4048, ROC AUC: 0.4633\n",
      "Epoch [6/50], Loss: 0.4420\n",
      "Validation Loss: 1.2521, Accuracy: 0.4810, F1 Score: 0.2807, Precision: 0.5333, Recall: 0.1905, ROC AUC: 0.4968\n",
      "Epoch [7/50], Loss: 0.4046\n",
      "Validation Loss: 1.3695, Accuracy: 0.4684, F1 Score: 0.1923, Precision: 0.5000, Recall: 0.1190, ROC AUC: 0.4537\n",
      "Epoch [8/50], Loss: 0.3595\n",
      "Validation Loss: 1.2991, Accuracy: 0.5190, F1 Score: 0.5128, Precision: 0.5556, Recall: 0.4762, ROC AUC: 0.4949\n",
      "Epoch [9/50], Loss: 0.2948\n",
      "Validation Loss: 1.4866, Accuracy: 0.5316, F1 Score: 0.4638, Precision: 0.5926, Recall: 0.3810, ROC AUC: 0.4987\n",
      "Early stopping triggered.\n",
      "Fold 4\n",
      "Epoch [1/50], Loss: 0.8286\n",
      "Validation Loss: 1.5826, Accuracy: 0.5063, F1 Score: 0.2353, Precision: 0.6000, Recall: 0.1463, ROC AUC: 0.4942\n",
      "Epoch [2/50], Loss: 0.6207\n",
      "Validation Loss: 1.4314, Accuracy: 0.4684, F1 Score: 0.0000, Precision: 0.0000, Recall: 0.0000, ROC AUC: 0.4230\n",
      "Epoch [3/50], Loss: 0.5363\n",
      "Validation Loss: 1.3107, Accuracy: 0.4430, F1 Score: 0.5417, Precision: 0.4727, Recall: 0.6341, ROC AUC: 0.4409\n",
      "Epoch [4/50], Loss: 0.4885\n",
      "Validation Loss: 1.2946, Accuracy: 0.4051, F1 Score: 0.5253, Precision: 0.4483, Recall: 0.6341, ROC AUC: 0.3902\n",
      "Epoch [5/50], Loss: 0.4658\n",
      "Validation Loss: 1.2919, Accuracy: 0.4684, F1 Score: 0.3000, Precision: 0.4737, Recall: 0.2195, ROC AUC: 0.4294\n",
      "Epoch [6/50], Loss: 0.4326\n",
      "Validation Loss: 1.2737, Accuracy: 0.4557, F1 Score: 0.4267, Precision: 0.4706, Recall: 0.3902, ROC AUC: 0.4345\n",
      "Early stopping triggered.\n",
      "Fold 5\n",
      "Epoch [1/50], Loss: 0.8397\n",
      "Validation Loss: 1.4632, Accuracy: 0.4304, F1 Score: 0.4706, Precision: 0.4651, Recall: 0.4762, ROC AUC: 0.4582\n",
      "Epoch [2/50], Loss: 0.6248\n",
      "Validation Loss: 1.2886, Accuracy: 0.5063, F1 Score: 0.6139, Precision: 0.5254, Recall: 0.7381, ROC AUC: 0.4530\n",
      "Epoch [3/50], Loss: 0.5388\n",
      "Validation Loss: 1.2311, Accuracy: 0.4810, F1 Score: 0.6435, Precision: 0.5068, Recall: 0.8810, ROC AUC: 0.4028\n",
      "Epoch [4/50], Loss: 0.4960\n",
      "Validation Loss: 1.2301, Accuracy: 0.5316, F1 Score: 0.6942, Precision: 0.5316, Recall: 1.0000, ROC AUC: 0.3732\n",
      "Epoch [5/50], Loss: 0.4803\n",
      "Validation Loss: 1.1673, Accuracy: 0.4557, F1 Score: 0.5743, Precision: 0.4915, Recall: 0.6905, ROC AUC: 0.3662\n",
      "Epoch [6/50], Loss: 0.4393\n",
      "Validation Loss: 1.2146, Accuracy: 0.4051, F1 Score: 0.2034, Precision: 0.3529, Recall: 0.1429, ROC AUC: 0.3912\n",
      "Epoch [7/50], Loss: 0.4090\n",
      "Validation Loss: 1.1958, Accuracy: 0.4810, F1 Score: 0.2545, Precision: 0.5385, Recall: 0.1667, ROC AUC: 0.3958\n",
      "Epoch [8/50], Loss: 0.3681\n",
      "Validation Loss: 1.2027, Accuracy: 0.4177, F1 Score: 0.4889, Precision: 0.4583, Recall: 0.5238, ROC AUC: 0.3990\n",
      "Epoch [9/50], Loss: 0.3324\n",
      "Validation Loss: 1.2167, Accuracy: 0.4304, F1 Score: 0.4156, Precision: 0.4571, Recall: 0.3810, ROC AUC: 0.4440\n",
      "Early stopping triggered.\n",
      "Average Validation Accuracy for alpha: 0.7, lr: 0.01, momentum: 0.5: 0.4360\n",
      "Training alpha: 0.7, learning_rate: 0.01, momentum: 0.8\n",
      "Fold 1\n",
      "Epoch [1/50], Loss: 0.8035\n",
      "Validation Loss: 1.3916, Accuracy: 0.4250, F1 Score: 0.5965, Precision: 0.4250, Recall: 1.0000, ROC AUC: 0.3836\n",
      "Epoch [2/50], Loss: 0.5610\n",
      "Validation Loss: 1.2035, Accuracy: 0.5625, F1 Score: 0.0000, Precision: 0.0000, Recall: 0.0000, ROC AUC: 0.3696\n",
      "Epoch [3/50], Loss: 0.4876\n",
      "Validation Loss: 1.1785, Accuracy: 0.5500, F1 Score: 0.0526, Precision: 0.2500, Recall: 0.0294, ROC AUC: 0.3836\n",
      "Epoch [4/50], Loss: 0.4444\n",
      "Validation Loss: 1.2005, Accuracy: 0.4375, F1 Score: 0.1818, Precision: 0.2381, Recall: 0.1471, ROC AUC: 0.3798\n",
      "Epoch [5/50], Loss: 0.3784\n",
      "Validation Loss: 1.2718, Accuracy: 0.4875, F1 Score: 0.2807, Precision: 0.3478, Recall: 0.2353, ROC AUC: 0.4220\n",
      "Epoch [6/50], Loss: 0.2946\n",
      "Validation Loss: 1.4283, Accuracy: 0.5750, F1 Score: 0.3929, Precision: 0.5000, Recall: 0.3235, ROC AUC: 0.5550\n",
      "Epoch [7/50], Loss: 0.2287\n",
      "Validation Loss: 1.7800, Accuracy: 0.4375, F1 Score: 0.4944, Precision: 0.4000, Recall: 0.6471, ROC AUC: 0.5090\n",
      "Epoch [8/50], Loss: 0.1869\n",
      "Validation Loss: 1.7053, Accuracy: 0.5500, F1 Score: 0.2174, Precision: 0.4167, Recall: 0.1471, ROC AUC: 0.5965\n",
      "Epoch [9/50], Loss: 0.1792\n",
      "Validation Loss: 1.5674, Accuracy: 0.6500, F1 Score: 0.6111, Precision: 0.5789, Recall: 0.6471, ROC AUC: 0.6426\n",
      "Epoch [10/50], Loss: 0.2645\n",
      "Validation Loss: 1.9487, Accuracy: 0.5500, F1 Score: 0.5263, Precision: 0.4762, Recall: 0.5882, ROC AUC: 0.5492\n",
      "Epoch [11/50], Loss: 0.2273\n",
      "Validation Loss: 1.2722, Accuracy: 0.7000, F1 Score: 0.6757, Precision: 0.6250, Recall: 0.7353, ROC AUC: 0.7756\n",
      "Epoch [12/50], Loss: 0.1348\n",
      "Validation Loss: 1.7758, Accuracy: 0.7000, F1 Score: 0.7273, Precision: 0.5926, Recall: 0.9412, ROC AUC: 0.7679\n",
      "Epoch [13/50], Loss: 0.1318\n",
      "Validation Loss: 1.8122, Accuracy: 0.6500, F1 Score: 0.5172, Precision: 0.6250, Recall: 0.4412, ROC AUC: 0.6758\n",
      "Epoch [14/50], Loss: 0.1298\n",
      "Validation Loss: 1.7177, Accuracy: 0.7000, F1 Score: 0.6923, Precision: 0.6136, Recall: 0.7941, ROC AUC: 0.7807\n",
      "Epoch [15/50], Loss: 0.0822\n",
      "Validation Loss: 1.1103, Accuracy: 0.7250, F1 Score: 0.7317, Precision: 0.6250, Recall: 0.8824, ROC AUC: 0.8651\n",
      "Epoch [16/50], Loss: 0.1020\n",
      "Validation Loss: 1.3117, Accuracy: 0.7750, F1 Score: 0.7568, Precision: 0.7000, Recall: 0.8235, ROC AUC: 0.8408\n",
      "Epoch [17/50], Loss: 0.1073\n",
      "Validation Loss: 1.6527, Accuracy: 0.6500, F1 Score: 0.6585, Precision: 0.5625, Recall: 0.7941, ROC AUC: 0.7794\n",
      "Epoch [18/50], Loss: 0.1245\n",
      "Validation Loss: 1.0825, Accuracy: 0.8000, F1 Score: 0.7714, Precision: 0.7500, Recall: 0.7941, ROC AUC: 0.8408\n",
      "Epoch [19/50], Loss: 0.0433\n",
      "Validation Loss: 1.0928, Accuracy: 0.7750, F1 Score: 0.7500, Precision: 0.7105, Recall: 0.7941, ROC AUC: 0.8600\n",
      "Epoch [20/50], Loss: 0.0318\n",
      "Validation Loss: 1.3873, Accuracy: 0.7750, F1 Score: 0.7632, Precision: 0.6905, Recall: 0.8529, ROC AUC: 0.8299\n",
      "Epoch [21/50], Loss: 0.0182\n",
      "Validation Loss: 1.3276, Accuracy: 0.7875, F1 Score: 0.7733, Precision: 0.7073, Recall: 0.8529, ROC AUC: 0.8619\n",
      "Epoch [22/50], Loss: 0.0158\n",
      "Validation Loss: 1.3864, Accuracy: 0.8000, F1 Score: 0.7838, Precision: 0.7250, Recall: 0.8529, ROC AUC: 0.8657\n",
      "Epoch [23/50], Loss: 0.0096\n",
      "Validation Loss: 1.4508, Accuracy: 0.7750, F1 Score: 0.7568, Precision: 0.7000, Recall: 0.8235, ROC AUC: 0.8549\n",
      "Early stopping triggered.\n",
      "Fold 2\n",
      "Epoch [1/50], Loss: 0.8074\n",
      "Validation Loss: 1.4849, Accuracy: 0.3750, F1 Score: 0.3750, Precision: 0.3659, Recall: 0.3846, ROC AUC: 0.3671\n",
      "Epoch [2/50], Loss: 0.5676\n",
      "Validation Loss: 1.3140, Accuracy: 0.4875, F1 Score: 0.6555, Precision: 0.4875, Recall: 1.0000, ROC AUC: 0.3821\n",
      "Epoch [3/50], Loss: 0.4835\n",
      "Validation Loss: 1.2657, Accuracy: 0.4000, F1 Score: 0.5000, Precision: 0.4211, Recall: 0.6154, ROC AUC: 0.3552\n",
      "Epoch [4/50], Loss: 0.4394\n",
      "Validation Loss: 1.3655, Accuracy: 0.4375, F1 Score: 0.2623, Precision: 0.3636, Recall: 0.2051, ROC AUC: 0.3727\n",
      "Epoch [5/50], Loss: 0.3730\n",
      "Validation Loss: 1.3852, Accuracy: 0.3750, F1 Score: 0.3243, Precision: 0.3429, Recall: 0.3077, ROC AUC: 0.3759\n",
      "Epoch [6/50], Loss: 0.2764\n",
      "Validation Loss: 1.8083, Accuracy: 0.4750, F1 Score: 0.5227, Precision: 0.4694, Recall: 0.5897, ROC AUC: 0.4422\n",
      "Epoch [7/50], Loss: 0.2308\n",
      "Validation Loss: 2.2528, Accuracy: 0.5250, F1 Score: 0.5682, Precision: 0.5102, Recall: 0.6410, ROC AUC: 0.5460\n",
      "Epoch [8/50], Loss: 0.2246\n",
      "Validation Loss: 2.2205, Accuracy: 0.4750, F1 Score: 0.5000, Precision: 0.4667, Recall: 0.5385, ROC AUC: 0.5341\n",
      "Epoch [9/50], Loss: 0.2624\n",
      "Validation Loss: 1.9705, Accuracy: 0.4500, F1 Score: 0.4359, Precision: 0.4359, Recall: 0.4359, ROC AUC: 0.4472\n",
      "Epoch [10/50], Loss: 0.2563\n",
      "Validation Loss: 1.9510, Accuracy: 0.6375, F1 Score: 0.5672, Precision: 0.6786, Recall: 0.4872, ROC AUC: 0.6829\n",
      "Epoch [11/50], Loss: 0.1915\n",
      "Validation Loss: 1.5986, Accuracy: 0.6125, F1 Score: 0.5974, Precision: 0.6053, Recall: 0.5897, ROC AUC: 0.6679\n",
      "Epoch [12/50], Loss: 0.1442\n",
      "Validation Loss: 1.1981, Accuracy: 0.7000, F1 Score: 0.7000, Precision: 0.6829, Recall: 0.7179, ROC AUC: 0.7705\n",
      "Epoch [13/50], Loss: 0.0934\n",
      "Validation Loss: 1.9200, Accuracy: 0.6500, F1 Score: 0.6216, Precision: 0.6571, Recall: 0.5897, ROC AUC: 0.7223\n",
      "Epoch [14/50], Loss: 0.0874\n",
      "Validation Loss: 1.9614, Accuracy: 0.6000, F1 Score: 0.6444, Precision: 0.5686, Recall: 0.7436, ROC AUC: 0.6911\n",
      "Epoch [15/50], Loss: 0.1035\n",
      "Validation Loss: 2.3557, Accuracy: 0.6000, F1 Score: 0.5294, Precision: 0.6207, Recall: 0.4615, ROC AUC: 0.6454\n",
      "Epoch [16/50], Loss: 0.2038\n",
      "Validation Loss: 1.6791, Accuracy: 0.6000, F1 Score: 0.6522, Precision: 0.5660, Recall: 0.7692, ROC AUC: 0.6291\n",
      "Epoch [17/50], Loss: 0.1216\n",
      "Validation Loss: 1.7509, Accuracy: 0.6625, F1 Score: 0.6897, Precision: 0.6250, Recall: 0.7692, ROC AUC: 0.7561\n",
      "Early stopping triggered.\n",
      "Fold 3\n",
      "Epoch [1/50], Loss: 0.8185\n",
      "Validation Loss: 1.3679, Accuracy: 0.4937, F1 Score: 0.3333, Precision: 0.5556, Recall: 0.2381, ROC AUC: 0.5302\n",
      "Epoch [2/50], Loss: 0.5648\n",
      "Validation Loss: 1.2331, Accuracy: 0.5316, F1 Score: 0.6942, Precision: 0.5316, Recall: 1.0000, ROC AUC: 0.4453\n",
      "Epoch [3/50], Loss: 0.4798\n",
      "Validation Loss: 1.1204, Accuracy: 0.5316, F1 Score: 0.6942, Precision: 0.5316, Recall: 1.0000, ROC AUC: 0.5367\n",
      "Epoch [4/50], Loss: 0.4421\n",
      "Validation Loss: 1.1580, Accuracy: 0.5316, F1 Score: 0.6942, Precision: 0.5316, Recall: 1.0000, ROC AUC: 0.6094\n",
      "Epoch [5/50], Loss: 0.3912\n",
      "Validation Loss: 1.1806, Accuracy: 0.6456, F1 Score: 0.6957, Precision: 0.6400, Recall: 0.7619, ROC AUC: 0.6293\n",
      "Epoch [6/50], Loss: 0.2374\n",
      "Validation Loss: 1.4893, Accuracy: 0.6203, F1 Score: 0.5312, Precision: 0.7727, Recall: 0.4048, ROC AUC: 0.7085\n",
      "Epoch [7/50], Loss: 0.1772\n",
      "Validation Loss: 1.4364, Accuracy: 0.6456, F1 Score: 0.6316, Precision: 0.7059, Recall: 0.5714, ROC AUC: 0.7001\n",
      "Epoch [8/50], Loss: 0.1631\n",
      "Validation Loss: 1.6979, Accuracy: 0.5696, F1 Score: 0.6304, Precision: 0.5800, Recall: 0.6905, ROC AUC: 0.6647\n",
      "Epoch [9/50], Loss: 0.4217\n",
      "Validation Loss: 1.7819, Accuracy: 0.5823, F1 Score: 0.4211, Precision: 0.8000, Recall: 0.2857, ROC AUC: 0.5997\n",
      "Epoch [10/50], Loss: 0.3654\n",
      "Validation Loss: 1.4868, Accuracy: 0.5949, F1 Score: 0.5897, Precision: 0.6389, Recall: 0.5476, ROC AUC: 0.6377\n",
      "Early stopping triggered.\n",
      "Fold 4\n",
      "Epoch [1/50], Loss: 0.8266\n",
      "Validation Loss: 1.5721, Accuracy: 0.4810, F1 Score: 0.0000, Precision: 0.0000, Recall: 0.0000, ROC AUC: 0.4204\n"
     ]
    },
    {
     "name": "stderr",
     "output_type": "stream",
     "text": [
      "/home/sadat/miniconda3/envs/cs721/lib/python3.8/site-packages/sklearn/metrics/_classification.py:1471: UndefinedMetricWarning: Precision is ill-defined and being set to 0.0 due to no predicted samples. Use `zero_division` parameter to control this behavior.\n",
      "  _warn_prf(average, modifier, msg_start, len(result))\n"
     ]
    },
    {
     "name": "stdout",
     "output_type": "stream",
     "text": [
      "Epoch [2/50], Loss: 0.5634\n",
      "Validation Loss: 1.3281, Accuracy: 0.4810, F1 Score: 0.0000, Precision: 0.0000, Recall: 0.0000, ROC AUC: 0.4012\n"
     ]
    },
    {
     "name": "stderr",
     "output_type": "stream",
     "text": [
      "/home/sadat/miniconda3/envs/cs721/lib/python3.8/site-packages/sklearn/metrics/_classification.py:1471: UndefinedMetricWarning: Precision is ill-defined and being set to 0.0 due to no predicted samples. Use `zero_division` parameter to control this behavior.\n",
      "  _warn_prf(average, modifier, msg_start, len(result))\n"
     ]
    },
    {
     "name": "stdout",
     "output_type": "stream",
     "text": [
      "Epoch [3/50], Loss: 0.4865\n",
      "Validation Loss: 1.3021, Accuracy: 0.4051, F1 Score: 0.3188, Precision: 0.3929, Recall: 0.2683, ROC AUC: 0.3967\n",
      "Epoch [4/50], Loss: 0.4362\n",
      "Validation Loss: 1.3596, Accuracy: 0.4684, F1 Score: 0.0455, Precision: 0.3333, Recall: 0.0244, ROC AUC: 0.3935\n",
      "Epoch [5/50], Loss: 0.3759\n",
      "Validation Loss: 1.3972, Accuracy: 0.4557, F1 Score: 0.3944, Precision: 0.4667, Recall: 0.3415, ROC AUC: 0.4294\n",
      "Epoch [6/50], Loss: 0.2989\n",
      "Validation Loss: 1.4980, Accuracy: 0.4557, F1 Score: 0.5474, Precision: 0.4815, Recall: 0.6341, ROC AUC: 0.4641\n",
      "Early stopping triggered.\n",
      "Fold 5\n",
      "Epoch [1/50], Loss: 0.8087\n",
      "Validation Loss: 1.4762, Accuracy: 0.4684, F1 Score: 0.0000, Precision: 0.0000, Recall: 0.0000, ROC AUC: 0.4260\n"
     ]
    },
    {
     "name": "stderr",
     "output_type": "stream",
     "text": [
      "/home/sadat/miniconda3/envs/cs721/lib/python3.8/site-packages/sklearn/metrics/_classification.py:1471: UndefinedMetricWarning: Precision is ill-defined and being set to 0.0 due to no predicted samples. Use `zero_division` parameter to control this behavior.\n",
      "  _warn_prf(average, modifier, msg_start, len(result))\n"
     ]
    },
    {
     "name": "stdout",
     "output_type": "stream",
     "text": [
      "Epoch [2/50], Loss: 0.5525\n",
      "Validation Loss: 1.2334, Accuracy: 0.3924, F1 Score: 0.2000, Precision: 0.3333, Recall: 0.1429, ROC AUC: 0.4131\n",
      "Epoch [3/50], Loss: 0.4694\n",
      "Validation Loss: 1.2187, Accuracy: 0.4557, F1 Score: 0.5981, Precision: 0.4923, Recall: 0.7619, ROC AUC: 0.4447\n",
      "Epoch [4/50], Loss: 0.4111\n",
      "Validation Loss: 1.2333, Accuracy: 0.5190, F1 Score: 0.6415, Precision: 0.5312, Recall: 0.8095, ROC AUC: 0.5103\n",
      "Epoch [5/50], Loss: 0.3174\n",
      "Validation Loss: 1.4192, Accuracy: 0.5063, F1 Score: 0.5714, Precision: 0.5306, Recall: 0.6190, ROC AUC: 0.5245\n",
      "Epoch [6/50], Loss: 0.2263\n",
      "Validation Loss: 1.8055, Accuracy: 0.5443, F1 Score: 0.4857, Precision: 0.6071, Recall: 0.4048, ROC AUC: 0.5277\n",
      "Epoch [7/50], Loss: 0.2380\n",
      "Validation Loss: 1.8028, Accuracy: 0.5443, F1 Score: 0.5135, Precision: 0.5938, Recall: 0.4524, ROC AUC: 0.5405\n",
      "Epoch [8/50], Loss: 0.1894\n",
      "Validation Loss: 1.9178, Accuracy: 0.5696, F1 Score: 0.6531, Precision: 0.5714, Recall: 0.7619, ROC AUC: 0.6229\n",
      "Epoch [9/50], Loss: 0.1780\n",
      "Validation Loss: 2.1380, Accuracy: 0.6203, F1 Score: 0.7222, Precision: 0.5909, Recall: 0.9286, ROC AUC: 0.6499\n",
      "Epoch [10/50], Loss: 0.2385\n",
      "Validation Loss: 1.7541, Accuracy: 0.5696, F1 Score: 0.6852, Precision: 0.5606, Recall: 0.8810, ROC AUC: 0.6763\n",
      "Epoch [11/50], Loss: 0.2026\n",
      "Validation Loss: 1.7067, Accuracy: 0.5949, F1 Score: 0.6444, Precision: 0.6042, Recall: 0.6905, ROC AUC: 0.6885\n",
      "Epoch [12/50], Loss: 0.1092\n",
      "Validation Loss: 2.3714, Accuracy: 0.6582, F1 Score: 0.5970, Precision: 0.8000, Recall: 0.4762, ROC AUC: 0.7278\n",
      "Epoch [13/50], Loss: 0.0966\n",
      "Validation Loss: 1.6940, Accuracy: 0.6835, F1 Score: 0.7368, Precision: 0.6604, Recall: 0.8333, ROC AUC: 0.7387\n",
      "Epoch [14/50], Loss: 0.0409\n",
      "Validation Loss: 1.8005, Accuracy: 0.7722, F1 Score: 0.7568, Precision: 0.8750, Recall: 0.6667, ROC AUC: 0.7973\n",
      "Epoch [15/50], Loss: 0.0237\n",
      "Validation Loss: 1.8362, Accuracy: 0.7342, F1 Score: 0.7407, Precision: 0.7692, Recall: 0.7143, ROC AUC: 0.7999\n",
      "Epoch [16/50], Loss: 0.0114\n",
      "Validation Loss: 1.7691, Accuracy: 0.7342, F1 Score: 0.7273, Precision: 0.8000, Recall: 0.6667, ROC AUC: 0.8063\n",
      "Epoch [17/50], Loss: 0.0112\n",
      "Validation Loss: 2.1077, Accuracy: 0.7215, F1 Score: 0.7105, Precision: 0.7941, Recall: 0.6429, ROC AUC: 0.7786\n",
      "Epoch [18/50], Loss: 0.0117\n",
      "Validation Loss: 2.2918, Accuracy: 0.7215, F1 Score: 0.6857, Precision: 0.8571, Recall: 0.5714, ROC AUC: 0.7844\n",
      "Epoch [19/50], Loss: 0.0043\n",
      "Validation Loss: 2.2389, Accuracy: 0.7342, F1 Score: 0.7123, Precision: 0.8387, Recall: 0.6190, ROC AUC: 0.7838\n",
      "Early stopping triggered.\n",
      "Average Validation Accuracy for alpha: 0.7, lr: 0.01, momentum: 0.8: 0.6445\n",
      "Training alpha: 0.7, learning_rate: 0.01, momentum: 0.9\n",
      "Fold 1\n",
      "Epoch [1/50], Loss: 0.8069\n",
      "Validation Loss: 1.4365, Accuracy: 0.4250, F1 Score: 0.5965, Precision: 0.4250, Recall: 1.0000, ROC AUC: 0.4501\n",
      "Epoch [2/50], Loss: 0.5608\n",
      "Validation Loss: 1.2944, Accuracy: 0.4500, F1 Score: 0.6071, Precision: 0.4359, Recall: 1.0000, ROC AUC: 0.4757\n",
      "Epoch [3/50], Loss: 0.4637\n",
      "Validation Loss: 1.2025, Accuracy: 0.4625, F1 Score: 0.5825, Precision: 0.4348, Recall: 0.8824, ROC AUC: 0.5364\n",
      "Epoch [4/50], Loss: 0.3664\n",
      "Validation Loss: 1.2647, Accuracy: 0.5375, F1 Score: 0.5647, Precision: 0.4706, Recall: 0.7059, ROC AUC: 0.5435\n",
      "Epoch [5/50], Loss: 0.2621\n",
      "Validation Loss: 1.6160, Accuracy: 0.5250, F1 Score: 0.6042, Precision: 0.4677, Recall: 0.8529, ROC AUC: 0.6995\n",
      "Epoch [6/50], Loss: 0.3033\n",
      "Validation Loss: 2.2647, Accuracy: 0.5500, F1 Score: 0.3077, Precision: 0.4444, Recall: 0.2353, ROC AUC: 0.5473\n",
      "Epoch [7/50], Loss: 0.4218\n",
      "Validation Loss: 1.9907, Accuracy: 0.6375, F1 Score: 0.6506, Precision: 0.5510, Recall: 0.7941, ROC AUC: 0.7494\n",
      "Epoch [8/50], Loss: 0.3983\n",
      "Validation Loss: 1.5042, Accuracy: 0.7000, F1 Score: 0.5556, Precision: 0.7500, Recall: 0.4412, ROC AUC: 0.7960\n",
      "Epoch [9/50], Loss: 0.3458\n",
      "Validation Loss: 1.8216, Accuracy: 0.6625, F1 Score: 0.3721, Precision: 0.8889, Recall: 0.2353, ROC AUC: 0.8318\n",
      "Epoch [10/50], Loss: 0.1971\n",
      "Validation Loss: 1.2952, Accuracy: 0.7375, F1 Score: 0.7042, Precision: 0.6757, Recall: 0.7353, ROC AUC: 0.8721\n",
      "Epoch [11/50], Loss: 0.2576\n",
      "Validation Loss: 1.3192, Accuracy: 0.6750, F1 Score: 0.7045, Precision: 0.5741, Recall: 0.9118, ROC AUC: 0.8868\n",
      "Epoch [12/50], Loss: 0.1976\n",
      "Validation Loss: 1.6946, Accuracy: 0.6625, F1 Score: 0.7097, Precision: 0.5593, Recall: 0.9706, ROC AUC: 0.8593\n",
      "Epoch [13/50], Loss: 0.1711\n",
      "Validation Loss: 1.6006, Accuracy: 0.7375, F1 Score: 0.6866, Precision: 0.6970, Recall: 0.6765, ROC AUC: 0.8555\n",
      "Epoch [14/50], Loss: 0.0835\n",
      "Validation Loss: 1.5594, Accuracy: 0.7000, F1 Score: 0.7333, Precision: 0.5893, Recall: 0.9706, ROC AUC: 0.8331\n",
      "Epoch [15/50], Loss: 0.0601\n",
      "Validation Loss: 1.6164, Accuracy: 0.7500, F1 Score: 0.7674, Precision: 0.6346, Recall: 0.9706, ROC AUC: 0.8683\n",
      "Epoch [16/50], Loss: 0.0738\n",
      "Validation Loss: 1.5896, Accuracy: 0.8125, F1 Score: 0.7692, Precision: 0.8065, Recall: 0.7353, ROC AUC: 0.8830\n",
      "Epoch [17/50], Loss: 0.1246\n",
      "Validation Loss: 1.7288, Accuracy: 0.6875, F1 Score: 0.7312, Precision: 0.5763, Recall: 1.0000, ROC AUC: 0.8977\n",
      "Epoch [18/50], Loss: 0.0815\n",
      "Validation Loss: 1.1822, Accuracy: 0.8000, F1 Score: 0.7778, Precision: 0.7368, Recall: 0.8235, ROC AUC: 0.8619\n",
      "Epoch [19/50], Loss: 0.1319\n",
      "Validation Loss: 1.5904, Accuracy: 0.8000, F1 Score: 0.8095, Precision: 0.6800, Recall: 1.0000, ROC AUC: 0.9175\n",
      "Epoch [20/50], Loss: 0.0575\n",
      "Validation Loss: 1.2933, Accuracy: 0.8125, F1 Score: 0.8148, Precision: 0.7021, Recall: 0.9706, ROC AUC: 0.9258\n",
      "Epoch [21/50], Loss: 0.0576\n",
      "Validation Loss: 1.4798, Accuracy: 0.7750, F1 Score: 0.7750, Precision: 0.6739, Recall: 0.9118, ROC AUC: 0.9277\n",
      "Early stopping triggered.\n",
      "Fold 2\n",
      "Epoch [1/50], Loss: 0.8123\n",
      "Validation Loss: 1.5323, Accuracy: 0.5125, F1 Score: 0.0000, Precision: 0.0000, Recall: 0.0000, ROC AUC: 0.3965\n"
     ]
    },
    {
     "name": "stderr",
     "output_type": "stream",
     "text": [
      "/home/sadat/miniconda3/envs/cs721/lib/python3.8/site-packages/sklearn/metrics/_classification.py:1471: UndefinedMetricWarning: Precision is ill-defined and being set to 0.0 due to no predicted samples. Use `zero_division` parameter to control this behavior.\n",
      "  _warn_prf(average, modifier, msg_start, len(result))\n"
     ]
    },
    {
     "name": "stdout",
     "output_type": "stream",
     "text": [
      "Epoch [2/50], Loss: 0.5721\n",
      "Validation Loss: 1.3214, Accuracy: 0.4375, F1 Score: 0.0816, Precision: 0.2000, Recall: 0.0513, ROC AUC: 0.3333\n",
      "Epoch [3/50], Loss: 0.4692\n",
      "Validation Loss: 1.3391, Accuracy: 0.4000, F1 Score: 0.5000, Precision: 0.4211, Recall: 0.6154, ROC AUC: 0.3752\n",
      "Epoch [4/50], Loss: 0.3902\n",
      "Validation Loss: 1.6618, Accuracy: 0.4750, F1 Score: 0.1600, Precision: 0.3636, Recall: 0.1026, ROC AUC: 0.4665\n",
      "Epoch [5/50], Loss: 0.3008\n",
      "Validation Loss: 1.8340, Accuracy: 0.4625, F1 Score: 0.3768, Precision: 0.4333, Recall: 0.3333, ROC AUC: 0.4165\n",
      "Epoch [6/50], Loss: 0.3655\n",
      "Validation Loss: 1.9341, Accuracy: 0.6500, F1 Score: 0.6889, Precision: 0.6078, Recall: 0.7949, ROC AUC: 0.6573\n",
      "Epoch [7/50], Loss: 0.2714\n",
      "Validation Loss: 1.6894, Accuracy: 0.6500, F1 Score: 0.4400, Precision: 1.0000, Recall: 0.2821, ROC AUC: 0.7436\n",
      "Epoch [8/50], Loss: 0.2259\n",
      "Validation Loss: 1.7152, Accuracy: 0.6750, F1 Score: 0.6486, Precision: 0.6857, Recall: 0.6154, ROC AUC: 0.7855\n",
      "Epoch [9/50], Loss: 0.1638\n",
      "Validation Loss: 3.5399, Accuracy: 0.5500, F1 Score: 0.2174, Precision: 0.7143, Recall: 0.1282, ROC AUC: 0.5791\n",
      "Epoch [10/50], Loss: 0.3512\n",
      "Validation Loss: 1.6693, Accuracy: 0.7000, F1 Score: 0.6250, Precision: 0.8000, Recall: 0.5128, ROC AUC: 0.8130\n",
      "Epoch [11/50], Loss: 0.2479\n",
      "Validation Loss: 1.5290, Accuracy: 0.7375, F1 Score: 0.7200, Precision: 0.7500, Recall: 0.6923, ROC AUC: 0.8199\n",
      "Epoch [12/50], Loss: 0.1397\n",
      "Validation Loss: 1.6420, Accuracy: 0.6875, F1 Score: 0.6835, Precision: 0.6750, Recall: 0.6923, ROC AUC: 0.8161\n",
      "Epoch [13/50], Loss: 0.1260\n",
      "Validation Loss: 1.4062, Accuracy: 0.7750, F1 Score: 0.7750, Precision: 0.7561, Recall: 0.7949, ROC AUC: 0.8455\n",
      "Epoch [14/50], Loss: 0.2326\n",
      "Validation Loss: 1.9024, Accuracy: 0.6125, F1 Score: 0.4918, Precision: 0.6818, Recall: 0.3846, ROC AUC: 0.7523\n",
      "Epoch [15/50], Loss: 0.1803\n",
      "Validation Loss: 1.3652, Accuracy: 0.8125, F1 Score: 0.8101, Precision: 0.8000, Recall: 0.8205, ROC AUC: 0.8405\n",
      "Epoch [16/50], Loss: 0.1544\n",
      "Validation Loss: 2.7644, Accuracy: 0.6875, F1 Score: 0.5455, Precision: 0.9375, Recall: 0.3846, ROC AUC: 0.8261\n",
      "Epoch [17/50], Loss: 0.0828\n",
      "Validation Loss: 1.7727, Accuracy: 0.7750, F1 Score: 0.8000, Precision: 0.7059, Recall: 0.9231, ROC AUC: 0.9006\n",
      "Epoch [18/50], Loss: 0.1045\n",
      "Validation Loss: 2.5144, Accuracy: 0.7875, F1 Score: 0.7671, Precision: 0.8235, Recall: 0.7179, ROC AUC: 0.8974\n",
      "Epoch [19/50], Loss: 0.1540\n",
      "Validation Loss: 2.4248, Accuracy: 0.7375, F1 Score: 0.7123, Precision: 0.7647, Recall: 0.6667, ROC AUC: 0.8693\n",
      "Epoch [20/50], Loss: 0.2216\n",
      "Validation Loss: 2.1028, Accuracy: 0.7500, F1 Score: 0.7143, Precision: 0.8065, Recall: 0.6410, ROC AUC: 0.8424\n",
      "Early stopping triggered.\n",
      "Fold 3\n",
      "Epoch [1/50], Loss: 0.8050\n",
      "Validation Loss: 1.5326, Accuracy: 0.4684, F1 Score: 0.0455, Precision: 0.5000, Recall: 0.0238, ROC AUC: 0.4350\n",
      "Epoch [2/50], Loss: 0.5636\n",
      "Validation Loss: 1.2805, Accuracy: 0.4430, F1 Score: 0.2667, Precision: 0.4444, Recall: 0.1905, ROC AUC: 0.4743\n",
      "Epoch [3/50], Loss: 0.4316\n",
      "Validation Loss: 1.3822, Accuracy: 0.5570, F1 Score: 0.6535, Precision: 0.5593, Recall: 0.7857, ROC AUC: 0.4949\n",
      "Epoch [4/50], Loss: 0.3178\n",
      "Validation Loss: 1.8384, Accuracy: 0.4937, F1 Score: 0.3333, Precision: 0.5556, Recall: 0.2381, ROC AUC: 0.5644\n",
      "Epoch [5/50], Loss: 0.2274\n",
      "Validation Loss: 2.4958, Accuracy: 0.5316, F1 Score: 0.4932, Precision: 0.5806, Recall: 0.4286, ROC AUC: 0.6004\n",
      "Epoch [6/50], Loss: 0.3669\n",
      "Validation Loss: 1.7630, Accuracy: 0.4937, F1 Score: 0.2857, Precision: 0.5714, Recall: 0.1905, ROC AUC: 0.6808\n",
      "Epoch [7/50], Loss: 0.3616\n",
      "Validation Loss: 2.2737, Accuracy: 0.6203, F1 Score: 0.4828, Precision: 0.8750, Recall: 0.3333, ROC AUC: 0.6995\n",
      "Epoch [8/50], Loss: 0.3572\n",
      "Validation Loss: 2.6865, Accuracy: 0.6203, F1 Score: 0.7115, Precision: 0.5968, Recall: 0.8810, ROC AUC: 0.6628\n",
      "Epoch [9/50], Loss: 0.2441\n",
      "Validation Loss: 1.8552, Accuracy: 0.6835, F1 Score: 0.6377, Precision: 0.8148, Recall: 0.5238, ROC AUC: 0.7477\n",
      "Epoch [10/50], Loss: 0.1832\n",
      "Validation Loss: 1.9251, Accuracy: 0.6582, F1 Score: 0.6824, Precision: 0.6744, Recall: 0.6905, ROC AUC: 0.7445\n",
      "Epoch [11/50], Loss: 0.1604\n",
      "Validation Loss: 1.7930, Accuracy: 0.6709, F1 Score: 0.6905, Precision: 0.6905, Recall: 0.6905, ROC AUC: 0.7574\n",
      "Epoch [12/50], Loss: 0.0776\n",
      "Validation Loss: 1.5840, Accuracy: 0.7595, F1 Score: 0.7654, Precision: 0.7949, Recall: 0.7381, ROC AUC: 0.8057\n",
      "Epoch [13/50], Loss: 0.0426\n",
      "Validation Loss: 1.9573, Accuracy: 0.7342, F1 Score: 0.7529, Precision: 0.7442, Recall: 0.7619, ROC AUC: 0.8256\n",
      "Epoch [14/50], Loss: 0.0177\n",
      "Validation Loss: 2.1600, Accuracy: 0.6962, F1 Score: 0.7000, Precision: 0.7368, Recall: 0.6667, ROC AUC: 0.8301\n",
      "Epoch [15/50], Loss: 0.0205\n",
      "Validation Loss: 2.1910, Accuracy: 0.7342, F1 Score: 0.7470, Precision: 0.7561, Recall: 0.7381, ROC AUC: 0.8314\n",
      "Epoch [16/50], Loss: 0.0290\n",
      "Validation Loss: 2.1994, Accuracy: 0.7595, F1 Score: 0.7711, Precision: 0.7805, Recall: 0.7619, ROC AUC: 0.8340\n",
      "Epoch [17/50], Loss: 0.0343\n",
      "Validation Loss: 2.2732, Accuracy: 0.7595, F1 Score: 0.7711, Precision: 0.7805, Recall: 0.7619, ROC AUC: 0.8172\n",
      "Early stopping triggered.\n",
      "Fold 4\n",
      "Epoch [1/50], Loss: 0.8107\n",
      "Validation Loss: 1.6250, Accuracy: 0.4810, F1 Score: 0.0000, Precision: 0.0000, Recall: 0.0000, ROC AUC: 0.4840\n"
     ]
    },
    {
     "name": "stderr",
     "output_type": "stream",
     "text": [
      "/home/sadat/miniconda3/envs/cs721/lib/python3.8/site-packages/sklearn/metrics/_classification.py:1471: UndefinedMetricWarning: Precision is ill-defined and being set to 0.0 due to no predicted samples. Use `zero_division` parameter to control this behavior.\n",
      "  _warn_prf(average, modifier, msg_start, len(result))\n"
     ]
    },
    {
     "name": "stdout",
     "output_type": "stream",
     "text": [
      "Epoch [2/50], Loss: 0.5625\n",
      "Validation Loss: 1.3353, Accuracy: 0.4557, F1 Score: 0.6195, Precision: 0.4861, Recall: 0.8537, ROC AUC: 0.4300\n",
      "Epoch [3/50], Loss: 0.4485\n",
      "Validation Loss: 1.3862, Accuracy: 0.4557, F1 Score: 0.2456, Precision: 0.4375, Recall: 0.1707, ROC AUC: 0.4775\n",
      "Epoch [4/50], Loss: 0.3468\n",
      "Validation Loss: 1.8160, Accuracy: 0.4684, F1 Score: 0.3226, Precision: 0.4762, Recall: 0.2439, ROC AUC: 0.5083\n",
      "Epoch [5/50], Loss: 0.3106\n",
      "Validation Loss: 2.1472, Accuracy: 0.5316, F1 Score: 0.6263, Precision: 0.5345, Recall: 0.7561, ROC AUC: 0.4891\n",
      "Epoch [6/50], Loss: 0.3813\n",
      "Validation Loss: 2.0017, Accuracy: 0.5696, F1 Score: 0.5405, Precision: 0.6061, Recall: 0.4878, ROC AUC: 0.5937\n",
      "Epoch [7/50], Loss: 0.3750\n",
      "Validation Loss: 1.7828, Accuracy: 0.6076, F1 Score: 0.5507, Precision: 0.6786, Recall: 0.4634, ROC AUC: 0.7202\n",
      "Epoch [8/50], Loss: 0.3303\n",
      "Validation Loss: 2.2562, Accuracy: 0.5696, F1 Score: 0.4333, Precision: 0.6842, Recall: 0.3171, ROC AUC: 0.7092\n",
      "Epoch [9/50], Loss: 0.1703\n",
      "Validation Loss: 1.7723, Accuracy: 0.6329, F1 Score: 0.5672, Precision: 0.7308, Recall: 0.4634, ROC AUC: 0.7221\n",
      "Epoch [10/50], Loss: 0.1412\n",
      "Validation Loss: 1.3594, Accuracy: 0.7215, F1 Score: 0.7179, Precision: 0.7568, Recall: 0.6829, ROC AUC: 0.7599\n",
      "Epoch [11/50], Loss: 0.1451\n",
      "Validation Loss: 1.6015, Accuracy: 0.7089, F1 Score: 0.7629, Precision: 0.6607, Recall: 0.9024, ROC AUC: 0.8119\n",
      "Epoch [12/50], Loss: 0.1531\n",
      "Validation Loss: 1.9098, Accuracy: 0.6962, F1 Score: 0.6364, Precision: 0.8400, Recall: 0.5122, ROC AUC: 0.7831\n",
      "Epoch [13/50], Loss: 0.1376\n",
      "Validation Loss: 1.5130, Accuracy: 0.7215, F1 Score: 0.7708, Precision: 0.6727, Recall: 0.9024, ROC AUC: 0.7632\n",
      "Epoch [14/50], Loss: 0.0909\n",
      "Validation Loss: 1.4968, Accuracy: 0.7722, F1 Score: 0.7568, Precision: 0.8485, Recall: 0.6829, ROC AUC: 0.8633\n",
      "Epoch [15/50], Loss: 0.0937\n",
      "Validation Loss: 1.6865, Accuracy: 0.7089, F1 Score: 0.6761, Precision: 0.8000, Recall: 0.5854, ROC AUC: 0.8325\n",
      "Epoch [16/50], Loss: 0.0583\n",
      "Validation Loss: 1.8199, Accuracy: 0.6709, F1 Score: 0.6667, Precision: 0.7027, Recall: 0.6341, ROC AUC: 0.7689\n",
      "Epoch [17/50], Loss: 0.0804\n",
      "Validation Loss: 1.8180, Accuracy: 0.7215, F1 Score: 0.6857, Precision: 0.8276, Recall: 0.5854, ROC AUC: 0.8479\n",
      "Epoch [18/50], Loss: 0.0826\n",
      "Validation Loss: 1.4686, Accuracy: 0.7722, F1 Score: 0.7805, Precision: 0.7805, Recall: 0.7805, ROC AUC: 0.8684\n",
      "Epoch [19/50], Loss: 0.0488\n",
      "Validation Loss: 1.8588, Accuracy: 0.6835, F1 Score: 0.6575, Precision: 0.7500, Recall: 0.5854, ROC AUC: 0.7946\n",
      "Early stopping triggered.\n",
      "Fold 5\n",
      "Epoch [1/50], Loss: 0.8125\n",
      "Validation Loss: 1.5261, Accuracy: 0.4684, F1 Score: 0.0000, Precision: 0.0000, Recall: 0.0000, ROC AUC: 0.3713\n"
     ]
    },
    {
     "name": "stderr",
     "output_type": "stream",
     "text": [
      "/home/sadat/miniconda3/envs/cs721/lib/python3.8/site-packages/sklearn/metrics/_classification.py:1471: UndefinedMetricWarning: Precision is ill-defined and being set to 0.0 due to no predicted samples. Use `zero_division` parameter to control this behavior.\n",
      "  _warn_prf(average, modifier, msg_start, len(result))\n"
     ]
    },
    {
     "name": "stdout",
     "output_type": "stream",
     "text": [
      "Epoch [2/50], Loss: 0.5689\n",
      "Validation Loss: 1.2841, Accuracy: 0.3924, F1 Score: 0.4545, Precision: 0.4348, Recall: 0.4762, ROC AUC: 0.3449\n",
      "Epoch [3/50], Loss: 0.4356\n",
      "Validation Loss: 1.4092, Accuracy: 0.4177, F1 Score: 0.5400, Precision: 0.4655, Recall: 0.6429, ROC AUC: 0.3835\n",
      "Epoch [4/50], Loss: 0.3390\n",
      "Validation Loss: 1.7754, Accuracy: 0.4304, F1 Score: 0.4156, Precision: 0.4571, Recall: 0.3810, ROC AUC: 0.4183\n",
      "Epoch [5/50], Loss: 0.2693\n",
      "Validation Loss: 2.3149, Accuracy: 0.5949, F1 Score: 0.6444, Precision: 0.6042, Recall: 0.6905, ROC AUC: 0.5965\n",
      "Epoch [6/50], Loss: 0.2799\n",
      "Validation Loss: 1.3978, Accuracy: 0.6203, F1 Score: 0.6429, Precision: 0.6429, Recall: 0.6429, ROC AUC: 0.6770\n",
      "Epoch [7/50], Loss: 0.2758\n",
      "Validation Loss: 1.8302, Accuracy: 0.5949, F1 Score: 0.6522, Precision: 0.6000, Recall: 0.7143, ROC AUC: 0.6416\n",
      "Epoch [8/50], Loss: 0.2192\n",
      "Validation Loss: 2.0752, Accuracy: 0.5696, F1 Score: 0.5641, Precision: 0.6111, Recall: 0.5238, ROC AUC: 0.5952\n",
      "Epoch [9/50], Loss: 0.1821\n",
      "Validation Loss: 1.9597, Accuracy: 0.6203, F1 Score: 0.6512, Precision: 0.6364, Recall: 0.6667, ROC AUC: 0.6847\n",
      "Epoch [10/50], Loss: 0.1944\n",
      "Validation Loss: 1.7044, Accuracy: 0.6329, F1 Score: 0.6667, Precision: 0.6444, Recall: 0.6905, ROC AUC: 0.7149\n",
      "Epoch [11/50], Loss: 0.2060\n",
      "Validation Loss: 1.7598, Accuracy: 0.6456, F1 Score: 0.5333, Precision: 0.8889, Recall: 0.3810, ROC AUC: 0.8044\n",
      "Epoch [12/50], Loss: 0.1329\n",
      "Validation Loss: 1.4452, Accuracy: 0.7215, F1 Score: 0.7250, Precision: 0.7632, Recall: 0.6905, ROC AUC: 0.7825\n",
      "Epoch [13/50], Loss: 0.0708\n",
      "Validation Loss: 1.3175, Accuracy: 0.7468, F1 Score: 0.7368, Precision: 0.8235, Recall: 0.6667, ROC AUC: 0.8372\n",
      "Epoch [14/50], Loss: 0.0356\n",
      "Validation Loss: 1.6855, Accuracy: 0.7342, F1 Score: 0.7529, Precision: 0.7442, Recall: 0.7619, ROC AUC: 0.8256\n",
      "Epoch [15/50], Loss: 0.0323\n",
      "Validation Loss: 2.6988, Accuracy: 0.6582, F1 Score: 0.5846, Precision: 0.8261, Recall: 0.4524, ROC AUC: 0.7915\n",
      "Epoch [16/50], Loss: 0.0329\n",
      "Validation Loss: 1.7625, Accuracy: 0.7342, F1 Score: 0.7470, Precision: 0.7561, Recall: 0.7381, ROC AUC: 0.8359\n",
      "Epoch [17/50], Loss: 0.0219\n",
      "Validation Loss: 1.8399, Accuracy: 0.7848, F1 Score: 0.7848, Precision: 0.8378, Recall: 0.7381, ROC AUC: 0.8417\n",
      "Epoch [18/50], Loss: 0.0803\n",
      "Validation Loss: 2.0800, Accuracy: 0.7215, F1 Score: 0.6857, Precision: 0.8571, Recall: 0.5714, ROC AUC: 0.8391\n",
      "Epoch [19/50], Loss: 0.0912\n",
      "Validation Loss: 2.1603, Accuracy: 0.7089, F1 Score: 0.6849, Precision: 0.8065, Recall: 0.5952, ROC AUC: 0.7741\n",
      "Epoch [20/50], Loss: 0.0775\n",
      "Validation Loss: 2.5003, Accuracy: 0.6835, F1 Score: 0.6667, Precision: 0.7576, Recall: 0.5952, ROC AUC: 0.7613\n",
      "Epoch [21/50], Loss: 0.0564\n",
      "Validation Loss: 1.8330, Accuracy: 0.7089, F1 Score: 0.6462, Precision: 0.9130, Recall: 0.5000, ROC AUC: 0.8185\n",
      "Epoch [22/50], Loss: 0.0503\n",
      "Validation Loss: 1.6558, Accuracy: 0.7342, F1 Score: 0.7470, Precision: 0.7561, Recall: 0.7381, ROC AUC: 0.8031\n",
      "Early stopping triggered.\n",
      "Average Validation Accuracy for alpha: 0.7, lr: 0.01, momentum: 0.9: 0.7404\n",
      "Training alpha: 0.7, learning_rate: 0.1, momentum: 0.5\n",
      "Fold 1\n",
      "Epoch [1/50], Loss: 0.8570\n",
      "Validation Loss: 1.6492, Accuracy: 0.4250, F1 Score: 0.5965, Precision: 0.4250, Recall: 1.0000, ROC AUC: 0.4303\n",
      "Epoch [2/50], Loss: 0.6007\n",
      "Validation Loss: 1.3537, Accuracy: 0.4250, F1 Score: 0.5965, Precision: 0.4250, Recall: 1.0000, ROC AUC: 0.5428\n",
      "Epoch [3/50], Loss: 0.5440\n",
      "Validation Loss: 1.3590, Accuracy: 0.4250, F1 Score: 0.5965, Precision: 0.4250, Recall: 1.0000, ROC AUC: 0.6701\n",
      "Epoch [4/50], Loss: 0.5139\n",
      "Validation Loss: 1.3477, Accuracy: 0.5750, F1 Score: 0.2609, Precision: 0.5000, Recall: 0.1765, ROC AUC: 0.5185\n",
      "Epoch [5/50], Loss: 0.5110\n",
      "Validation Loss: 1.3714, Accuracy: 0.4125, F1 Score: 0.4946, Precision: 0.3898, Recall: 0.6765, ROC AUC: 0.5115\n",
      "Epoch [6/50], Loss: 0.5053\n",
      "Validation Loss: 1.4443, Accuracy: 0.5375, F1 Score: 0.4638, Precision: 0.4571, Recall: 0.4706, ROC AUC: 0.5364\n",
      "Epoch [7/50], Loss: 0.5252\n",
      "Validation Loss: 1.5398, Accuracy: 0.6000, F1 Score: 0.5000, Precision: 0.5333, Recall: 0.4706, ROC AUC: 0.6841\n",
      "Epoch [8/50], Loss: 0.5145\n",
      "Validation Loss: 1.7480, Accuracy: 0.5250, F1 Score: 0.5476, Precision: 0.4600, Recall: 0.6765, ROC AUC: 0.6036\n",
      "Epoch [9/50], Loss: 0.5246\n",
      "Validation Loss: 1.5708, Accuracy: 0.6125, F1 Score: 0.5867, Precision: 0.5366, Recall: 0.6471, ROC AUC: 0.6675\n",
      "Epoch [10/50], Loss: 0.5069\n",
      "Validation Loss: 1.4590, Accuracy: 0.6875, F1 Score: 0.5283, Precision: 0.7368, Recall: 0.4118, ROC AUC: 0.7327\n",
      "Epoch [11/50], Loss: 0.4537\n",
      "Validation Loss: 2.2445, Accuracy: 0.6375, F1 Score: 0.2564, Precision: 1.0000, Recall: 0.1471, ROC AUC: 0.6260\n",
      "Epoch [12/50], Loss: 0.3877\n",
      "Validation Loss: 1.6126, Accuracy: 0.6000, F1 Score: 0.6522, Precision: 0.5172, Recall: 0.8824, ROC AUC: 0.7948\n",
      "Epoch [13/50], Loss: 0.3131\n",
      "Validation Loss: 2.2541, Accuracy: 0.6750, F1 Score: 0.7045, Precision: 0.5741, Recall: 0.9118, ROC AUC: 0.7327\n",
      "Epoch [14/50], Loss: 0.3753\n",
      "Validation Loss: 1.7029, Accuracy: 0.6625, F1 Score: 0.5091, Precision: 0.6667, Recall: 0.4118, ROC AUC: 0.6164\n",
      "Epoch [15/50], Loss: 0.2867\n",
      "Validation Loss: 1.4719, Accuracy: 0.7750, F1 Score: 0.7692, Precision: 0.6818, Recall: 0.8824, ROC AUC: 0.8721\n",
      "Epoch [16/50], Loss: 0.4286\n",
      "Validation Loss: 1.9620, Accuracy: 0.6750, F1 Score: 0.4583, Precision: 0.7857, Recall: 0.3235, ROC AUC: 0.7462\n",
      "Epoch [17/50], Loss: 0.2799\n",
      "Validation Loss: 1.7161, Accuracy: 0.7875, F1 Score: 0.7018, Precision: 0.8696, Recall: 0.5882, ROC AUC: 0.8817\n",
      "Epoch [18/50], Loss: 0.1852\n",
      "Validation Loss: 1.8167, Accuracy: 0.6250, F1 Score: 0.6809, Precision: 0.5333, Recall: 0.9412, ROC AUC: 0.8370\n",
      "Epoch [19/50], Loss: 0.1167\n",
      "Validation Loss: 1.7269, Accuracy: 0.7500, F1 Score: 0.7619, Precision: 0.6400, Recall: 0.9412, ROC AUC: 0.8370\n",
      "Epoch [20/50], Loss: 0.2241\n",
      "Validation Loss: 1.5762, Accuracy: 0.6625, F1 Score: 0.4490, Precision: 0.7333, Recall: 0.3235, ROC AUC: 0.8811\n",
      "Epoch [21/50], Loss: 0.3259\n",
      "Validation Loss: 0.9342, Accuracy: 0.7500, F1 Score: 0.7436, Precision: 0.6591, Recall: 0.8529, ROC AUC: 0.8382\n",
      "Epoch [22/50], Loss: 0.1232\n",
      "Validation Loss: 1.7456, Accuracy: 0.7375, F1 Score: 0.7407, Precision: 0.6383, Recall: 0.8824, ROC AUC: 0.8344\n",
      "Early stopping triggered.\n",
      "Fold 2\n",
      "Epoch [1/50], Loss: 0.7950\n",
      "Validation Loss: 1.4968, Accuracy: 0.5250, F1 Score: 0.0952, Precision: 0.6667, Recall: 0.0513, ROC AUC: 0.4378\n",
      "Epoch [2/50], Loss: 0.6230\n",
      "Validation Loss: 1.4203, Accuracy: 0.5250, F1 Score: 0.6042, Precision: 0.5088, Recall: 0.7436, ROC AUC: 0.5441\n",
      "Epoch [3/50], Loss: 0.5548\n",
      "Validation Loss: 1.2503, Accuracy: 0.5125, F1 Score: 0.1702, Precision: 0.5000, Recall: 0.1026, ROC AUC: 0.5654\n",
      "Epoch [4/50], Loss: 0.5530\n",
      "Validation Loss: 1.7105, Accuracy: 0.5125, F1 Score: 0.0000, Precision: 0.0000, Recall: 0.0000, ROC AUC: 0.5916\n"
     ]
    },
    {
     "name": "stderr",
     "output_type": "stream",
     "text": [
      "/home/sadat/miniconda3/envs/cs721/lib/python3.8/site-packages/sklearn/metrics/_classification.py:1471: UndefinedMetricWarning: Precision is ill-defined and being set to 0.0 due to no predicted samples. Use `zero_division` parameter to control this behavior.\n",
      "  _warn_prf(average, modifier, msg_start, len(result))\n"
     ]
    },
    {
     "name": "stdout",
     "output_type": "stream",
     "text": [
      "Epoch [5/50], Loss: 0.5111\n",
      "Validation Loss: 1.3953, Accuracy: 0.5375, F1 Score: 0.3509, Precision: 0.5556, Recall: 0.2564, ROC AUC: 0.5766\n",
      "Epoch [6/50], Loss: 0.5120\n",
      "Validation Loss: 1.6003, Accuracy: 0.5125, F1 Score: 0.0000, Precision: 0.0000, Recall: 0.0000, ROC AUC: 0.6160\n"
     ]
    },
    {
     "name": "stderr",
     "output_type": "stream",
     "text": [
      "/home/sadat/miniconda3/envs/cs721/lib/python3.8/site-packages/sklearn/metrics/_classification.py:1471: UndefinedMetricWarning: Precision is ill-defined and being set to 0.0 due to no predicted samples. Use `zero_division` parameter to control this behavior.\n",
      "  _warn_prf(average, modifier, msg_start, len(result))\n"
     ]
    },
    {
     "name": "stdout",
     "output_type": "stream",
     "text": [
      "Epoch [7/50], Loss: 0.5354\n",
      "Validation Loss: 1.7977, Accuracy: 0.5500, F1 Score: 0.4857, Precision: 0.5484, Recall: 0.4359, ROC AUC: 0.5972\n",
      "Epoch [8/50], Loss: 0.4712\n",
      "Validation Loss: 1.4045, Accuracy: 0.5875, F1 Score: 0.4211, Precision: 0.6667, Recall: 0.3077, ROC AUC: 0.6041\n",
      "Epoch [9/50], Loss: 0.4882\n",
      "Validation Loss: 1.5652, Accuracy: 0.5750, F1 Score: 0.6667, Precision: 0.5397, Recall: 0.8718, ROC AUC: 0.7267\n",
      "Epoch [10/50], Loss: 0.4587\n",
      "Validation Loss: 1.7669, Accuracy: 0.7000, F1 Score: 0.7209, Precision: 0.6596, Recall: 0.7949, ROC AUC: 0.8024\n",
      "Epoch [11/50], Loss: 0.3364\n",
      "Validation Loss: 0.9940, Accuracy: 0.8125, F1 Score: 0.7887, Precision: 0.8750, Recall: 0.7179, ROC AUC: 0.9012\n",
      "Epoch [12/50], Loss: 0.3391\n",
      "Validation Loss: 1.7609, Accuracy: 0.5625, F1 Score: 0.6535, Precision: 0.5323, Recall: 0.8462, ROC AUC: 0.6817\n",
      "Epoch [13/50], Loss: 0.2993\n",
      "Validation Loss: 1.5562, Accuracy: 0.7125, F1 Score: 0.7089, Precision: 0.7000, Recall: 0.7179, ROC AUC: 0.7505\n",
      "Epoch [14/50], Loss: 0.2036\n",
      "Validation Loss: 1.9874, Accuracy: 0.7500, F1 Score: 0.6667, Precision: 0.9524, Recall: 0.5128, ROC AUC: 0.8086\n",
      "Epoch [15/50], Loss: 0.1963\n",
      "Validation Loss: 1.5756, Accuracy: 0.7250, F1 Score: 0.6944, Precision: 0.7576, Recall: 0.6410, ROC AUC: 0.8318\n",
      "Epoch [16/50], Loss: 0.1350\n",
      "Validation Loss: 1.7263, Accuracy: 0.7750, F1 Score: 0.7857, Precision: 0.7333, Recall: 0.8462, ROC AUC: 0.8280\n",
      "Early stopping triggered.\n",
      "Fold 3\n",
      "Epoch [1/50], Loss: 0.7790\n",
      "Validation Loss: 1.9291, Accuracy: 0.5316, F1 Score: 0.6942, Precision: 0.5316, Recall: 1.0000, ROC AUC: 0.5212\n",
      "Epoch [2/50], Loss: 0.6223\n",
      "Validation Loss: 1.3576, Accuracy: 0.5316, F1 Score: 0.6891, Precision: 0.5325, Recall: 0.9762, ROC AUC: 0.4414\n",
      "Epoch [3/50], Loss: 0.5421\n",
      "Validation Loss: 1.2241, Accuracy: 0.5570, F1 Score: 0.6789, Precision: 0.5522, Recall: 0.8810, ROC AUC: 0.5187\n",
      "Epoch [4/50], Loss: 0.4760\n",
      "Validation Loss: 1.5923, Accuracy: 0.4557, F1 Score: 0.0000, Precision: 0.0000, Recall: 0.0000, ROC AUC: 0.5985\n",
      "Epoch [5/50], Loss: 0.5640\n",
      "Validation Loss: 1.4348, Accuracy: 0.5316, F1 Score: 0.4478, Precision: 0.6000, Recall: 0.3571, ROC AUC: 0.6519\n",
      "Epoch [6/50], Loss: 0.4745\n",
      "Validation Loss: 1.8640, Accuracy: 0.5696, F1 Score: 0.5143, Precision: 0.6429, Recall: 0.4286, ROC AUC: 0.6879\n",
      "Epoch [7/50], Loss: 0.5174\n",
      "Validation Loss: 1.3354, Accuracy: 0.6835, F1 Score: 0.6835, Precision: 0.7297, Recall: 0.6429, ROC AUC: 0.7458\n",
      "Epoch [8/50], Loss: 0.6545\n",
      "Validation Loss: 2.1930, Accuracy: 0.4684, F1 Score: 0.0000, Precision: 0.0000, Recall: 0.0000, ROC AUC: 0.4640\n"
     ]
    },
    {
     "name": "stderr",
     "output_type": "stream",
     "text": [
      "/home/sadat/miniconda3/envs/cs721/lib/python3.8/site-packages/sklearn/metrics/_classification.py:1471: UndefinedMetricWarning: Precision is ill-defined and being set to 0.0 due to no predicted samples. Use `zero_division` parameter to control this behavior.\n",
      "  _warn_prf(average, modifier, msg_start, len(result))\n"
     ]
    },
    {
     "name": "stdout",
     "output_type": "stream",
     "text": [
      "Epoch [9/50], Loss: 0.5646\n",
      "Validation Loss: 1.0500, Accuracy: 0.5316, F1 Score: 0.6942, Precision: 0.5316, Recall: 1.0000, ROC AUC: 0.7548\n",
      "Epoch [10/50], Loss: 0.4432\n",
      "Validation Loss: 1.9537, Accuracy: 0.6329, F1 Score: 0.5538, Precision: 0.7826, Recall: 0.4286, ROC AUC: 0.7239\n",
      "Epoch [11/50], Loss: 0.3845\n",
      "Validation Loss: 1.3213, Accuracy: 0.6456, F1 Score: 0.7308, Precision: 0.6129, Recall: 0.9048, ROC AUC: 0.7278\n",
      "Epoch [12/50], Loss: 0.2926\n",
      "Validation Loss: 1.5006, Accuracy: 0.6456, F1 Score: 0.6410, Precision: 0.6944, Recall: 0.5952, ROC AUC: 0.7040\n",
      "Early stopping triggered.\n",
      "Fold 4\n",
      "Epoch [1/50], Loss: 0.8115\n",
      "Validation Loss: 1.4870, Accuracy: 0.5190, F1 Score: 0.6833, Precision: 0.5190, Recall: 1.0000, ROC AUC: 0.4756\n",
      "Epoch [2/50], Loss: 0.6203\n",
      "Validation Loss: 1.3253, Accuracy: 0.5190, F1 Score: 0.6833, Precision: 0.5190, Recall: 1.0000, ROC AUC: 0.4814\n",
      "Epoch [3/50], Loss: 0.5592\n",
      "Validation Loss: 1.3933, Accuracy: 0.5190, F1 Score: 0.6833, Precision: 0.5190, Recall: 1.0000, ROC AUC: 0.4480\n",
      "Epoch [4/50], Loss: 0.5135\n",
      "Validation Loss: 1.4631, Accuracy: 0.5316, F1 Score: 0.6105, Precision: 0.5370, Recall: 0.7073, ROC AUC: 0.5501\n",
      "Epoch [5/50], Loss: 0.4844\n",
      "Validation Loss: 1.3155, Accuracy: 0.6203, F1 Score: 0.7000, Precision: 0.5932, Recall: 0.8537, ROC AUC: 0.6778\n",
      "Epoch [6/50], Loss: 0.5464\n",
      "Validation Loss: 1.2239, Accuracy: 0.5570, F1 Score: 0.4776, Precision: 0.6154, Recall: 0.3902, ROC AUC: 0.6772\n",
      "Epoch [7/50], Loss: 0.5359\n",
      "Validation Loss: 2.1555, Accuracy: 0.4810, F1 Score: 0.0000, Precision: 0.0000, Recall: 0.0000, ROC AUC: 0.5738\n"
     ]
    },
    {
     "name": "stderr",
     "output_type": "stream",
     "text": [
      "/home/sadat/miniconda3/envs/cs721/lib/python3.8/site-packages/sklearn/metrics/_classification.py:1471: UndefinedMetricWarning: Precision is ill-defined and being set to 0.0 due to no predicted samples. Use `zero_division` parameter to control this behavior.\n",
      "  _warn_prf(average, modifier, msg_start, len(result))\n"
     ]
    },
    {
     "name": "stdout",
     "output_type": "stream",
     "text": [
      "Epoch [8/50], Loss: 0.5153\n",
      "Validation Loss: 1.8017, Accuracy: 0.5696, F1 Score: 0.4687, Precision: 0.6522, Recall: 0.3659, ROC AUC: 0.6656\n",
      "Epoch [9/50], Loss: 0.4683\n",
      "Validation Loss: 3.6731, Accuracy: 0.5190, F1 Score: 0.2083, Precision: 0.7143, Recall: 0.1220, ROC AUC: 0.6393\n",
      "Epoch [10/50], Loss: 0.4093\n",
      "Validation Loss: 1.2775, Accuracy: 0.7215, F1 Score: 0.7442, Precision: 0.7111, Recall: 0.7805, ROC AUC: 0.8068\n",
      "Epoch [11/50], Loss: 0.4780\n",
      "Validation Loss: 2.7443, Accuracy: 0.4937, F1 Score: 0.0476, Precision: 1.0000, Recall: 0.0244, ROC AUC: 0.5886\n",
      "Epoch [12/50], Loss: 0.3938\n",
      "Validation Loss: 1.6777, Accuracy: 0.6076, F1 Score: 0.7257, Precision: 0.5694, Recall: 1.0000, ROC AUC: 0.6791\n",
      "Epoch [13/50], Loss: 0.4337\n",
      "Validation Loss: 1.8119, Accuracy: 0.5443, F1 Score: 0.2800, Precision: 0.7778, Recall: 0.1707, ROC AUC: 0.6386\n",
      "Epoch [14/50], Loss: 0.3483\n",
      "Validation Loss: 1.4476, Accuracy: 0.6835, F1 Score: 0.6269, Precision: 0.8077, Recall: 0.5122, ROC AUC: 0.7478\n",
      "Epoch [15/50], Loss: 0.2682\n",
      "Validation Loss: 2.1154, Accuracy: 0.7089, F1 Score: 0.6462, Precision: 0.8750, Recall: 0.5122, ROC AUC: 0.7863\n",
      "Early stopping triggered.\n",
      "Fold 5\n",
      "Epoch [1/50], Loss: 0.7762\n",
      "Validation Loss: 1.4744, Accuracy: 0.5316, F1 Score: 0.6942, Precision: 0.5316, Recall: 1.0000, ROC AUC: 0.4376\n",
      "Epoch [2/50], Loss: 0.6223\n",
      "Validation Loss: 1.2710, Accuracy: 0.4810, F1 Score: 0.2807, Precision: 0.5333, Recall: 0.1905, ROC AUC: 0.5193\n",
      "Epoch [3/50], Loss: 0.5393\n",
      "Validation Loss: 1.8280, Accuracy: 0.5316, F1 Score: 0.2128, Precision: 1.0000, Recall: 0.1190, ROC AUC: 0.6158\n",
      "Epoch [4/50], Loss: 0.5270\n",
      "Validation Loss: 1.5049, Accuracy: 0.4810, F1 Score: 0.0889, Precision: 0.6667, Recall: 0.0476, ROC AUC: 0.5238\n",
      "Epoch [5/50], Loss: 0.5782\n",
      "Validation Loss: 2.1124, Accuracy: 0.5570, F1 Score: 0.3860, Precision: 0.7333, Recall: 0.2619, ROC AUC: 0.6351\n",
      "Epoch [6/50], Loss: 0.4682\n",
      "Validation Loss: 1.3304, Accuracy: 0.6329, F1 Score: 0.5797, Precision: 0.7407, Recall: 0.4762, ROC AUC: 0.7014\n",
      "Epoch [7/50], Loss: 0.4637\n",
      "Validation Loss: 2.4487, Accuracy: 0.6203, F1 Score: 0.5000, Precision: 0.8333, Recall: 0.3571, ROC AUC: 0.7773\n",
      "Epoch [8/50], Loss: 0.4366\n",
      "Validation Loss: 2.4449, Accuracy: 0.5696, F1 Score: 0.3704, Precision: 0.8333, Recall: 0.2381, ROC AUC: 0.7336\n",
      "Epoch [9/50], Loss: 0.3757\n",
      "Validation Loss: 1.1477, Accuracy: 0.6835, F1 Score: 0.7191, Precision: 0.6809, Recall: 0.7619, ROC AUC: 0.7677\n",
      "Epoch [10/50], Loss: 0.3175\n",
      "Validation Loss: 2.4502, Accuracy: 0.6456, F1 Score: 0.5484, Precision: 0.8500, Recall: 0.4048, ROC AUC: 0.7284\n",
      "Epoch [11/50], Loss: 0.2983\n",
      "Validation Loss: 1.4558, Accuracy: 0.6709, F1 Score: 0.6176, Precision: 0.8077, Recall: 0.5000, ROC AUC: 0.7819\n",
      "Epoch [12/50], Loss: 0.3625\n",
      "Validation Loss: 1.4349, Accuracy: 0.6456, F1 Score: 0.6500, Precision: 0.6842, Recall: 0.6190, ROC AUC: 0.6596\n",
      "Epoch [13/50], Loss: 0.3500\n",
      "Validation Loss: 1.8746, Accuracy: 0.7089, F1 Score: 0.7473, Precision: 0.6939, Recall: 0.8095, ROC AUC: 0.7342\n",
      "Epoch [14/50], Loss: 0.2490\n",
      "Validation Loss: 1.6902, Accuracy: 0.6456, F1 Score: 0.6500, Precision: 0.6842, Recall: 0.6190, ROC AUC: 0.7529\n",
      "Epoch [15/50], Loss: 0.1706\n",
      "Validation Loss: 2.2573, Accuracy: 0.6962, F1 Score: 0.7209, Precision: 0.7045, Recall: 0.7381, ROC AUC: 0.7568\n",
      "Epoch [16/50], Loss: 0.2906\n",
      "Validation Loss: 1.4664, Accuracy: 0.6962, F1 Score: 0.6923, Precision: 0.7500, Recall: 0.6429, ROC AUC: 0.7124\n",
      "Epoch [17/50], Loss: 0.1841\n",
      "Validation Loss: 2.3607, Accuracy: 0.5443, F1 Score: 0.4375, Precision: 0.6364, Recall: 0.3333, ROC AUC: 0.6184\n",
      "Epoch [18/50], Loss: 0.2154\n",
      "Validation Loss: 2.3622, Accuracy: 0.7215, F1 Score: 0.6562, Precision: 0.9545, Recall: 0.5000, ROC AUC: 0.8314\n",
      "Epoch [19/50], Loss: 0.0782\n",
      "Validation Loss: 2.4083, Accuracy: 0.6456, F1 Score: 0.7308, Precision: 0.6129, Recall: 0.9048, ROC AUC: 0.7349\n",
      "Epoch [20/50], Loss: 0.1618\n",
      "Validation Loss: 2.1909, Accuracy: 0.6456, F1 Score: 0.7308, Precision: 0.6129, Recall: 0.9048, ROC AUC: 0.7793\n",
      "Epoch [21/50], Loss: 0.0647\n",
      "Validation Loss: 2.5729, Accuracy: 0.7215, F1 Score: 0.6765, Precision: 0.8846, Recall: 0.5476, ROC AUC: 0.7986\n",
      "Epoch [22/50], Loss: 0.0620\n",
      "Validation Loss: 2.1032, Accuracy: 0.7848, F1 Score: 0.7952, Precision: 0.8049, Recall: 0.7857, ROC AUC: 0.8423\n",
      "Epoch [23/50], Loss: 0.0566\n",
      "Validation Loss: 3.5702, Accuracy: 0.5823, F1 Score: 0.3529, Precision: 1.0000, Recall: 0.2143, ROC AUC: 0.6615\n",
      "Epoch [24/50], Loss: 0.1433\n",
      "Validation Loss: 1.7228, Accuracy: 0.6962, F1 Score: 0.7447, Precision: 0.6731, Recall: 0.8333, ROC AUC: 0.7709\n",
      "Epoch [25/50], Loss: 0.0581\n",
      "Validation Loss: 3.0611, Accuracy: 0.6835, F1 Score: 0.5763, Precision: 1.0000, Recall: 0.4048, ROC AUC: 0.7452\n",
      "Epoch [26/50], Loss: 0.0553\n",
      "Validation Loss: 2.1454, Accuracy: 0.7722, F1 Score: 0.7750, Precision: 0.8158, Recall: 0.7381, ROC AUC: 0.8205\n",
      "Epoch [27/50], Loss: 0.0066\n",
      "Validation Loss: 2.4023, Accuracy: 0.7722, F1 Score: 0.7750, Precision: 0.8158, Recall: 0.7381, ROC AUC: 0.8082\n",
      "Early stopping triggered.\n",
      "Average Validation Accuracy for alpha: 0.7, lr: 0.1, momentum: 0.5: 0.7278\n",
      "Training alpha: 0.7, learning_rate: 0.1, momentum: 0.8\n",
      "Fold 1\n",
      "Epoch [1/50], Loss: 0.7980\n",
      "Validation Loss: 1.5892, Accuracy: 0.4250, F1 Score: 0.5965, Precision: 0.4250, Recall: 1.0000, ROC AUC: 0.5192\n",
      "Epoch [2/50], Loss: 0.6410\n",
      "Validation Loss: 1.1605, Accuracy: 0.6000, F1 Score: 0.5897, Precision: 0.5227, Recall: 0.6765, ROC AUC: 0.5358\n",
      "Epoch [3/50], Loss: 0.5185\n",
      "Validation Loss: 0.7820, Accuracy: 0.4250, F1 Score: 0.5965, Precision: 0.4250, Recall: 1.0000, ROC AUC: 0.4680\n",
      "Epoch [4/50], Loss: 0.5031\n",
      "Validation Loss: 0.7931, Accuracy: 0.5750, F1 Score: 0.0000, Precision: 0.0000, Recall: 0.0000, ROC AUC: 0.4495\n"
     ]
    },
    {
     "name": "stderr",
     "output_type": "stream",
     "text": [
      "/home/sadat/miniconda3/envs/cs721/lib/python3.8/site-packages/sklearn/metrics/_classification.py:1471: UndefinedMetricWarning: Precision is ill-defined and being set to 0.0 due to no predicted samples. Use `zero_division` parameter to control this behavior.\n",
      "  _warn_prf(average, modifier, msg_start, len(result))\n"
     ]
    },
    {
     "name": "stdout",
     "output_type": "stream",
     "text": [
      "Epoch [5/50], Loss: 0.4962\n",
      "Validation Loss: 0.7500, Accuracy: 0.4250, F1 Score: 0.5965, Precision: 0.4250, Recall: 1.0000, ROC AUC: 0.6026\n",
      "Epoch [6/50], Loss: 0.4946\n",
      "Validation Loss: 0.7535, Accuracy: 0.5500, F1 Score: 0.2800, Precision: 0.4375, Recall: 0.2059, ROC AUC: 0.4098\n",
      "Epoch [7/50], Loss: 0.4898\n",
      "Validation Loss: 0.7537, Accuracy: 0.4250, F1 Score: 0.5965, Precision: 0.4250, Recall: 1.0000, ROC AUC: 0.5032\n",
      "Early stopping triggered.\n",
      "Fold 2\n",
      "Epoch [1/50], Loss: 0.8054\n",
      "Validation Loss: 1.5463, Accuracy: 0.5125, F1 Score: 0.6549, Precision: 0.5000, Recall: 0.9487, ROC AUC: 0.4128\n",
      "Epoch [2/50], Loss: 0.7227\n",
      "Validation Loss: 1.7217, Accuracy: 0.4875, F1 Score: 0.6496, Precision: 0.4872, Recall: 0.9744, ROC AUC: 0.4978\n",
      "Epoch [3/50], Loss: 0.5573\n",
      "Validation Loss: 0.8751, Accuracy: 0.4875, F1 Score: 0.6555, Precision: 0.4875, Recall: 1.0000, ROC AUC: 0.4603\n",
      "Epoch [4/50], Loss: 0.5097\n",
      "Validation Loss: 0.7750, Accuracy: 0.5125, F1 Score: 0.0000, Precision: 0.0000, Recall: 0.0000, ROC AUC: 0.5591\n"
     ]
    },
    {
     "name": "stderr",
     "output_type": "stream",
     "text": [
      "/home/sadat/miniconda3/envs/cs721/lib/python3.8/site-packages/sklearn/metrics/_classification.py:1471: UndefinedMetricWarning: Precision is ill-defined and being set to 0.0 due to no predicted samples. Use `zero_division` parameter to control this behavior.\n",
      "  _warn_prf(average, modifier, msg_start, len(result))\n"
     ]
    },
    {
     "name": "stdout",
     "output_type": "stream",
     "text": [
      "Epoch [5/50], Loss: 0.4971\n",
      "Validation Loss: 0.7409, Accuracy: 0.4875, F1 Score: 0.6555, Precision: 0.4875, Recall: 1.0000, ROC AUC: 0.4153\n",
      "Epoch [6/50], Loss: 0.4917\n",
      "Validation Loss: 0.7259, Accuracy: 0.4875, F1 Score: 0.6555, Precision: 0.4875, Recall: 1.0000, ROC AUC: 0.5278\n",
      "Early stopping triggered.\n",
      "Fold 3\n",
      "Epoch [1/50], Loss: 0.8685\n",
      "Validation Loss: 2.3443, Accuracy: 0.5316, F1 Score: 0.6942, Precision: 0.5316, Recall: 1.0000, ROC AUC: 0.4562\n",
      "Epoch [2/50], Loss: 0.6410\n",
      "Validation Loss: 1.3577, Accuracy: 0.4684, F1 Score: 0.0000, Precision: 0.0000, Recall: 0.0000, ROC AUC: 0.4376\n"
     ]
    },
    {
     "name": "stderr",
     "output_type": "stream",
     "text": [
      "/home/sadat/miniconda3/envs/cs721/lib/python3.8/site-packages/sklearn/metrics/_classification.py:1471: UndefinedMetricWarning: Precision is ill-defined and being set to 0.0 due to no predicted samples. Use `zero_division` parameter to control this behavior.\n",
      "  _warn_prf(average, modifier, msg_start, len(result))\n"
     ]
    },
    {
     "name": "stdout",
     "output_type": "stream",
     "text": [
      "Epoch [3/50], Loss: 0.5238\n",
      "Validation Loss: 0.8384, Accuracy: 0.4684, F1 Score: 0.0000, Precision: 0.0000, Recall: 0.0000, ROC AUC: 0.3977\n"
     ]
    },
    {
     "name": "stderr",
     "output_type": "stream",
     "text": [
      "/home/sadat/miniconda3/envs/cs721/lib/python3.8/site-packages/sklearn/metrics/_classification.py:1471: UndefinedMetricWarning: Precision is ill-defined and being set to 0.0 due to no predicted samples. Use `zero_division` parameter to control this behavior.\n",
      "  _warn_prf(average, modifier, msg_start, len(result))\n"
     ]
    },
    {
     "name": "stdout",
     "output_type": "stream",
     "text": [
      "Epoch [4/50], Loss: 0.5112\n",
      "Validation Loss: 0.7945, Accuracy: 0.4684, F1 Score: 0.0000, Precision: 0.0000, Recall: 0.0000, ROC AUC: 0.4241\n"
     ]
    },
    {
     "name": "stderr",
     "output_type": "stream",
     "text": [
      "/home/sadat/miniconda3/envs/cs721/lib/python3.8/site-packages/sklearn/metrics/_classification.py:1471: UndefinedMetricWarning: Precision is ill-defined and being set to 0.0 due to no predicted samples. Use `zero_division` parameter to control this behavior.\n",
      "  _warn_prf(average, modifier, msg_start, len(result))\n"
     ]
    },
    {
     "name": "stdout",
     "output_type": "stream",
     "text": [
      "Epoch [5/50], Loss: 0.4961\n",
      "Validation Loss: 0.7130, Accuracy: 0.5316, F1 Score: 0.6942, Precision: 0.5316, Recall: 1.0000, ROC AUC: 0.4363\n",
      "Epoch [6/50], Loss: 0.4923\n",
      "Validation Loss: 0.7266, Accuracy: 0.4684, F1 Score: 0.0000, Precision: 0.0000, Recall: 0.0000, ROC AUC: 0.4286\n",
      "Early stopping triggered.\n",
      "Fold 4\n"
     ]
    },
    {
     "name": "stderr",
     "output_type": "stream",
     "text": [
      "/home/sadat/miniconda3/envs/cs721/lib/python3.8/site-packages/sklearn/metrics/_classification.py:1471: UndefinedMetricWarning: Precision is ill-defined and being set to 0.0 due to no predicted samples. Use `zero_division` parameter to control this behavior.\n",
      "  _warn_prf(average, modifier, msg_start, len(result))\n"
     ]
    },
    {
     "name": "stdout",
     "output_type": "stream",
     "text": [
      "Epoch [1/50], Loss: 0.8551\n",
      "Validation Loss: 1.9677, Accuracy: 0.4304, F1 Score: 0.4944, Precision: 0.4583, Recall: 0.5366, ROC AUC: 0.4602\n",
      "Epoch [2/50], Loss: 0.6999\n",
      "Validation Loss: 1.9979, Accuracy: 0.4810, F1 Score: 0.0000, Precision: 0.0000, Recall: 0.0000, ROC AUC: 0.5276\n"
     ]
    },
    {
     "name": "stderr",
     "output_type": "stream",
     "text": [
      "/home/sadat/miniconda3/envs/cs721/lib/python3.8/site-packages/sklearn/metrics/_classification.py:1471: UndefinedMetricWarning: Precision is ill-defined and being set to 0.0 due to no predicted samples. Use `zero_division` parameter to control this behavior.\n",
      "  _warn_prf(average, modifier, msg_start, len(result))\n"
     ]
    },
    {
     "name": "stdout",
     "output_type": "stream",
     "text": [
      "Epoch [3/50], Loss: 0.5621\n",
      "Validation Loss: 0.9640, Accuracy: 0.4810, F1 Score: 0.0000, Precision: 0.0000, Recall: 0.0000, ROC AUC: 0.5392\n"
     ]
    },
    {
     "name": "stderr",
     "output_type": "stream",
     "text": [
      "/home/sadat/miniconda3/envs/cs721/lib/python3.8/site-packages/sklearn/metrics/_classification.py:1471: UndefinedMetricWarning: Precision is ill-defined and being set to 0.0 due to no predicted samples. Use `zero_division` parameter to control this behavior.\n",
      "  _warn_prf(average, modifier, msg_start, len(result))\n"
     ]
    },
    {
     "name": "stdout",
     "output_type": "stream",
     "text": [
      "Epoch [4/50], Loss: 0.5185\n",
      "Validation Loss: 0.8628, Accuracy: 0.4810, F1 Score: 0.0000, Precision: 0.0000, Recall: 0.0000, ROC AUC: 0.4987\n"
     ]
    },
    {
     "name": "stderr",
     "output_type": "stream",
     "text": [
      "/home/sadat/miniconda3/envs/cs721/lib/python3.8/site-packages/sklearn/metrics/_classification.py:1471: UndefinedMetricWarning: Precision is ill-defined and being set to 0.0 due to no predicted samples. Use `zero_division` parameter to control this behavior.\n",
      "  _warn_prf(average, modifier, msg_start, len(result))\n"
     ]
    },
    {
     "name": "stdout",
     "output_type": "stream",
     "text": [
      "Epoch [5/50], Loss: 0.5063\n",
      "Validation Loss: 0.8088, Accuracy: 0.4810, F1 Score: 0.0000, Precision: 0.0000, Recall: 0.0000, ROC AUC: 0.4105\n"
     ]
    },
    {
     "name": "stderr",
     "output_type": "stream",
     "text": [
      "/home/sadat/miniconda3/envs/cs721/lib/python3.8/site-packages/sklearn/metrics/_classification.py:1471: UndefinedMetricWarning: Precision is ill-defined and being set to 0.0 due to no predicted samples. Use `zero_division` parameter to control this behavior.\n",
      "  _warn_prf(average, modifier, msg_start, len(result))\n"
     ]
    },
    {
     "name": "stdout",
     "output_type": "stream",
     "text": [
      "Epoch [6/50], Loss: 0.4983\n",
      "Validation Loss: 0.7630, Accuracy: 0.4810, F1 Score: 0.0000, Precision: 0.0000, Recall: 0.0000, ROC AUC: 0.4910\n"
     ]
    },
    {
     "name": "stderr",
     "output_type": "stream",
     "text": [
      "/home/sadat/miniconda3/envs/cs721/lib/python3.8/site-packages/sklearn/metrics/_classification.py:1471: UndefinedMetricWarning: Precision is ill-defined and being set to 0.0 due to no predicted samples. Use `zero_division` parameter to control this behavior.\n",
      "  _warn_prf(average, modifier, msg_start, len(result))\n"
     ]
    },
    {
     "name": "stdout",
     "output_type": "stream",
     "text": [
      "Epoch [7/50], Loss: 0.5014\n",
      "Validation Loss: 0.7546, Accuracy: 0.4810, F1 Score: 0.0000, Precision: 0.0000, Recall: 0.0000, ROC AUC: 0.4904\n",
      "Early stopping triggered.\n",
      "Fold 5\n"
     ]
    },
    {
     "name": "stderr",
     "output_type": "stream",
     "text": [
      "/home/sadat/miniconda3/envs/cs721/lib/python3.8/site-packages/sklearn/metrics/_classification.py:1471: UndefinedMetricWarning: Precision is ill-defined and being set to 0.0 due to no predicted samples. Use `zero_division` parameter to control this behavior.\n",
      "  _warn_prf(average, modifier, msg_start, len(result))\n"
     ]
    },
    {
     "name": "stdout",
     "output_type": "stream",
     "text": [
      "Epoch [1/50], Loss: 0.8191\n",
      "Validation Loss: 1.5809, Accuracy: 0.5316, F1 Score: 0.6942, Precision: 0.5316, Recall: 1.0000, ROC AUC: 0.3861\n",
      "Epoch [2/50], Loss: 0.6859\n",
      "Validation Loss: 2.0585, Accuracy: 0.5063, F1 Score: 0.6609, Precision: 0.5205, Recall: 0.9048, ROC AUC: 0.5257\n",
      "Epoch [3/50], Loss: 0.5503\n",
      "Validation Loss: 0.8336, Accuracy: 0.4684, F1 Score: 0.0000, Precision: 0.0000, Recall: 0.0000, ROC AUC: 0.5792\n"
     ]
    },
    {
     "name": "stderr",
     "output_type": "stream",
     "text": [
      "/home/sadat/miniconda3/envs/cs721/lib/python3.8/site-packages/sklearn/metrics/_classification.py:1471: UndefinedMetricWarning: Precision is ill-defined and being set to 0.0 due to no predicted samples. Use `zero_division` parameter to control this behavior.\n",
      "  _warn_prf(average, modifier, msg_start, len(result))\n"
     ]
    },
    {
     "name": "stdout",
     "output_type": "stream",
     "text": [
      "Epoch [4/50], Loss: 0.5007\n",
      "Validation Loss: 0.7411, Accuracy: 0.5316, F1 Score: 0.6942, Precision: 0.5316, Recall: 1.0000, ROC AUC: 0.4540\n",
      "Epoch [5/50], Loss: 0.4948\n",
      "Validation Loss: 0.7307, Accuracy: 0.5316, F1 Score: 0.6942, Precision: 0.5316, Recall: 1.0000, ROC AUC: 0.4389\n",
      "Epoch [6/50], Loss: 0.4940\n",
      "Validation Loss: 0.7298, Accuracy: 0.4684, F1 Score: 0.0000, Precision: 0.0000, Recall: 0.0000, ROC AUC: 0.4588\n",
      "Early stopping triggered.\n",
      "Average Validation Accuracy for alpha: 0.7, lr: 0.1, momentum: 0.8: 0.4660\n",
      "Training alpha: 0.7, learning_rate: 0.1, momentum: 0.9\n",
      "Fold 1\n"
     ]
    },
    {
     "name": "stderr",
     "output_type": "stream",
     "text": [
      "/home/sadat/miniconda3/envs/cs721/lib/python3.8/site-packages/sklearn/metrics/_classification.py:1471: UndefinedMetricWarning: Precision is ill-defined and being set to 0.0 due to no predicted samples. Use `zero_division` parameter to control this behavior.\n",
      "  _warn_prf(average, modifier, msg_start, len(result))\n"
     ]
    },
    {
     "name": "stdout",
     "output_type": "stream",
     "text": [
      "Epoch [1/50], Loss: 0.9222\n",
      "Validation Loss: 4.0511, Accuracy: 0.4250, F1 Score: 0.5965, Precision: 0.4250, Recall: 1.0000, ROC AUC: 0.4565\n",
      "Epoch [2/50], Loss: 0.7826\n",
      "Validation Loss: 2.9969, Accuracy: 0.4375, F1 Score: 0.6018, Precision: 0.4304, Recall: 1.0000, ROC AUC: 0.5083\n",
      "Epoch [3/50], Loss: 0.5890\n",
      "Validation Loss: 1.8142, Accuracy: 0.4250, F1 Score: 0.5965, Precision: 0.4250, Recall: 1.0000, ROC AUC: 0.5946\n",
      "Epoch [4/50], Loss: 0.6738\n",
      "Validation Loss: 1.7998, Accuracy: 0.5750, F1 Score: 0.0000, Precision: 0.0000, Recall: 0.0000, ROC AUC: 0.4405\n"
     ]
    },
    {
     "name": "stderr",
     "output_type": "stream",
     "text": [
      "/home/sadat/miniconda3/envs/cs721/lib/python3.8/site-packages/sklearn/metrics/_classification.py:1471: UndefinedMetricWarning: Precision is ill-defined and being set to 0.0 due to no predicted samples. Use `zero_division` parameter to control this behavior.\n",
      "  _warn_prf(average, modifier, msg_start, len(result))\n"
     ]
    },
    {
     "name": "stdout",
     "output_type": "stream",
     "text": [
      "Epoch [5/50], Loss: 0.5665\n",
      "Validation Loss: 0.8790, Accuracy: 0.4500, F1 Score: 0.5769, Precision: 0.4286, Recall: 0.8824, ROC AUC: 0.5441\n",
      "Epoch [6/50], Loss: 0.5274\n",
      "Validation Loss: 0.8212, Accuracy: 0.4250, F1 Score: 0.5965, Precision: 0.4250, Recall: 1.0000, ROC AUC: 0.4968\n",
      "Epoch [7/50], Loss: 0.5048\n",
      "Validation Loss: 0.9594, Accuracy: 0.5625, F1 Score: 0.1463, Precision: 0.4286, Recall: 0.0882, ROC AUC: 0.5013\n",
      "Epoch [8/50], Loss: 0.5123\n",
      "Validation Loss: 0.7493, Accuracy: 0.4250, F1 Score: 0.5965, Precision: 0.4250, Recall: 1.0000, ROC AUC: 0.4166\n",
      "Epoch [9/50], Loss: 0.4980\n",
      "Validation Loss: 0.7245, Accuracy: 0.4250, F1 Score: 0.5965, Precision: 0.4250, Recall: 1.0000, ROC AUC: 0.3635\n",
      "Early stopping triggered.\n",
      "Fold 2\n",
      "Epoch [1/50], Loss: 0.8767\n",
      "Validation Loss: 3.2026, Accuracy: 0.4875, F1 Score: 0.6555, Precision: 0.4875, Recall: 1.0000, ROC AUC: 0.5341\n",
      "Epoch [2/50], Loss: 0.8434\n",
      "Validation Loss: 1.3695, Accuracy: 0.4875, F1 Score: 0.6555, Precision: 0.4875, Recall: 1.0000, ROC AUC: 0.5184\n",
      "Epoch [3/50], Loss: 0.5756\n",
      "Validation Loss: 1.3718, Accuracy: 0.5125, F1 Score: 0.0000, Precision: 0.0000, Recall: 0.0000, ROC AUC: 0.6085\n"
     ]
    },
    {
     "name": "stderr",
     "output_type": "stream",
     "text": [
      "/home/sadat/miniconda3/envs/cs721/lib/python3.8/site-packages/sklearn/metrics/_classification.py:1471: UndefinedMetricWarning: Precision is ill-defined and being set to 0.0 due to no predicted samples. Use `zero_division` parameter to control this behavior.\n",
      "  _warn_prf(average, modifier, msg_start, len(result))\n"
     ]
    },
    {
     "name": "stdout",
     "output_type": "stream",
     "text": [
      "Epoch [4/50], Loss: 0.5537\n",
      "Validation Loss: 1.0706, Accuracy: 0.5125, F1 Score: 0.0000, Precision: 0.0000, Recall: 0.0000, ROC AUC: 0.4916\n"
     ]
    },
    {
     "name": "stderr",
     "output_type": "stream",
     "text": [
      "/home/sadat/miniconda3/envs/cs721/lib/python3.8/site-packages/sklearn/metrics/_classification.py:1471: UndefinedMetricWarning: Precision is ill-defined and being set to 0.0 due to no predicted samples. Use `zero_division` parameter to control this behavior.\n",
      "  _warn_prf(average, modifier, msg_start, len(result))\n"
     ]
    },
    {
     "name": "stdout",
     "output_type": "stream",
     "text": [
      "Epoch [5/50], Loss: 0.5474\n",
      "Validation Loss: 8.3532, Accuracy: 0.4875, F1 Score: 0.4058, Precision: 0.4667, Recall: 0.3590, ROC AUC: 0.4503\n",
      "Epoch [6/50], Loss: 0.5329\n",
      "Validation Loss: 0.7480, Accuracy: 0.5125, F1 Score: 0.0000, Precision: 0.0000, Recall: 0.0000, ROC AUC: 0.3502\n"
     ]
    },
    {
     "name": "stderr",
     "output_type": "stream",
     "text": [
      "/home/sadat/miniconda3/envs/cs721/lib/python3.8/site-packages/sklearn/metrics/_classification.py:1471: UndefinedMetricWarning: Precision is ill-defined and being set to 0.0 due to no predicted samples. Use `zero_division` parameter to control this behavior.\n",
      "  _warn_prf(average, modifier, msg_start, len(result))\n"
     ]
    },
    {
     "name": "stdout",
     "output_type": "stream",
     "text": [
      "Epoch [7/50], Loss: 0.5142\n",
      "Validation Loss: 0.9268, Accuracy: 0.5125, F1 Score: 0.0000, Precision: 0.0000, Recall: 0.0000, ROC AUC: 0.3583\n"
     ]
    },
    {
     "name": "stderr",
     "output_type": "stream",
     "text": [
      "/home/sadat/miniconda3/envs/cs721/lib/python3.8/site-packages/sklearn/metrics/_classification.py:1471: UndefinedMetricWarning: Precision is ill-defined and being set to 0.0 due to no predicted samples. Use `zero_division` parameter to control this behavior.\n",
      "  _warn_prf(average, modifier, msg_start, len(result))\n"
     ]
    },
    {
     "name": "stdout",
     "output_type": "stream",
     "text": [
      "Epoch [8/50], Loss: 0.5073\n",
      "Validation Loss: 0.7351, Accuracy: 0.4875, F1 Score: 0.6555, Precision: 0.4875, Recall: 1.0000, ROC AUC: 0.4084\n",
      "Early stopping triggered.\n",
      "Fold 3\n",
      "Epoch [1/50], Loss: 0.8569\n",
      "Validation Loss: 1.8090, Accuracy: 0.5316, F1 Score: 0.6942, Precision: 0.5316, Recall: 1.0000, ROC AUC: 0.4607\n",
      "Epoch [2/50], Loss: 0.7018\n",
      "Validation Loss: 3.8699, Accuracy: 0.5696, F1 Score: 0.6047, Precision: 0.5909, Recall: 0.6190, ROC AUC: 0.5708\n",
      "Epoch [3/50], Loss: 0.5817\n",
      "Validation Loss: 0.9267, Accuracy: 0.5316, F1 Score: 0.6942, Precision: 0.5316, Recall: 1.0000, ROC AUC: 0.4492\n",
      "Epoch [4/50], Loss: 0.5297\n",
      "Validation Loss: 0.8872, Accuracy: 0.4684, F1 Score: 0.0000, Precision: 0.0000, Recall: 0.0000, ROC AUC: 0.4801\n"
     ]
    },
    {
     "name": "stderr",
     "output_type": "stream",
     "text": [
      "/home/sadat/miniconda3/envs/cs721/lib/python3.8/site-packages/sklearn/metrics/_classification.py:1471: UndefinedMetricWarning: Precision is ill-defined and being set to 0.0 due to no predicted samples. Use `zero_division` parameter to control this behavior.\n",
      "  _warn_prf(average, modifier, msg_start, len(result))\n"
     ]
    },
    {
     "name": "stdout",
     "output_type": "stream",
     "text": [
      "Epoch [5/50], Loss: 0.5105\n",
      "Validation Loss: 0.8117, Accuracy: 0.5316, F1 Score: 0.6942, Precision: 0.5316, Recall: 1.0000, ROC AUC: 0.5534\n",
      "Epoch [6/50], Loss: 0.5077\n",
      "Validation Loss: 0.8399, Accuracy: 0.4684, F1 Score: 0.0000, Precision: 0.0000, Recall: 0.0000, ROC AUC: 0.5148\n"
     ]
    },
    {
     "name": "stderr",
     "output_type": "stream",
     "text": [
      "/home/sadat/miniconda3/envs/cs721/lib/python3.8/site-packages/sklearn/metrics/_classification.py:1471: UndefinedMetricWarning: Precision is ill-defined and being set to 0.0 due to no predicted samples. Use `zero_division` parameter to control this behavior.\n",
      "  _warn_prf(average, modifier, msg_start, len(result))\n"
     ]
    },
    {
     "name": "stdout",
     "output_type": "stream",
     "text": [
      "Epoch [7/50], Loss: 0.5019\n",
      "Validation Loss: 0.7184, Accuracy: 0.5316, F1 Score: 0.6942, Precision: 0.5316, Recall: 1.0000, ROC AUC: 0.5071\n",
      "Early stopping triggered.\n",
      "Fold 4\n",
      "Epoch [1/50], Loss: 0.8705\n",
      "Validation Loss: 2.5207, Accuracy: 0.4810, F1 Score: 0.0000, Precision: 0.0000, Recall: 0.0000, ROC AUC: 0.5237\n"
     ]
    },
    {
     "name": "stderr",
     "output_type": "stream",
     "text": [
      "/home/sadat/miniconda3/envs/cs721/lib/python3.8/site-packages/sklearn/metrics/_classification.py:1471: UndefinedMetricWarning: Precision is ill-defined and being set to 0.0 due to no predicted samples. Use `zero_division` parameter to control this behavior.\n",
      "  _warn_prf(average, modifier, msg_start, len(result))\n"
     ]
    },
    {
     "name": "stdout",
     "output_type": "stream",
     "text": [
      "Epoch [2/50], Loss: 0.7145\n",
      "Validation Loss: 4.5625, Accuracy: 0.4810, F1 Score: 0.6435, Precision: 0.5000, Recall: 0.9024, ROC AUC: 0.4506\n",
      "Epoch [3/50], Loss: 0.5386\n",
      "Validation Loss: 0.8230, Accuracy: 0.4810, F1 Score: 0.6095, Precision: 0.5000, Recall: 0.7805, ROC AUC: 0.4904\n",
      "Epoch [4/50], Loss: 0.5022\n",
      "Validation Loss: 0.7954, Accuracy: 0.4810, F1 Score: 0.0000, Precision: 0.0000, Recall: 0.0000, ROC AUC: 0.4961\n"
     ]
    },
    {
     "name": "stderr",
     "output_type": "stream",
     "text": [
      "/home/sadat/miniconda3/envs/cs721/lib/python3.8/site-packages/sklearn/metrics/_classification.py:1471: UndefinedMetricWarning: Precision is ill-defined and being set to 0.0 due to no predicted samples. Use `zero_division` parameter to control this behavior.\n",
      "  _warn_prf(average, modifier, msg_start, len(result))\n"
     ]
    },
    {
     "name": "stdout",
     "output_type": "stream",
     "text": [
      "Epoch [5/50], Loss: 0.5000\n",
      "Validation Loss: 0.7439, Accuracy: 0.4810, F1 Score: 0.0000, Precision: 0.0000, Recall: 0.0000, ROC AUC: 0.4692\n"
     ]
    },
    {
     "name": "stderr",
     "output_type": "stream",
     "text": [
      "/home/sadat/miniconda3/envs/cs721/lib/python3.8/site-packages/sklearn/metrics/_classification.py:1471: UndefinedMetricWarning: Precision is ill-defined and being set to 0.0 due to no predicted samples. Use `zero_division` parameter to control this behavior.\n",
      "  _warn_prf(average, modifier, msg_start, len(result))\n"
     ]
    },
    {
     "name": "stdout",
     "output_type": "stream",
     "text": [
      "Epoch [6/50], Loss: 0.4892\n",
      "Validation Loss: 0.7046, Accuracy: 0.5190, F1 Score: 0.6833, Precision: 0.5190, Recall: 1.0000, ROC AUC: 0.4807\n",
      "Epoch [7/50], Loss: 0.4895\n",
      "Validation Loss: 0.7177, Accuracy: 0.4810, F1 Score: 0.0000, Precision: 0.0000, Recall: 0.0000, ROC AUC: 0.4933\n"
     ]
    },
    {
     "name": "stderr",
     "output_type": "stream",
     "text": [
      "/home/sadat/miniconda3/envs/cs721/lib/python3.8/site-packages/sklearn/metrics/_classification.py:1471: UndefinedMetricWarning: Precision is ill-defined and being set to 0.0 due to no predicted samples. Use `zero_division` parameter to control this behavior.\n",
      "  _warn_prf(average, modifier, msg_start, len(result))\n"
     ]
    },
    {
     "name": "stdout",
     "output_type": "stream",
     "text": [
      "Epoch [8/50], Loss: 0.4887\n",
      "Validation Loss: 0.7048, Accuracy: 0.5190, F1 Score: 0.6833, Precision: 0.5190, Recall: 1.0000, ROC AUC: 0.5513\n",
      "Epoch [9/50], Loss: 0.4882\n",
      "Validation Loss: 0.7063, Accuracy: 0.4810, F1 Score: 0.0000, Precision: 0.0000, Recall: 0.0000, ROC AUC: 0.5526\n"
     ]
    },
    {
     "name": "stderr",
     "output_type": "stream",
     "text": [
      "/home/sadat/miniconda3/envs/cs721/lib/python3.8/site-packages/sklearn/metrics/_classification.py:1471: UndefinedMetricWarning: Precision is ill-defined and being set to 0.0 due to no predicted samples. Use `zero_division` parameter to control this behavior.\n",
      "  _warn_prf(average, modifier, msg_start, len(result))\n"
     ]
    },
    {
     "name": "stdout",
     "output_type": "stream",
     "text": [
      "Epoch [10/50], Loss: 0.4871\n",
      "Validation Loss: 0.6950, Accuracy: 0.5190, F1 Score: 0.6833, Precision: 0.5190, Recall: 1.0000, ROC AUC: 0.5074\n",
      "Epoch [11/50], Loss: 0.4859\n",
      "Validation Loss: 0.7016, Accuracy: 0.4810, F1 Score: 0.0000, Precision: 0.0000, Recall: 0.0000, ROC AUC: 0.5026\n",
      "Early stopping triggered.\n",
      "Fold 5\n"
     ]
    },
    {
     "name": "stderr",
     "output_type": "stream",
     "text": [
      "/home/sadat/miniconda3/envs/cs721/lib/python3.8/site-packages/sklearn/metrics/_classification.py:1471: UndefinedMetricWarning: Precision is ill-defined and being set to 0.0 due to no predicted samples. Use `zero_division` parameter to control this behavior.\n",
      "  _warn_prf(average, modifier, msg_start, len(result))\n"
     ]
    },
    {
     "name": "stdout",
     "output_type": "stream",
     "text": [
      "Epoch [1/50], Loss: 0.8044\n",
      "Validation Loss: 2.5047, Accuracy: 0.4810, F1 Score: 0.0465, Precision: 1.0000, Recall: 0.0238, ROC AUC: 0.4337\n",
      "Epoch [2/50], Loss: 0.6821\n",
      "Validation Loss: 4.1985, Accuracy: 0.5316, F1 Score: 0.6942, Precision: 0.5316, Recall: 1.0000, ROC AUC: 0.4723\n",
      "Epoch [3/50], Loss: 0.5981\n",
      "Validation Loss: 1.7139, Accuracy: 0.5063, F1 Score: 0.6355, Precision: 0.5231, Recall: 0.8095, ROC AUC: 0.4942\n",
      "Epoch [4/50], Loss: 0.5428\n",
      "Validation Loss: 0.8300, Accuracy: 0.4684, F1 Score: 0.0000, Precision: 0.0000, Recall: 0.0000, ROC AUC: 0.3681\n"
     ]
    },
    {
     "name": "stderr",
     "output_type": "stream",
     "text": [
      "/home/sadat/miniconda3/envs/cs721/lib/python3.8/site-packages/sklearn/metrics/_classification.py:1471: UndefinedMetricWarning: Precision is ill-defined and being set to 0.0 due to no predicted samples. Use `zero_division` parameter to control this behavior.\n",
      "  _warn_prf(average, modifier, msg_start, len(result))\n"
     ]
    },
    {
     "name": "stdout",
     "output_type": "stream",
     "text": [
      "Epoch [5/50], Loss: 0.5134\n",
      "Validation Loss: 0.7838, Accuracy: 0.4684, F1 Score: 0.0000, Precision: 0.0000, Recall: 0.0000, ROC AUC: 0.3932\n"
     ]
    },
    {
     "name": "stderr",
     "output_type": "stream",
     "text": [
      "/home/sadat/miniconda3/envs/cs721/lib/python3.8/site-packages/sklearn/metrics/_classification.py:1471: UndefinedMetricWarning: Precision is ill-defined and being set to 0.0 due to no predicted samples. Use `zero_division` parameter to control this behavior.\n",
      "  _warn_prf(average, modifier, msg_start, len(result))\n"
     ]
    },
    {
     "name": "stdout",
     "output_type": "stream",
     "text": [
      "Epoch [6/50], Loss: 0.5087\n",
      "Validation Loss: 0.7510, Accuracy: 0.4684, F1 Score: 0.0000, Precision: 0.0000, Recall: 0.0000, ROC AUC: 0.4537\n"
     ]
    },
    {
     "name": "stderr",
     "output_type": "stream",
     "text": [
      "/home/sadat/miniconda3/envs/cs721/lib/python3.8/site-packages/sklearn/metrics/_classification.py:1471: UndefinedMetricWarning: Precision is ill-defined and being set to 0.0 due to no predicted samples. Use `zero_division` parameter to control this behavior.\n",
      "  _warn_prf(average, modifier, msg_start, len(result))\n"
     ]
    },
    {
     "name": "stdout",
     "output_type": "stream",
     "text": [
      "Epoch [7/50], Loss: 0.5005\n",
      "Validation Loss: 0.7374, Accuracy: 0.4684, F1 Score: 0.0455, Precision: 0.5000, Recall: 0.0238, ROC AUC: 0.6969\n",
      "Early stopping triggered.\n",
      "Average Validation Accuracy for alpha: 0.7, lr: 0.1, momentum: 0.9: 0.4787\n",
      "Training alpha: 0.9, learning_rate: 0.001, momentum: 0.5\n",
      "Fold 1\n",
      "Epoch [1/50], Loss: 0.7814\n",
      "Validation Loss: 2.4447, Accuracy: 0.4500, F1 Score: 0.5000, Precision: 0.4074, Recall: 0.6471, ROC AUC: 0.5064\n",
      "Epoch [2/50], Loss: 0.7769\n",
      "Validation Loss: 2.3622, Accuracy: 0.4250, F1 Score: 0.5577, Precision: 0.4143, Recall: 0.8529, ROC AUC: 0.5026\n",
      "Epoch [3/50], Loss: 0.7668\n",
      "Validation Loss: 2.2828, Accuracy: 0.4250, F1 Score: 0.5577, Precision: 0.4143, Recall: 0.8529, ROC AUC: 0.4834\n",
      "Epoch [4/50], Loss: 0.7591\n",
      "Validation Loss: 2.2162, Accuracy: 0.4125, F1 Score: 0.5347, Precision: 0.4030, Recall: 0.7941, ROC AUC: 0.4674\n",
      "Epoch [5/50], Loss: 0.7519\n",
      "Validation Loss: 2.1652, Accuracy: 0.3875, F1 Score: 0.5149, Precision: 0.3881, Recall: 0.7647, ROC AUC: 0.4508\n",
      "Epoch [6/50], Loss: 0.7464\n",
      "Validation Loss: 2.1201, Accuracy: 0.3875, F1 Score: 0.5149, Precision: 0.3881, Recall: 0.7647, ROC AUC: 0.4329\n",
      "Early stopping triggered.\n",
      "Fold 2\n",
      "Epoch [1/50], Loss: 0.7773\n",
      "Validation Loss: 2.1783, Accuracy: 0.4000, F1 Score: 0.4545, Precision: 0.4082, Recall: 0.5128, ROC AUC: 0.4834\n",
      "Epoch [2/50], Loss: 0.7660\n",
      "Validation Loss: 2.1132, Accuracy: 0.4625, F1 Score: 0.4416, Precision: 0.4474, Recall: 0.4359, ROC AUC: 0.4690\n",
      "Epoch [3/50], Loss: 0.7572\n",
      "Validation Loss: 2.0647, Accuracy: 0.4375, F1 Score: 0.4000, Precision: 0.4167, Recall: 0.3846, ROC AUC: 0.4484\n",
      "Epoch [4/50], Loss: 0.7510\n",
      "Validation Loss: 2.0185, Accuracy: 0.4375, F1 Score: 0.3662, Precision: 0.4062, Recall: 0.3333, ROC AUC: 0.4465\n",
      "Epoch [5/50], Loss: 0.7450\n",
      "Validation Loss: 1.9763, Accuracy: 0.4375, F1 Score: 0.3662, Precision: 0.4062, Recall: 0.3333, ROC AUC: 0.4309\n",
      "Epoch [6/50], Loss: 0.7376\n",
      "Validation Loss: 1.9316, Accuracy: 0.4625, F1 Score: 0.3944, Precision: 0.4375, Recall: 0.3590, ROC AUC: 0.4259\n",
      "Epoch [7/50], Loss: 0.7291\n",
      "Validation Loss: 1.8925, Accuracy: 0.4750, F1 Score: 0.3824, Precision: 0.4483, Recall: 0.3333, ROC AUC: 0.4234\n",
      "Epoch [8/50], Loss: 0.7218\n",
      "Validation Loss: 1.8687, Accuracy: 0.4375, F1 Score: 0.3836, Precision: 0.4118, Recall: 0.3590, ROC AUC: 0.4246\n",
      "Epoch [9/50], Loss: 0.7188\n",
      "Validation Loss: 1.8370, Accuracy: 0.4250, F1 Score: 0.3947, Precision: 0.4054, Recall: 0.3846, ROC AUC: 0.4346\n",
      "Epoch [10/50], Loss: 0.7144\n",
      "Validation Loss: 1.7993, Accuracy: 0.4125, F1 Score: 0.3733, Precision: 0.3889, Recall: 0.3590, ROC AUC: 0.4290\n",
      "Epoch [11/50], Loss: 0.7090\n",
      "Validation Loss: 1.7579, Accuracy: 0.4750, F1 Score: 0.4167, Precision: 0.4545, Recall: 0.3846, ROC AUC: 0.4259\n",
      "Epoch [12/50], Loss: 0.7011\n",
      "Validation Loss: 1.7286, Accuracy: 0.4750, F1 Score: 0.4000, Precision: 0.4516, Recall: 0.3590, ROC AUC: 0.4234\n",
      "Early stopping triggered.\n",
      "Fold 3\n",
      "Epoch [1/50], Loss: 0.7825\n",
      "Validation Loss: 2.3023, Accuracy: 0.4937, F1 Score: 0.2593, Precision: 0.5833, Recall: 0.1667, ROC AUC: 0.5071\n",
      "Epoch [2/50], Loss: 0.7700\n",
      "Validation Loss: 2.2238, Accuracy: 0.5063, F1 Score: 0.4179, Precision: 0.5600, Recall: 0.3333, ROC AUC: 0.4936\n",
      "Epoch [3/50], Loss: 0.7622\n",
      "Validation Loss: 2.2001, Accuracy: 0.4810, F1 Score: 0.3692, Precision: 0.5217, Recall: 0.2857, ROC AUC: 0.4903\n",
      "Epoch [4/50], Loss: 0.7573\n",
      "Validation Loss: 2.1311, Accuracy: 0.5063, F1 Score: 0.4179, Precision: 0.5600, Recall: 0.3333, ROC AUC: 0.4794\n",
      "Epoch [5/50], Loss: 0.7502\n",
      "Validation Loss: 2.0984, Accuracy: 0.5063, F1 Score: 0.4658, Precision: 0.5484, Recall: 0.4048, ROC AUC: 0.4601\n",
      "Epoch [6/50], Loss: 0.7426\n",
      "Validation Loss: 2.0405, Accuracy: 0.5190, F1 Score: 0.4242, Precision: 0.5833, Recall: 0.3333, ROC AUC: 0.4646\n",
      "Epoch [7/50], Loss: 0.7380\n",
      "Validation Loss: 2.0099, Accuracy: 0.5190, F1 Score: 0.4412, Precision: 0.5769, Recall: 0.3571, ROC AUC: 0.4582\n",
      "Epoch [8/50], Loss: 0.7300\n",
      "Validation Loss: 1.9765, Accuracy: 0.5190, F1 Score: 0.4063, Precision: 0.5909, Recall: 0.3095, ROC AUC: 0.4575\n",
      "Epoch [9/50], Loss: 0.7244\n",
      "Validation Loss: 1.9418, Accuracy: 0.4810, F1 Score: 0.4384, Precision: 0.5161, Recall: 0.3810, ROC AUC: 0.4485\n",
      "Epoch [10/50], Loss: 0.7190\n",
      "Validation Loss: 1.9112, Accuracy: 0.4810, F1 Score: 0.3881, Precision: 0.5200, Recall: 0.3095, ROC AUC: 0.4498\n",
      "Epoch [11/50], Loss: 0.7159\n",
      "Validation Loss: 1.8845, Accuracy: 0.4810, F1 Score: 0.4384, Precision: 0.5161, Recall: 0.3810, ROC AUC: 0.4485\n",
      "Early stopping triggered.\n",
      "Fold 4\n",
      "Epoch [1/50], Loss: 0.7783\n",
      "Validation Loss: 2.1624, Accuracy: 0.4430, F1 Score: 0.5600, Precision: 0.4746, Recall: 0.6829, ROC AUC: 0.4602\n",
      "Epoch [2/50], Loss: 0.7649\n",
      "Validation Loss: 2.1191, Accuracy: 0.4177, F1 Score: 0.4773, Precision: 0.4468, Recall: 0.5122, ROC AUC: 0.4313\n",
      "Epoch [3/50], Loss: 0.7597\n",
      "Validation Loss: 2.0744, Accuracy: 0.4051, F1 Score: 0.4337, Precision: 0.4286, Recall: 0.4390, ROC AUC: 0.4191\n",
      "Epoch [4/50], Loss: 0.7524\n",
      "Validation Loss: 2.0446, Accuracy: 0.4430, F1 Score: 0.4500, Precision: 0.4615, Recall: 0.4390, ROC AUC: 0.4166\n",
      "Epoch [5/50], Loss: 0.7454\n",
      "Validation Loss: 1.9976, Accuracy: 0.4304, F1 Score: 0.4304, Precision: 0.4474, Recall: 0.4146, ROC AUC: 0.4082\n",
      "Epoch [6/50], Loss: 0.7393\n",
      "Validation Loss: 1.9639, Accuracy: 0.4430, F1 Score: 0.4211, Precision: 0.4571, Recall: 0.3902, ROC AUC: 0.4050\n",
      "Early stopping triggered.\n",
      "Fold 5\n",
      "Epoch [1/50], Loss: 0.7736\n",
      "Validation Loss: 2.1931, Accuracy: 0.5570, F1 Score: 0.5977, Precision: 0.5778, Recall: 0.6190, ROC AUC: 0.5399\n",
      "Epoch [2/50], Loss: 0.7687\n",
      "Validation Loss: 2.1374, Accuracy: 0.5190, F1 Score: 0.5366, Precision: 0.5500, Recall: 0.5238, ROC AUC: 0.5193\n",
      "Epoch [3/50], Loss: 0.7585\n",
      "Validation Loss: 2.0632, Accuracy: 0.5443, F1 Score: 0.5714, Precision: 0.5714, Recall: 0.5714, ROC AUC: 0.5199\n",
      "Epoch [4/50], Loss: 0.7480\n",
      "Validation Loss: 2.0133, Accuracy: 0.5063, F1 Score: 0.5185, Precision: 0.5385, Recall: 0.5000, ROC AUC: 0.5026\n",
      "Epoch [5/50], Loss: 0.7431\n",
      "Validation Loss: 1.9827, Accuracy: 0.4430, F1 Score: 0.4211, Precision: 0.4706, Recall: 0.3810, ROC AUC: 0.4981\n",
      "Epoch [6/50], Loss: 0.7350\n",
      "Validation Loss: 1.9378, Accuracy: 0.4937, F1 Score: 0.4872, Precision: 0.5278, Recall: 0.4524, ROC AUC: 0.4884\n",
      "Early stopping triggered.\n",
      "Average Validation Accuracy for alpha: 0.9, lr: 0.001, momentum: 0.5: 0.4560\n",
      "Training alpha: 0.9, learning_rate: 0.001, momentum: 0.8\n",
      "Fold 1\n",
      "Epoch [1/50], Loss: 0.7737\n",
      "Validation Loss: 2.2877, Accuracy: 0.5125, F1 Score: 0.5806, Precision: 0.4576, Recall: 0.7941, ROC AUC: 0.5269\n",
      "Epoch [2/50], Loss: 0.7598\n",
      "Validation Loss: 2.1095, Accuracy: 0.4625, F1 Score: 0.4267, Precision: 0.3902, Recall: 0.4706, ROC AUC: 0.4693\n",
      "Epoch [3/50], Loss: 0.7427\n",
      "Validation Loss: 1.9993, Accuracy: 0.4875, F1 Score: 0.5591, Precision: 0.4407, Recall: 0.7647, ROC AUC: 0.4501\n",
      "Epoch [4/50], Loss: 0.7256\n",
      "Validation Loss: 1.8895, Accuracy: 0.4250, F1 Score: 0.4390, Precision: 0.3750, Recall: 0.5294, ROC AUC: 0.4098\n",
      "Epoch [5/50], Loss: 0.7113\n",
      "Validation Loss: 1.8186, Accuracy: 0.4125, F1 Score: 0.5053, Precision: 0.3934, Recall: 0.7059, ROC AUC: 0.3958\n",
      "Epoch [6/50], Loss: 0.6978\n",
      "Validation Loss: 1.7431, Accuracy: 0.4250, F1 Score: 0.5400, Precision: 0.4091, Recall: 0.7941, ROC AUC: 0.3824\n",
      "Early stopping triggered.\n",
      "Fold 2\n",
      "Epoch [1/50], Loss: 0.7664\n",
      "Validation Loss: 2.1164, Accuracy: 0.4875, F1 Score: 0.5591, Precision: 0.4815, Recall: 0.6667, ROC AUC: 0.5210\n",
      "Epoch [2/50], Loss: 0.7510\n",
      "Validation Loss: 2.0058, Accuracy: 0.4500, F1 Score: 0.5000, Precision: 0.4490, Recall: 0.5641, ROC AUC: 0.4947\n",
      "Epoch [3/50], Loss: 0.7344\n",
      "Validation Loss: 1.9068, Accuracy: 0.4125, F1 Score: 0.4719, Precision: 0.4200, Recall: 0.5385, ROC AUC: 0.4947\n",
      "Epoch [4/50], Loss: 0.7202\n",
      "Validation Loss: 1.8335, Accuracy: 0.5000, F1 Score: 0.4737, Precision: 0.4865, Recall: 0.4615, ROC AUC: 0.5003\n",
      "Epoch [5/50], Loss: 0.7079\n",
      "Validation Loss: 1.7648, Accuracy: 0.4250, F1 Score: 0.4651, Precision: 0.4255, Recall: 0.5128, ROC AUC: 0.4916\n",
      "Epoch [6/50], Loss: 0.6928\n",
      "Validation Loss: 1.7046, Accuracy: 0.4250, F1 Score: 0.4250, Precision: 0.4146, Recall: 0.4359, ROC AUC: 0.4797\n",
      "Epoch [7/50], Loss: 0.6810\n",
      "Validation Loss: 1.6593, Accuracy: 0.4750, F1 Score: 0.3824, Precision: 0.4483, Recall: 0.3333, ROC AUC: 0.4578\n",
      "Epoch [8/50], Loss: 0.6698\n",
      "Validation Loss: 1.6165, Accuracy: 0.4500, F1 Score: 0.4634, Precision: 0.4419, Recall: 0.4872, ROC AUC: 0.4590\n",
      "Epoch [9/50], Loss: 0.6573\n",
      "Validation Loss: 1.5781, Accuracy: 0.4625, F1 Score: 0.4941, Precision: 0.4565, Recall: 0.5385, ROC AUC: 0.4503\n",
      "Early stopping triggered.\n",
      "Fold 3\n",
      "Epoch [1/50], Loss: 0.7851\n",
      "Validation Loss: 2.1522, Accuracy: 0.5063, F1 Score: 0.4800, Precision: 0.5455, Recall: 0.4286, ROC AUC: 0.4884\n",
      "Epoch [2/50], Loss: 0.7612\n",
      "Validation Loss: 2.0382, Accuracy: 0.4810, F1 Score: 0.2807, Precision: 0.5333, Recall: 0.1905, ROC AUC: 0.4755\n",
      "Epoch [3/50], Loss: 0.7468\n",
      "Validation Loss: 1.9276, Accuracy: 0.4430, F1 Score: 0.2903, Precision: 0.4500, Recall: 0.2143, ROC AUC: 0.4646\n",
      "Epoch [4/50], Loss: 0.7285\n",
      "Validation Loss: 1.8457, Accuracy: 0.4177, F1 Score: 0.3235, Precision: 0.4231, Recall: 0.2619, ROC AUC: 0.4530\n",
      "Epoch [5/50], Loss: 0.7143\n",
      "Validation Loss: 1.7591, Accuracy: 0.4304, F1 Score: 0.3478, Precision: 0.4444, Recall: 0.2857, ROC AUC: 0.4344\n",
      "Epoch [6/50], Loss: 0.7000\n",
      "Validation Loss: 1.6913, Accuracy: 0.3544, F1 Score: 0.1356, Precision: 0.2353, Recall: 0.0952, ROC AUC: 0.4208\n",
      "Early stopping triggered.\n",
      "Fold 4\n",
      "Epoch [1/50], Loss: 0.7766\n",
      "Validation Loss: 2.1745, Accuracy: 0.4177, F1 Score: 0.5000, Precision: 0.4510, Recall: 0.5610, ROC AUC: 0.4371\n",
      "Epoch [2/50], Loss: 0.7558\n",
      "Validation Loss: 2.0772, Accuracy: 0.4684, F1 Score: 0.3636, Precision: 0.4800, Recall: 0.2927, ROC AUC: 0.4191\n",
      "Epoch [3/50], Loss: 0.7416\n",
      "Validation Loss: 1.9828, Accuracy: 0.3924, F1 Score: 0.3143, Precision: 0.3793, Recall: 0.2683, ROC AUC: 0.4140\n",
      "Epoch [4/50], Loss: 0.7268\n",
      "Validation Loss: 1.9008, Accuracy: 0.4051, F1 Score: 0.4471, Precision: 0.4318, Recall: 0.4634, ROC AUC: 0.4063\n",
      "Epoch [5/50], Loss: 0.7088\n",
      "Validation Loss: 1.8150, Accuracy: 0.4051, F1 Score: 0.3896, Precision: 0.4167, Recall: 0.3659, ROC AUC: 0.4095\n",
      "Epoch [6/50], Loss: 0.6956\n",
      "Validation Loss: 1.7690, Accuracy: 0.4430, F1 Score: 0.3714, Precision: 0.4483, Recall: 0.3171, ROC AUC: 0.3986\n",
      "Epoch [7/50], Loss: 0.6859\n",
      "Validation Loss: 1.7326, Accuracy: 0.4177, F1 Score: 0.3784, Precision: 0.4242, Recall: 0.3415, ROC AUC: 0.3954\n",
      "Early stopping triggered.\n",
      "Fold 5\n",
      "Epoch [1/50], Loss: 0.7851\n",
      "Validation Loss: 2.1851, Accuracy: 0.4177, F1 Score: 0.5400, Precision: 0.4655, Recall: 0.6429, ROC AUC: 0.4144\n",
      "Epoch [2/50], Loss: 0.7682\n",
      "Validation Loss: 2.0855, Accuracy: 0.4557, F1 Score: 0.1887, Precision: 0.4545, Recall: 0.1190, ROC AUC: 0.4073\n",
      "Epoch [3/50], Loss: 0.7468\n",
      "Validation Loss: 1.9480, Accuracy: 0.3924, F1 Score: 0.3684, Precision: 0.4118, Recall: 0.3333, ROC AUC: 0.3887\n",
      "Epoch [4/50], Loss: 0.7298\n",
      "Validation Loss: 1.8558, Accuracy: 0.3924, F1 Score: 0.3846, Precision: 0.4167, Recall: 0.3571, ROC AUC: 0.3739\n",
      "Epoch [5/50], Loss: 0.7145\n",
      "Validation Loss: 1.7780, Accuracy: 0.4304, F1 Score: 0.3284, Precision: 0.4400, Recall: 0.2619, ROC AUC: 0.3610\n",
      "Epoch [6/50], Loss: 0.7029\n",
      "Validation Loss: 1.7117, Accuracy: 0.3671, F1 Score: 0.3902, Precision: 0.4000, Recall: 0.3810, ROC AUC: 0.3366\n",
      "Epoch [7/50], Loss: 0.6901\n",
      "Validation Loss: 1.6663, Accuracy: 0.4051, F1 Score: 0.2769, Precision: 0.3913, Recall: 0.2143, ROC AUC: 0.3198\n",
      "Early stopping triggered.\n",
      "Average Validation Accuracy for alpha: 0.9, lr: 0.001, momentum: 0.8: 0.4129\n",
      "Training alpha: 0.9, learning_rate: 0.001, momentum: 0.9\n",
      "Fold 1\n",
      "Epoch [1/50], Loss: 0.7742\n",
      "Validation Loss: 2.2226, Accuracy: 0.4500, F1 Score: 0.3714, Precision: 0.3611, Recall: 0.3824, ROC AUC: 0.4035\n",
      "Epoch [2/50], Loss: 0.7498\n",
      "Validation Loss: 2.0092, Accuracy: 0.4125, F1 Score: 0.5841, Precision: 0.4177, Recall: 0.9706, ROC AUC: 0.3670\n",
      "Epoch [3/50], Loss: 0.7246\n",
      "Validation Loss: 1.8336, Accuracy: 0.3500, F1 Score: 0.4348, Precision: 0.3448, Recall: 0.5882, ROC AUC: 0.3318\n",
      "Epoch [4/50], Loss: 0.6995\n",
      "Validation Loss: 1.6982, Accuracy: 0.3625, F1 Score: 0.4000, Precision: 0.3333, Recall: 0.5000, ROC AUC: 0.3197\n",
      "Epoch [5/50], Loss: 0.6791\n",
      "Validation Loss: 1.6134, Accuracy: 0.4125, F1 Score: 0.2985, Precision: 0.3030, Recall: 0.2941, ROC AUC: 0.3191\n",
      "Epoch [6/50], Loss: 0.6584\n",
      "Validation Loss: 1.5552, Accuracy: 0.3500, F1 Score: 0.4800, Precision: 0.3636, Recall: 0.7059, ROC AUC: 0.2775\n",
      "Early stopping triggered.\n",
      "Fold 2\n",
      "Epoch [1/50], Loss: 0.7797\n",
      "Validation Loss: 2.1935, Accuracy: 0.4375, F1 Score: 0.4304, Precision: 0.4250, Recall: 0.4359, ROC AUC: 0.4246\n",
      "Epoch [2/50], Loss: 0.7564\n",
      "Validation Loss: 1.9860, Accuracy: 0.4500, F1 Score: 0.5111, Precision: 0.4510, Recall: 0.5897, ROC AUC: 0.4165\n",
      "Epoch [3/50], Loss: 0.7279\n",
      "Validation Loss: 1.7978, Accuracy: 0.4500, F1 Score: 0.5111, Precision: 0.4510, Recall: 0.5897, ROC AUC: 0.4071\n",
      "Epoch [4/50], Loss: 0.7026\n",
      "Validation Loss: 1.6657, Accuracy: 0.4500, F1 Score: 0.3125, Precision: 0.4000, Recall: 0.2564, ROC AUC: 0.3821\n",
      "Epoch [5/50], Loss: 0.6781\n",
      "Validation Loss: 1.5687, Accuracy: 0.4250, F1 Score: 0.3611, Precision: 0.3939, Recall: 0.3333, ROC AUC: 0.3646\n",
      "Epoch [6/50], Loss: 0.6609\n",
      "Validation Loss: 1.4919, Accuracy: 0.4000, F1 Score: 0.3684, Precision: 0.3784, Recall: 0.3590, ROC AUC: 0.3565\n",
      "Epoch [7/50], Loss: 0.6436\n",
      "Validation Loss: 1.4450, Accuracy: 0.4000, F1 Score: 0.5000, Precision: 0.4211, Recall: 0.6154, ROC AUC: 0.3640\n",
      "Early stopping triggered.\n",
      "Fold 3\n",
      "Epoch [1/50], Loss: 0.7725\n",
      "Validation Loss: 2.1519, Accuracy: 0.4684, F1 Score: 0.4474, Precision: 0.5000, Recall: 0.4048, ROC AUC: 0.4517\n",
      "Epoch [2/50], Loss: 0.7485\n",
      "Validation Loss: 1.9658, Accuracy: 0.4557, F1 Score: 0.2712, Precision: 0.4706, Recall: 0.1905, ROC AUC: 0.4260\n",
      "Epoch [3/50], Loss: 0.7207\n",
      "Validation Loss: 1.7863, Accuracy: 0.4304, F1 Score: 0.3836, Precision: 0.4516, Recall: 0.3333, ROC AUC: 0.3810\n",
      "Epoch [4/50], Loss: 0.6935\n",
      "Validation Loss: 1.6780, Accuracy: 0.4304, F1 Score: 0.4578, Precision: 0.4634, Recall: 0.4524, ROC AUC: 0.3327\n",
      "Epoch [5/50], Loss: 0.6755\n",
      "Validation Loss: 1.6120, Accuracy: 0.3671, F1 Score: 0.2857, Precision: 0.3571, Recall: 0.2381, ROC AUC: 0.3185\n",
      "Epoch [6/50], Loss: 0.6549\n",
      "Validation Loss: 1.5475, Accuracy: 0.3924, F1 Score: 0.4146, Precision: 0.4250, Recall: 0.4048, ROC AUC: 0.3082\n",
      "Early stopping triggered.\n",
      "Fold 4\n",
      "Epoch [1/50], Loss: 0.7698\n",
      "Validation Loss: 2.2244, Accuracy: 0.5190, F1 Score: 0.4062, Precision: 0.5652, Recall: 0.3171, ROC AUC: 0.4994\n",
      "Epoch [2/50], Loss: 0.7490\n",
      "Validation Loss: 2.0329, Accuracy: 0.4684, F1 Score: 0.4000, Precision: 0.4828, Recall: 0.3415, ROC AUC: 0.4756\n",
      "Epoch [3/50], Loss: 0.7209\n",
      "Validation Loss: 1.8790, Accuracy: 0.4684, F1 Score: 0.5000, Precision: 0.4884, Recall: 0.5122, ROC AUC: 0.4223\n",
      "Epoch [4/50], Loss: 0.7001\n",
      "Validation Loss: 1.7813, Accuracy: 0.4684, F1 Score: 0.1250, Precision: 0.4286, Recall: 0.0732, ROC AUC: 0.4012\n",
      "Epoch [5/50], Loss: 0.6724\n",
      "Validation Loss: 1.6663, Accuracy: 0.3797, F1 Score: 0.4842, Precision: 0.4259, Recall: 0.5610, ROC AUC: 0.3537\n",
      "Epoch [6/50], Loss: 0.6577\n",
      "Validation Loss: 1.6103, Accuracy: 0.3671, F1 Score: 0.4186, Precision: 0.4000, Recall: 0.4390, ROC AUC: 0.3498\n",
      "Early stopping triggered.\n",
      "Fold 5\n",
      "Epoch [1/50], Loss: 0.7753\n",
      "Validation Loss: 2.2673, Accuracy: 0.5316, F1 Score: 0.5316, Precision: 0.5676, Recall: 0.5000, ROC AUC: 0.5225\n",
      "Epoch [2/50], Loss: 0.7533\n",
      "Validation Loss: 2.0799, Accuracy: 0.4810, F1 Score: 0.4938, Precision: 0.5128, Recall: 0.4762, ROC AUC: 0.4949\n",
      "Epoch [3/50], Loss: 0.7204\n",
      "Validation Loss: 1.9421, Accuracy: 0.4937, F1 Score: 0.1304, Precision: 0.7500, Recall: 0.0714, ROC AUC: 0.4427\n",
      "Epoch [4/50], Loss: 0.6941\n",
      "Validation Loss: 1.8330, Accuracy: 0.3797, F1 Score: 0.2462, Precision: 0.3478, Recall: 0.1905, ROC AUC: 0.4093\n",
      "Epoch [5/50], Loss: 0.6697\n",
      "Validation Loss: 1.7395, Accuracy: 0.4304, F1 Score: 0.3478, Precision: 0.4444, Recall: 0.2857, ROC AUC: 0.3867\n",
      "Epoch [6/50], Loss: 0.6515\n",
      "Validation Loss: 1.7115, Accuracy: 0.4304, F1 Score: 0.1818, Precision: 0.3846, Recall: 0.1190, ROC AUC: 0.3591\n",
      "Early stopping triggered.\n",
      "Average Validation Accuracy for alpha: 0.9, lr: 0.001, momentum: 0.9: 0.3880\n",
      "Training alpha: 0.9, learning_rate: 0.01, momentum: 0.5\n",
      "Fold 1\n",
      "Epoch [1/50], Loss: 0.7593\n",
      "Validation Loss: 1.8518, Accuracy: 0.3875, F1 Score: 0.4235, Precision: 0.3529, Recall: 0.5294, ROC AUC: 0.4367\n",
      "Epoch [2/50], Loss: 0.7040\n",
      "Validation Loss: 1.6175, Accuracy: 0.4125, F1 Score: 0.5841, Precision: 0.4177, Recall: 0.9706, ROC AUC: 0.4073\n",
      "Epoch [3/50], Loss: 0.6708\n",
      "Validation Loss: 1.4918, Accuracy: 0.3500, F1 Score: 0.4468, Precision: 0.3500, Recall: 0.6176, ROC AUC: 0.3721\n",
      "Epoch [4/50], Loss: 0.6344\n",
      "Validation Loss: 1.4372, Accuracy: 0.4375, F1 Score: 0.4000, Precision: 0.3659, Recall: 0.4412, ROC AUC: 0.3862\n",
      "Epoch [5/50], Loss: 0.5909\n",
      "Validation Loss: 1.5195, Accuracy: 0.5250, F1 Score: 0.0500, Precision: 0.1667, Recall: 0.0294, ROC AUC: 0.3510\n",
      "Epoch [6/50], Loss: 0.5435\n",
      "Validation Loss: 1.3688, Accuracy: 0.4125, F1 Score: 0.4471, Precision: 0.3725, Recall: 0.5588, ROC AUC: 0.4239\n",
      "Epoch [7/50], Loss: 0.4560\n",
      "Validation Loss: 1.5500, Accuracy: 0.5375, F1 Score: 0.3509, Precision: 0.4348, Recall: 0.2941, ROC AUC: 0.4405\n",
      "Epoch [8/50], Loss: 0.3539\n",
      "Validation Loss: 1.4924, Accuracy: 0.4625, F1 Score: 0.4819, Precision: 0.4082, Recall: 0.5882, ROC AUC: 0.5077\n",
      "Epoch [9/50], Loss: 0.2419\n",
      "Validation Loss: 1.6117, Accuracy: 0.5875, F1 Score: 0.5714, Precision: 0.5116, Recall: 0.6471, ROC AUC: 0.6113\n",
      "Epoch [10/50], Loss: 0.1583\n",
      "Validation Loss: 1.6774, Accuracy: 0.6125, F1 Score: 0.4746, Precision: 0.5600, Recall: 0.4118, ROC AUC: 0.6055\n",
      "Epoch [11/50], Loss: 0.1021\n",
      "Validation Loss: 1.6687, Accuracy: 0.6375, F1 Score: 0.5672, Precision: 0.5758, Recall: 0.5588, ROC AUC: 0.6586\n",
      "Epoch [12/50], Loss: 0.0578\n",
      "Validation Loss: 1.8629, Accuracy: 0.6125, F1 Score: 0.5867, Precision: 0.5366, Recall: 0.6471, ROC AUC: 0.6272\n",
      "Epoch [13/50], Loss: 0.0454\n",
      "Validation Loss: 1.7712, Accuracy: 0.7000, F1 Score: 0.7073, Precision: 0.6042, Recall: 0.8529, ROC AUC: 0.7078\n",
      "Epoch [14/50], Loss: 0.0400\n",
      "Validation Loss: 1.7672, Accuracy: 0.6875, F1 Score: 0.6753, Precision: 0.6047, Recall: 0.7647, ROC AUC: 0.7168\n",
      "Epoch [15/50], Loss: 0.0316\n",
      "Validation Loss: 2.3348, Accuracy: 0.6625, F1 Score: 0.5714, Precision: 0.6207, Recall: 0.5294, ROC AUC: 0.6451\n",
      "Epoch [16/50], Loss: 0.0211\n",
      "Validation Loss: 1.9000, Accuracy: 0.7500, F1 Score: 0.7222, Precision: 0.6842, Recall: 0.7647, ROC AUC: 0.7410\n",
      "Epoch [17/50], Loss: 0.0151\n",
      "Validation Loss: 1.8742, Accuracy: 0.7500, F1 Score: 0.7297, Precision: 0.6750, Recall: 0.7941, ROC AUC: 0.7596\n",
      "Epoch [18/50], Loss: 0.0379\n",
      "Validation Loss: 1.9960, Accuracy: 0.7125, F1 Score: 0.6667, Precision: 0.6571, Recall: 0.6765, ROC AUC: 0.7756\n",
      "Epoch [19/50], Loss: 0.0459\n",
      "Validation Loss: 1.9603, Accuracy: 0.6375, F1 Score: 0.6234, Precision: 0.5581, Recall: 0.7059, ROC AUC: 0.7212\n",
      "Epoch [20/50], Loss: 0.0430\n",
      "Validation Loss: 1.8442, Accuracy: 0.7000, F1 Score: 0.6842, Precision: 0.6190, Recall: 0.7647, ROC AUC: 0.7737\n",
      "Epoch [21/50], Loss: 0.0212\n",
      "Validation Loss: 2.0345, Accuracy: 0.7250, F1 Score: 0.6944, Precision: 0.6579, Recall: 0.7353, ROC AUC: 0.7711\n",
      "Early stopping triggered.\n",
      "Fold 2\n",
      "Epoch [1/50], Loss: 0.7704\n",
      "Validation Loss: 1.8336, Accuracy: 0.4875, F1 Score: 0.6555, Precision: 0.4875, Recall: 1.0000, ROC AUC: 0.4115\n",
      "Epoch [2/50], Loss: 0.7125\n",
      "Validation Loss: 1.6280, Accuracy: 0.3750, F1 Score: 0.4318, Precision: 0.3878, Recall: 0.4872, ROC AUC: 0.3396\n",
      "Epoch [3/50], Loss: 0.6740\n",
      "Validation Loss: 1.5011, Accuracy: 0.3875, F1 Score: 0.4948, Precision: 0.4138, Recall: 0.6154, ROC AUC: 0.3208\n",
      "Epoch [4/50], Loss: 0.6257\n",
      "Validation Loss: 1.4476, Accuracy: 0.4250, F1 Score: 0.2069, Precision: 0.3158, Recall: 0.1538, ROC AUC: 0.3408\n",
      "Epoch [5/50], Loss: 0.5806\n",
      "Validation Loss: 1.4202, Accuracy: 0.4125, F1 Score: 0.4719, Precision: 0.4200, Recall: 0.5385, ROC AUC: 0.3446\n",
      "Epoch [6/50], Loss: 0.5105\n",
      "Validation Loss: 1.4395, Accuracy: 0.4250, F1 Score: 0.1481, Precision: 0.2667, Recall: 0.1026, ROC AUC: 0.4071\n",
      "Early stopping triggered.\n",
      "Fold 3\n",
      "Epoch [1/50], Loss: 0.7678\n",
      "Validation Loss: 1.8552, Accuracy: 0.4051, F1 Score: 0.4719, Precision: 0.4468, Recall: 0.5000, ROC AUC: 0.3932\n",
      "Epoch [2/50], Loss: 0.7098\n",
      "Validation Loss: 1.5766, Accuracy: 0.3671, F1 Score: 0.3902, Precision: 0.4000, Recall: 0.3810, ROC AUC: 0.3417\n",
      "Epoch [3/50], Loss: 0.6682\n",
      "Validation Loss: 1.4253, Accuracy: 0.3544, F1 Score: 0.4138, Precision: 0.4000, Recall: 0.4286, ROC AUC: 0.3102\n",
      "Epoch [4/50], Loss: 0.6308\n",
      "Validation Loss: 1.3846, Accuracy: 0.3671, F1 Score: 0.3902, Precision: 0.4000, Recall: 0.3810, ROC AUC: 0.3082\n",
      "Epoch [5/50], Loss: 0.5899\n",
      "Validation Loss: 1.3573, Accuracy: 0.3291, F1 Score: 0.4301, Precision: 0.3922, Recall: 0.4762, ROC AUC: 0.3102\n",
      "Epoch [6/50], Loss: 0.5342\n",
      "Validation Loss: 1.4905, Accuracy: 0.4684, F1 Score: 0.0870, Precision: 0.5000, Recall: 0.0476, ROC AUC: 0.3359\n",
      "Epoch [7/50], Loss: 0.4413\n",
      "Validation Loss: 1.5481, Accuracy: 0.3418, F1 Score: 0.3333, Precision: 0.3611, Recall: 0.3095, ROC AUC: 0.3443\n",
      "Epoch [8/50], Loss: 0.3262\n",
      "Validation Loss: 1.5548, Accuracy: 0.3924, F1 Score: 0.3333, Precision: 0.4000, Recall: 0.2857, ROC AUC: 0.3771\n",
      "Epoch [9/50], Loss: 0.2507\n",
      "Validation Loss: 1.7635, Accuracy: 0.4810, F1 Score: 0.5773, Precision: 0.5091, Recall: 0.6667, ROC AUC: 0.4202\n",
      "Epoch [10/50], Loss: 0.1209\n",
      "Validation Loss: 1.9783, Accuracy: 0.5063, F1 Score: 0.5301, Precision: 0.5366, Recall: 0.5238, ROC AUC: 0.5238\n",
      "Epoch [11/50], Loss: 0.0930\n",
      "Validation Loss: 2.2063, Accuracy: 0.4557, F1 Score: 0.5275, Precision: 0.4898, Recall: 0.5714, ROC AUC: 0.5006\n",
      "Epoch [12/50], Loss: 0.0826\n",
      "Validation Loss: 1.9956, Accuracy: 0.5696, F1 Score: 0.6047, Precision: 0.5909, Recall: 0.6190, ROC AUC: 0.5682\n",
      "Epoch [13/50], Loss: 0.0420\n",
      "Validation Loss: 2.1405, Accuracy: 0.6076, F1 Score: 0.6517, Precision: 0.6170, Recall: 0.6905, ROC AUC: 0.5528\n",
      "Epoch [14/50], Loss: 0.0345\n",
      "Validation Loss: 2.2392, Accuracy: 0.5570, F1 Score: 0.5570, Precision: 0.5946, Recall: 0.5238, ROC AUC: 0.5901\n",
      "Epoch [15/50], Loss: 0.0202\n",
      "Validation Loss: 2.2864, Accuracy: 0.5949, F1 Score: 0.6444, Precision: 0.6042, Recall: 0.6905, ROC AUC: 0.5888\n",
      "Epoch [16/50], Loss: 0.0232\n",
      "Validation Loss: 2.2839, Accuracy: 0.5190, F1 Score: 0.5250, Precision: 0.5526, Recall: 0.5000, ROC AUC: 0.5785\n",
      "Epoch [17/50], Loss: 0.0297\n",
      "Validation Loss: 2.5780, Accuracy: 0.5570, F1 Score: 0.5679, Precision: 0.5897, Recall: 0.5476, ROC AUC: 0.5695\n",
      "Epoch [18/50], Loss: 0.0193\n",
      "Validation Loss: 2.6277, Accuracy: 0.5823, F1 Score: 0.6292, Precision: 0.5957, Recall: 0.6667, ROC AUC: 0.5862\n",
      "Early stopping triggered.\n",
      "Fold 4\n",
      "Epoch [1/50], Loss: 0.7745\n",
      "Validation Loss: 1.9820, Accuracy: 0.4810, F1 Score: 0.1633, Precision: 0.5000, Recall: 0.0976, ROC AUC: 0.3594\n",
      "Epoch [2/50], Loss: 0.7136\n",
      "Validation Loss: 1.7204, Accuracy: 0.4810, F1 Score: 0.0889, Precision: 0.5000, Recall: 0.0488, ROC AUC: 0.3350\n",
      "Epoch [3/50], Loss: 0.6764\n",
      "Validation Loss: 1.6057, Accuracy: 0.3924, F1 Score: 0.3684, Precision: 0.4000, Recall: 0.3415, ROC AUC: 0.3228\n",
      "Epoch [4/50], Loss: 0.6354\n",
      "Validation Loss: 1.6036, Accuracy: 0.5063, F1 Score: 0.0930, Precision: 1.0000, Recall: 0.0488, ROC AUC: 0.3081\n",
      "Epoch [5/50], Loss: 0.6004\n",
      "Validation Loss: 1.4906, Accuracy: 0.3924, F1 Score: 0.4894, Precision: 0.4340, Recall: 0.5610, ROC AUC: 0.3126\n",
      "Epoch [6/50], Loss: 0.5462\n",
      "Validation Loss: 1.5357, Accuracy: 0.3291, F1 Score: 0.4536, Precision: 0.3929, Recall: 0.5366, ROC AUC: 0.3177\n",
      "Epoch [7/50], Loss: 0.4926\n",
      "Validation Loss: 1.5402, Accuracy: 0.3544, F1 Score: 0.4742, Precision: 0.4107, Recall: 0.5610, ROC AUC: 0.3639\n",
      "Epoch [8/50], Loss: 0.3865\n",
      "Validation Loss: 1.7324, Accuracy: 0.4177, F1 Score: 0.4773, Precision: 0.4468, Recall: 0.5122, ROC AUC: 0.3902\n",
      "Epoch [9/50], Loss: 0.2993\n",
      "Validation Loss: 2.0965, Accuracy: 0.4810, F1 Score: 0.3492, Precision: 0.5000, Recall: 0.2683, ROC AUC: 0.4320\n",
      "Early stopping triggered.\n",
      "Fold 5\n",
      "Epoch [1/50], Loss: 0.7613\n",
      "Validation Loss: 1.9094, Accuracy: 0.4684, F1 Score: 0.0000, Precision: 0.0000, Recall: 0.0000, ROC AUC: 0.5418\n"
     ]
    },
    {
     "name": "stderr",
     "output_type": "stream",
     "text": [
      "/home/sadat/miniconda3/envs/cs721/lib/python3.8/site-packages/sklearn/metrics/_classification.py:1471: UndefinedMetricWarning: Precision is ill-defined and being set to 0.0 due to no predicted samples. Use `zero_division` parameter to control this behavior.\n",
      "  _warn_prf(average, modifier, msg_start, len(result))\n"
     ]
    },
    {
     "name": "stdout",
     "output_type": "stream",
     "text": [
      "Epoch [2/50], Loss: 0.7058\n",
      "Validation Loss: 1.6669, Accuracy: 0.4684, F1 Score: 0.0000, Precision: 0.0000, Recall: 0.0000, ROC AUC: 0.4717\n"
     ]
    },
    {
     "name": "stderr",
     "output_type": "stream",
     "text": [
      "/home/sadat/miniconda3/envs/cs721/lib/python3.8/site-packages/sklearn/metrics/_classification.py:1471: UndefinedMetricWarning: Precision is ill-defined and being set to 0.0 due to no predicted samples. Use `zero_division` parameter to control this behavior.\n",
      "  _warn_prf(average, modifier, msg_start, len(result))\n"
     ]
    },
    {
     "name": "stdout",
     "output_type": "stream",
     "text": [
      "Epoch [3/50], Loss: 0.6702\n",
      "Validation Loss: 1.4937, Accuracy: 0.4810, F1 Score: 0.6435, Precision: 0.5068, Recall: 0.8810, ROC AUC: 0.4202\n",
      "Epoch [4/50], Loss: 0.6205\n",
      "Validation Loss: 1.5577, Accuracy: 0.4684, F1 Score: 0.0000, Precision: 0.0000, Recall: 0.0000, ROC AUC: 0.4086\n"
     ]
    },
    {
     "name": "stderr",
     "output_type": "stream",
     "text": [
      "/home/sadat/miniconda3/envs/cs721/lib/python3.8/site-packages/sklearn/metrics/_classification.py:1471: UndefinedMetricWarning: Precision is ill-defined and being set to 0.0 due to no predicted samples. Use `zero_division` parameter to control this behavior.\n",
      "  _warn_prf(average, modifier, msg_start, len(result))\n"
     ]
    },
    {
     "name": "stdout",
     "output_type": "stream",
     "text": [
      "Epoch [5/50], Loss: 0.5719\n",
      "Validation Loss: 1.4004, Accuracy: 0.4430, F1 Score: 0.6140, Precision: 0.4861, Recall: 0.8333, ROC AUC: 0.3900\n",
      "Epoch [6/50], Loss: 0.5432\n",
      "Validation Loss: 1.4365, Accuracy: 0.4557, F1 Score: 0.4819, Precision: 0.4878, Recall: 0.4762, ROC AUC: 0.4099\n",
      "Epoch [7/50], Loss: 0.4603\n",
      "Validation Loss: 1.4588, Accuracy: 0.4684, F1 Score: 0.5333, Precision: 0.5000, Recall: 0.5714, ROC AUC: 0.4144\n",
      "Epoch [8/50], Loss: 0.3519\n",
      "Validation Loss: 1.7002, Accuracy: 0.5316, F1 Score: 0.3729, Precision: 0.6471, Recall: 0.2619, ROC AUC: 0.4543\n",
      "Epoch [9/50], Loss: 0.2387\n",
      "Validation Loss: 1.6926, Accuracy: 0.5190, F1 Score: 0.5128, Precision: 0.5556, Recall: 0.4762, ROC AUC: 0.5193\n",
      "Epoch [10/50], Loss: 0.1632\n",
      "Validation Loss: 1.7674, Accuracy: 0.5190, F1 Score: 0.5581, Precision: 0.5455, Recall: 0.5714, ROC AUC: 0.5373\n",
      "Epoch [11/50], Loss: 0.0947\n",
      "Validation Loss: 2.0104, Accuracy: 0.5823, F1 Score: 0.5075, Precision: 0.6800, Recall: 0.4048, ROC AUC: 0.5727\n",
      "Epoch [12/50], Loss: 0.0715\n",
      "Validation Loss: 2.1135, Accuracy: 0.5190, F1 Score: 0.5778, Precision: 0.5417, Recall: 0.6190, ROC AUC: 0.5450\n",
      "Epoch [13/50], Loss: 0.0399\n",
      "Validation Loss: 2.0395, Accuracy: 0.5570, F1 Score: 0.5455, Precision: 0.6000, Recall: 0.5000, ROC AUC: 0.5824\n",
      "Epoch [14/50], Loss: 0.0240\n",
      "Validation Loss: 2.0071, Accuracy: 0.4810, F1 Score: 0.5393, Precision: 0.5106, Recall: 0.5714, ROC AUC: 0.5901\n",
      "Epoch [15/50], Loss: 0.0358\n",
      "Validation Loss: 1.9269, Accuracy: 0.5316, F1 Score: 0.6022, Precision: 0.5490, Recall: 0.6667, ROC AUC: 0.5978\n",
      "Epoch [16/50], Loss: 0.0143\n",
      "Validation Loss: 2.1709, Accuracy: 0.5570, F1 Score: 0.5882, Precision: 0.5814, Recall: 0.5952, ROC AUC: 0.5946\n",
      "Early stopping triggered.\n",
      "Average Validation Accuracy for alpha: 0.9, lr: 0.01, momentum: 0.5: 0.5541\n",
      "Training alpha: 0.9, learning_rate: 0.01, momentum: 0.8\n",
      "Fold 1\n",
      "Epoch [1/50], Loss: 0.7530\n",
      "Validation Loss: 1.6934, Accuracy: 0.4500, F1 Score: 0.4211, Precision: 0.3810, Recall: 0.4706, ROC AUC: 0.4463\n",
      "Epoch [2/50], Loss: 0.6626\n",
      "Validation Loss: 1.4864, Accuracy: 0.5500, F1 Score: 0.0000, Precision: 0.0000, Recall: 0.0000, ROC AUC: 0.3708\n",
      "Epoch [3/50], Loss: 0.6020\n",
      "Validation Loss: 1.4840, Accuracy: 0.4250, F1 Score: 0.1481, Precision: 0.2000, Recall: 0.1176, ROC AUC: 0.3676\n",
      "Epoch [4/50], Loss: 0.4906\n",
      "Validation Loss: 1.6116, Accuracy: 0.4625, F1 Score: 0.3944, Precision: 0.3784, Recall: 0.4118, ROC AUC: 0.4444\n",
      "Epoch [5/50], Loss: 0.3319\n",
      "Validation Loss: 1.8051, Accuracy: 0.6000, F1 Score: 0.5000, Precision: 0.5333, Recall: 0.4706, ROC AUC: 0.5384\n",
      "Epoch [6/50], Loss: 0.1999\n",
      "Validation Loss: 2.7763, Accuracy: 0.5375, F1 Score: 0.5432, Precision: 0.4681, Recall: 0.6471, ROC AUC: 0.5735\n",
      "Epoch [7/50], Loss: 0.1746\n",
      "Validation Loss: 2.2340, Accuracy: 0.5750, F1 Score: 0.5143, Precision: 0.5000, Recall: 0.5294, ROC AUC: 0.5358\n",
      "Epoch [8/50], Loss: 0.1552\n",
      "Validation Loss: 1.8745, Accuracy: 0.6750, F1 Score: 0.6667, Precision: 0.5909, Recall: 0.7647, ROC AUC: 0.6656\n",
      "Epoch [9/50], Loss: 0.1487\n",
      "Validation Loss: 1.9961, Accuracy: 0.5625, F1 Score: 0.5783, Precision: 0.4898, Recall: 0.7059, ROC AUC: 0.5940\n",
      "Epoch [10/50], Loss: 0.1103\n",
      "Validation Loss: 2.0734, Accuracy: 0.6875, F1 Score: 0.6753, Precision: 0.6047, Recall: 0.7647, ROC AUC: 0.7110\n",
      "Epoch [11/50], Loss: 0.0823\n",
      "Validation Loss: 1.9898, Accuracy: 0.7125, F1 Score: 0.7013, Precision: 0.6279, Recall: 0.7941, ROC AUC: 0.7481\n",
      "Epoch [12/50], Loss: 0.0489\n",
      "Validation Loss: 1.7732, Accuracy: 0.6750, F1 Score: 0.6579, Precision: 0.5952, Recall: 0.7353, ROC AUC: 0.7436\n",
      "Epoch [13/50], Loss: 0.0188\n",
      "Validation Loss: 1.8592, Accuracy: 0.6750, F1 Score: 0.6750, Precision: 0.5870, Recall: 0.7941, ROC AUC: 0.7839\n",
      "Epoch [14/50], Loss: 0.0101\n",
      "Validation Loss: 1.9901, Accuracy: 0.7250, F1 Score: 0.7250, Precision: 0.6304, Recall: 0.8529, ROC AUC: 0.8024\n",
      "Epoch [15/50], Loss: 0.0072\n",
      "Validation Loss: 1.9283, Accuracy: 0.7625, F1 Score: 0.7397, Precision: 0.6923, Recall: 0.7941, ROC AUC: 0.7916\n",
      "Epoch [16/50], Loss: 0.0077\n",
      "Validation Loss: 2.2432, Accuracy: 0.7125, F1 Score: 0.7229, Precision: 0.6122, Recall: 0.8824, ROC AUC: 0.7839\n",
      "Epoch [17/50], Loss: 0.0113\n",
      "Validation Loss: 2.1817, Accuracy: 0.6875, F1 Score: 0.6988, Precision: 0.5918, Recall: 0.8529, ROC AUC: 0.7832\n",
      "Epoch [18/50], Loss: 0.0049\n",
      "Validation Loss: 2.0269, Accuracy: 0.7250, F1 Score: 0.7179, Precision: 0.6364, Recall: 0.8235, ROC AUC: 0.7916\n",
      "Epoch [19/50], Loss: 0.0039\n",
      "Validation Loss: 1.9429, Accuracy: 0.7375, F1 Score: 0.7273, Precision: 0.6512, Recall: 0.8235, ROC AUC: 0.8075\n",
      "Epoch [20/50], Loss: 0.0030\n",
      "Validation Loss: 1.9227, Accuracy: 0.7625, F1 Score: 0.7532, Precision: 0.6744, Recall: 0.8529, ROC AUC: 0.8159\n",
      "Early stopping triggered.\n",
      "Fold 2\n",
      "Epoch [1/50], Loss: 0.7690\n",
      "Validation Loss: 1.6952, Accuracy: 0.5125, F1 Score: 0.0000, Precision: 0.0000, Recall: 0.0000, ROC AUC: 0.4096\n"
     ]
    },
    {
     "name": "stderr",
     "output_type": "stream",
     "text": [
      "/home/sadat/miniconda3/envs/cs721/lib/python3.8/site-packages/sklearn/metrics/_classification.py:1471: UndefinedMetricWarning: Precision is ill-defined and being set to 0.0 due to no predicted samples. Use `zero_division` parameter to control this behavior.\n",
      "  _warn_prf(average, modifier, msg_start, len(result))\n"
     ]
    },
    {
     "name": "stdout",
     "output_type": "stream",
     "text": [
      "Epoch [2/50], Loss: 0.7033\n",
      "Validation Loss: 1.4269, Accuracy: 0.3375, F1 Score: 0.2090, Precision: 0.2500, Recall: 0.1795, ROC AUC: 0.3096\n",
      "Epoch [3/50], Loss: 0.6173\n",
      "Validation Loss: 1.3309, Accuracy: 0.4375, F1 Score: 0.6018, Precision: 0.4595, Recall: 0.8718, ROC AUC: 0.3602\n",
      "Epoch [4/50], Loss: 0.5318\n",
      "Validation Loss: 1.4276, Accuracy: 0.4500, F1 Score: 0.5417, Precision: 0.4561, Recall: 0.6667, ROC AUC: 0.4190\n",
      "Epoch [5/50], Loss: 0.4073\n",
      "Validation Loss: 1.9823, Accuracy: 0.4250, F1 Score: 0.5000, Precision: 0.4340, Recall: 0.5897, ROC AUC: 0.3927\n",
      "Epoch [6/50], Loss: 0.2236\n",
      "Validation Loss: 3.0773, Accuracy: 0.4625, F1 Score: 0.3944, Precision: 0.4375, Recall: 0.3590, ROC AUC: 0.4346\n",
      "Early stopping triggered.\n",
      "Fold 3\n",
      "Epoch [1/50], Loss: 0.7591\n",
      "Validation Loss: 1.6899, Accuracy: 0.4684, F1 Score: 0.0000, Precision: 0.0000, Recall: 0.0000, ROC AUC: 0.3900\n"
     ]
    },
    {
     "name": "stderr",
     "output_type": "stream",
     "text": [
      "/home/sadat/miniconda3/envs/cs721/lib/python3.8/site-packages/sklearn/metrics/_classification.py:1471: UndefinedMetricWarning: Precision is ill-defined and being set to 0.0 due to no predicted samples. Use `zero_division` parameter to control this behavior.\n",
      "  _warn_prf(average, modifier, msg_start, len(result))\n"
     ]
    },
    {
     "name": "stdout",
     "output_type": "stream",
     "text": [
      "Epoch [2/50], Loss: 0.6706\n",
      "Validation Loss: 1.4495, Accuracy: 0.4430, F1 Score: 0.0000, Precision: 0.0000, Recall: 0.0000, ROC AUC: 0.3848\n",
      "Epoch [3/50], Loss: 0.5978\n",
      "Validation Loss: 1.5370, Accuracy: 0.4937, F1 Score: 0.1304, Precision: 0.7500, Recall: 0.0714, ROC AUC: 0.4601\n",
      "Epoch [4/50], Loss: 0.4686\n",
      "Validation Loss: 1.5268, Accuracy: 0.4937, F1 Score: 0.4595, Precision: 0.5312, Recall: 0.4048, ROC AUC: 0.5129\n",
      "Epoch [5/50], Loss: 0.2839\n",
      "Validation Loss: 1.7325, Accuracy: 0.6203, F1 Score: 0.6429, Precision: 0.6429, Recall: 0.6429, ROC AUC: 0.6017\n",
      "Epoch [6/50], Loss: 0.1370\n",
      "Validation Loss: 2.1896, Accuracy: 0.5570, F1 Score: 0.5070, Precision: 0.6207, Recall: 0.4286, ROC AUC: 0.6969\n",
      "Epoch [7/50], Loss: 0.1300\n",
      "Validation Loss: 2.1692, Accuracy: 0.7215, F1 Score: 0.7442, Precision: 0.7273, Recall: 0.7619, ROC AUC: 0.7381\n",
      "Epoch [8/50], Loss: 0.2717\n",
      "Validation Loss: 2.3018, Accuracy: 0.5443, F1 Score: 0.6471, Precision: 0.5500, Recall: 0.7857, ROC AUC: 0.6448\n",
      "Epoch [9/50], Loss: 0.2031\n",
      "Validation Loss: 1.8347, Accuracy: 0.6709, F1 Score: 0.6829, Precision: 0.7000, Recall: 0.6667, ROC AUC: 0.7445\n",
      "Epoch [10/50], Loss: 0.1065\n",
      "Validation Loss: 1.6300, Accuracy: 0.7089, F1 Score: 0.7229, Precision: 0.7317, Recall: 0.7143, ROC AUC: 0.8024\n",
      "Epoch [11/50], Loss: 0.0715\n",
      "Validation Loss: 2.7746, Accuracy: 0.6456, F1 Score: 0.6500, Precision: 0.6842, Recall: 0.6190, ROC AUC: 0.7214\n",
      "Epoch [12/50], Loss: 0.1476\n",
      "Validation Loss: 1.5103, Accuracy: 0.7342, F1 Score: 0.7640, Precision: 0.7234, Recall: 0.8095, ROC AUC: 0.8108\n",
      "Epoch [13/50], Loss: 0.0733\n",
      "Validation Loss: 2.2305, Accuracy: 0.6962, F1 Score: 0.7000, Precision: 0.7368, Recall: 0.6667, ROC AUC: 0.8037\n",
      "Epoch [14/50], Loss: 0.0584\n",
      "Validation Loss: 1.8620, Accuracy: 0.7468, F1 Score: 0.7674, Precision: 0.7500, Recall: 0.7857, ROC AUC: 0.8063\n",
      "Epoch [15/50], Loss: 0.0349\n",
      "Validation Loss: 1.9029, Accuracy: 0.7468, F1 Score: 0.7561, Precision: 0.7750, Recall: 0.7381, ROC AUC: 0.7947\n",
      "Epoch [16/50], Loss: 0.0532\n",
      "Validation Loss: 2.5419, Accuracy: 0.7089, F1 Score: 0.6567, Precision: 0.8800, Recall: 0.5238, ROC AUC: 0.7979\n",
      "Epoch [17/50], Loss: 0.1923\n",
      "Validation Loss: 3.4333, Accuracy: 0.6456, F1 Score: 0.6216, Precision: 0.7188, Recall: 0.5476, ROC AUC: 0.7259\n",
      "Epoch [18/50], Loss: 0.1333\n",
      "Validation Loss: 2.3036, Accuracy: 0.7215, F1 Score: 0.7381, Precision: 0.7381, Recall: 0.7381, ROC AUC: 0.7426\n",
      "Epoch [19/50], Loss: 0.1033\n",
      "Validation Loss: 2.6455, Accuracy: 0.6709, F1 Score: 0.6286, Precision: 0.7857, Recall: 0.5238, ROC AUC: 0.8076\n",
      "Early stopping triggered.\n",
      "Fold 4\n",
      "Epoch [1/50], Loss: 0.7615\n",
      "Validation Loss: 1.7228, Accuracy: 0.5316, F1 Score: 0.6838, Precision: 0.5263, Recall: 0.9756, ROC AUC: 0.4352\n",
      "Epoch [2/50], Loss: 0.6752\n",
      "Validation Loss: 1.4524, Accuracy: 0.5190, F1 Score: 0.6833, Precision: 0.5190, Recall: 1.0000, ROC AUC: 0.3710\n",
      "Epoch [3/50], Loss: 0.6252\n",
      "Validation Loss: 1.4672, Accuracy: 0.3924, F1 Score: 0.1724, Precision: 0.2941, Recall: 0.1220, ROC AUC: 0.3235\n",
      "Epoch [4/50], Loss: 0.5130\n",
      "Validation Loss: 1.5383, Accuracy: 0.4937, F1 Score: 0.4444, Precision: 0.5161, Recall: 0.3902, ROC AUC: 0.4487\n",
      "Epoch [5/50], Loss: 0.3594\n",
      "Validation Loss: 2.0685, Accuracy: 0.4937, F1 Score: 0.2857, Precision: 0.5333, Recall: 0.1951, ROC AUC: 0.4339\n",
      "Epoch [6/50], Loss: 0.2416\n",
      "Validation Loss: 2.7058, Accuracy: 0.5316, F1 Score: 0.4308, Precision: 0.5833, Recall: 0.3415, ROC AUC: 0.5398\n",
      "Early stopping triggered.\n",
      "Fold 5\n",
      "Epoch [1/50], Loss: 0.7703\n",
      "Validation Loss: 1.5951, Accuracy: 0.4557, F1 Score: 0.2456, Precision: 0.4667, Recall: 0.1667, ROC AUC: 0.4453\n",
      "Epoch [2/50], Loss: 0.6724\n",
      "Validation Loss: 1.3797, Accuracy: 0.4684, F1 Score: 0.0000, Precision: 0.0000, Recall: 0.0000, ROC AUC: 0.3790\n"
     ]
    },
    {
     "name": "stderr",
     "output_type": "stream",
     "text": [
      "/home/sadat/miniconda3/envs/cs721/lib/python3.8/site-packages/sklearn/metrics/_classification.py:1471: UndefinedMetricWarning: Precision is ill-defined and being set to 0.0 due to no predicted samples. Use `zero_division` parameter to control this behavior.\n",
      "  _warn_prf(average, modifier, msg_start, len(result))\n"
     ]
    },
    {
     "name": "stdout",
     "output_type": "stream",
     "text": [
      "Epoch [3/50], Loss: 0.6063\n",
      "Validation Loss: 1.2763, Accuracy: 0.4430, F1 Score: 0.4500, Precision: 0.4737, Recall: 0.4286, ROC AUC: 0.3887\n",
      "Epoch [4/50], Loss: 0.5385\n",
      "Validation Loss: 1.3272, Accuracy: 0.4557, F1 Score: 0.2712, Precision: 0.4706, Recall: 0.1905, ROC AUC: 0.4665\n",
      "Epoch [5/50], Loss: 0.3724\n",
      "Validation Loss: 1.7144, Accuracy: 0.5190, F1 Score: 0.5250, Precision: 0.5526, Recall: 0.5000, ROC AUC: 0.4820\n",
      "Epoch [6/50], Loss: 0.2035\n",
      "Validation Loss: 2.1276, Accuracy: 0.5570, F1 Score: 0.6847, Precision: 0.5507, Recall: 0.9048, ROC AUC: 0.4942\n",
      "Epoch [7/50], Loss: 0.1643\n",
      "Validation Loss: 2.5704, Accuracy: 0.5823, F1 Score: 0.5479, Precision: 0.6452, Recall: 0.4762, ROC AUC: 0.5830\n",
      "Epoch [8/50], Loss: 0.1598\n",
      "Validation Loss: 2.8770, Accuracy: 0.5443, F1 Score: 0.6604, Precision: 0.5469, Recall: 0.8333, ROC AUC: 0.5753\n",
      "Epoch [9/50], Loss: 0.1941\n",
      "Validation Loss: 2.5122, Accuracy: 0.5063, F1 Score: 0.4935, Precision: 0.5429, Recall: 0.4524, ROC AUC: 0.5573\n",
      "Epoch [10/50], Loss: 0.1226\n",
      "Validation Loss: 2.0900, Accuracy: 0.6329, F1 Score: 0.6742, Precision: 0.6383, Recall: 0.7143, ROC AUC: 0.7239\n",
      "Epoch [11/50], Loss: 0.1053\n",
      "Validation Loss: 2.7689, Accuracy: 0.5190, F1 Score: 0.6122, Precision: 0.5357, Recall: 0.7143, ROC AUC: 0.5972\n",
      "Epoch [12/50], Loss: 0.1962\n",
      "Validation Loss: 2.6951, Accuracy: 0.5570, F1 Score: 0.5570, Precision: 0.5946, Recall: 0.5238, ROC AUC: 0.6557\n",
      "Epoch [13/50], Loss: 0.1591\n",
      "Validation Loss: 2.2703, Accuracy: 0.6329, F1 Score: 0.5672, Precision: 0.7600, Recall: 0.4524, ROC AUC: 0.6795\n",
      "Epoch [14/50], Loss: 0.0890\n",
      "Validation Loss: 2.1790, Accuracy: 0.6835, F1 Score: 0.7253, Precision: 0.6735, Recall: 0.7857, ROC AUC: 0.7143\n",
      "Epoch [15/50], Loss: 0.0289\n",
      "Validation Loss: 2.5341, Accuracy: 0.6456, F1 Score: 0.6111, Precision: 0.7333, Recall: 0.5238, ROC AUC: 0.7027\n",
      "Epoch [16/50], Loss: 0.0558\n",
      "Validation Loss: 2.5761, Accuracy: 0.6456, F1 Score: 0.6316, Precision: 0.7059, Recall: 0.5714, ROC AUC: 0.6898\n",
      "Epoch [17/50], Loss: 0.0140\n",
      "Validation Loss: 2.2768, Accuracy: 0.7089, F1 Score: 0.7229, Precision: 0.7317, Recall: 0.7143, ROC AUC: 0.7458\n",
      "Epoch [18/50], Loss: 0.0066\n",
      "Validation Loss: 2.2571, Accuracy: 0.6835, F1 Score: 0.6835, Precision: 0.7297, Recall: 0.6429, ROC AUC: 0.7426\n",
      "Epoch [19/50], Loss: 0.0049\n",
      "Validation Loss: 2.2961, Accuracy: 0.6582, F1 Score: 0.6747, Precision: 0.6829, Recall: 0.6667, ROC AUC: 0.7239\n",
      "Epoch [20/50], Loss: 0.0078\n",
      "Validation Loss: 2.2873, Accuracy: 0.7089, F1 Score: 0.6849, Precision: 0.8065, Recall: 0.5952, ROC AUC: 0.7471\n",
      "Epoch [21/50], Loss: 0.0045\n",
      "Validation Loss: 2.3646, Accuracy: 0.7089, F1 Score: 0.6849, Precision: 0.8065, Recall: 0.5952, ROC AUC: 0.7593\n",
      "Epoch [22/50], Loss: 0.0025\n",
      "Validation Loss: 2.5463, Accuracy: 0.6329, F1 Score: 0.6506, Precision: 0.6585, Recall: 0.6429, ROC AUC: 0.7355\n",
      "Early stopping triggered.\n",
      "Average Validation Accuracy for alpha: 0.9, lr: 0.01, momentum: 0.8: 0.6121\n",
      "Training alpha: 0.9, learning_rate: 0.01, momentum: 0.9\n",
      "Fold 1\n",
      "Epoch [1/50], Loss: 0.7688\n",
      "Validation Loss: 1.6396, Accuracy: 0.5750, F1 Score: 0.0000, Precision: 0.0000, Recall: 0.0000, ROC AUC: 0.3996\n"
     ]
    },
    {
     "name": "stderr",
     "output_type": "stream",
     "text": [
      "/home/sadat/miniconda3/envs/cs721/lib/python3.8/site-packages/sklearn/metrics/_classification.py:1471: UndefinedMetricWarning: Precision is ill-defined and being set to 0.0 due to no predicted samples. Use `zero_division` parameter to control this behavior.\n",
      "  _warn_prf(average, modifier, msg_start, len(result))\n"
     ]
    },
    {
     "name": "stdout",
     "output_type": "stream",
     "text": [
      "Epoch [2/50], Loss: 0.6618\n",
      "Validation Loss: 1.3964, Accuracy: 0.4250, F1 Score: 0.5965, Precision: 0.4250, Recall: 1.0000, ROC AUC: 0.2909\n",
      "Epoch [3/50], Loss: 0.5704\n",
      "Validation Loss: 1.3539, Accuracy: 0.4250, F1 Score: 0.4651, Precision: 0.3846, Recall: 0.5882, ROC AUC: 0.3587\n",
      "Epoch [4/50], Loss: 0.4336\n",
      "Validation Loss: 1.9178, Accuracy: 0.3750, F1 Score: 0.3243, Precision: 0.3000, Recall: 0.3529, ROC AUC: 0.3766\n",
      "Epoch [5/50], Loss: 0.2453\n",
      "Validation Loss: 2.7472, Accuracy: 0.4500, F1 Score: 0.3714, Precision: 0.3611, Recall: 0.3824, ROC AUC: 0.4386\n",
      "Epoch [6/50], Loss: 0.2618\n",
      "Validation Loss: 3.6427, Accuracy: 0.5250, F1 Score: 0.4571, Precision: 0.4444, Recall: 0.4706, ROC AUC: 0.5742\n",
      "Early stopping triggered.\n",
      "Fold 2\n",
      "Epoch [1/50], Loss: 0.7777\n",
      "Validation Loss: 1.7351, Accuracy: 0.5125, F1 Score: 0.2041, Precision: 0.5000, Recall: 0.1282, ROC AUC: 0.3415\n",
      "Epoch [2/50], Loss: 0.6524\n",
      "Validation Loss: 1.5800, Accuracy: 0.4875, F1 Score: 0.6555, Precision: 0.4875, Recall: 1.0000, ROC AUC: 0.3121\n",
      "Epoch [3/50], Loss: 0.5566\n",
      "Validation Loss: 1.7197, Accuracy: 0.4125, F1 Score: 0.2034, Precision: 0.3000, Recall: 0.1538, ROC AUC: 0.3158\n",
      "Epoch [4/50], Loss: 0.3528\n",
      "Validation Loss: 3.4403, Accuracy: 0.4625, F1 Score: 0.1569, Precision: 0.3333, Recall: 0.1026, ROC AUC: 0.4040\n",
      "Epoch [5/50], Loss: 0.2091\n",
      "Validation Loss: 3.5155, Accuracy: 0.5375, F1 Score: 0.5747, Precision: 0.5208, Recall: 0.6410, ROC AUC: 0.5566\n",
      "Epoch [6/50], Loss: 0.3848\n",
      "Validation Loss: 3.5896, Accuracy: 0.5250, F1 Score: 0.5682, Precision: 0.5102, Recall: 0.6410, ROC AUC: 0.5141\n",
      "Epoch [7/50], Loss: 0.5436\n",
      "Validation Loss: 2.2941, Accuracy: 0.6125, F1 Score: 0.6437, Precision: 0.5833, Recall: 0.7179, ROC AUC: 0.6048\n",
      "Epoch [8/50], Loss: 0.5060\n",
      "Validation Loss: 1.6852, Accuracy: 0.5625, F1 Score: 0.4615, Precision: 0.5769, Recall: 0.3846, ROC AUC: 0.6623\n",
      "Epoch [9/50], Loss: 0.3424\n",
      "Validation Loss: 1.8083, Accuracy: 0.7250, F1 Score: 0.7179, Precision: 0.7179, Recall: 0.7179, ROC AUC: 0.7992\n",
      "Epoch [10/50], Loss: 0.1679\n",
      "Validation Loss: 2.4022, Accuracy: 0.7000, F1 Score: 0.6364, Precision: 0.7778, Recall: 0.5385, ROC AUC: 0.8074\n",
      "Epoch [11/50], Loss: 0.1410\n",
      "Validation Loss: 2.5407, Accuracy: 0.7000, F1 Score: 0.7143, Precision: 0.6667, Recall: 0.7692, ROC AUC: 0.7605\n",
      "Epoch [12/50], Loss: 0.0952\n",
      "Validation Loss: 2.4781, Accuracy: 0.6750, F1 Score: 0.6579, Precision: 0.6757, Recall: 0.6410, ROC AUC: 0.7448\n",
      "Epoch [13/50], Loss: 0.1042\n",
      "Validation Loss: 2.3811, Accuracy: 0.7125, F1 Score: 0.7356, Precision: 0.6667, Recall: 0.8205, ROC AUC: 0.8111\n",
      "Epoch [14/50], Loss: 0.0762\n",
      "Validation Loss: 2.4118, Accuracy: 0.7375, F1 Score: 0.6866, Precision: 0.8214, Recall: 0.5897, ROC AUC: 0.8412\n",
      "Epoch [15/50], Loss: 0.0684\n",
      "Validation Loss: 2.7668, Accuracy: 0.7125, F1 Score: 0.7160, Precision: 0.6905, Recall: 0.7436, ROC AUC: 0.8249\n",
      "Epoch [16/50], Loss: 0.0787\n",
      "Validation Loss: 3.3128, Accuracy: 0.7250, F1 Score: 0.6333, Precision: 0.9048, Recall: 0.4872, ROC AUC: 0.7830\n",
      "Epoch [17/50], Loss: 0.1070\n",
      "Validation Loss: 2.7765, Accuracy: 0.7000, F1 Score: 0.7500, Precision: 0.6316, Recall: 0.9231, ROC AUC: 0.8271\n",
      "Epoch [18/50], Loss: 0.0803\n",
      "Validation Loss: 3.1731, Accuracy: 0.7125, F1 Score: 0.6102, Precision: 0.9000, Recall: 0.4615, ROC AUC: 0.8374\n",
      "Epoch [19/50], Loss: 0.0644\n",
      "Validation Loss: 3.0444, Accuracy: 0.7625, F1 Score: 0.7765, Precision: 0.7174, Recall: 0.8462, ROC AUC: 0.7792\n",
      "Epoch [20/50], Loss: 0.0408\n",
      "Validation Loss: 2.1395, Accuracy: 0.7375, F1 Score: 0.7273, Precision: 0.7368, Recall: 0.7179, ROC AUC: 0.8568\n",
      "Epoch [21/50], Loss: 0.0207\n",
      "Validation Loss: 2.3100, Accuracy: 0.8250, F1 Score: 0.7879, Precision: 0.9630, Recall: 0.6667, ROC AUC: 0.8843\n",
      "Epoch [22/50], Loss: 0.0374\n",
      "Validation Loss: 3.2780, Accuracy: 0.7125, F1 Score: 0.7356, Precision: 0.6667, Recall: 0.8205, ROC AUC: 0.8193\n",
      "Epoch [23/50], Loss: 0.1378\n",
      "Validation Loss: 3.5662, Accuracy: 0.6625, F1 Score: 0.6087, Precision: 0.7000, Recall: 0.5385, ROC AUC: 0.7649\n",
      "Epoch [24/50], Loss: 0.0420\n",
      "Validation Loss: 1.9728, Accuracy: 0.7250, F1 Score: 0.7250, Precision: 0.7073, Recall: 0.7436, ROC AUC: 0.8524\n",
      "Epoch [25/50], Loss: 0.0401\n",
      "Validation Loss: 1.7979, Accuracy: 0.7750, F1 Score: 0.7568, Precision: 0.8000, Recall: 0.7179, ROC AUC: 0.8749\n",
      "Epoch [26/50], Loss: 0.0191\n",
      "Validation Loss: 1.6812, Accuracy: 0.8250, F1 Score: 0.8205, Precision: 0.8205, Recall: 0.8205, ROC AUC: 0.8918\n",
      "Early stopping triggered.\n",
      "Fold 3\n",
      "Epoch [1/50], Loss: 0.7691\n",
      "Validation Loss: 1.6059, Accuracy: 0.4304, F1 Score: 0.5946, Precision: 0.4783, Recall: 0.7857, ROC AUC: 0.2889\n",
      "Epoch [2/50], Loss: 0.6661\n",
      "Validation Loss: 1.4158, Accuracy: 0.5316, F1 Score: 0.6942, Precision: 0.5316, Recall: 1.0000, ROC AUC: 0.3443\n",
      "Epoch [3/50], Loss: 0.6000\n",
      "Validation Loss: 1.3190, Accuracy: 0.4177, F1 Score: 0.5818, Precision: 0.4706, Recall: 0.7619, ROC AUC: 0.3398\n",
      "Epoch [4/50], Loss: 0.4316\n",
      "Validation Loss: 1.6559, Accuracy: 0.4304, F1 Score: 0.5055, Precision: 0.4694, Recall: 0.5476, ROC AUC: 0.3694\n",
      "Epoch [5/50], Loss: 0.2000\n",
      "Validation Loss: 3.0798, Accuracy: 0.4177, F1 Score: 0.3611, Precision: 0.4333, Recall: 0.3095, ROC AUC: 0.4749\n",
      "Epoch [6/50], Loss: 0.4660\n",
      "Validation Loss: 3.0403, Accuracy: 0.4557, F1 Score: 0.4416, Precision: 0.4857, Recall: 0.4048, ROC AUC: 0.4356\n",
      "Epoch [7/50], Loss: 0.5510\n",
      "Validation Loss: 2.0283, Accuracy: 0.5190, F1 Score: 0.4722, Precision: 0.5667, Recall: 0.4048, ROC AUC: 0.5219\n",
      "Early stopping triggered.\n",
      "Fold 4\n",
      "Epoch [1/50], Loss: 0.7642\n",
      "Validation Loss: 1.7921, Accuracy: 0.4684, F1 Score: 0.0000, Precision: 0.0000, Recall: 0.0000, ROC AUC: 0.3402\n",
      "Epoch [2/50], Loss: 0.6485\n",
      "Validation Loss: 1.5162, Accuracy: 0.3165, F1 Score: 0.3571, Precision: 0.3488, Recall: 0.3659, ROC AUC: 0.2869\n",
      "Epoch [3/50], Loss: 0.5489\n",
      "Validation Loss: 1.7607, Accuracy: 0.3418, F1 Score: 0.3158, Precision: 0.3429, Recall: 0.2927, ROC AUC: 0.3479\n",
      "Epoch [4/50], Loss: 0.3839\n",
      "Validation Loss: 2.5404, Accuracy: 0.5063, F1 Score: 0.3810, Precision: 0.5455, Recall: 0.2927, ROC AUC: 0.4493\n",
      "Epoch [5/50], Loss: 0.2357\n",
      "Validation Loss: 3.0485, Accuracy: 0.5063, F1 Score: 0.5979, Precision: 0.5179, Recall: 0.7073, ROC AUC: 0.5212\n",
      "Epoch [6/50], Loss: 0.4552\n",
      "Validation Loss: 3.8962, Accuracy: 0.4177, F1 Score: 0.2069, Precision: 0.3529, Recall: 0.1463, ROC AUC: 0.3999\n",
      "Epoch [7/50], Loss: 0.4585\n",
      "Validation Loss: 1.7091, Accuracy: 0.5823, F1 Score: 0.7080, Precision: 0.5556, Recall: 0.9756, ROC AUC: 0.7458\n",
      "Epoch [8/50], Loss: 0.2609\n",
      "Validation Loss: 2.1959, Accuracy: 0.6709, F1 Score: 0.7111, Precision: 0.6531, Recall: 0.7805, ROC AUC: 0.7933\n",
      "Epoch [9/50], Loss: 0.2222\n",
      "Validation Loss: 2.4107, Accuracy: 0.6076, F1 Score: 0.4561, Precision: 0.8125, Recall: 0.3171, ROC AUC: 0.7657\n",
      "Epoch [10/50], Loss: 0.1960\n",
      "Validation Loss: 2.1851, Accuracy: 0.7215, F1 Score: 0.6944, Precision: 0.8065, Recall: 0.6098, ROC AUC: 0.8119\n",
      "Epoch [11/50], Loss: 0.1464\n",
      "Validation Loss: 1.3834, Accuracy: 0.8228, F1 Score: 0.8205, Precision: 0.8649, Recall: 0.7805, ROC AUC: 0.8800\n",
      "Epoch [12/50], Loss: 0.1179\n",
      "Validation Loss: 2.1732, Accuracy: 0.7722, F1 Score: 0.7568, Precision: 0.8485, Recall: 0.6829, ROC AUC: 0.8113\n",
      "Epoch [13/50], Loss: 0.0967\n",
      "Validation Loss: 2.3287, Accuracy: 0.7595, F1 Score: 0.7711, Precision: 0.7619, Recall: 0.7805, ROC AUC: 0.8023\n",
      "Epoch [14/50], Loss: 0.0682\n",
      "Validation Loss: 3.3828, Accuracy: 0.7089, F1 Score: 0.6667, Precision: 0.8214, Recall: 0.5610, ROC AUC: 0.7510\n",
      "Epoch [15/50], Loss: 0.0354\n",
      "Validation Loss: 2.3597, Accuracy: 0.7468, F1 Score: 0.7436, Precision: 0.7838, Recall: 0.7073, ROC AUC: 0.8177\n",
      "Epoch [16/50], Loss: 0.0186\n",
      "Validation Loss: 2.0910, Accuracy: 0.7595, F1 Score: 0.7595, Precision: 0.7895, Recall: 0.7317, ROC AUC: 0.8389\n",
      "Early stopping triggered.\n",
      "Fold 5\n",
      "Epoch [1/50], Loss: 0.7706\n",
      "Validation Loss: 1.6842, Accuracy: 0.5190, F1 Score: 0.6833, Precision: 0.5256, Recall: 0.9762, ROC AUC: 0.3784\n",
      "Epoch [2/50], Loss: 0.6415\n",
      "Validation Loss: 1.5456, Accuracy: 0.4177, F1 Score: 0.1481, Precision: 0.3333, Recall: 0.0952, ROC AUC: 0.3172\n",
      "Epoch [3/50], Loss: 0.5290\n",
      "Validation Loss: 1.8208, Accuracy: 0.4810, F1 Score: 0.5060, Precision: 0.5122, Recall: 0.5000, ROC AUC: 0.4492\n",
      "Epoch [4/50], Loss: 0.3310\n",
      "Validation Loss: 2.6356, Accuracy: 0.4557, F1 Score: 0.4941, Precision: 0.4884, Recall: 0.5000, ROC AUC: 0.4788\n",
      "Epoch [5/50], Loss: 0.3079\n",
      "Validation Loss: 2.5901, Accuracy: 0.5316, F1 Score: 0.6263, Precision: 0.5439, Recall: 0.7381, ROC AUC: 0.5444\n",
      "Epoch [6/50], Loss: 0.4368\n",
      "Validation Loss: 2.6778, Accuracy: 0.5063, F1 Score: 0.4658, Precision: 0.5484, Recall: 0.4048, ROC AUC: 0.5663\n",
      "Epoch [7/50], Loss: 0.4027\n",
      "Validation Loss: 3.5765, Accuracy: 0.5696, F1 Score: 0.3462, Precision: 0.9000, Recall: 0.2143, ROC AUC: 0.5515\n",
      "Epoch [8/50], Loss: 0.3730\n",
      "Validation Loss: 3.8793, Accuracy: 0.5823, F1 Score: 0.3774, Precision: 0.9091, Recall: 0.2381, ROC AUC: 0.6030\n",
      "Epoch [9/50], Loss: 0.2357\n",
      "Validation Loss: 2.7030, Accuracy: 0.7089, F1 Score: 0.7229, Precision: 0.7317, Recall: 0.7143, ROC AUC: 0.7883\n",
      "Epoch [10/50], Loss: 0.1100\n",
      "Validation Loss: 3.3231, Accuracy: 0.6203, F1 Score: 0.5714, Precision: 0.7143, Recall: 0.4762, ROC AUC: 0.7104\n",
      "Epoch [11/50], Loss: 0.1035\n",
      "Validation Loss: 3.3327, Accuracy: 0.6709, F1 Score: 0.6286, Precision: 0.7857, Recall: 0.5238, ROC AUC: 0.8082\n",
      "Epoch [12/50], Loss: 0.0951\n",
      "Validation Loss: 3.4498, Accuracy: 0.7215, F1 Score: 0.7609, Precision: 0.7000, Recall: 0.8333, ROC AUC: 0.8172\n",
      "Epoch [13/50], Loss: 0.1073\n",
      "Validation Loss: 3.4979, Accuracy: 0.6456, F1 Score: 0.5484, Precision: 0.8500, Recall: 0.4048, ROC AUC: 0.8340\n",
      "Epoch [14/50], Loss: 0.0510\n",
      "Validation Loss: 3.4261, Accuracy: 0.7468, F1 Score: 0.7727, Precision: 0.7391, Recall: 0.8095, ROC AUC: 0.8063\n",
      "Epoch [15/50], Loss: 0.1033\n",
      "Validation Loss: 3.8254, Accuracy: 0.6709, F1 Score: 0.6389, Precision: 0.7667, Recall: 0.5476, ROC AUC: 0.7812\n",
      "Epoch [16/50], Loss: 0.1266\n",
      "Validation Loss: 3.3775, Accuracy: 0.7468, F1 Score: 0.7500, Precision: 0.7895, Recall: 0.7143, ROC AUC: 0.7767\n",
      "Epoch [17/50], Loss: 0.0601\n",
      "Validation Loss: 3.2837, Accuracy: 0.7468, F1 Score: 0.7436, Precision: 0.8056, Recall: 0.6905, ROC AUC: 0.7870\n",
      "Epoch [18/50], Loss: 0.0274\n",
      "Validation Loss: 3.5784, Accuracy: 0.7468, F1 Score: 0.7297, Precision: 0.8438, Recall: 0.6429, ROC AUC: 0.7934\n",
      "Epoch [19/50], Loss: 0.0217\n",
      "Validation Loss: 3.2624, Accuracy: 0.7215, F1 Score: 0.7027, Precision: 0.8125, Recall: 0.6190, ROC AUC: 0.8366\n",
      "Early stopping triggered.\n",
      "Average Validation Accuracy for alpha: 0.9, lr: 0.01, momentum: 0.9: 0.6700\n",
      "Training alpha: 0.9, learning_rate: 0.1, momentum: 0.5\n",
      "Fold 1\n",
      "Epoch [1/50], Loss: 0.7934\n",
      "Validation Loss: 1.4798, Accuracy: 0.5125, F1 Score: 0.0000, Precision: 0.0000, Recall: 0.0000, ROC AUC: 0.3561\n",
      "Epoch [2/50], Loss: 0.6416\n",
      "Validation Loss: 1.2462, Accuracy: 0.5625, F1 Score: 0.0541, Precision: 0.3333, Recall: 0.0294, ROC AUC: 0.4425\n",
      "Epoch [3/50], Loss: 0.6400\n",
      "Validation Loss: 1.7217, Accuracy: 0.4250, F1 Score: 0.5893, Precision: 0.4231, Recall: 0.9706, ROC AUC: 0.4425\n",
      "Epoch [4/50], Loss: 0.6206\n",
      "Validation Loss: 2.3030, Accuracy: 0.3875, F1 Score: 0.3951, Precision: 0.3404, Recall: 0.4706, ROC AUC: 0.4207\n",
      "Epoch [5/50], Loss: 0.5256\n",
      "Validation Loss: 3.5542, Accuracy: 0.5750, F1 Score: 0.1905, Precision: 0.5000, Recall: 0.1176, ROC AUC: 0.5723\n",
      "Epoch [6/50], Loss: 0.5303\n",
      "Validation Loss: 2.0855, Accuracy: 0.6000, F1 Score: 0.2000, Precision: 0.6667, Recall: 0.1176, ROC AUC: 0.5742\n",
      "Epoch [7/50], Loss: 0.5783\n",
      "Validation Loss: 3.2915, Accuracy: 0.7000, F1 Score: 0.5200, Precision: 0.8125, Recall: 0.3824, ROC AUC: 0.7628\n",
      "Epoch [8/50], Loss: 0.3522\n",
      "Validation Loss: 1.5537, Accuracy: 0.7750, F1 Score: 0.7188, Precision: 0.7667, Recall: 0.6765, ROC AUC: 0.8581\n",
      "Epoch [9/50], Loss: 0.4497\n",
      "Validation Loss: 1.4923, Accuracy: 0.4250, F1 Score: 0.5965, Precision: 0.4250, Recall: 1.0000, ROC AUC: 0.6125\n",
      "Epoch [10/50], Loss: 0.5847\n",
      "Validation Loss: 1.6820, Accuracy: 0.7375, F1 Score: 0.7123, Precision: 0.6667, Recall: 0.7647, ROC AUC: 0.8133\n",
      "Epoch [11/50], Loss: 0.3648\n",
      "Validation Loss: 4.5645, Accuracy: 0.6125, F1 Score: 0.5974, Precision: 0.5349, Recall: 0.6765, ROC AUC: 0.6093\n",
      "Epoch [12/50], Loss: 0.4445\n",
      "Validation Loss: 2.0759, Accuracy: 0.6750, F1 Score: 0.4800, Precision: 0.7500, Recall: 0.3529, ROC AUC: 0.7679\n",
      "Epoch [13/50], Loss: 0.2064\n",
      "Validation Loss: 1.5691, Accuracy: 0.7875, F1 Score: 0.7901, Precision: 0.6809, Recall: 0.9412, ROC AUC: 0.8849\n",
      "Epoch [14/50], Loss: 0.2926\n",
      "Validation Loss: 1.4858, Accuracy: 0.7125, F1 Score: 0.6349, Precision: 0.6897, Recall: 0.5882, ROC AUC: 0.7941\n",
      "Epoch [15/50], Loss: 0.2873\n",
      "Validation Loss: 3.5761, Accuracy: 0.7125, F1 Score: 0.6349, Precision: 0.6897, Recall: 0.5882, ROC AUC: 0.8075\n",
      "Epoch [16/50], Loss: 0.2015\n",
      "Validation Loss: 1.6778, Accuracy: 0.7625, F1 Score: 0.6984, Precision: 0.7586, Recall: 0.6471, ROC AUC: 0.8357\n",
      "Epoch [17/50], Loss: 0.1205\n",
      "Validation Loss: 1.6684, Accuracy: 0.8000, F1 Score: 0.7838, Precision: 0.7250, Recall: 0.8529, ROC AUC: 0.8945\n",
      "Epoch [18/50], Loss: 0.1184\n",
      "Validation Loss: 1.5624, Accuracy: 0.7125, F1 Score: 0.7356, Precision: 0.6038, Recall: 0.9412, ROC AUC: 0.8581\n",
      "Epoch [19/50], Loss: 0.1538\n",
      "Validation Loss: 2.4706, Accuracy: 0.7125, F1 Score: 0.5106, Precision: 0.9231, Recall: 0.3529, ROC AUC: 0.8082\n",
      "Epoch [20/50], Loss: 0.1802\n",
      "Validation Loss: 2.1830, Accuracy: 0.7125, F1 Score: 0.6230, Precision: 0.7037, Recall: 0.5588, ROC AUC: 0.7807\n",
      "Epoch [21/50], Loss: 0.3510\n",
      "Validation Loss: 2.9025, Accuracy: 0.5500, F1 Score: 0.6471, Precision: 0.4853, Recall: 0.9706, ROC AUC: 0.7020\n",
      "Epoch [22/50], Loss: 0.3784\n",
      "Validation Loss: 2.7095, Accuracy: 0.7750, F1 Score: 0.6400, Precision: 1.0000, Recall: 0.4706, ROC AUC: 0.7206\n",
      "Early stopping triggered.\n",
      "Fold 2\n",
      "Epoch [1/50], Loss: 0.8552\n",
      "Validation Loss: 1.4440, Accuracy: 0.5125, F1 Score: 0.2909, Precision: 0.5000, Recall: 0.2051, ROC AUC: 0.4753\n",
      "Epoch [2/50], Loss: 0.6564\n",
      "Validation Loss: 1.2580, Accuracy: 0.5125, F1 Score: 0.0000, Precision: 0.0000, Recall: 0.0000, ROC AUC: 0.4028\n"
     ]
    },
    {
     "name": "stderr",
     "output_type": "stream",
     "text": [
      "/home/sadat/miniconda3/envs/cs721/lib/python3.8/site-packages/sklearn/metrics/_classification.py:1471: UndefinedMetricWarning: Precision is ill-defined and being set to 0.0 due to no predicted samples. Use `zero_division` parameter to control this behavior.\n",
      "  _warn_prf(average, modifier, msg_start, len(result))\n"
     ]
    },
    {
     "name": "stdout",
     "output_type": "stream",
     "text": [
      "Epoch [3/50], Loss: 0.6277\n",
      "Validation Loss: 1.2813, Accuracy: 0.4125, F1 Score: 0.1132, Precision: 0.2143, Recall: 0.0769, ROC AUC: 0.3327\n",
      "Epoch [4/50], Loss: 0.5915\n",
      "Validation Loss: 2.7685, Accuracy: 0.5125, F1 Score: 0.0000, Precision: 0.0000, Recall: 0.0000, ROC AUC: 0.4121\n"
     ]
    },
    {
     "name": "stderr",
     "output_type": "stream",
     "text": [
      "/home/sadat/miniconda3/envs/cs721/lib/python3.8/site-packages/sklearn/metrics/_classification.py:1471: UndefinedMetricWarning: Precision is ill-defined and being set to 0.0 due to no predicted samples. Use `zero_division` parameter to control this behavior.\n",
      "  _warn_prf(average, modifier, msg_start, len(result))\n"
     ]
    },
    {
     "name": "stdout",
     "output_type": "stream",
     "text": [
      "Epoch [5/50], Loss: 0.6228\n",
      "Validation Loss: 1.9531, Accuracy: 0.4625, F1 Score: 0.5057, Precision: 0.4583, Recall: 0.5641, ROC AUC: 0.5779\n",
      "Epoch [6/50], Loss: 0.5757\n",
      "Validation Loss: 2.2358, Accuracy: 0.4875, F1 Score: 0.4810, Precision: 0.4750, Recall: 0.4872, ROC AUC: 0.4740\n",
      "Early stopping triggered.\n",
      "Fold 3\n",
      "Epoch [1/50], Loss: 0.8074\n",
      "Validation Loss: 1.2950, Accuracy: 0.4684, F1 Score: 0.0000, Precision: 0.0000, Recall: 0.0000, ROC AUC: 0.4588\n"
     ]
    },
    {
     "name": "stderr",
     "output_type": "stream",
     "text": [
      "/home/sadat/miniconda3/envs/cs721/lib/python3.8/site-packages/sklearn/metrics/_classification.py:1471: UndefinedMetricWarning: Precision is ill-defined and being set to 0.0 due to no predicted samples. Use `zero_division` parameter to control this behavior.\n",
      "  _warn_prf(average, modifier, msg_start, len(result))\n"
     ]
    },
    {
     "name": "stdout",
     "output_type": "stream",
     "text": [
      "Epoch [2/50], Loss: 0.6445\n",
      "Validation Loss: 1.2032, Accuracy: 0.4684, F1 Score: 0.5962, Precision: 0.5000, Recall: 0.7381, ROC AUC: 0.3166\n",
      "Epoch [3/50], Loss: 0.6143\n",
      "Validation Loss: 1.7174, Accuracy: 0.4684, F1 Score: 0.0000, Precision: 0.0000, Recall: 0.0000, ROC AUC: 0.4196\n"
     ]
    },
    {
     "name": "stderr",
     "output_type": "stream",
     "text": [
      "/home/sadat/miniconda3/envs/cs721/lib/python3.8/site-packages/sklearn/metrics/_classification.py:1471: UndefinedMetricWarning: Precision is ill-defined and being set to 0.0 due to no predicted samples. Use `zero_division` parameter to control this behavior.\n",
      "  _warn_prf(average, modifier, msg_start, len(result))\n"
     ]
    },
    {
     "name": "stdout",
     "output_type": "stream",
     "text": [
      "Epoch [4/50], Loss: 0.5989\n",
      "Validation Loss: 2.3698, Accuracy: 0.4557, F1 Score: 0.0000, Precision: 0.0000, Recall: 0.0000, ROC AUC: 0.4395\n",
      "Epoch [5/50], Loss: 0.6075\n",
      "Validation Loss: 3.3574, Accuracy: 0.5570, F1 Score: 0.6957, Precision: 0.5479, Recall: 0.9524, ROC AUC: 0.5894\n",
      "Epoch [6/50], Loss: 0.5637\n",
      "Validation Loss: 1.9135, Accuracy: 0.5443, F1 Score: 0.5909, Precision: 0.5652, Recall: 0.6190, ROC AUC: 0.6100\n",
      "Epoch [7/50], Loss: 0.4449\n",
      "Validation Loss: 2.4858, Accuracy: 0.5063, F1 Score: 0.5806, Precision: 0.5294, Recall: 0.6429, ROC AUC: 0.5367\n",
      "Epoch [8/50], Loss: 0.5563\n",
      "Validation Loss: 2.8612, Accuracy: 0.6582, F1 Score: 0.6400, Precision: 0.7273, Recall: 0.5714, ROC AUC: 0.7239\n",
      "Epoch [9/50], Loss: 0.5148\n",
      "Validation Loss: 7.5904, Accuracy: 0.5949, F1 Score: 0.6098, Precision: 0.6250, Recall: 0.5952, ROC AUC: 0.5644\n",
      "Epoch [10/50], Loss: 0.3774\n",
      "Validation Loss: 2.3034, Accuracy: 0.6835, F1 Score: 0.7312, Precision: 0.6667, Recall: 0.8095, ROC AUC: 0.7040\n",
      "Epoch [11/50], Loss: 0.1951\n",
      "Validation Loss: 2.1725, Accuracy: 0.7215, F1 Score: 0.7800, Precision: 0.6724, Recall: 0.9286, ROC AUC: 0.7909\n",
      "Epoch [12/50], Loss: 0.4864\n",
      "Validation Loss: 2.7787, Accuracy: 0.6456, F1 Score: 0.7083, Precision: 0.6296, Recall: 0.8095, ROC AUC: 0.6686\n",
      "Epoch [13/50], Loss: 0.2927\n",
      "Validation Loss: 2.7734, Accuracy: 0.7468, F1 Score: 0.7059, Precision: 0.9231, Recall: 0.5714, ROC AUC: 0.7773\n",
      "Epoch [14/50], Loss: 0.1472\n",
      "Validation Loss: 2.3914, Accuracy: 0.7722, F1 Score: 0.8043, Precision: 0.7400, Recall: 0.8810, ROC AUC: 0.8269\n",
      "Epoch [15/50], Loss: 0.1019\n",
      "Validation Loss: 1.4646, Accuracy: 0.5570, F1 Score: 0.5070, Precision: 0.6207, Recall: 0.4286, ROC AUC: 0.5618\n",
      "Epoch [16/50], Loss: 0.7746\n",
      "Validation Loss: 1.5150, Accuracy: 0.6456, F1 Score: 0.6744, Precision: 0.6591, Recall: 0.6905, ROC AUC: 0.7188\n",
      "Epoch [17/50], Loss: 0.4029\n",
      "Validation Loss: 2.2365, Accuracy: 0.6709, F1 Score: 0.7045, Precision: 0.6739, Recall: 0.7381, ROC AUC: 0.6969\n",
      "Epoch [18/50], Loss: 0.2292\n",
      "Validation Loss: 1.5041, Accuracy: 0.7848, F1 Score: 0.7848, Precision: 0.8378, Recall: 0.7381, ROC AUC: 0.8533\n",
      "Epoch [19/50], Loss: 0.1790\n",
      "Validation Loss: 3.3573, Accuracy: 0.5823, F1 Score: 0.4407, Precision: 0.7647, Recall: 0.3095, ROC AUC: 0.6384\n",
      "Epoch [20/50], Loss: 0.2159\n",
      "Validation Loss: 2.5007, Accuracy: 0.6582, F1 Score: 0.6494, Precision: 0.7143, Recall: 0.5952, ROC AUC: 0.7162\n",
      "Epoch [21/50], Loss: 0.1907\n",
      "Validation Loss: 2.9121, Accuracy: 0.5949, F1 Score: 0.5556, Precision: 0.6667, Recall: 0.4762, ROC AUC: 0.6815\n",
      "Epoch [22/50], Loss: 0.1023\n",
      "Validation Loss: 2.9353, Accuracy: 0.6456, F1 Score: 0.6000, Precision: 0.7500, Recall: 0.5000, ROC AUC: 0.7716\n",
      "Epoch [23/50], Loss: 0.0757\n",
      "Validation Loss: 2.9679, Accuracy: 0.6329, F1 Score: 0.5672, Precision: 0.7600, Recall: 0.4524, ROC AUC: 0.7568\n",
      "Early stopping triggered.\n",
      "Fold 4\n",
      "Epoch [1/50], Loss: 0.7869\n",
      "Validation Loss: 1.4201, Accuracy: 0.5316, F1 Score: 0.2745, Precision: 0.7000, Recall: 0.1707, ROC AUC: 0.4512\n",
      "Epoch [2/50], Loss: 0.6412\n",
      "Validation Loss: 1.3128, Accuracy: 0.4557, F1 Score: 0.0444, Precision: 0.2500, Recall: 0.0244, ROC AUC: 0.4769\n",
      "Epoch [3/50], Loss: 0.6255\n",
      "Validation Loss: 1.7410, Accuracy: 0.5443, F1 Score: 0.4194, Precision: 0.6190, Recall: 0.3171, ROC AUC: 0.5347\n",
      "Epoch [4/50], Loss: 0.5890\n",
      "Validation Loss: 3.2512, Accuracy: 0.4810, F1 Score: 0.0000, Precision: 0.0000, Recall: 0.0000, ROC AUC: 0.4923\n"
     ]
    },
    {
     "name": "stderr",
     "output_type": "stream",
     "text": [
      "/home/sadat/miniconda3/envs/cs721/lib/python3.8/site-packages/sklearn/metrics/_classification.py:1471: UndefinedMetricWarning: Precision is ill-defined and being set to 0.0 due to no predicted samples. Use `zero_division` parameter to control this behavior.\n",
      "  _warn_prf(average, modifier, msg_start, len(result))\n"
     ]
    },
    {
     "name": "stdout",
     "output_type": "stream",
     "text": [
      "Epoch [5/50], Loss: 0.6571\n",
      "Validation Loss: 1.7251, Accuracy: 0.6203, F1 Score: 0.5946, Precision: 0.6667, Recall: 0.5366, ROC AUC: 0.7407\n",
      "Epoch [6/50], Loss: 0.3968\n",
      "Validation Loss: 2.6643, Accuracy: 0.5316, F1 Score: 0.1778, Precision: 1.0000, Recall: 0.0976, ROC AUC: 0.6624\n",
      "Epoch [7/50], Loss: 0.4074\n",
      "Validation Loss: 2.3202, Accuracy: 0.6835, F1 Score: 0.7573, Precision: 0.6290, Recall: 0.9512, ROC AUC: 0.6688\n",
      "Epoch [8/50], Loss: 0.3783\n",
      "Validation Loss: 2.0189, Accuracy: 0.6835, F1 Score: 0.7525, Precision: 0.6333, Recall: 0.9268, ROC AUC: 0.7850\n",
      "Epoch [9/50], Loss: 0.3946\n",
      "Validation Loss: 2.5732, Accuracy: 0.6582, F1 Score: 0.5714, Precision: 0.8182, Recall: 0.4390, ROC AUC: 0.8273\n",
      "Epoch [10/50], Loss: 0.1983\n",
      "Validation Loss: 2.3320, Accuracy: 0.6076, F1 Score: 0.4746, Precision: 0.7778, Recall: 0.3415, ROC AUC: 0.7054\n",
      "Epoch [11/50], Loss: 0.2189\n",
      "Validation Loss: 2.0176, Accuracy: 0.7468, F1 Score: 0.7674, Precision: 0.7333, Recall: 0.8049, ROC AUC: 0.7972\n",
      "Epoch [12/50], Loss: 0.2978\n",
      "Validation Loss: 1.9238, Accuracy: 0.6203, F1 Score: 0.6429, Precision: 0.6279, Recall: 0.6585, ROC AUC: 0.6804\n",
      "Epoch [13/50], Loss: 0.2638\n",
      "Validation Loss: 1.5995, Accuracy: 0.7215, F1 Score: 0.7500, Precision: 0.7021, Recall: 0.8049, ROC AUC: 0.7997\n",
      "Epoch [14/50], Loss: 0.1344\n",
      "Validation Loss: 3.9986, Accuracy: 0.6456, F1 Score: 0.5172, Precision: 0.8824, Recall: 0.3659, ROC AUC: 0.8132\n",
      "Epoch [15/50], Loss: 0.1151\n",
      "Validation Loss: 1.9164, Accuracy: 0.6962, F1 Score: 0.7600, Precision: 0.6441, Recall: 0.9268, ROC AUC: 0.7965\n",
      "Epoch [16/50], Loss: 0.1359\n",
      "Validation Loss: 1.6384, Accuracy: 0.7595, F1 Score: 0.7467, Precision: 0.8235, Recall: 0.6829, ROC AUC: 0.8659\n",
      "Epoch [17/50], Loss: 0.0825\n",
      "Validation Loss: 1.3608, Accuracy: 0.7975, F1 Score: 0.8000, Precision: 0.8205, Recall: 0.7805, ROC AUC: 0.8851\n",
      "Epoch [18/50], Loss: 0.0337\n",
      "Validation Loss: 1.7866, Accuracy: 0.7975, F1 Score: 0.7838, Precision: 0.8788, Recall: 0.7073, ROC AUC: 0.8979\n",
      "Epoch [19/50], Loss: 0.0241\n",
      "Validation Loss: 1.5021, Accuracy: 0.8228, F1 Score: 0.8293, Precision: 0.8293, Recall: 0.8293, ROC AUC: 0.9243\n",
      "Epoch [20/50], Loss: 0.0119\n",
      "Validation Loss: 1.1912, Accuracy: 0.8987, F1 Score: 0.9048, Precision: 0.8837, Recall: 0.9268, ROC AUC: 0.9281\n",
      "Epoch [21/50], Loss: 0.0082\n",
      "Validation Loss: 1.1490, Accuracy: 0.8861, F1 Score: 0.8889, Precision: 0.9000, Recall: 0.8780, ROC AUC: 0.9191\n",
      "Epoch [22/50], Loss: 0.0088\n",
      "Validation Loss: 1.3060, Accuracy: 0.8734, F1 Score: 0.8780, Precision: 0.8780, Recall: 0.8780, ROC AUC: 0.9243\n",
      "Epoch [23/50], Loss: 0.0059\n",
      "Validation Loss: 1.3430, Accuracy: 0.8861, F1 Score: 0.8889, Precision: 0.9000, Recall: 0.8780, ROC AUC: 0.9178\n",
      "Epoch [24/50], Loss: 0.0090\n",
      "Validation Loss: 1.5075, Accuracy: 0.8861, F1 Score: 0.8916, Precision: 0.8810, Recall: 0.9024, ROC AUC: 0.9082\n",
      "Epoch [25/50], Loss: 0.0094\n",
      "Validation Loss: 1.4933, Accuracy: 0.8861, F1 Score: 0.8916, Precision: 0.8810, Recall: 0.9024, ROC AUC: 0.9159\n",
      "Early stopping triggered.\n",
      "Fold 5\n",
      "Epoch [1/50], Loss: 0.8899\n",
      "Validation Loss: 1.4139, Accuracy: 0.5316, F1 Score: 0.6942, Precision: 0.5316, Recall: 1.0000, ROC AUC: 0.5290\n",
      "Epoch [2/50], Loss: 0.6690\n",
      "Validation Loss: 1.2066, Accuracy: 0.4684, F1 Score: 0.0000, Precision: 0.0000, Recall: 0.0000, ROC AUC: 0.5026\n"
     ]
    },
    {
     "name": "stderr",
     "output_type": "stream",
     "text": [
      "/home/sadat/miniconda3/envs/cs721/lib/python3.8/site-packages/sklearn/metrics/_classification.py:1471: UndefinedMetricWarning: Precision is ill-defined and being set to 0.0 due to no predicted samples. Use `zero_division` parameter to control this behavior.\n",
      "  _warn_prf(average, modifier, msg_start, len(result))\n"
     ]
    },
    {
     "name": "stdout",
     "output_type": "stream",
     "text": [
      "Epoch [3/50], Loss: 0.6299\n",
      "Validation Loss: 1.2943, Accuracy: 0.5316, F1 Score: 0.6942, Precision: 0.5316, Recall: 1.0000, ROC AUC: 0.4511\n",
      "Epoch [4/50], Loss: 0.6011\n",
      "Validation Loss: 2.3911, Accuracy: 0.5063, F1 Score: 0.5895, Precision: 0.5283, Recall: 0.6667, ROC AUC: 0.5315\n",
      "Epoch [5/50], Loss: 0.6917\n",
      "Validation Loss: 1.6672, Accuracy: 0.4937, F1 Score: 0.6226, Precision: 0.5156, Recall: 0.7857, ROC AUC: 0.5084\n",
      "Epoch [6/50], Loss: 0.6613\n",
      "Validation Loss: 1.2301, Accuracy: 0.5316, F1 Score: 0.6891, Precision: 0.5325, Recall: 0.9762, ROC AUC: 0.6300\n",
      "Early stopping triggered.\n",
      "Average Validation Accuracy for alpha: 0.9, lr: 0.1, momentum: 0.5: 0.6626\n",
      "Training alpha: 0.9, learning_rate: 0.1, momentum: 0.8\n",
      "Fold 1\n",
      "Epoch [1/50], Loss: 0.7971\n",
      "Validation Loss: 2.0192, Accuracy: 0.4250, F1 Score: 0.5965, Precision: 0.4250, Recall: 1.0000, ROC AUC: 0.4437\n",
      "Epoch [2/50], Loss: 0.6837\n",
      "Validation Loss: 1.5603, Accuracy: 0.4000, F1 Score: 0.5556, Precision: 0.4054, Recall: 0.8824, ROC AUC: 0.5058\n",
      "Epoch [3/50], Loss: 0.6669\n",
      "Validation Loss: 1.8393, Accuracy: 0.4375, F1 Score: 0.5545, Precision: 0.4179, Recall: 0.8235, ROC AUC: 0.4866\n",
      "Epoch [4/50], Loss: 0.6759\n",
      "Validation Loss: 1.3181, Accuracy: 0.4250, F1 Score: 0.5965, Precision: 0.4250, Recall: 1.0000, ROC AUC: 0.6055\n",
      "Epoch [5/50], Loss: 0.6612\n",
      "Validation Loss: 2.3686, Accuracy: 0.4875, F1 Score: 0.5684, Precision: 0.4426, Recall: 0.7941, ROC AUC: 0.6100\n",
      "Epoch [6/50], Loss: 0.7101\n",
      "Validation Loss: 4.6664, Accuracy: 0.6000, F1 Score: 0.4839, Precision: 0.5357, Recall: 0.4412, ROC AUC: 0.6240\n",
      "Epoch [7/50], Loss: 0.6519\n",
      "Validation Loss: 1.2083, Accuracy: 0.4250, F1 Score: 0.5818, Precision: 0.4211, Recall: 0.9412, ROC AUC: 0.5192\n",
      "Epoch [8/50], Loss: 0.6387\n",
      "Validation Loss: 0.9868, Accuracy: 0.4625, F1 Score: 0.5981, Precision: 0.4384, Recall: 0.9412, ROC AUC: 0.5192\n",
      "Epoch [9/50], Loss: 0.6379\n",
      "Validation Loss: 0.8478, Accuracy: 0.4375, F1 Score: 0.6018, Precision: 0.4304, Recall: 1.0000, ROC AUC: 0.4808\n",
      "Epoch [10/50], Loss: 0.6373\n",
      "Validation Loss: 0.8001, Accuracy: 0.5750, F1 Score: 0.0556, Precision: 0.5000, Recall: 0.0294, ROC AUC: 0.4642\n",
      "Epoch [11/50], Loss: 0.6322\n",
      "Validation Loss: 0.8025, Accuracy: 0.4250, F1 Score: 0.5965, Precision: 0.4250, Recall: 1.0000, ROC AUC: 0.5051\n",
      "Early stopping triggered.\n",
      "Fold 2\n",
      "Epoch [1/50], Loss: 0.9576\n",
      "Validation Loss: 1.9766, Accuracy: 0.5125, F1 Score: 0.0000, Precision: 0.0000, Recall: 0.0000, ROC AUC: 0.4665\n"
     ]
    },
    {
     "name": "stderr",
     "output_type": "stream",
     "text": [
      "/home/sadat/miniconda3/envs/cs721/lib/python3.8/site-packages/sklearn/metrics/_classification.py:1471: UndefinedMetricWarning: Precision is ill-defined and being set to 0.0 due to no predicted samples. Use `zero_division` parameter to control this behavior.\n",
      "  _warn_prf(average, modifier, msg_start, len(result))\n"
     ]
    },
    {
     "name": "stdout",
     "output_type": "stream",
     "text": [
      "Epoch [2/50], Loss: 0.7116\n",
      "Validation Loss: 1.4639, Accuracy: 0.4625, F1 Score: 0.3582, Precision: 0.4286, Recall: 0.3077, ROC AUC: 0.5159\n",
      "Epoch [3/50], Loss: 0.6609\n",
      "Validation Loss: 1.7275, Accuracy: 0.5250, F1 Score: 0.5581, Precision: 0.5106, Recall: 0.6154, ROC AUC: 0.4728\n",
      "Epoch [4/50], Loss: 0.6367\n",
      "Validation Loss: 2.4021, Accuracy: 0.5875, F1 Score: 0.4590, Precision: 0.6364, Recall: 0.3590, ROC AUC: 0.5691\n",
      "Epoch [5/50], Loss: 0.6258\n",
      "Validation Loss: 1.5822, Accuracy: 0.5125, F1 Score: 0.1333, Precision: 0.5000, Recall: 0.0769, ROC AUC: 0.3859\n",
      "Epoch [6/50], Loss: 0.6038\n",
      "Validation Loss: 2.5412, Accuracy: 0.6500, F1 Score: 0.6818, Precision: 0.6122, Recall: 0.7692, ROC AUC: 0.6792\n",
      "Epoch [7/50], Loss: 0.6228\n",
      "Validation Loss: 1.7117, Accuracy: 0.5000, F1 Score: 0.2308, Precision: 0.4615, Recall: 0.1538, ROC AUC: 0.5141\n",
      "Epoch [8/50], Loss: 0.6811\n",
      "Validation Loss: 1.0626, Accuracy: 0.4875, F1 Score: 0.6555, Precision: 0.4875, Recall: 1.0000, ROC AUC: 0.5128\n",
      "Epoch [9/50], Loss: 0.6355\n",
      "Validation Loss: 0.8343, Accuracy: 0.5125, F1 Score: 0.0000, Precision: 0.0000, Recall: 0.0000, ROC AUC: 0.5303\n"
     ]
    },
    {
     "name": "stderr",
     "output_type": "stream",
     "text": [
      "/home/sadat/miniconda3/envs/cs721/lib/python3.8/site-packages/sklearn/metrics/_classification.py:1471: UndefinedMetricWarning: Precision is ill-defined and being set to 0.0 due to no predicted samples. Use `zero_division` parameter to control this behavior.\n",
      "  _warn_prf(average, modifier, msg_start, len(result))\n"
     ]
    },
    {
     "name": "stdout",
     "output_type": "stream",
     "text": [
      "Epoch [10/50], Loss: 0.6338\n",
      "Validation Loss: 0.8379, Accuracy: 0.5625, F1 Score: 0.3396, Precision: 0.6429, Recall: 0.2308, ROC AUC: 0.5791\n",
      "Epoch [11/50], Loss: 0.5847\n",
      "Validation Loss: 2.0063, Accuracy: 0.5000, F1 Score: 0.4872, Precision: 0.4872, Recall: 0.4872, ROC AUC: 0.5159\n",
      "Early stopping triggered.\n",
      "Fold 3\n",
      "Epoch [1/50], Loss: 0.8942\n",
      "Validation Loss: 1.8185, Accuracy: 0.5190, F1 Score: 0.2400, Precision: 0.7500, Recall: 0.1429, ROC AUC: 0.4923\n",
      "Epoch [2/50], Loss: 0.7174\n",
      "Validation Loss: 1.4657, Accuracy: 0.4684, F1 Score: 0.0000, Precision: 0.0000, Recall: 0.0000, ROC AUC: 0.4640\n"
     ]
    },
    {
     "name": "stderr",
     "output_type": "stream",
     "text": [
      "/home/sadat/miniconda3/envs/cs721/lib/python3.8/site-packages/sklearn/metrics/_classification.py:1471: UndefinedMetricWarning: Precision is ill-defined and being set to 0.0 due to no predicted samples. Use `zero_division` parameter to control this behavior.\n",
      "  _warn_prf(average, modifier, msg_start, len(result))\n"
     ]
    },
    {
     "name": "stdout",
     "output_type": "stream",
     "text": [
      "Epoch [3/50], Loss: 0.6835\n",
      "Validation Loss: 1.2029, Accuracy: 0.4684, F1 Score: 0.0000, Precision: 0.0000, Recall: 0.0000, ROC AUC: 0.4569\n"
     ]
    },
    {
     "name": "stderr",
     "output_type": "stream",
     "text": [
      "/home/sadat/miniconda3/envs/cs721/lib/python3.8/site-packages/sklearn/metrics/_classification.py:1471: UndefinedMetricWarning: Precision is ill-defined and being set to 0.0 due to no predicted samples. Use `zero_division` parameter to control this behavior.\n",
      "  _warn_prf(average, modifier, msg_start, len(result))\n"
     ]
    },
    {
     "name": "stdout",
     "output_type": "stream",
     "text": [
      "Epoch [4/50], Loss: 0.6655\n",
      "Validation Loss: 1.6733, Accuracy: 0.4810, F1 Score: 0.0889, Precision: 0.6667, Recall: 0.0476, ROC AUC: 0.4228\n",
      "Epoch [5/50], Loss: 0.6501\n",
      "Validation Loss: 1.2922, Accuracy: 0.5316, F1 Score: 0.6942, Precision: 0.5316, Recall: 1.0000, ROC AUC: 0.5393\n",
      "Epoch [6/50], Loss: 0.6749\n",
      "Validation Loss: 1.6927, Accuracy: 0.5443, F1 Score: 0.6538, Precision: 0.5484, Recall: 0.8095, ROC AUC: 0.5824\n",
      "Epoch [7/50], Loss: 0.6423\n",
      "Validation Loss: 1.1149, Accuracy: 0.5063, F1 Score: 0.5895, Precision: 0.5283, Recall: 0.6667, ROC AUC: 0.4994\n",
      "Epoch [8/50], Loss: 0.6086\n",
      "Validation Loss: 1.3239, Accuracy: 0.5316, F1 Score: 0.4638, Precision: 0.5926, Recall: 0.3810, ROC AUC: 0.5270\n",
      "Epoch [9/50], Loss: 0.6033\n",
      "Validation Loss: 2.2959, Accuracy: 0.4684, F1 Score: 0.4750, Precision: 0.5000, Recall: 0.4524, ROC AUC: 0.4955\n",
      "Epoch [10/50], Loss: 0.5898\n",
      "Validation Loss: 1.1971, Accuracy: 0.5570, F1 Score: 0.3636, Precision: 0.7692, Recall: 0.2381, ROC AUC: 0.6049\n",
      "Epoch [11/50], Loss: 0.5945\n",
      "Validation Loss: 1.1941, Accuracy: 0.5190, F1 Score: 0.1739, Precision: 1.0000, Recall: 0.0952, ROC AUC: 0.6313\n",
      "Epoch [12/50], Loss: 0.4859\n",
      "Validation Loss: 2.5326, Accuracy: 0.5570, F1 Score: 0.5679, Precision: 0.5897, Recall: 0.5476, ROC AUC: 0.5399\n",
      "Epoch [13/50], Loss: 0.5020\n",
      "Validation Loss: 1.5090, Accuracy: 0.5063, F1 Score: 0.5185, Precision: 0.5385, Recall: 0.5000, ROC AUC: 0.5553\n",
      "Epoch [14/50], Loss: 0.4469\n",
      "Validation Loss: 2.1633, Accuracy: 0.5063, F1 Score: 0.2353, Precision: 0.6667, Recall: 0.1429, ROC AUC: 0.5708\n",
      "Epoch [15/50], Loss: 0.4563\n",
      "Validation Loss: 2.2179, Accuracy: 0.5190, F1 Score: 0.5581, Precision: 0.5455, Recall: 0.5714, ROC AUC: 0.5689\n",
      "Early stopping triggered.\n",
      "Fold 4\n",
      "Epoch [1/50], Loss: 0.8284\n",
      "Validation Loss: 1.9645, Accuracy: 0.5190, F1 Score: 0.6833, Precision: 0.5190, Recall: 1.0000, ROC AUC: 0.4904\n",
      "Epoch [2/50], Loss: 0.7041\n",
      "Validation Loss: 1.8675, Accuracy: 0.4304, F1 Score: 0.3478, Precision: 0.4286, Recall: 0.2927, ROC AUC: 0.4653\n",
      "Epoch [3/50], Loss: 0.6786\n",
      "Validation Loss: 1.5874, Accuracy: 0.4810, F1 Score: 0.0000, Precision: 0.0000, Recall: 0.0000, ROC AUC: 0.5231\n"
     ]
    },
    {
     "name": "stderr",
     "output_type": "stream",
     "text": [
      "/home/sadat/miniconda3/envs/cs721/lib/python3.8/site-packages/sklearn/metrics/_classification.py:1471: UndefinedMetricWarning: Precision is ill-defined and being set to 0.0 due to no predicted samples. Use `zero_division` parameter to control this behavior.\n",
      "  _warn_prf(average, modifier, msg_start, len(result))\n"
     ]
    },
    {
     "name": "stdout",
     "output_type": "stream",
     "text": [
      "Epoch [4/50], Loss: 0.6606\n",
      "Validation Loss: 1.3564, Accuracy: 0.4684, F1 Score: 0.0000, Precision: 0.0000, Recall: 0.0000, ROC AUC: 0.3858\n",
      "Epoch [5/50], Loss: 0.6343\n",
      "Validation Loss: 3.0608, Accuracy: 0.4684, F1 Score: 0.5000, Precision: 0.4884, Recall: 0.5122, ROC AUC: 0.4961\n",
      "Epoch [6/50], Loss: 0.6679\n",
      "Validation Loss: 1.0470, Accuracy: 0.5063, F1 Score: 0.6723, Precision: 0.5128, Recall: 0.9756, ROC AUC: 0.3896\n",
      "Early stopping triggered.\n",
      "Fold 5\n",
      "Epoch [1/50], Loss: 0.8254\n",
      "Validation Loss: 1.9538, Accuracy: 0.5443, F1 Score: 0.6727, Precision: 0.5441, Recall: 0.8810, ROC AUC: 0.5528\n",
      "Epoch [2/50], Loss: 0.7155\n",
      "Validation Loss: 1.4406, Accuracy: 0.4304, F1 Score: 0.4444, Precision: 0.4615, Recall: 0.4286, ROC AUC: 0.4324\n",
      "Epoch [3/50], Loss: 0.6717\n",
      "Validation Loss: 2.4843, Accuracy: 0.4684, F1 Score: 0.0000, Precision: 0.0000, Recall: 0.0000, ROC AUC: 0.4305\n"
     ]
    },
    {
     "name": "stderr",
     "output_type": "stream",
     "text": [
      "/home/sadat/miniconda3/envs/cs721/lib/python3.8/site-packages/sklearn/metrics/_classification.py:1471: UndefinedMetricWarning: Precision is ill-defined and being set to 0.0 due to no predicted samples. Use `zero_division` parameter to control this behavior.\n",
      "  _warn_prf(average, modifier, msg_start, len(result))\n"
     ]
    },
    {
     "name": "stdout",
     "output_type": "stream",
     "text": [
      "Epoch [4/50], Loss: 0.6504\n",
      "Validation Loss: 1.8615, Accuracy: 0.4810, F1 Score: 0.0465, Precision: 1.0000, Recall: 0.0238, ROC AUC: 0.5669\n",
      "Epoch [5/50], Loss: 0.6741\n",
      "Validation Loss: 3.5467, Accuracy: 0.4684, F1 Score: 0.0000, Precision: 0.0000, Recall: 0.0000, ROC AUC: 0.5296\n"
     ]
    },
    {
     "name": "stderr",
     "output_type": "stream",
     "text": [
      "/home/sadat/miniconda3/envs/cs721/lib/python3.8/site-packages/sklearn/metrics/_classification.py:1471: UndefinedMetricWarning: Precision is ill-defined and being set to 0.0 due to no predicted samples. Use `zero_division` parameter to control this behavior.\n",
      "  _warn_prf(average, modifier, msg_start, len(result))\n"
     ]
    },
    {
     "name": "stdout",
     "output_type": "stream",
     "text": [
      "Epoch [6/50], Loss: 0.6696\n",
      "Validation Loss: 1.0843, Accuracy: 0.4557, F1 Score: 0.0000, Precision: 0.0000, Recall: 0.0000, ROC AUC: 0.5586\n",
      "Early stopping triggered.\n",
      "Average Validation Accuracy for alpha: 0.9, lr: 0.1, momentum: 0.8: 0.4812\n",
      "Training alpha: 0.9, learning_rate: 0.1, momentum: 0.9\n",
      "Fold 1\n",
      "Epoch [1/50], Loss: 0.8262\n",
      "Validation Loss: 3.1170, Accuracy: 0.4250, F1 Score: 0.5965, Precision: 0.4250, Recall: 1.0000, ROC AUC: 0.5198\n",
      "Epoch [2/50], Loss: 0.9506\n",
      "Validation Loss: 6.1666, Accuracy: 0.5000, F1 Score: 0.1667, Precision: 0.2857, Recall: 0.1176, ROC AUC: 0.4668\n",
      "Epoch [3/50], Loss: 0.7104\n",
      "Validation Loss: 1.9044, Accuracy: 0.5625, F1 Score: 0.4615, Precision: 0.4839, Recall: 0.4412, ROC AUC: 0.5480\n",
      "Epoch [4/50], Loss: 0.6784\n",
      "Validation Loss: 3.5713, Accuracy: 0.4250, F1 Score: 0.5965, Precision: 0.4250, Recall: 1.0000, ROC AUC: 0.5313\n",
      "Epoch [5/50], Loss: 0.6440\n",
      "Validation Loss: 1.0277, Accuracy: 0.5750, F1 Score: 0.0000, Precision: 0.0000, Recall: 0.0000, ROC AUC: 0.4207\n"
     ]
    },
    {
     "name": "stderr",
     "output_type": "stream",
     "text": [
      "/home/sadat/miniconda3/envs/cs721/lib/python3.8/site-packages/sklearn/metrics/_classification.py:1471: UndefinedMetricWarning: Precision is ill-defined and being set to 0.0 due to no predicted samples. Use `zero_division` parameter to control this behavior.\n",
      "  _warn_prf(average, modifier, msg_start, len(result))\n"
     ]
    },
    {
     "name": "stdout",
     "output_type": "stream",
     "text": [
      "Epoch [6/50], Loss: 0.6429\n",
      "Validation Loss: 1.0555, Accuracy: 0.4250, F1 Score: 0.5965, Precision: 0.4250, Recall: 1.0000, ROC AUC: 0.4341\n",
      "Epoch [7/50], Loss: 0.6344\n",
      "Validation Loss: 0.7795, Accuracy: 0.4875, F1 Score: 0.1277, Precision: 0.2308, Recall: 0.0882, ROC AUC: 0.4015\n",
      "Epoch [8/50], Loss: 0.6354\n",
      "Validation Loss: 0.7596, Accuracy: 0.4125, F1 Score: 0.5841, Precision: 0.4177, Recall: 0.9706, ROC AUC: 0.4098\n",
      "Epoch [9/50], Loss: 0.6371\n",
      "Validation Loss: 0.7242, Accuracy: 0.4250, F1 Score: 0.5965, Precision: 0.4250, Recall: 1.0000, ROC AUC: 0.4207\n",
      "Epoch [10/50], Loss: 0.6318\n",
      "Validation Loss: 1.0066, Accuracy: 0.4250, F1 Score: 0.5965, Precision: 0.4250, Recall: 1.0000, ROC AUC: 0.5537\n",
      "Early stopping triggered.\n",
      "Fold 2\n",
      "Epoch [1/50], Loss: 1.3993\n",
      "Validation Loss: 191.6313, Accuracy: 0.5125, F1 Score: 0.0000, Precision: 0.0000, Recall: 0.0000, ROC AUC: 0.5119\n"
     ]
    },
    {
     "name": "stderr",
     "output_type": "stream",
     "text": [
      "/home/sadat/miniconda3/envs/cs721/lib/python3.8/site-packages/sklearn/metrics/_classification.py:1471: UndefinedMetricWarning: Precision is ill-defined and being set to 0.0 due to no predicted samples. Use `zero_division` parameter to control this behavior.\n",
      "  _warn_prf(average, modifier, msg_start, len(result))\n"
     ]
    },
    {
     "name": "stdout",
     "output_type": "stream",
     "text": [
      "Epoch [2/50], Loss: 1.2715\n",
      "Validation Loss: 10108.8369, Accuracy: 0.5125, F1 Score: 0.0000, Precision: 0.0000, Recall: 0.0000, ROC AUC: 0.5000\n"
     ]
    },
    {
     "name": "stderr",
     "output_type": "stream",
     "text": [
      "/home/sadat/miniconda3/envs/cs721/lib/python3.8/site-packages/sklearn/metrics/_classification.py:1471: UndefinedMetricWarning: Precision is ill-defined and being set to 0.0 due to no predicted samples. Use `zero_division` parameter to control this behavior.\n",
      "  _warn_prf(average, modifier, msg_start, len(result))\n"
     ]
    },
    {
     "name": "stdout",
     "output_type": "stream",
     "text": [
      "Epoch [3/50], Loss: 0.9042\n",
      "Validation Loss: 7.0772, Accuracy: 0.4875, F1 Score: 0.6555, Precision: 0.4875, Recall: 1.0000, ROC AUC: 0.5366\n",
      "Epoch [4/50], Loss: 0.7750\n",
      "Validation Loss: 4.8048, Accuracy: 0.5500, F1 Score: 0.4545, Precision: 0.5556, Recall: 0.3846, ROC AUC: 0.5538\n",
      "Epoch [5/50], Loss: 0.6712\n",
      "Validation Loss: 21.8078, Accuracy: 0.4625, F1 Score: 0.4416, Precision: 0.4474, Recall: 0.4359, ROC AUC: 0.4928\n",
      "Epoch [6/50], Loss: 0.6669\n",
      "Validation Loss: 2.7605, Accuracy: 0.4750, F1 Score: 0.2222, Precision: 0.4000, Recall: 0.1538, ROC AUC: 0.4797\n",
      "Epoch [7/50], Loss: 0.6400\n",
      "Validation Loss: 0.8650, Accuracy: 0.4750, F1 Score: 0.6441, Precision: 0.4810, Recall: 0.9744, ROC AUC: 0.4328\n",
      "Epoch [8/50], Loss: 0.6367\n",
      "Validation Loss: 0.8797, Accuracy: 0.4875, F1 Score: 0.6555, Precision: 0.4875, Recall: 1.0000, ROC AUC: 0.5091\n",
      "Epoch [9/50], Loss: 0.6417\n",
      "Validation Loss: 1.0701, Accuracy: 0.5125, F1 Score: 0.0000, Precision: 0.0000, Recall: 0.0000, ROC AUC: 0.5172\n",
      "Early stopping triggered.\n",
      "Fold 3\n"
     ]
    },
    {
     "name": "stderr",
     "output_type": "stream",
     "text": [
      "/home/sadat/miniconda3/envs/cs721/lib/python3.8/site-packages/sklearn/metrics/_classification.py:1471: UndefinedMetricWarning: Precision is ill-defined and being set to 0.0 due to no predicted samples. Use `zero_division` parameter to control this behavior.\n",
      "  _warn_prf(average, modifier, msg_start, len(result))\n"
     ]
    },
    {
     "name": "stdout",
     "output_type": "stream",
     "text": [
      "Epoch [1/50], Loss: 0.8023\n",
      "Validation Loss: 2.6555, Accuracy: 0.4684, F1 Score: 0.0000, Precision: 0.0000, Recall: 0.0000, ROC AUC: 0.5058\n"
     ]
    },
    {
     "name": "stderr",
     "output_type": "stream",
     "text": [
      "/home/sadat/miniconda3/envs/cs721/lib/python3.8/site-packages/sklearn/metrics/_classification.py:1471: UndefinedMetricWarning: Precision is ill-defined and being set to 0.0 due to no predicted samples. Use `zero_division` parameter to control this behavior.\n",
      "  _warn_prf(average, modifier, msg_start, len(result))\n"
     ]
    },
    {
     "name": "stdout",
     "output_type": "stream",
     "text": [
      "Epoch [2/50], Loss: 0.7315\n",
      "Validation Loss: 1.6662, Accuracy: 0.5316, F1 Score: 0.6942, Precision: 0.5316, Recall: 1.0000, ROC AUC: 0.4524\n",
      "Epoch [3/50], Loss: 0.6901\n",
      "Validation Loss: 2.2327, Accuracy: 0.4684, F1 Score: 0.1923, Precision: 0.5000, Recall: 0.1190, ROC AUC: 0.5154\n",
      "Epoch [4/50], Loss: 0.6430\n",
      "Validation Loss: 0.9155, Accuracy: 0.5316, F1 Score: 0.6942, Precision: 0.5316, Recall: 1.0000, ROC AUC: 0.5444\n",
      "Epoch [5/50], Loss: 0.6330\n",
      "Validation Loss: 0.8155, Accuracy: 0.4684, F1 Score: 0.0000, Precision: 0.0000, Recall: 0.0000, ROC AUC: 0.4955\n"
     ]
    },
    {
     "name": "stderr",
     "output_type": "stream",
     "text": [
      "/home/sadat/miniconda3/envs/cs721/lib/python3.8/site-packages/sklearn/metrics/_classification.py:1471: UndefinedMetricWarning: Precision is ill-defined and being set to 0.0 due to no predicted samples. Use `zero_division` parameter to control this behavior.\n",
      "  _warn_prf(average, modifier, msg_start, len(result))\n"
     ]
    },
    {
     "name": "stdout",
     "output_type": "stream",
     "text": [
      "Epoch [6/50], Loss: 0.6325\n",
      "Validation Loss: 0.7872, Accuracy: 0.4684, F1 Score: 0.0000, Precision: 0.0000, Recall: 0.0000, ROC AUC: 0.4524\n"
     ]
    },
    {
     "name": "stderr",
     "output_type": "stream",
     "text": [
      "/home/sadat/miniconda3/envs/cs721/lib/python3.8/site-packages/sklearn/metrics/_classification.py:1471: UndefinedMetricWarning: Precision is ill-defined and being set to 0.0 due to no predicted samples. Use `zero_division` parameter to control this behavior.\n",
      "  _warn_prf(average, modifier, msg_start, len(result))\n"
     ]
    },
    {
     "name": "stdout",
     "output_type": "stream",
     "text": [
      "Epoch [7/50], Loss: 0.6295\n",
      "Validation Loss: 0.7442, Accuracy: 0.5316, F1 Score: 0.6942, Precision: 0.5316, Recall: 1.0000, ROC AUC: 0.5167\n",
      "Early stopping triggered.\n",
      "Fold 4\n",
      "Epoch [1/50], Loss: 0.7790\n",
      "Validation Loss: 2.1012, Accuracy: 0.4810, F1 Score: 0.0000, Precision: 0.0000, Recall: 0.0000, ROC AUC: 0.5225\n"
     ]
    },
    {
     "name": "stderr",
     "output_type": "stream",
     "text": [
      "/home/sadat/miniconda3/envs/cs721/lib/python3.8/site-packages/sklearn/metrics/_classification.py:1471: UndefinedMetricWarning: Precision is ill-defined and being set to 0.0 due to no predicted samples. Use `zero_division` parameter to control this behavior.\n",
      "  _warn_prf(average, modifier, msg_start, len(result))\n"
     ]
    },
    {
     "name": "stdout",
     "output_type": "stream",
     "text": [
      "Epoch [2/50], Loss: 0.8114\n",
      "Validation Loss: 7.2251, Accuracy: 0.4557, F1 Score: 0.4691, Precision: 0.4750, Recall: 0.4634, ROC AUC: 0.4589\n",
      "Epoch [3/50], Loss: 0.7443\n",
      "Validation Loss: 4.9395, Accuracy: 0.5443, F1 Score: 0.6087, Precision: 0.5490, Recall: 0.6829, ROC AUC: 0.5777\n",
      "Epoch [4/50], Loss: 0.6689\n",
      "Validation Loss: 3.3308, Accuracy: 0.4684, F1 Score: 0.5800, Precision: 0.4915, Recall: 0.7073, ROC AUC: 0.4782\n",
      "Epoch [5/50], Loss: 0.6672\n",
      "Validation Loss: 1.3975, Accuracy: 0.4810, F1 Score: 0.0000, Precision: 0.0000, Recall: 0.0000, ROC AUC: 0.4865\n"
     ]
    },
    {
     "name": "stderr",
     "output_type": "stream",
     "text": [
      "/home/sadat/miniconda3/envs/cs721/lib/python3.8/site-packages/sklearn/metrics/_classification.py:1471: UndefinedMetricWarning: Precision is ill-defined and being set to 0.0 due to no predicted samples. Use `zero_division` parameter to control this behavior.\n",
      "  _warn_prf(average, modifier, msg_start, len(result))\n"
     ]
    },
    {
     "name": "stdout",
     "output_type": "stream",
     "text": [
      "Epoch [6/50], Loss: 0.6412\n",
      "Validation Loss: 0.7577, Accuracy: 0.4810, F1 Score: 0.0000, Precision: 0.0000, Recall: 0.0000, ROC AUC: 0.4692\n"
     ]
    },
    {
     "name": "stderr",
     "output_type": "stream",
     "text": [
      "/home/sadat/miniconda3/envs/cs721/lib/python3.8/site-packages/sklearn/metrics/_classification.py:1471: UndefinedMetricWarning: Precision is ill-defined and being set to 0.0 due to no predicted samples. Use `zero_division` parameter to control this behavior.\n",
      "  _warn_prf(average, modifier, msg_start, len(result))\n"
     ]
    },
    {
     "name": "stdout",
     "output_type": "stream",
     "text": [
      "Epoch [7/50], Loss: 0.6416\n",
      "Validation Loss: 0.7546, Accuracy: 0.5190, F1 Score: 0.6833, Precision: 0.5190, Recall: 1.0000, ROC AUC: 0.3652\n",
      "Epoch [8/50], Loss: 0.6397\n",
      "Validation Loss: 0.8083, Accuracy: 0.5190, F1 Score: 0.6833, Precision: 0.5190, Recall: 1.0000, ROC AUC: 0.4361\n",
      "Early stopping triggered.\n",
      "Fold 5\n",
      "Epoch [1/50], Loss: 0.9189\n",
      "Validation Loss: 2.3237, Accuracy: 0.5316, F1 Score: 0.6942, Precision: 0.5316, Recall: 1.0000, ROC AUC: 0.5000\n",
      "Epoch [2/50], Loss: 1.1858\n",
      "Validation Loss: 188.6513, Accuracy: 0.4684, F1 Score: 0.0000, Precision: 0.0000, Recall: 0.0000, ROC AUC: 0.4878\n"
     ]
    },
    {
     "name": "stderr",
     "output_type": "stream",
     "text": [
      "/home/sadat/miniconda3/envs/cs721/lib/python3.8/site-packages/sklearn/metrics/_classification.py:1471: UndefinedMetricWarning: Precision is ill-defined and being set to 0.0 due to no predicted samples. Use `zero_division` parameter to control this behavior.\n",
      "  _warn_prf(average, modifier, msg_start, len(result))\n"
     ]
    },
    {
     "name": "stdout",
     "output_type": "stream",
     "text": [
      "Epoch [3/50], Loss: 0.7785\n",
      "Validation Loss: 1.5130, Accuracy: 0.4684, F1 Score: 0.0000, Precision: 0.0000, Recall: 0.0000, ROC AUC: 0.4987\n"
     ]
    },
    {
     "name": "stderr",
     "output_type": "stream",
     "text": [
      "/home/sadat/miniconda3/envs/cs721/lib/python3.8/site-packages/sklearn/metrics/_classification.py:1471: UndefinedMetricWarning: Precision is ill-defined and being set to 0.0 due to no predicted samples. Use `zero_division` parameter to control this behavior.\n",
      "  _warn_prf(average, modifier, msg_start, len(result))\n"
     ]
    },
    {
     "name": "stdout",
     "output_type": "stream",
     "text": [
      "Epoch [4/50], Loss: 0.6701\n",
      "Validation Loss: 1.3356, Accuracy: 0.4684, F1 Score: 0.0000, Precision: 0.0000, Recall: 0.0000, ROC AUC: 0.4659\n"
     ]
    },
    {
     "name": "stderr",
     "output_type": "stream",
     "text": [
      "/home/sadat/miniconda3/envs/cs721/lib/python3.8/site-packages/sklearn/metrics/_classification.py:1471: UndefinedMetricWarning: Precision is ill-defined and being set to 0.0 due to no predicted samples. Use `zero_division` parameter to control this behavior.\n",
      "  _warn_prf(average, modifier, msg_start, len(result))\n"
     ]
    },
    {
     "name": "stdout",
     "output_type": "stream",
     "text": [
      "Epoch [5/50], Loss: 0.6340\n",
      "Validation Loss: 0.7699, Accuracy: 0.5316, F1 Score: 0.6942, Precision: 0.5316, Recall: 1.0000, ROC AUC: 0.5090\n",
      "Epoch [6/50], Loss: 0.6386\n",
      "Validation Loss: 0.8011, Accuracy: 0.4684, F1 Score: 0.0000, Precision: 0.0000, Recall: 0.0000, ROC AUC: 0.5187\n",
      "Early stopping triggered.\n",
      "Average Validation Accuracy for alpha: 0.9, lr: 0.1, momentum: 0.9: 0.4913\n"
     ]
    },
    {
     "name": "stderr",
     "output_type": "stream",
     "text": [
      "/home/sadat/miniconda3/envs/cs721/lib/python3.8/site-packages/sklearn/metrics/_classification.py:1471: UndefinedMetricWarning: Precision is ill-defined and being set to 0.0 due to no predicted samples. Use `zero_division` parameter to control this behavior.\n",
      "  _warn_prf(average, modifier, msg_start, len(result))\n"
     ]
    },
    {
     "ename": "KeyError",
     "evalue": "'margin'",
     "output_type": "error",
     "traceback": [
      "\u001b[0;31m---------------------------------------------------------------------------\u001b[0m",
      "\u001b[0;31mKeyError\u001b[0m                                  Traceback (most recent call last)",
      "Cell \u001b[0;32mIn[6], line 147\u001b[0m\n\u001b[1;32m    145\u001b[0m f\u001b[38;5;241m.\u001b[39mwrite(\u001b[38;5;124mf\u001b[39m\u001b[38;5;124m\"\u001b[39m\u001b[38;5;124mBest accuracy: \u001b[39m\u001b[38;5;132;01m{\u001b[39;00mbest_val_acc\u001b[38;5;132;01m:\u001b[39;00m\u001b[38;5;124m.4f\u001b[39m\u001b[38;5;132;01m}\u001b[39;00m\u001b[38;5;130;01m\\n\u001b[39;00m\u001b[38;5;124m\"\u001b[39m)\n\u001b[1;32m    146\u001b[0m f\u001b[38;5;241m.\u001b[39mwrite(\u001b[38;5;124mf\u001b[39m\u001b[38;5;124m\"\u001b[39m\u001b[38;5;124mBest hyperparameters:\u001b[39m\u001b[38;5;130;01m\\n\u001b[39;00m\u001b[38;5;124m\"\u001b[39m)\n\u001b[0;32m--> 147\u001b[0m f\u001b[38;5;241m.\u001b[39mwrite(\u001b[38;5;124mf\u001b[39m\u001b[38;5;124m\"\u001b[39m\u001b[38;5;124m  Margin: \u001b[39m\u001b[38;5;132;01m{\u001b[39;00mbest_hyperparams[\u001b[38;5;124m'\u001b[39m\u001b[38;5;124mmargin\u001b[39m\u001b[38;5;124m'\u001b[39m]\u001b[38;5;132;01m}\u001b[39;00m\u001b[38;5;130;01m\\n\u001b[39;00m\u001b[38;5;124m\"\u001b[39m)\n\u001b[1;32m    148\u001b[0m f\u001b[38;5;241m.\u001b[39mwrite(\u001b[38;5;124mf\u001b[39m\u001b[38;5;124m\"\u001b[39m\u001b[38;5;124m  Alpha: \u001b[39m\u001b[38;5;132;01m{\u001b[39;00mbest_hyperparams[\u001b[38;5;124m'\u001b[39m\u001b[38;5;124malpha\u001b[39m\u001b[38;5;124m'\u001b[39m]\u001b[38;5;132;01m}\u001b[39;00m\u001b[38;5;130;01m\\n\u001b[39;00m\u001b[38;5;124m\"\u001b[39m)\n\u001b[1;32m    149\u001b[0m f\u001b[38;5;241m.\u001b[39mwrite(\u001b[38;5;124mf\u001b[39m\u001b[38;5;124m\"\u001b[39m\u001b[38;5;124m  Learning Rate: \u001b[39m\u001b[38;5;132;01m{\u001b[39;00mbest_hyperparams[\u001b[38;5;124m'\u001b[39m\u001b[38;5;124mlearning_rate\u001b[39m\u001b[38;5;124m'\u001b[39m]\u001b[38;5;132;01m}\u001b[39;00m\u001b[38;5;130;01m\\n\u001b[39;00m\u001b[38;5;124m\"\u001b[39m)\n",
      "\u001b[0;31mKeyError\u001b[0m: 'margin'"
     ]
    }
   ],
   "source": [
    "import itertools\n",
    "import torch\n",
    "from sklearn.metrics import accuracy_score, f1_score, precision_score, recall_score, roc_auc_score\n",
    "from sklearn.model_selection import KFold\n",
    "import torch.optim as optim\n",
    "import torch.nn as nn\n",
    "import numpy as np\n",
    "\n",
    "# Define the range of hyperparameters to test\n",
    "alphas = [0.3, 0.5, 0.7, 0.9]  # Different values for alpha\n",
    "learning_rates = [0.001, 0.01, 0.1]  # Example learning rates\n",
    "momentums = [0.5, 0.8, 0.9]  # Different momentum values\n",
    "\n",
    "# Store the best results\n",
    "best_val_acc = 0.0\n",
    "best_hyperparams = {}\n",
    "best_val_loss = 1e10\n",
    "\n",
    "# Create a search space using itertools\n",
    "search_space = itertools.product(alphas, learning_rates, momentums)\n",
    "\n",
    "# Create KFold object\n",
    "kf = KFold(n_splits=5, shuffle=True, random_state=42)\n",
    "\n",
    "for alpha, lr, momentum in search_space:\n",
    "    print(f\"Training alpha: {alpha}, learning_rate: {lr}, momentum: {momentum}\")\n",
    "\n",
    "    fold_val_accs = []\n",
    "    fold_val_losses = []\n",
    "\n",
    "    for fold, (train_index, val_index) in enumerate(kf.split(range(dataset_size))):\n",
    "        print(f\"Fold {fold + 1}\")\n",
    "\n",
    "        # Create training and validation datasets using the indices from k-fold\n",
    "        train_dataset = [dataset[i] for i in train_index]\n",
    "        val_dataset = [dataset[i] for i in val_index]\n",
    "\n",
    "        # Optionally, create DataLoader for training and validation datasets\n",
    "        train_loader = DataLoader(train_dataset, batch_size=32, shuffle=True)\n",
    "        val_loader = DataLoader(val_dataset, batch_size=32, shuffle=False)\n",
    "\n",
    "        # Initialize TripletModel\n",
    "        triplet_model = TripletModel()\n",
    "        model = TripletClassifier(triplet_model)\n",
    "        model = model.to(device)\n",
    "\n",
    "        # Define loss functions and optimizer\n",
    "        criterion_classification = nn.BCEWithLogitsLoss()  # Binary cross-entropy for classification\n",
    "        criterion_triplet = triplet_loss_no_margin # Use margin from the search space\n",
    "        optimizer = optim.SGD(model.parameters(), lr=lr, momentum=momentum)  # Optimizer with dynamic lr and momentum\n",
    "        patience_counter = 0\n",
    "        best_val_acc = 0\n",
    "\n",
    "        # Training loop\n",
    "        for epoch in range(num_epochs):\n",
    "            model.train()\n",
    "            running_loss = 0.0\n",
    "\n",
    "            for batch in train_loader:\n",
    "                anchor, positive, negative, labels = batch\n",
    "                anchor, positive, negative, labels = anchor.to(device), positive.to(device), negative.to(device), labels.to(device).unsqueeze(1).float() \n",
    "\n",
    "                # Forward pass\n",
    "                anchor_embedding, anchor_output = model(anchor)\n",
    "                positive_embedding, positive_output = model(positive)\n",
    "                negative_embedding, negative_output = model(negative)\n",
    "\n",
    "                # Calculate losses\n",
    "                classification_loss = criterion_classification(anchor_output, labels)\n",
    "                triplet_loss = criterion_triplet(anchor_embedding, positive_embedding, negative_embedding)\n",
    "\n",
    "                # Combine losses\n",
    "                loss = alpha * classification_loss + (1 - alpha) * triplet_loss\n",
    "                running_loss += loss.item()\n",
    "\n",
    "                # Backward pass and optimization\n",
    "                optimizer.zero_grad()\n",
    "                loss.backward()\n",
    "                optimizer.step()\n",
    "\n",
    "            avg_loss = running_loss / len(train_loader)\n",
    "            print(f\"Epoch [{epoch + 1}/{num_epochs}], Loss: {avg_loss:.4f}\")\n",
    "\n",
    "            # Validation step\n",
    "            model.eval()\n",
    "            val_preds, val_labels = [], []\n",
    "            val_loss = 0.0\n",
    "\n",
    "            with torch.no_grad():\n",
    "                for batch in val_loader:\n",
    "                    anchor, positive, negative, labels = batch\n",
    "                    anchor, positive, negative, labels = anchor.to(device), positive.to(device), negative.to(device), labels.to(device).unsqueeze(1).float() \n",
    "\n",
    "                    anchor_embedding, anchor_output = model(anchor)\n",
    "                    positive_embedding, positive_output = model(positive)\n",
    "                    negative_embedding, negative_output = model(negative)\n",
    "\n",
    "                    # Compute validation loss\n",
    "                    classification_loss = criterion_classification(anchor_output, labels)\n",
    "                    triplet_loss = criterion_triplet(anchor_embedding, positive_embedding, negative_embedding)\n",
    "                    val_loss += (classification_loss + triplet_loss).item()\n",
    "\n",
    "                    val_preds.append(torch.sigmoid(anchor_output).cpu().numpy())\n",
    "                    val_labels.append(labels.cpu().numpy())\n",
    "\n",
    "            avg_val_loss = val_loss / len(val_loader)\n",
    "            val_preds = np.concatenate(val_preds)\n",
    "            val_labels = np.concatenate(val_labels)\n",
    "\n",
    "            # Calculate validation metrics\n",
    "            val_acc = accuracy_score(val_labels, (val_preds > 0.5).astype(int))\n",
    "            val_f1 = f1_score(val_labels, (val_preds > 0.5).astype(int))\n",
    "            precision = precision_score(val_labels, (val_preds > 0.5).astype(int))\n",
    "            recall = recall_score(val_labels, (val_preds > 0.5).astype(int))\n",
    "            roc_auc = roc_auc_score(val_labels, val_preds)\n",
    "\n",
    "            print(f\"Validation Loss: {avg_val_loss:.4f}, Accuracy: {val_acc:.4f}, F1 Score: {val_f1:.4f}, \"\n",
    "                  f\"Precision: {precision:.4f}, Recall: {recall:.4f}, ROC AUC: {roc_auc:.4f}\")\n",
    "\n",
    "            # Early stopping and best model saving\n",
    "            if best_val_acc < val_acc:\n",
    "                best_val_loss = avg_val_loss\n",
    "                best_val_acc = val_acc\n",
    "                best_hyperparams = {'alpha': alpha, 'learning_rate': lr, 'momentum': momentum}\n",
    "                patience_counter = 0\n",
    "                torch.save(model.state_dict(), f'triplet_classifier_best_model.pth')\n",
    "            else:\n",
    "                patience_counter += 1\n",
    "                if patience_counter >= patience:\n",
    "                    print(\"Early stopping triggered.\")\n",
    "                    break\n",
    "\n",
    "        # Store results for this fold\n",
    "        fold_val_accs.append(val_acc)\n",
    "        fold_val_losses.append(avg_val_loss)\n",
    "\n",
    "    # Calculate average metrics across folds\n",
    "    avg_fold_val_acc = np.mean(fold_val_accs)\n",
    "    avg_fold_val_loss = np.mean(fold_val_losses)\n",
    "    print(f\"Average Validation Accuracy for alpha: {alpha}, lr: {lr}, momentum: {momentum}: {avg_fold_val_acc:.4f}\")\n"
   ]
  },
  {
   "cell_type": "code",
   "execution_count": 7,
   "metadata": {},
   "outputs": [
    {
     "name": "stdout",
     "output_type": "stream",
     "text": [
      "Results saved to 'best_hyperparameters_tmm.txt'\n"
     ]
    }
   ],
   "source": [
    "# Save the results to a text file\n",
    "with open('best_hyperparameters_tmm.txt', 'w') as f:\n",
    "    f.write(f\"Best validation loss: {best_val_loss:.4f}\\n\")\n",
    "    f.write(f\"Best accuracy: {best_val_acc:.4f}\\n\")\n",
    "    f.write(f\"Best hyperparameters:\\n\")\n",
    "    f.write(f\"  Alpha: {best_hyperparams['alpha']}\\n\")\n",
    "    f.write(f\"  Learning Rate: {best_hyperparams['learning_rate']}\\n\")\n",
    "    f.write(f\"  Momentum: {best_hyperparams['momentum']}\\n\")\n",
    "\n",
    "print(\"Results saved to 'best_hyperparameters_tmm.txt'\")\n"
   ]
  },
  {
   "cell_type": "code",
   "execution_count": null,
   "metadata": {},
   "outputs": [],
   "source": []
  }
 ],
 "metadata": {
  "kernelspec": {
   "display_name": "cs721",
   "language": "python",
   "name": "python3"
  },
  "language_info": {
   "codemirror_mode": {
    "name": "ipython",
    "version": 3
   },
   "file_extension": ".py",
   "mimetype": "text/x-python",
   "name": "python",
   "nbconvert_exporter": "python",
   "pygments_lexer": "ipython3",
   "version": "3.8.19"
  }
 },
 "nbformat": 4,
 "nbformat_minor": 2
}
