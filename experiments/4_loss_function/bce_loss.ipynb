{
 "cells": [
  {
   "cell_type": "markdown",
   "metadata": {},
   "source": [
    "# Baseline"
   ]
  },
  {
   "cell_type": "markdown",
   "metadata": {},
   "source": [
    "## Imports"
   ]
  },
  {
   "cell_type": "code",
   "execution_count": 1,
   "metadata": {},
   "outputs": [],
   "source": [
    "import torch\n",
    "import torch.nn as nn\n",
    "import torch.optim as optim\n",
    "from torch.utils.data import DataLoader\n",
    "from torchvision import datasets, models, transforms\n",
    "from sklearn.model_selection import KFold\n",
    "from torch.utils.data import random_split\n",
    "import matplotlib.pyplot as plt\n",
    "from utils import *"
   ]
  },
  {
   "cell_type": "markdown",
   "metadata": {},
   "source": [
    "## Helper Function"
   ]
  },
  {
   "cell_type": "code",
   "execution_count": 2,
   "metadata": {},
   "outputs": [],
   "source": [
    "def custom_collate(batch):\n",
    "    images, labels = zip(*batch)\n",
    "    # Stack images into a tensor and convert labels to Float\n",
    "    return torch.stack(images), torch.tensor(labels, dtype=torch.float32).unsqueeze(1)  # Reshape labels to (batch_size, 1)\n"
   ]
  },
  {
   "cell_type": "markdown",
   "metadata": {},
   "source": [
    "### Set your dataset directory"
   ]
  },
  {
   "cell_type": "code",
   "execution_count": 3,
   "metadata": {},
   "outputs": [],
   "source": [
    "data_dir = '../../data/BiteCount/salient_poses/' \n",
    "\n",
    "# Define transformations for training set and validation set\n",
    "train_transforms = transforms.Compose([\n",
    "    transforms.Resize((224, 244)),\n",
    "    transforms.RandomHorizontalFlip(),\n",
    "    transforms.ToTensor(),\n",
    "    transforms.Normalize([0.485, 0.456, 0.406], [0.229, 0.224, 0.225])\n",
    "])\n",
    "\n",
    "val_transforms = transforms.Compose([\n",
    "    transforms.Resize((224, 244)),\n",
    "    transforms.ToTensor(),\n",
    "    transforms.Normalize([0.485, 0.456, 0.406], [0.229, 0.224, 0.225])\n",
    "])\n",
    "\n",
    "# Load the dataset with training transformations\n",
    "dataset = datasets.ImageFolder(data_dir, transform=train_transforms)\n",
    "dataset_size = len(dataset)\n",
    "class_names = dataset.classes\n",
    "\n",
    "# Cross-validation setup\n",
    "kf = KFold(n_splits=5, shuffle=True, random_state=42)\n",
    "\n",
    "# Create data loaders for train and validation datasets\n",
    "batch_size = 192\n",
    "device = torch.device(\"cuda:0\" if torch.cuda.is_available() else \"cpu\")\n",
    "\n",
    "# Initialize model, criterion, optimizer\n",
    "num_epochs = 25\n",
    "patience = 5"
   ]
  },
  {
   "cell_type": "markdown",
   "metadata": {},
   "source": [
    "## Train the model"
   ]
  },
  {
   "cell_type": "code",
   "execution_count": 4,
   "metadata": {},
   "outputs": [
    {
     "name": "stdout",
     "output_type": "stream",
     "text": [
      "Fold 1\n"
     ]
    },
    {
     "name": "stderr",
     "output_type": "stream",
     "text": [
      "/home/sadat/miniconda3/envs/cowbytes/lib/python3.8/site-packages/torchvision/models/_utils.py:208: UserWarning: The parameter 'pretrained' is deprecated since 0.13 and may be removed in the future, please use 'weights' instead.\n",
      "  warnings.warn(\n",
      "/home/sadat/miniconda3/envs/cowbytes/lib/python3.8/site-packages/torchvision/models/_utils.py:223: UserWarning: Arguments other than a weight enum or `None` for 'weights' are deprecated since 0.13 and may be removed in the future. The current behavior is equivalent to passing `weights=ResNet50_Weights.IMAGENET1K_V1`. You can also use `weights=ResNet50_Weights.DEFAULT` to get the most up-to-date weights.\n",
      "  warnings.warn(msg)\n"
     ]
    },
    {
     "name": "stdout",
     "output_type": "stream",
     "text": [
      "Epoch [1/25] - Train Loss: 0.7041, Train Acc: 0.4953, Val Loss: 0.7189, Val Acc: 0.5298, Val F1: 0.4279, Val Precision: 0.5429, Val Recall: 0.0929, Val ROC AUC: 0.5092\n",
      "Validation accuracy improved to 0.5298. Saving model.\n",
      "Epoch [2/25] - Train Loss: 0.6678, Train Acc: 0.6019, Val Loss: 0.6543, Val Acc: 0.6138, Val F1: 0.6110, Val Precision: 0.6102, Val Recall: 0.5281, Val ROC AUC: 0.6693\n",
      "Validation accuracy improved to 0.6138. Saving model.\n",
      "Epoch [3/25] - Train Loss: 0.5168, Train Acc: 0.7434, Val Loss: 0.4885, Val Acc: 0.7515, Val F1: 0.7481, Val Precision: 0.7988, Val Recall: 0.6406, Val ROC AUC: 0.8608\n",
      "Validation accuracy improved to 0.7515. Saving model.\n",
      "Epoch [4/25] - Train Loss: 0.2821, Train Acc: 0.8786, Val Loss: 0.3598, Val Acc: 0.8250, Val F1: 0.8241, Val Precision: 0.7627, Val Recall: 0.9193, Val ROC AUC: 0.9319\n",
      "Validation accuracy improved to 0.8250. Saving model.\n",
      "Epoch [5/25] - Train Loss: 0.1802, Train Acc: 0.9270, Val Loss: 0.2571, Val Acc: 0.8786, Val F1: 0.8787, Val Precision: 0.8490, Val Recall: 0.9071, Val ROC AUC: 0.9594\n",
      "Validation accuracy improved to 0.8786. Saving model.\n",
      "Epoch [6/25] - Train Loss: 0.1145, Train Acc: 0.9586, Val Loss: 0.2771, Val Acc: 0.8950, Val F1: 0.8946, Val Precision: 0.9299, Val Recall: 0.8435, Val ROC AUC: 0.9690\n",
      "Validation accuracy improved to 0.8950. Saving model.\n",
      "Epoch [7/25] - Train Loss: 0.0744, Train Acc: 0.9737, Val Loss: 0.1912, Val Acc: 0.9323, Val F1: 0.9322, Val Precision: 0.9582, Val Recall: 0.8973, Val ROC AUC: 0.9811\n",
      "Validation accuracy improved to 0.9323. Saving model.\n",
      "Epoch [8/25] - Train Loss: 0.0433, Train Acc: 0.9880, Val Loss: 0.2057, Val Acc: 0.9358, Val F1: 0.9358, Val Precision: 0.9470, Val Recall: 0.9169, Val ROC AUC: 0.9802\n",
      "Validation accuracy improved to 0.9358. Saving model.\n",
      "Epoch [9/25] - Train Loss: 0.0405, Train Acc: 0.9848, Val Loss: 0.2365, Val Acc: 0.9242, Val F1: 0.9239, Val Precision: 0.9550, Val Recall: 0.8826, Val ROC AUC: 0.9781\n",
      "Epoch [10/25] - Train Loss: 0.0331, Train Acc: 0.9889, Val Loss: 0.1964, Val Acc: 0.9288, Val F1: 0.9288, Val Precision: 0.9183, Val Recall: 0.9340, Val ROC AUC: 0.9834\n",
      "Epoch [11/25] - Train Loss: 0.0257, Train Acc: 0.9915, Val Loss: 0.1929, Val Acc: 0.9452, Val F1: 0.9452, Val Precision: 0.9330, Val Recall: 0.9535, Val ROC AUC: 0.9828\n",
      "Validation accuracy improved to 0.9452. Saving model.\n",
      "Epoch [12/25] - Train Loss: 0.0183, Train Acc: 0.9945, Val Loss: 0.2072, Val Acc: 0.9323, Val F1: 0.9324, Val Precision: 0.9091, Val Recall: 0.9535, Val ROC AUC: 0.9836\n",
      "Epoch [13/25] - Train Loss: 0.0202, Train Acc: 0.9939, Val Loss: 0.1749, Val Acc: 0.9405, Val F1: 0.9405, Val Precision: 0.9366, Val Recall: 0.9389, Val ROC AUC: 0.9845\n",
      "Epoch [14/25] - Train Loss: 0.0156, Train Acc: 0.9956, Val Loss: 0.2209, Val Acc: 0.9358, Val F1: 0.9359, Val Precision: 0.9078, Val Recall: 0.9633, Val ROC AUC: 0.9827\n",
      "Epoch [15/25] - Train Loss: 0.0097, Train Acc: 0.9994, Val Loss: 0.2078, Val Acc: 0.9440, Val F1: 0.9440, Val Precision: 0.9370, Val Recall: 0.9462, Val ROC AUC: 0.9851\n",
      "Epoch [16/25] - Train Loss: 0.0080, Train Acc: 0.9980, Val Loss: 0.1870, Val Acc: 0.9522, Val F1: 0.9521, Val Precision: 0.9600, Val Recall: 0.9389, Val ROC AUC: 0.9841\n",
      "Validation accuracy improved to 0.9522. Saving model.\n",
      "Epoch [17/25] - Train Loss: 0.0157, Train Acc: 0.9936, Val Loss: 0.2689, Val Acc: 0.9067, Val F1: 0.9067, Val Precision: 0.8764, Val Recall: 0.9364, Val ROC AUC: 0.9776\n",
      "Epoch [18/25] - Train Loss: 0.0192, Train Acc: 0.9942, Val Loss: 0.2691, Val Acc: 0.9288, Val F1: 0.9288, Val Precision: 0.8867, Val Recall: 0.9756, Val ROC AUC: 0.9831\n",
      "Epoch [19/25] - Train Loss: 0.0152, Train Acc: 0.9959, Val Loss: 0.1686, Val Acc: 0.9405, Val F1: 0.9405, Val Precision: 0.9303, Val Recall: 0.9462, Val ROC AUC: 0.9882\n",
      "Epoch [20/25] - Train Loss: 0.0110, Train Acc: 0.9959, Val Loss: 0.2552, Val Acc: 0.9242, Val F1: 0.9242, Val Precision: 0.8909, Val Recall: 0.9584, Val ROC AUC: 0.9799\n",
      "Epoch [21/25] - Train Loss: 0.0107, Train Acc: 0.9968, Val Loss: 0.2035, Val Acc: 0.9428, Val F1: 0.9428, Val Precision: 0.9369, Val Recall: 0.9438, Val ROC AUC: 0.9854\n",
      "Early stopping triggered.\n",
      "Fold 2\n"
     ]
    },
    {
     "name": "stderr",
     "output_type": "stream",
     "text": [
      "/home/sadat/miniconda3/envs/cowbytes/lib/python3.8/site-packages/torchvision/models/_utils.py:208: UserWarning: The parameter 'pretrained' is deprecated since 0.13 and may be removed in the future, please use 'weights' instead.\n",
      "  warnings.warn(\n",
      "/home/sadat/miniconda3/envs/cowbytes/lib/python3.8/site-packages/torchvision/models/_utils.py:223: UserWarning: Arguments other than a weight enum or `None` for 'weights' are deprecated since 0.13 and may be removed in the future. The current behavior is equivalent to passing `weights=ResNet50_Weights.IMAGENET1K_V1`. You can also use `weights=ResNet50_Weights.DEFAULT` to get the most up-to-date weights.\n",
      "  warnings.warn(msg)\n"
     ]
    },
    {
     "name": "stdout",
     "output_type": "stream",
     "text": [
      "Epoch [1/25] - Train Loss: 0.6989, Train Acc: 0.5032, Val Loss: 0.6865, Val Acc: 0.5018, Val F1: 0.4781, Val Precision: 0.5008, Val Recall: 0.7150, Val ROC AUC: 0.5379\n",
      "Validation accuracy improved to 0.5018. Saving model.\n",
      "Epoch [2/25] - Train Loss: 0.6729, Train Acc: 0.5695, Val Loss: 0.6875, Val Acc: 0.5671, Val F1: 0.4909, Val Precision: 0.7938, Val Recall: 0.1799, Val ROC AUC: 0.6875\n",
      "Validation accuracy improved to 0.5671. Saving model.\n",
      "Epoch [3/25] - Train Loss: 0.5487, Train Acc: 0.7212, Val Loss: 0.4410, Val Acc: 0.8086, Val F1: 0.8078, Val Precision: 0.8548, Val Recall: 0.7430, Val ROC AUC: 0.8902\n",
      "Validation accuracy improved to 0.8086. Saving model.\n",
      "Epoch [4/25] - Train Loss: 0.2968, Train Acc: 0.8675, Val Loss: 0.3074, Val Acc: 0.8646, Val F1: 0.8645, Val Precision: 0.8861, Val Recall: 0.8364, Val ROC AUC: 0.9475\n",
      "Validation accuracy improved to 0.8646. Saving model.\n",
      "Epoch [5/25] - Train Loss: 0.1677, Train Acc: 0.9297, Val Loss: 0.3637, Val Acc: 0.8425, Val F1: 0.8409, Val Precision: 0.7845, Val Recall: 0.9439, Val ROC AUC: 0.9468\n",
      "Epoch [6/25] - Train Loss: 0.1087, Train Acc: 0.9562, Val Loss: 0.2038, Val Acc: 0.9183, Val F1: 0.9183, Val Precision: 0.9068, Val Recall: 0.9322, Val ROC AUC: 0.9777\n",
      "Validation accuracy improved to 0.9183. Saving model.\n",
      "Epoch [7/25] - Train Loss: 0.0748, Train Acc: 0.9729, Val Loss: 0.2537, Val Acc: 0.8961, Val F1: 0.8958, Val Precision: 0.8524, Val Recall: 0.9579, Val ROC AUC: 0.9759\n",
      "Epoch [8/25] - Train Loss: 0.0817, Train Acc: 0.9720, Val Loss: 0.2069, Val Acc: 0.9347, Val F1: 0.9346, Val Precision: 0.9673, Val Recall: 0.8995, Val ROC AUC: 0.9810\n",
      "Validation accuracy improved to 0.9347. Saving model.\n",
      "Epoch [9/25] - Train Loss: 0.0640, Train Acc: 0.9793, Val Loss: 0.1762, Val Acc: 0.9323, Val F1: 0.9323, Val Precision: 0.9405, Val Recall: 0.9229, Val ROC AUC: 0.9862\n",
      "Epoch [10/25] - Train Loss: 0.0357, Train Acc: 0.9898, Val Loss: 0.1801, Val Acc: 0.9382, Val F1: 0.9382, Val Precision: 0.9350, Val Recall: 0.9416, Val ROC AUC: 0.9840\n",
      "Validation accuracy improved to 0.9382. Saving model.\n",
      "Epoch [11/25] - Train Loss: 0.0234, Train Acc: 0.9930, Val Loss: 0.1825, Val Acc: 0.9452, Val F1: 0.9452, Val Precision: 0.9400, Val Recall: 0.9509, Val ROC AUC: 0.9847\n",
      "Validation accuracy improved to 0.9452. Saving model.\n",
      "Epoch [12/25] - Train Loss: 0.0207, Train Acc: 0.9927, Val Loss: 0.2577, Val Acc: 0.9218, Val F1: 0.9217, Val Precision: 0.9640, Val Recall: 0.8762, Val ROC AUC: 0.9826\n",
      "Epoch [13/25] - Train Loss: 0.0178, Train Acc: 0.9947, Val Loss: 0.1832, Val Acc: 0.9463, Val F1: 0.9463, Val Precision: 0.9681, Val Recall: 0.9229, Val ROC AUC: 0.9874\n",
      "Validation accuracy improved to 0.9463. Saving model.\n",
      "Epoch [14/25] - Train Loss: 0.0130, Train Acc: 0.9965, Val Loss: 0.2208, Val Acc: 0.9335, Val F1: 0.9335, Val Precision: 0.9324, Val Recall: 0.9346, Val ROC AUC: 0.9813\n",
      "Epoch [15/25] - Train Loss: 0.0167, Train Acc: 0.9945, Val Loss: 0.1845, Val Acc: 0.9545, Val F1: 0.9545, Val Precision: 0.9598, Val Recall: 0.9486, Val ROC AUC: 0.9858\n",
      "Validation accuracy improved to 0.9545. Saving model.\n",
      "Epoch [16/25] - Train Loss: 0.0143, Train Acc: 0.9953, Val Loss: 0.1940, Val Acc: 0.9533, Val F1: 0.9533, Val Precision: 0.9663, Val Recall: 0.9393, Val ROC AUC: 0.9852\n",
      "Epoch [17/25] - Train Loss: 0.0053, Train Acc: 0.9991, Val Loss: 0.1895, Val Acc: 0.9557, Val F1: 0.9557, Val Precision: 0.9643, Val Recall: 0.9463, Val ROC AUC: 0.9838\n",
      "Validation accuracy improved to 0.9557. Saving model.\n",
      "Epoch [18/25] - Train Loss: 0.0075, Train Acc: 0.9988, Val Loss: 0.2081, Val Acc: 0.9522, Val F1: 0.9521, Val Precision: 0.9685, Val Recall: 0.9346, Val ROC AUC: 0.9850\n",
      "Epoch [19/25] - Train Loss: 0.0066, Train Acc: 0.9977, Val Loss: 0.1910, Val Acc: 0.9533, Val F1: 0.9533, Val Precision: 0.9641, Val Recall: 0.9416, Val ROC AUC: 0.9872\n",
      "Epoch [20/25] - Train Loss: 0.0047, Train Acc: 0.9985, Val Loss: 0.1708, Val Acc: 0.9592, Val F1: 0.9592, Val Precision: 0.9712, Val Recall: 0.9463, Val ROC AUC: 0.9902\n",
      "Validation accuracy improved to 0.9592. Saving model.\n",
      "Epoch [21/25] - Train Loss: 0.0039, Train Acc: 0.9988, Val Loss: 0.2105, Val Acc: 0.9487, Val F1: 0.9486, Val Precision: 0.9660, Val Recall: 0.9299, Val ROC AUC: 0.9881\n",
      "Epoch [22/25] - Train Loss: 0.0052, Train Acc: 0.9980, Val Loss: 0.1939, Val Acc: 0.9452, Val F1: 0.9451, Val Precision: 0.9590, Val Recall: 0.9299, Val ROC AUC: 0.9872\n",
      "Epoch [23/25] - Train Loss: 0.0026, Train Acc: 0.9997, Val Loss: 0.1766, Val Acc: 0.9568, Val F1: 0.9568, Val Precision: 0.9622, Val Recall: 0.9509, Val ROC AUC: 0.9878\n",
      "Epoch [24/25] - Train Loss: 0.0024, Train Acc: 0.9997, Val Loss: 0.1951, Val Acc: 0.9580, Val F1: 0.9580, Val Precision: 0.9645, Val Recall: 0.9509, Val ROC AUC: 0.9863\n",
      "Epoch [25/25] - Train Loss: 0.0024, Train Acc: 0.9988, Val Loss: 0.1971, Val Acc: 0.9557, Val F1: 0.9556, Val Precision: 0.9733, Val Recall: 0.9369, Val ROC AUC: 0.9882\n",
      "Early stopping triggered.\n",
      "Fold 3\n"
     ]
    },
    {
     "name": "stderr",
     "output_type": "stream",
     "text": [
      "/home/sadat/miniconda3/envs/cowbytes/lib/python3.8/site-packages/torchvision/models/_utils.py:208: UserWarning: The parameter 'pretrained' is deprecated since 0.13 and may be removed in the future, please use 'weights' instead.\n",
      "  warnings.warn(\n",
      "/home/sadat/miniconda3/envs/cowbytes/lib/python3.8/site-packages/torchvision/models/_utils.py:223: UserWarning: Arguments other than a weight enum or `None` for 'weights' are deprecated since 0.13 and may be removed in the future. The current behavior is equivalent to passing `weights=ResNet50_Weights.IMAGENET1K_V1`. You can also use `weights=ResNet50_Weights.DEFAULT` to get the most up-to-date weights.\n",
      "  warnings.warn(msg)\n"
     ]
    },
    {
     "name": "stdout",
     "output_type": "stream",
     "text": [
      "Epoch [1/25] - Train Loss: 0.6987, Train Acc: 0.5123, Val Loss: 0.6945, Val Acc: 0.5379, Val F1: 0.5065, Val Precision: 0.5849, Val Recall: 0.2870, Val ROC AUC: 0.5739\n",
      "Validation accuracy improved to 0.5379. Saving model.\n",
      "Epoch [2/25] - Train Loss: 0.6592, Train Acc: 0.6074, Val Loss: 0.6184, Val Acc: 0.6359, Val F1: 0.6123, Val Precision: 0.5938, Val Recall: 0.8796, Val ROC AUC: 0.7257\n",
      "Validation accuracy improved to 0.6359. Saving model.\n",
      "Epoch [3/25] - Train Loss: 0.5066, Train Acc: 0.7449, Val Loss: 0.3347, Val Acc: 0.8355, Val F1: 0.8354, Val Precision: 0.8255, Val Recall: 0.8542, Val ROC AUC: 0.9323\n",
      "Validation accuracy improved to 0.8355. Saving model.\n",
      "Epoch [4/25] - Train Loss: 0.2606, Train Acc: 0.8932, Val Loss: 0.3305, Val Acc: 0.8436, Val F1: 0.8432, Val Precision: 0.8880, Val Recall: 0.7894, Val ROC AUC: 0.9438\n",
      "Validation accuracy improved to 0.8436. Saving model.\n",
      "Epoch [5/25] - Train Loss: 0.1595, Train Acc: 0.9370, Val Loss: 0.2100, Val Acc: 0.9172, Val F1: 0.9172, Val Precision: 0.9247, Val Recall: 0.9097, Val ROC AUC: 0.9767\n",
      "Validation accuracy improved to 0.9172. Saving model.\n",
      "Epoch [6/25] - Train Loss: 0.1066, Train Acc: 0.9621, Val Loss: 0.1952, Val Acc: 0.9230, Val F1: 0.9230, Val Precision: 0.9217, Val Recall: 0.9259, Val ROC AUC: 0.9799\n",
      "Validation accuracy improved to 0.9230. Saving model.\n",
      "Epoch [7/25] - Train Loss: 0.0707, Train Acc: 0.9758, Val Loss: 0.1847, Val Acc: 0.9253, Val F1: 0.9253, Val Precision: 0.9163, Val Recall: 0.9375, Val ROC AUC: 0.9815\n",
      "Validation accuracy improved to 0.9253. Saving model.\n",
      "Epoch [8/25] - Train Loss: 0.0714, Train Acc: 0.9731, Val Loss: 0.2924, Val Acc: 0.8693, Val F1: 0.8685, Val Precision: 0.8239, Val Recall: 0.9421, Val ROC AUC: 0.9717\n",
      "Epoch [9/25] - Train Loss: 0.0419, Train Acc: 0.9863, Val Loss: 0.2036, Val Acc: 0.9417, Val F1: 0.9416, Val Precision: 0.9636, Val Recall: 0.9190, Val ROC AUC: 0.9843\n",
      "Validation accuracy improved to 0.9417. Saving model.\n",
      "Epoch [10/25] - Train Loss: 0.0262, Train Acc: 0.9924, Val Loss: 0.2043, Val Acc: 0.9498, Val F1: 0.9497, Val Precision: 0.9949, Val Recall: 0.9051, Val ROC AUC: 0.9864\n",
      "Validation accuracy improved to 0.9498. Saving model.\n",
      "Epoch [11/25] - Train Loss: 0.0212, Train Acc: 0.9927, Val Loss: 0.2456, Val Acc: 0.9370, Val F1: 0.9369, Val Precision: 0.9821, Val Recall: 0.8912, Val ROC AUC: 0.9829\n",
      "Epoch [12/25] - Train Loss: 0.0181, Train Acc: 0.9956, Val Loss: 0.2011, Val Acc: 0.9440, Val F1: 0.9440, Val Precision: 0.9683, Val Recall: 0.9190, Val ROC AUC: 0.9867\n",
      "Epoch [13/25] - Train Loss: 0.0210, Train Acc: 0.9933, Val Loss: 0.2252, Val Acc: 0.9347, Val F1: 0.9346, Val Precision: 0.9541, Val Recall: 0.9144, Val ROC AUC: 0.9832\n",
      "Epoch [14/25] - Train Loss: 0.0126, Train Acc: 0.9968, Val Loss: 0.3096, Val Acc: 0.9277, Val F1: 0.9275, Val Precision: 0.9818, Val Recall: 0.8727, Val ROC AUC: 0.9805\n",
      "Epoch [15/25] - Train Loss: 0.0118, Train Acc: 0.9968, Val Loss: 0.2649, Val Acc: 0.9382, Val F1: 0.9381, Val Precision: 0.9749, Val Recall: 0.9005, Val ROC AUC: 0.9818\n",
      "Early stopping triggered.\n",
      "Fold 4\n"
     ]
    },
    {
     "name": "stderr",
     "output_type": "stream",
     "text": [
      "/home/sadat/miniconda3/envs/cowbytes/lib/python3.8/site-packages/torchvision/models/_utils.py:208: UserWarning: The parameter 'pretrained' is deprecated since 0.13 and may be removed in the future, please use 'weights' instead.\n",
      "  warnings.warn(\n",
      "/home/sadat/miniconda3/envs/cowbytes/lib/python3.8/site-packages/torchvision/models/_utils.py:223: UserWarning: Arguments other than a weight enum or `None` for 'weights' are deprecated since 0.13 and may be removed in the future. The current behavior is equivalent to passing `weights=ResNet50_Weights.IMAGENET1K_V1`. You can also use `weights=ResNet50_Weights.DEFAULT` to get the most up-to-date weights.\n",
      "  warnings.warn(msg)\n"
     ]
    },
    {
     "name": "stdout",
     "output_type": "stream",
     "text": [
      "Epoch [1/25] - Train Loss: 0.7036, Train Acc: 0.4879, Val Loss: 0.6804, Val Acc: 0.5175, Val F1: 0.4633, Val Precision: 0.5050, Val Recall: 0.8429, Val ROC AUC: 0.5593\n",
      "Validation accuracy improved to 0.5175. Saving model.\n",
      "Epoch [2/25] - Train Loss: 0.6636, Train Acc: 0.5854, Val Loss: 0.6477, Val Acc: 0.6215, Val F1: 0.5908, Val Precision: 0.7474, Val Recall: 0.3452, Val ROC AUC: 0.7281\n",
      "Validation accuracy improved to 0.6215. Saving model.\n",
      "Epoch [3/25] - Train Loss: 0.4847, Train Acc: 0.7631, Val Loss: 0.3986, Val Acc: 0.7921, Val F1: 0.7915, Val Precision: 0.7564, Val Recall: 0.8500, Val ROC AUC: 0.8957\n",
      "Validation accuracy improved to 0.7921. Saving model.\n",
      "Epoch [4/25] - Train Loss: 0.2736, Train Acc: 0.8821, Val Loss: 0.2603, Val Acc: 0.8575, Val F1: 0.8572, Val Precision: 0.8197, Val Recall: 0.9095, Val ROC AUC: 0.9575\n",
      "Validation accuracy improved to 0.8575. Saving model.\n",
      "Epoch [5/25] - Train Loss: 0.1658, Train Acc: 0.9326, Val Loss: 0.1894, Val Acc: 0.9077, Val F1: 0.9077, Val Precision: 0.8884, Val Recall: 0.9286, Val ROC AUC: 0.9778\n",
      "Validation accuracy improved to 0.9077. Saving model.\n",
      "Epoch [6/25] - Train Loss: 0.0976, Train Acc: 0.9612, Val Loss: 0.1828, Val Acc: 0.9182, Val F1: 0.9182, Val Precision: 0.9127, Val Recall: 0.9214, Val ROC AUC: 0.9814\n",
      "Validation accuracy improved to 0.9182. Saving model.\n",
      "Epoch [7/25] - Train Loss: 0.0797, Train Acc: 0.9714, Val Loss: 0.1874, Val Acc: 0.9206, Val F1: 0.9206, Val Precision: 0.9055, Val Recall: 0.9357, Val ROC AUC: 0.9821\n",
      "Validation accuracy improved to 0.9206. Saving model.\n",
      "Epoch [8/25] - Train Loss: 0.0503, Train Acc: 0.9837, Val Loss: 0.1717, Val Acc: 0.9357, Val F1: 0.9358, Val Precision: 0.9294, Val Recall: 0.9405, Val ROC AUC: 0.9844\n",
      "Validation accuracy improved to 0.9357. Saving model.\n",
      "Epoch [9/25] - Train Loss: 0.0723, Train Acc: 0.9758, Val Loss: 0.2804, Val Acc: 0.9112, Val F1: 0.9107, Val Precision: 0.9751, Val Recall: 0.8405, Val ROC AUC: 0.9732\n",
      "Epoch [10/25] - Train Loss: 0.0446, Train Acc: 0.9851, Val Loss: 0.1675, Val Acc: 0.9287, Val F1: 0.9287, Val Precision: 0.9305, Val Recall: 0.9238, Val ROC AUC: 0.9837\n",
      "Epoch [11/25] - Train Loss: 0.0310, Train Acc: 0.9901, Val Loss: 0.1482, Val Acc: 0.9439, Val F1: 0.9439, Val Precision: 0.9559, Val Recall: 0.9286, Val ROC AUC: 0.9910\n",
      "Validation accuracy improved to 0.9439. Saving model.\n",
      "Epoch [12/25] - Train Loss: 0.0201, Train Acc: 0.9942, Val Loss: 0.1573, Val Acc: 0.9416, Val F1: 0.9415, Val Precision: 0.9719, Val Recall: 0.9071, Val ROC AUC: 0.9914\n",
      "Epoch [13/25] - Train Loss: 0.0195, Train Acc: 0.9945, Val Loss: 0.1590, Val Acc: 0.9346, Val F1: 0.9346, Val Precision: 0.9375, Val Recall: 0.9286, Val ROC AUC: 0.9886\n",
      "Epoch [14/25] - Train Loss: 0.0126, Train Acc: 0.9953, Val Loss: 0.1798, Val Acc: 0.9439, Val F1: 0.9439, Val Precision: 0.9627, Val Recall: 0.9214, Val ROC AUC: 0.9863\n",
      "Epoch [15/25] - Train Loss: 0.0116, Train Acc: 0.9968, Val Loss: 0.1768, Val Acc: 0.9346, Val F1: 0.9346, Val Precision: 0.9213, Val Recall: 0.9476, Val ROC AUC: 0.9873\n",
      "Epoch [16/25] - Train Loss: 0.0126, Train Acc: 0.9953, Val Loss: 0.1969, Val Acc: 0.9509, Val F1: 0.9509, Val Precision: 0.9821, Val Recall: 0.9167, Val ROC AUC: 0.9902\n",
      "Validation accuracy improved to 0.9509. Saving model.\n",
      "Epoch [17/25] - Train Loss: 0.0136, Train Acc: 0.9968, Val Loss: 0.1502, Val Acc: 0.9486, Val F1: 0.9486, Val Precision: 0.9608, Val Recall: 0.9333, Val ROC AUC: 0.9900\n",
      "Epoch [18/25] - Train Loss: 0.0057, Train Acc: 0.9985, Val Loss: 0.1930, Val Acc: 0.9416, Val F1: 0.9416, Val Precision: 0.9384, Val Recall: 0.9429, Val ROC AUC: 0.9855\n",
      "Epoch [19/25] - Train Loss: 0.0082, Train Acc: 0.9977, Val Loss: 0.1883, Val Acc: 0.9439, Val F1: 0.9439, Val Precision: 0.9604, Val Recall: 0.9238, Val ROC AUC: 0.9878\n",
      "Epoch [20/25] - Train Loss: 0.0201, Train Acc: 0.9939, Val Loss: 0.1958, Val Acc: 0.9428, Val F1: 0.9427, Val Precision: 0.9580, Val Recall: 0.9238, Val ROC AUC: 0.9878\n",
      "Epoch [21/25] - Train Loss: 0.0141, Train Acc: 0.9965, Val Loss: 0.2020, Val Acc: 0.9334, Val F1: 0.9334, Val Precision: 0.9153, Val Recall: 0.9524, Val ROC AUC: 0.9837\n",
      "Early stopping triggered.\n",
      "Fold 5\n"
     ]
    },
    {
     "name": "stderr",
     "output_type": "stream",
     "text": [
      "/home/sadat/miniconda3/envs/cowbytes/lib/python3.8/site-packages/torchvision/models/_utils.py:208: UserWarning: The parameter 'pretrained' is deprecated since 0.13 and may be removed in the future, please use 'weights' instead.\n",
      "  warnings.warn(\n",
      "/home/sadat/miniconda3/envs/cowbytes/lib/python3.8/site-packages/torchvision/models/_utils.py:223: UserWarning: Arguments other than a weight enum or `None` for 'weights' are deprecated since 0.13 and may be removed in the future. The current behavior is equivalent to passing `weights=ResNet50_Weights.IMAGENET1K_V1`. You can also use `weights=ResNet50_Weights.DEFAULT` to get the most up-to-date weights.\n",
      "  warnings.warn(msg)\n"
     ]
    },
    {
     "name": "stdout",
     "output_type": "stream",
     "text": [
      "Epoch [1/25] - Train Loss: 0.7113, Train Acc: 0.4955, Val Loss: 0.7033, Val Acc: 0.5035, Val F1: 0.4798, Val Precision: 0.5184, Val Recall: 0.2926, Val ROC AUC: 0.5253\n",
      "Validation accuracy improved to 0.5035. Saving model.\n",
      "Epoch [2/25] - Train Loss: 0.6880, Train Acc: 0.5372, Val Loss: 0.6520, Val Acc: 0.5771, Val F1: 0.5203, Val Precision: 0.5499, Val Recall: 0.9147, Val ROC AUC: 0.6741\n",
      "Validation accuracy improved to 0.5771. Saving model.\n",
      "Epoch [3/25] - Train Loss: 0.5485, Train Acc: 0.7234, Val Loss: 0.4492, Val Acc: 0.7500, Val F1: 0.7470, Val Precision: 0.7107, Val Recall: 0.8548, Val ROC AUC: 0.8597\n",
      "Validation accuracy improved to 0.7500. Saving model.\n",
      "Epoch [4/25] - Train Loss: 0.3130, Train Acc: 0.8588, Val Loss: 0.3401, Val Acc: 0.8376, Val F1: 0.8366, Val Precision: 0.7980, Val Recall: 0.9101, Val ROC AUC: 0.9305\n",
      "Validation accuracy improved to 0.8376. Saving model.\n",
      "Epoch [5/25] - Train Loss: 0.1946, Train Acc: 0.9110, Val Loss: 0.3082, Val Acc: 0.8645, Val F1: 0.8628, Val Precision: 0.8046, Val Recall: 0.9677, Val ROC AUC: 0.9636\n",
      "Validation accuracy improved to 0.8645. Saving model.\n",
      "Epoch [6/25] - Train Loss: 0.1323, Train Acc: 0.9411, Val Loss: 0.4052, Val Acc: 0.8516, Val F1: 0.8492, Val Precision: 0.9812, Val Recall: 0.7212, Val ROC AUC: 0.9568\n",
      "Epoch [7/25] - Train Loss: 0.0936, Train Acc: 0.9644, Val Loss: 0.2634, Val Acc: 0.8995, Val F1: 0.8993, Val Precision: 0.8686, Val Recall: 0.9447, Val ROC AUC: 0.9660\n",
      "Validation accuracy improved to 0.8995. Saving model.\n",
      "Epoch [8/25] - Train Loss: 0.0670, Train Acc: 0.9764, Val Loss: 0.2954, Val Acc: 0.9042, Val F1: 0.9039, Val Precision: 0.9681, Val Recall: 0.8387, Val ROC AUC: 0.9665\n",
      "Validation accuracy improved to 0.9042. Saving model.\n",
      "Epoch [9/25] - Train Loss: 0.0658, Train Acc: 0.9767, Val Loss: 0.2079, Val Acc: 0.9357, Val F1: 0.9357, Val Precision: 0.9129, Val Recall: 0.9654, Val ROC AUC: 0.9795\n",
      "Validation accuracy improved to 0.9357. Saving model.\n",
      "Epoch [10/25] - Train Loss: 0.0417, Train Acc: 0.9863, Val Loss: 0.2062, Val Acc: 0.9264, Val F1: 0.9263, Val Precision: 0.9059, Val Recall: 0.9539, Val ROC AUC: 0.9794\n",
      "Epoch [11/25] - Train Loss: 0.0281, Train Acc: 0.9912, Val Loss: 0.2437, Val Acc: 0.9100, Val F1: 0.9097, Val Precision: 0.8727, Val Recall: 0.9631, Val ROC AUC: 0.9712\n",
      "Epoch [12/25] - Train Loss: 0.0335, Train Acc: 0.9901, Val Loss: 0.1946, Val Acc: 0.9311, Val F1: 0.9310, Val Precision: 0.9103, Val Recall: 0.9585, Val ROC AUC: 0.9831\n",
      "Epoch [13/25] - Train Loss: 0.0151, Train Acc: 0.9950, Val Loss: 0.1831, Val Acc: 0.9346, Val F1: 0.9346, Val Precision: 0.9543, Val Recall: 0.9147, Val ROC AUC: 0.9850\n",
      "Epoch [14/25] - Train Loss: 0.0118, Train Acc: 0.9974, Val Loss: 0.1412, Val Acc: 0.9579, Val F1: 0.9579, Val Precision: 0.9585, Val Recall: 0.9585, Val ROC AUC: 0.9882\n",
      "Validation accuracy improved to 0.9579. Saving model.\n",
      "Epoch [15/25] - Train Loss: 0.0116, Train Acc: 0.9974, Val Loss: 0.1767, Val Acc: 0.9474, Val F1: 0.9474, Val Precision: 0.9620, Val Recall: 0.9332, Val ROC AUC: 0.9868\n",
      "Epoch [16/25] - Train Loss: 0.0084, Train Acc: 0.9980, Val Loss: 0.1637, Val Acc: 0.9579, Val F1: 0.9579, Val Precision: 0.9761, Val Recall: 0.9401, Val ROC AUC: 0.9876\n",
      "Epoch [17/25] - Train Loss: 0.0081, Train Acc: 0.9971, Val Loss: 0.1403, Val Acc: 0.9603, Val F1: 0.9603, Val Precision: 0.9717, Val Recall: 0.9493, Val ROC AUC: 0.9908\n",
      "Validation accuracy improved to 0.9603. Saving model.\n",
      "Epoch [18/25] - Train Loss: 0.0058, Train Acc: 0.9988, Val Loss: 0.2076, Val Acc: 0.9393, Val F1: 0.9392, Val Precision: 0.9170, Val Recall: 0.9677, Val ROC AUC: 0.9836\n",
      "Epoch [19/25] - Train Loss: 0.0052, Train Acc: 0.9985, Val Loss: 0.1592, Val Acc: 0.9568, Val F1: 0.9568, Val Precision: 0.9563, Val Recall: 0.9585, Val ROC AUC: 0.9856\n",
      "Epoch [20/25] - Train Loss: 0.0024, Train Acc: 0.9997, Val Loss: 0.1879, Val Acc: 0.9439, Val F1: 0.9439, Val Precision: 0.9251, Val Recall: 0.9677, Val ROC AUC: 0.9886\n",
      "Epoch [21/25] - Train Loss: 0.0026, Train Acc: 0.9994, Val Loss: 0.2147, Val Acc: 0.9533, Val F1: 0.9533, Val Precision: 0.9624, Val Recall: 0.9447, Val ROC AUC: 0.9816\n",
      "Epoch [22/25] - Train Loss: 0.0023, Train Acc: 0.9994, Val Loss: 0.1881, Val Acc: 0.9533, Val F1: 0.9533, Val Precision: 0.9518, Val Recall: 0.9562, Val ROC AUC: 0.9854\n",
      "Early stopping triggered.\n"
     ]
    }
   ],
   "source": [
    "# Perform 5-Fold Cross Validation\n",
    "fold_idx = 1\n",
    "best_val_acc = 0.0\n",
    "val_accuracies = []\n",
    "val_f1_scores = []\n",
    "precisions = []\n",
    "recalls = []\n",
    "roc_aucs = []\n",
    "\n",
    "best_model_acc = 0\n",
    "\n",
    "for train_idx, val_idx in kf.split(dataset):\n",
    "    print(f\"Fold {fold_idx}\")\n",
    "    train_dataset = torch.utils.data.Subset(dataset, train_idx)\n",
    "    val_dataset = torch.utils.data.Subset(dataset, val_idx)\n",
    "\n",
    "    train_loader = DataLoader(train_dataset, batch_size=batch_size, shuffle=True, collate_fn=custom_collate)\n",
    "    val_loader = DataLoader(val_dataset, batch_size=batch_size, shuffle=False, collate_fn=custom_collate)\n",
    "\n",
    "    # Initialize model and optimizer\n",
    "    model = models.resnet50(pretrained=True)\n",
    "    num_ftrs = model.fc.in_features\n",
    "    model.fc = nn.Linear(num_ftrs, 1)\n",
    "    model = model.to(device)\n",
    "    \n",
    "    criterion = nn.BCEWithLogitsLoss()\n",
    "    optimizer = optim.SGD(model.parameters(), lr=0.01, momentum=0.8)\n",
    "    \n",
    "    # Training loop with early stopping mechanism\n",
    "    best_val_acc, best_f1, best_precision, best_recall, best_roc_auc = train_and_evaluate(model, train_loader, val_loader, criterion, optimizer, num_epochs, patience, device, 'bce_loss')\n",
    "    \n",
    "    # Store val_acc and val_f1 for current fold\n",
    "    val_accuracies.append(best_val_acc)\n",
    "    val_f1_scores.append(best_f1)\n",
    "    precisions.append(best_precision)\n",
    "    recalls.append(best_recall)\n",
    "    roc_aucs.append(best_roc_auc)\n",
    "\n",
    "    # Check if current validation accuracy is the best so far\n",
    "    if best_val_acc > best_model_acc:\n",
    "        best_model_acc = best_val_acc\n",
    "    \n",
    "    fold_idx += 1"
   ]
  },
  {
   "cell_type": "code",
   "execution_count": 5,
   "metadata": {},
   "outputs": [
    {
     "name": "stdout",
     "output_type": "stream",
     "text": [
      "Best Validation Accuracy: 0.9602803738317757\n",
      "Validation Accuracies for all folds: [0.9521586931155193, 0.9591598599766628, 0.9498249708284714, 0.9509345794392523, 0.9602803738317757]\n",
      "Validation F1 Scores for all folds: [0.9521304644933555, 0.959152518478943, 0.949739592723817, 0.9508518637877322, 0.9602814579833118]\n",
      "Precision for all folds: [0.96, 0.9712230215827338, 0.9949109414758269, 0.9821428571428571, 0.9716981132075472]\n",
      "Recall for all folds: [0.9388753056234719, 0.9462616822429907, 0.9050925925925926, 0.9166666666666666, 0.9493087557603687]\n",
      "ROC AUC for all folds: [0.9841403248340901, 0.9901803803672963, 0.9864270152505447, 0.9902086063783311, 0.9908161705287527]\n",
      "Mean Validation Accuracy: 0.9545 +/- 0.0044\n"
     ]
    }
   ],
   "source": [
    "print(f\"Best Validation Accuracy: {best_val_acc}\")\n",
    "print(f\"Validation Accuracies for all folds: {val_accuracies}\")\n",
    "print(f\"Validation F1 Scores for all folds: {val_f1_scores}\")\n",
    "print(f\"Precision for all folds: {precisions}\")\n",
    "print(f\"Recall for all folds: {recalls}\")\n",
    "print(f\"ROC AUC for all folds: {roc_aucs}\")\n",
    "\n",
    "# Calculate mean and standard deviation of validation accuracies\n",
    "mean_val_acc = np.mean(val_accuracies)\n",
    "std_val_acc = np.std(val_accuracies)\n",
    "\n",
    "print(f\"Mean Validation Accuracy: {mean_val_acc:.4f} +/- {std_val_acc:.4f}\")"
   ]
  },
  {
   "cell_type": "markdown",
   "metadata": {},
   "source": [
    "`Best Validation Accuracy: 0.9602803738317757\n",
    "Validation Accuracies for all folds: [0.9521586931155193, 0.9591598599766628, 0.9498249708284714, 0.9509345794392523, 0.9602803738317757]\n",
    "Validation F1 Scores for all folds: [0.9521304644933555, 0.959152518478943, 0.949739592723817, 0.9508518637877322, 0.9602814579833118]\n",
    "Precision for all folds: [0.96, 0.9712230215827338, 0.9949109414758269, 0.9821428571428571, 0.9716981132075472]\n",
    "Recall for all folds: [0.9388753056234719, 0.9462616822429907, 0.9050925925925926, 0.9166666666666666, 0.9493087557603687]\n",
    "ROC AUC for all folds: [0.9841403248340901, 0.9901803803672963, 0.9864270152505447, 0.9902086063783311, 0.9908161705287527]\n",
    "Mean Validation Accuracy: 0.9545 +/- 0.0044`"
   ]
  },
  {
   "cell_type": "markdown",
   "metadata": {},
   "source": []
  }
 ],
 "metadata": {
  "kernelspec": {
   "display_name": "deeplabcut",
   "language": "python",
   "name": "python3"
  },
  "language_info": {
   "codemirror_mode": {
    "name": "ipython",
    "version": 3
   },
   "file_extension": ".py",
   "mimetype": "text/x-python",
   "name": "python",
   "nbconvert_exporter": "python",
   "pygments_lexer": "ipython3",
   "version": "3.8.19"
  }
 },
 "nbformat": 4,
 "nbformat_minor": 2
}
